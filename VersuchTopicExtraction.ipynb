{
 "cells": [
  {
   "cell_type": "markdown",
   "metadata": {},
   "source": [
    "# Topic Extraction in Newsfeeds\n",
    "* Autor: Prof. Dr. Johannes Maucher\n",
    "* Datum: 17.11.2015\n",
    "\n",
    "[Übersicht Ipython Notebooks im Data Mining Praktikum](Data Mining Praktikum.ipynb)\n",
    "\n",
    "# Einführung\n",
    "## Lernziele:\n",
    "\n",
    "In diesem Versuch sollen Kenntnisse in folgenden Themen vermittelt werden:\n",
    "\n",
    "* __RSS Feeds:__ Struktur von RSS Feeds analysieren und parsen mit dem _Universal Feed Parser_. \n",
    "* __Dokument Analyse:__ Die Häufigkeit aller Worte in einem Dokument (Inhalt des RSS Feeds) zählen und in einem Array verwalten. \n",
    "* __Merkmalsextraktion:__ Bestimmung von Merkmalen (hier auch: __Topics__) (Allgemein spricht man von Merkmalen. Im Fall, dass die NNMF auf Dokumente angewandt wird, werden die Merkmale auch mit __Topics__ oder __Themen__ bezeichnet) mit der \\emph{Non Negative Matrix Factorization}.\n",
    "* __Zuordnung__: Wie setzen sich die Topics aus den Wörtern zusammen? Wie stark sind die gefundenen Topics in den Artikeln vertreten?\n",
    "* __Dokument Clustering:__ Mit der NNMF kann auch ein Clustering realisiert werden. Jeder Topic repräsentiert ein Cluster. Jedes Dokument wird dem Cluster zugeordnet, dessen Topic am stärksten in ihm vertreten ist. \n",
    "\n",
    "Sämtliche Verfahren und Algorithmen werden in Python implementiert.\n",
    "\n",
    "## Theorie zur Vorbereitung\n",
    "\n",
    "Stellen Sie sich vor Sie möchten in eine eigene Webseite die RSS Feeds einer Menge von Nachrichtenservern einbinden. Da die unterschiedlichen Server wahrscheinlich Artikel zu den gleichen Themen anbieten, werden die Inhalte einiger Artikel ähnlich sein. Mit der __Nicht Negativen Matrixfaktorisierung (NNMF)__ kann für eine große Menge von Dokumenten eine Menge von Themen (Topics) ermittelt werden, auf die sich die Dokumente beziehen. Damit ist es u.a. möglich\n",
    "* die Dokumente thematisch zu ordnen\n",
    "* zu jedem Thema nur ein Dokument anzuzeigen\n",
    "\n",
    "### Ähnlichkeiten bestimmen und relevante Merkmale extrahieren\n",
    "\n",
    "Eine Sammlung von Dokumenten - in diesem Versuch die Menge aller Nachrichten der angegebenen Feeds - kann in einer Artikel/Wort-Matrix repräsentiert werden. Jede Zeile dieser Matrix gehört zu einem Dokument. Für jedes Wort, das mindestens in einem der Dokumente vorkommt, ist eine Spalte vorgesehen. Das Matrixelement in Zeile $i$, Spalte $j$ beschreibt wie häufig das Wort in Spalte $j$ im zur Zeile $i$ gehörenden Dokument vorkommt.\n",
    "\n",
    "Unter der Annahme, dass Artikel umso ähnlicher sind, je mehr Worte in diesen gemeinsam vorkommen, kann auf der Grundlage dieser Matrix die Ähnlichkeit zwischen den Artikeln berechnet werden. Hierzu könnte die Matrix z.B. einfach einem _Hierarchischen Clustering_ übergeben werden. Das hierarchische Clustering weist jedoch im Fall einer großen Menge von zu vergleichenden Objekten zwei wesentliche Nachteile auf: Erstens ist die wiederholte Berechnung der Distanzen zwischen allen Artikeln/Clustern extrem rechenaufwendig, zweitens ist die Darstellung einer großen Anzahl von Objekten im Dendrogramm nicht mehr übersichtlich. \n",
    "\n",
    "Für das Auffinden von Assoziationen zwischen Dokumenten hat sich in den letzten Jahren die Methode der __Nicht-Negativen Matrix Faktorisierung (NNMF)__ etabliert. Mit dieser Methode kann eine Menge von wesentlichen Merkmalen berechnet werden, anhand derer sich die Dokumente clustern lassen, d.h. Dokumente des gleichen Clusters repräsentieren das gleiche Merkmal (Thema). Ein solches Merkmal wird durch eine Menge von Worten beschrieben, z.B. $\\{$ _Paris, terror, IS_ $\\}$  oder $\\{$_refugee, syria, border_ $\\}$. Neben der Merkmalsextraktion stellt die relativ geringe Komplexität einen weiteren Vorteil der NNMF dar. Durch die Darstellung der Artikel/Wort-Matrix als Produkt von 2 Faktormatrizen müssen deutlich weniger Einträge gespeichert werden.\n",
    "\n",
    "### Nicht Negative Matrixfaktorisierung: Die Idee\n",
    "\n",
    "Die Artikel/Wort-Matrix wird im Folgenden mit $A$ bezeichnet. Sie besitzt $r$ Zeilen und $c$ Spalten, wobei $r$ die Anzahl der Artikel und $c$ die Anzahl der relevanten Worte in der Menge aller Artikel ist. Durch Multiplikation der Matrix $A$ mit dem Vektor $v$ (_wordvec_: Vektor der alle relevanten Worte enthält) werden die Worte den Artikeln $a$ (_articletitles_: Vektor der alle Artikeltitel enthält) zugeordnet:\n",
    "\n",
    "$$\n",
    "a=A*v.\n",
    "$$\n",
    "\n",
    "Die Idee der NNMF besteht darin die Matrix $A$ als Produkt zweier Matrizen $W$ und $H$ darzustellen,\n",
    "\n",
    "$$\n",
    "A=W*H\n",
    "$$\n",
    "\n",
    "wobei alle Elemente in $W$ und $H$ größer oder gleich Null sein müssen. Die Matrixmultiplikation erfordert, dass die Anzahl der Zeilen $m$ in $H$ gleich der Anzahl der Spalten in $W$ sein muss. \n",
    "Durch die Faktorisierung der Matrix $A$ wird die Zuordnung der Wörter des Wortvektors $v$  zu den Artikeln des Vektors $a$ in zwei Stufen zerlegt. \n",
    "\n",
    "$$\n",
    "f = H*v\n",
    "$$\n",
    "$$\n",
    "a = W*f \n",
    "$$\n",
    "\n",
    "In der ersten Stufe werden durch die Multiplikation von $v$ mit der Matrix $H$ die Wörter einem sogenannten Merkmalsvektor $f$ mit $m$ Elementen zugewiesen. In der zweiten Stufe werden durch die Multiplikation des Merkmalsvektor $f$ mit der Matrix $W$ die einzelnen Merkmale den Artikeln in $a$ zugeordnet. Die Matrix $H$ definiert also aus welchen Wörtern die Merkmale gebildet werden. Sie wird deshalb __Merkmalsmatrix__ genannt. Die Matrix $W$ hingegen beschreibt mit welchem Gewicht die einzelnen Merkmale in den verschiedenen Artikeln auftreten. Sie wird deshalb __Gewichtungsmatrix__ genannt.\n",
    "\n",
    "Daraus folgt: Wenn eine Faktorisierung der Matrix $A$ gefunden wird, dann werden damit auch relevante Merkmale, also die Themen, definiert, hinsichtlich derer die Artikel effizient kategorisiert werden. Durch die Matrixfaktorisierung wird eine __Merkmalsextraktion__ realisiert. \n",
    "\n",
    "### Berechnung der Matrixfaktoren\n",
    "\n",
    "Für die Berechnung der Faktoren wurde in [Lee, Algortihms for Non-negative Matrix Factorisation](http://papers.nips.cc/paper/1861-algorithms-for-non-negative-matrix-factorization.pdf) eine iterative Methode vorgestellt, die derzeit wohl am häufigsten angewandt wird und auch in dieser Übung implementiert werden soll. Der Algorithmus besteht aus folgenden Schritten:\n",
    "* Gebe die zu faktorisierende Matrix $A$ ein. $r$ sei die Anzahl der Zeilen und $c$ die Anzahl der Spalten von $A$.\n",
    "* Wähle die Anzahl $m$ der Merkmale, mit $m<c$. _Tipp:_ Für $m$ sollte zunächst ein Wert im Bereich $15$ bis $30$ gewählt werden.\n",
    "* Lege eine $m \\times c$ Matrix $H$ an mit initial zufälligen Elementen (Anwendung der numpy Funktion _random.random()_)\n",
    "* Lege eine $r \\times m$ Matrix $W$ an mit initial zufälligen Elementen (Anwendung der numpy Funktion _random.random()_)\n",
    "* Wiederhole bis maximale Anzahl der Iteration erreicht oder Kosten $k$ unter vordefinierter Schwelle:\n",
    "\n",
    "\t* Berechne aktuelles Produkt $B=W*H$ und bereche die Kostenfunktion \n",
    "\t\t$$\n",
    "\t\t\tk=\\left\\| A - B \\right\\|^2 = \\sum\\limits_{i,j} \\left(A_{i,j} - B_{i,j}\\right)^2\n",
    "\t\t$$ \n",
    "\t* Anpassung der Matrix $H$ durch folgende Neuberechnung der Matrixelemente\n",
    "    \n",
    "\t\t$$\n",
    "\t\tH_{i,j} := H_{i,j} \\frac{(W^T*A)_{i,j}}{(W^T*W*H)_{i,j}}\n",
    "\t\t$$\n",
    "        \n",
    "\t* __Nach__ der Anpassung der Matrix $H$: Anpassung der Matrix $W$ durch folgende Neuberechnung der Matrixelemente\n",
    "    \n",
    "\t\t$$\n",
    "\t\tW_{l,i} := W_{l,i} \\frac{(A*H^T)_{l,i}}{(W*H*H^T)_{l,i}}\n",
    "\t\t$$\n",
    "\n",
    "In [Lee, Algortihms for Non-negative Matrix Factorisation](http://papers.nips.cc/paper/1861-algorithms-for-non-negative-matrix-factorization.pdf) ist bewiesen, dass durch die o.g. Anpassungsroutinen die Kosten $k$ monoton abnehmen und in einem Minimum konvergieren. Der Algorithmus ist jedoch nicht optimal weil das gefundene Minimum ein lokales Minimum sein kann."
   ]
  },
  {
   "cell_type": "markdown",
   "metadata": {},
   "source": [
    " ## Vor dem Versuch zu klärende Fragen\n",
    " \n",
    " * Was versteht man unter Artikel/Wort-Matrix? Wie wird diese im aktuellen Versuch gebildet?"
   ]
  },
  {
   "cell_type": "markdown",
   "metadata": {
    "collapsed": true
   },
   "source": [
    "|      | Spalte   |  1.  |   2. |\n",
    "| ---- |:-------------:| -----:|\n",
    "|Zeile | Doclist | 'wort1' | 'wort2' |\n",
    "|   1.  | Doc1 |  1   |  0   | \n",
    "|   2.  | Doc2 |  0   |  0   | \n",
    "|   3.  | Doc3 |  0   |  0   |  \n",
    "\n",
    "Jede Zeile dieser Matrix gehört zu einem Dokument. Für jedes Wort, das mindestens in einem der Dokumente vorkommt, ist eine Spalte vorgesehen. Das Matrixelement in Zeile  i, Spalte  j beschreibt wie häufig das Wort in Spalte j im zur Zeile i gehörenden Dokument vorkommt.\n",
    "\n",
    " \n",
    "Gebildet wird diese Matrix in dem man eine bereinigte Liste aus allen Wörtern zu jedem Dokument erstellt wird. Zur Bereinigung zählen: Stoppwörter, Doppelte Wörter und Satzzeichen zu entfernen (Tokenizing). Außerdem das Normalisieren der Wortmenge. Diese Listen werden in einer Liste gespeichert.\n",
    "Anschließend wird aus diesem Objekt ein Gensim-Dictionary erzeugt. Es besitzt nun die Eigenschaft, dass es jedem relevanten Wort (Key) einen zufälligen, eindeutigen  Index (Value) erzeugt. \n",
    "\n",
    "\n",
    "Um die Performance zu erhöhen wird die Efficient Corpus Representation eingesetzt. Dabei wird aus dem Dictionary eine Liste aus Tupeln erzeugt, wobei der erste Wert, der Indize des Wortes ist und der zweite Wert die Häufigkeit des Wortes repräsentiert. Dies bildet den Corpus."
   ]
  },
  {
   "cell_type": "markdown",
   "metadata": {},
   "source": [
    "* Wie multipliziert man die Matrix\n",
    "    $$\n",
    "    A= \\left( \\begin{array}{cccc}\n",
    "a_{00} & a_{01} & a_{02} & a_{03} \\\\ \n",
    "a_{10} & a_{11} & a_{12} & a_{13} \\\\ \n",
    "a_{20} & a_{21} & a_{22} & a_{23}\n",
    "\\end{array} \\right)\n",
    "    $$\n",
    "    mit dem Vektor  \n",
    "    $$\n",
    "    v=\\left( \\begin{array}{c}\n",
    "v_{0} \\\\ \n",
    "v_{1} \\\\ \n",
    "v_{2} \\\\ \n",
    "v_{3}\n",
    "\\end{array} \\right)\n",
    "    $$\n",
    "    "
   ]
  },
  {
   "cell_type": "markdown",
   "metadata": {
    "collapsed": true
   },
   "source": [
    "So multipliziert man die Matrix:\n",
    "    $$\n",
    "    a = A * v = \\left( \\begin{array}{cccc}\n",
    "a_{00} & a_{01} & a_{02} & a_{03} \\\\ \n",
    "a_{10} & a_{11} & a_{12} & a_{13} \\\\ \n",
    "a_{20} & a_{21} & a_{22} & a_{23}\n",
    "\\end{array} \\right)\n",
    "     *    \n",
    "\\left( \\begin{array}{c}\n",
    "v_{0} \\\\ \n",
    "v_{1} \\\\ \n",
    "v_{2} \\\\ \n",
    "v_{3}\n",
    "\\end{array} \\right)\n",
    "     =\n",
    "\\left( \\begin{array}{c}\n",
    "a_{00}*v_{0} + a_{01}*v_{1} + a_{02}*v_{2} + a_{03}*v_{3}  \\\\ \n",
    "a_{10}*v_{0} + a_{11}*v_{1} + a_{12}*v_{2} + a_{13}*v_{3} \\\\ \n",
    "a_{20}*v_{0} + a_{21}*v_{1} + a_{22}*v_{2} + a_{23}*v_{3} \\\\ \n",
    "a_{30}*v_{0} + a_{31}*v_{1} + a_{32}*v_{2} + a_{33}*v_{3}\n",
    "\\end{array} \\right)\n",
    "    $$\n",
    "    \n",
    "Die Voraussetzung das zwei Matritzen *A* , *v* miteinander multipliziert werden können ist das die Anzahl der spalten in *A* der Anzahl der Zeilen in *v* entspricht. Da in diesem Fall *v* ein Vektor ist, muss er genau so viele Dimensionen haben wie die Matrix Spalten."
   ]
  },
  {
   "cell_type": "markdown",
   "metadata": {},
   "source": [
    "* Was versteht man im Kontext der NNMF unter\n",
    "    * Merkmalsmatrix\n",
    "    * Gewichtsmatrix"
   ]
  },
  {
   "cell_type": "code",
   "execution_count": null,
   "metadata": {
    "collapsed": true
   },
   "outputs": [],
   "source": []
  },
  {
   "cell_type": "markdown",
   "metadata": {},
   "source": [
    "* Wie werden in Numpy zwei Arrays (Typ numpy.array) \n",
    "\t* im Sinne der Matrixmultiplikation miteinander multipliziert?\n",
    "\t* elementweise multipliziert?\n",
    "* Wie wird die Transponierte eines Numpy-Arrays berechnet?"
   ]
  },
  {
   "cell_type": "markdown",
   "metadata": {
    "collapsed": true
   },
   "source": [
    "**Elementweise:**\n",
    "\n",
    "`np.multiply(x1, x2)`\n",
    "\n",
    "**Matrixmultiplikation:**\n",
    "\n",
    "`np.matmul(a, b)`\n",
    "\n",
    "**Transponierten:**\n",
    "\n",
    "`np.transpose(x)`"
   ]
  },
  {
   "cell_type": "markdown",
   "metadata": {},
   "source": [
    "# Versuchsdurchführung\n",
    "Die in diesem Versuch einzubindenden Feeds sind in der unten stehenden Liste _feedlist_ definiert. Die aus dem vorigen Vesuch bereits bekannte Funktion _stripHTML()_ ist ebenfalls gegeben:"
   ]
  },
  {
   "cell_type": "code",
   "execution_count": 1,
   "metadata": {
    "collapsed": true
   },
   "outputs": [],
   "source": [
    "import feedparser\n",
    "import numpy as np\n",
    "import pandas as pd\n",
    "\n",
    "feedlist=['http://feeds.reuters.com/reuters/topNews',\n",
    "          'http://feeds.reuters.com/reuters/businessNews',\n",
    "          'http://feeds.reuters.com/reuters/worldNews',\n",
    "          'http://feeds2.feedburner.com/time/world',\n",
    "          'http://feeds2.feedburner.com/time/business',\n",
    "          'http://feeds2.feedburner.com/time/politics',\n",
    "          'http://rss.cnn.com/rss/edition.rss',\n",
    "          'http://rss.cnn.com/rss/edition_world.rss',\n",
    "          'http://www.nytimes.com/services/xml/rss/nyt/GlobalHome.xml',\n",
    "          'http://feeds.nytimes.com/nyt/rss/Business',\n",
    "          'http://www.nytimes.com/services/xml/rss/nyt/World.xml',\n",
    "          'http://www.nytimes.com/services/xml/rss/nyt/Economy.xml'\n",
    "          ]"
   ]
  },
  {
   "cell_type": "code",
   "execution_count": 2,
   "metadata": {
    "collapsed": true
   },
   "outputs": [],
   "source": [
    "def stripHTML(h):\n",
    "  p=''\n",
    "  s=0\n",
    "  for c in h:\n",
    "    if c=='<': s=1\n",
    "    elif c=='>':\n",
    "      s=0\n",
    "      p+=' '\n",
    "    elif s==0: p+=c\n",
    "  return p"
   ]
  },
  {
   "cell_type": "code",
   "execution_count": 3,
   "metadata": {},
   "outputs": [
    {
     "name": "stdout",
     "output_type": "stream",
     "text": [
      "--------------------Articles------------------------\n",
      "******************************\n",
      "http://feeds.reuters.com/reuters/topNews\n",
      "******************************\n",
      "http://feeds.reuters.com/reuters/businessNews\n",
      "******************************\n",
      "http://feeds.reuters.com/reuters/worldNews\n",
      "******************************\n",
      "http://feeds2.feedburner.com/time/world\n",
      "******************************\n",
      "http://feeds2.feedburner.com/time/business\n",
      "******************************\n",
      "http://feeds2.feedburner.com/time/politics\n",
      "******************************\n",
      "http://rss.cnn.com/rss/edition.rss\n",
      "******************************\n",
      "http://rss.cnn.com/rss/edition_world.rss\n",
      "******************************\n",
      "http://www.nytimes.com/services/xml/rss/nyt/GlobalHome.xml\n",
      "******************************\n",
      "http://feeds.nytimes.com/nyt/rss/Business\n",
      "******************************\n",
      "http://www.nytimes.com/services/xml/rss/nyt/World.xml\n",
      "******************************\n",
      "http://www.nytimes.com/services/xml/rss/nyt/Economy.xml\n",
      "------------------------------------------------------\n",
      "------------------------------------------------------\n"
     ]
    }
   ],
   "source": [
    "rssfeeds = pd.DataFrame(columns=['title','text','source'])\n",
    "\n",
    "print \"--------------------Articles------------------------\"\n",
    "for feed in feedlist:\n",
    "    print \"*\"*30\n",
    "    print feed\n",
    "    f=feedparser.parse(feed)\n",
    "    for e in f.entries:\n",
    "      #print '\\n---------------------------'\n",
    "      if 'summary' in e.keys() and 'title' in e.keys():\n",
    "        text = stripHTML(e.description)\n",
    "        title = stripHTML(e.title)\n",
    "        rssfeeds = rssfeeds.append(pd.DataFrame({'title': title, 'text': text, 'source': feed}, index=[0]), ignore_index=True)\n",
    "print \"------------------------------------------------------\"\n",
    "print \"------------------------------------------------------\""
   ]
  },
  {
   "cell_type": "code",
   "execution_count": 4,
   "metadata": {},
   "outputs": [
    {
     "name": "stdout",
     "output_type": "stream",
     "text": [
      "                                         source  \\\n",
      "26   http://feeds.reuters.com/reuters/worldNews   \n",
      "70           http://rss.cnn.com/rss/edition.rss   \n",
      "208   http://feeds.nytimes.com/nyt/rss/Business   \n",
      "212   http://feeds.nytimes.com/nyt/rss/Business   \n",
      "28   http://feeds.reuters.com/reuters/worldNews   \n",
      "\n",
      "                                                  text  \\\n",
      "26   TAIPEI/HONG KONG (Reuters) - Taiwan's ruling p...   \n",
      "70   The family of Australian 14-year-old Amy Evere...   \n",
      "208  Michael D. Cohen, a longtime lawyer for Presid...   \n",
      "212  Gov. Rick Scott of Florida on Tuesday. “My top...   \n",
      "28   BERLIN (Reuters) - German Social Democrat (SPD...   \n",
      "\n",
      "                                                 title  \n",
      "26   Taiwan plans to invest in advanced arms as Chi...  \n",
      "70        Family invites bullies to daughter's funeral  \n",
      "208  Trump’s Longtime Lawyer Sues BuzzFeed and the ...  \n",
      "212  Trump Administration Drops Florida From Offsho...  \n",
      "28   German SPD leader says still 'big hurdles' to ...  \n"
     ]
    }
   ],
   "source": [
    "print rssfeeds.sample(5)"
   ]
  },
  {
   "cell_type": "markdown",
   "metadata": {},
   "source": [
    "## Anlegen der Artikel/Wort-Matrix\n",
    "\n",
    "### Die Funktion _getarticlewords()_\n",
    "Schreiben Sie eine Funktion _getarticlewords()_, die folgende Elemente zurückgibt:\n",
    "\n",
    "* _allwords:_ ist ein Dictionary dessen Keys die Worte aller gesammelten Artikel sind. Der zu jedem Key gehörende Wert ist die Anzahl, wie oft das Wort insgesamt vorkommt.\n",
    "* _articlewords:_ ist eine Liste mit so vielen Elementen wie Artikel in der Sammlung sind. Jedes Listenelement ist ein Dictionary, welches die Worte des jeweiligen Artikels als Key enthält und als Wert die Worthäufigkeit.\n",
    "* _articletitles_ ist eine Liste mit so vielen Elementen wie Artikel in der Sammlung sind. Jedes Element ist der Artikeltitel als String.\n",
    "\n",
    "Für das Parsing der Feeds soll wieder das Modul _feedparser_ eingesetzt werden. Die zu einer Nachricht gehörenden Wörter sollen die Wörter des Elements _title_ und die Wörter des Elements _description_ sein (siehe voriger Versuch). Allerdings sollen hier nicht alle Wörter eingebunden werden, sondern wie im vorigen Versuch eine Methode _getwords()_ implementiert werden, welche nur die _relevanten_ Wörter zurückgibt. Die Frage welche Wörter relevant sind ist nicht eindeutig beantwortbar. Sie können sich hierzu eigene Antworten einfallen lassen. Auf jeden Fall sollten aber die Stopwörter ignoriert werden. Hierzu kann z.B. die Stopwortliste von NLTK angewandt werden.\n",
    "\n",
    "Nachdem alle relevanten Wörter aller Nachrichten gesammelt sind, sollte eine weitere Bereinigung stattfinden, die \n",
    "\n",
    "* alle Wörter, die weniger als 4 mal vorkommen\n",
    "* alle Wörter, die in mehr als 30% aller Dokumente vorkommen\n",
    "\n",
    "entfernt. \n",
    "\n",
    "Durch dieses Herausfiltern nicht relevanter Wörter kann es vorkommen, dass einzelne Artikel keine relevanten Wörter mehr enthalten. Diese Artikel sollen dann ganz ignoriert werden. D.h. unter anderem, dass diese Artikel auch nicht in _articlewords_ und _articletitles_ erscheinen."
   ]
  },
  {
   "cell_type": "code",
   "execution_count": 12,
   "metadata": {},
   "outputs": [
    {
     "name": "stdout",
     "output_type": "stream",
     "text": [
      "[nltk_data] Downloading package stopwords to /home/marius/nltk_data...\n",
      "[nltk_data]   Package stopwords is already up-to-date!\n",
      "574\n",
      "290\n",
      "{u'mexican': 1, u'trump': 2, u'convinc': 2, u'donald': 1, u'london': 1, u'said wednesday': 1, u'presid donald': 1, u'announc': 1, u'unit': 1, u'canada': 2, u'pull nafta': 2, u'said': 1, u'reuter': 1, u'two': 1, u'send': 1, u'state': 1, u'stock': 1, u'sourc': 1, u'soon': 1, u'donald trump': 1, u'increas convinc': 2, u'govern': 1, u'increas': 2, u'pull': 2, u'nafta': 2, u'canada increas': 2, u'wednesday': 1, u'unit state': 1, u'presid': 1, u'exclus': 1}\n",
      "\n",
      "{u'last month': 7, u'all': 6, u'presid moon': 4, u'consum': 4, u'dollar': 4, u'month': 11, u'protest': 19, u'go': 5, u'follow': 5, u'moon': 7, u'children': 4, u'accus': 7, u'olymp': 8, u'young': 7, u'send': 9, u'articl': 6, u'list': 8, u'program': 7, u'14': 6, u'pay': 9, u'sourc': 10, u'minist': 5, u'rise': 4, u'wave': 5, u'increas convinc': 4, u'govern': 19, u'ala': 4, u'los angel': 4, u'weapon': 5, u'school': 5, u'disgrac': 4, u'administr': 4, u'hous': 4, u'michael': 4, u'wednesday': 32, u'saudi': 4, u'prepar': 5, u'vehicl': 6, u'sign': 6, u'street': 6, u'said wednesday': 8, u'lawyer': 4, u'fast food': 4, u'even': 5, u'what': 7, u'beaten': 4, u'while': 4, u'find': 10, u'huawei': 5, u'conduct': 4, u'new': 47, u'public': 4, u'era': 6, u'iran': 9, u'muslim': 4, u'privat': 5, u'here': 5, u'china': 29, u'100': 4, u'becom': 5, u'search': 5, u'daughter': 4, u'survivor': 4, u'invit': 4, u'militari': 9, u'technolog': 4, u'credit': 5, u'harass': 4, u'rohingya': 7, u'york': 13, u'shovel': 6, u'depart': 8, u'myanmar': 13, u'egypt': 6, u'app': 4, u'money world': 4, u'thursday': 12, u'famili': 6, u'fake': 4, u'market': 8, u'pull nafta': 4, u'fed': 4, u'from': 13, u'would': 12, u'palestinian': 4, u'two': 21, u'next': 4, u'eleven': 5, u'beaten death': 4, u'call': 11, u'armi': 7, u'australian': 6, u'prosecutor': 5, u'capit': 4, u'peopl': 14, u'hundr': 4, u'relat': 4, u'convinc': 4, u'warn': 9, u'known': 7, u'compani': 20, u'hold': 5, u'effort': 7, u'women': 14, u'join': 4, u'salvador': 4, u'offici say': 4, u'this': 7, u'car': 13, u'ride': 6, u'work': 8, u'judg': 7, u'6 billion': 6, u'can': 5, u'meet': 8, u'control': 6, u'claim': 7, u'trump': 57, u'give': 4, u'india': 6, u'agent': 4, u'high': 6, u'agenc': 7, u'station': 7, u'rape': 5, u'end': 9, u'secur': 6, u'archidona': 4, u'anoth': 5, u'reuter': 38, u'american': 11, u'reuter the': 4, u'1': 7, u'how': 6, u'interview': 7, u'price tax': 4, u'stock': 4, u'fake news': 4, u'plant': 7, u'seoul': 13, u'may': 10, u'chines': 12, u'after': 8, u'southern': 4, u'court': 6, u'law': 9, u'data': 5, u'demonstr': 4, u'a': 46, u'brussel': 4, u'amid': 5, u'issu': 4, u'polic': 7, u'chief': 12, u'allow': 7, u'media': 13, u'exclus': 5, u'order': 5, u'talk': 15, u'mexican': 4, u'help': 5, u'offici': 21, u'move': 4, u'soon': 4, u'trade': 16, u'north korea': 24, u'held': 4, u'london': 5, u'misconduct': 4, u'still': 12, u'group': 15, u'polici': 6, u'border': 5, u'ban cryptocurr': 4, u'resort': 6, u'2019': 4, u'2018': 11, u'2017': 6, u'2016': 5, u'good': 4, u'tourist': 4, u'food': 4, u'auto': 4, u'beij': 6, u'nation': 4, u'ces': 5, u'front': 5, u'republican': 6, u'investor': 5, u'discuss': 4, u'bank': 10, u'term': 4, u'name': 5, u'7 year': 4, u'drop': 5, u'year old': 9, u'smartphon': 5, u'found': 6, u'friendship': 4, u'side': 5, u'toyota mazda': 5, u'canada increas': 4, u'tension': 4, u'ed': 11, u'hard': 5, u'year': 34, u'our': 8, u'girl': 6, u'sexual': 6, u'event': 5, u'canada': 11, u'announc': 5, u'space': 4, u'miss': 7, u'activist': 6, u'7': 14, u'gov': 5, u'factori': 7, u'onlin': 5, u'model': 4, u'million': 17, u'standard': 4, u'california': 8, u'bulli': 5, u'put': 4, u'launch': 4, u'could': 11, u'florida': 8, u'isi': 7, u'place': 4, u'cryptocurr trade': 4, u'outsid': 7, u'presid': 39, u'syria': 5, u'south': 26, u'first': 6, u'oper': 6, u'carri': 6, u'exchang': 4, u'scene': 4, u'said thursday': 5, u'one': 15, u'wash': 5, u'long': 7, u'cryptocurr': 5, u'southern california': 4, u'custom': 5, u'open': 18, u'ed contributor': 6, u'start': 5, u'top': 9, u'system': 4, u'least': 5, u'citi': 19, u'attack': 6, u'2': 11, u'averag': 4, u'plan ban': 4, u'white': 5, u'john': 6, u'store': 9, u'back': 6, u'op ed': 9, u'murder': 7, u'that': 4, u'punish': 4, u'hotel': 4, u'breakingview': 4, u'part': 4, u'western': 5, u'microbead': 4, u'10': 6, u'15': 4, u'ride hail': 6, u'17': 4, u'rival': 4, u'toward': 4, u'russia': 4, u'7 eleven': 5, u'san': 4, u'angel': 4, u'alleg': 4, u'say': 21, u'buy': 4, u'immigr': 16, u'presid donald': 9, u'tabl': 4, u'seen': 5, u'seek': 8, u'kevin': 4, u'reuter report': 6, u'lawmak': 4, u'snow': 6, u'south korean': 5, u'take': 14, u'advis': 7, u'korean': 9, u'begin': 4, u'moon jae': 4, u'germani': 4, u'price': 6, u'who': 4, u'whi': 10, u'plan': 19, u'jean': 4, u'charg': 8, u'york citi': 4, u'rescu': 5, u'clear': 5, u'camp': 4, u'enlist': 5, u'milit': 4, u'deni': 5, u'tech': 7, u'senior': 4, u'seoul reuter': 6, u'show': 11, u'german': 5, u'brief': 5, u'obtain state': 4, u'bring': 4, u'spacey': 4, u'fear': 4, u'eas': 9, u'emerg brake': 4, u'myanmar prosecutor': 4, u'treasuri': 5, u'state': 41, u'busi': 12, u'jae': 4, u'local': 4, u'over': 13, u'contribut': 5, u'get': 4, u'obtain': 4, u'joint': 4, u'increas': 6, u'concentr camp': 4, u'target': 8, u'bat': 4, u'businesswoman': 6, u'devast': 4, u'ban': 11, u'funer': 4, u'we': 6, u'see': 4, u'korea': 41, u'are': 12, u'sea': 4, u'japan': 10, u'fail': 4, u's militari': 4, u'servic': 6, u'best': 4, u'said': 52, u'nuclear': 7, u'scrap': 4, u'case': 5, u'3': 10, u'use': 9, u'accord': 4, u'men': 10, u'chief execut': 8, u'mazda': 5, u'job': 4, u'cut': 9, u'key': 5, u'disput': 5, u'come': 7, u'ski resort': 4, u'protect': 4, u'last': 18, u'region': 5, u'annual': 7, u'unit state': 19, u's': 31, u'14 year': 4, u'share': 7, u'pakistan': 5, u'co': 5, u'wall': 6, u'tuesday': 17, u'news jean': 4, u'migrant': 7, u'justic depart': 4, u'news': 14, u'execut': 11, u'lawsuit': 6, u'1 6': 5, u'tax law': 4, u'secret': 13, u'electr': 4, u'firm': 7, u'life': 6, u'flight': 4, u'2019 model': 4, u'fire': 7, u'thousand': 4, u'worker': 8, u'davo': 4, u'an': 9, u'former': 8, u'spain': 4, u'20': 4, u'has': 6, u'look': 4, u'secret act': 4, u'bill': 8, u'air': 4, u'will': 9, u'near': 9, u'report': 27, u'mexico': 10, u'is': 16, u'it': 20, u'brake': 4, u'in': 7, u'mani': 7, u'sever': 5, u'inquiri': 5, u'author': 6, u'parti': 4, u'make': 16, u'econom': 8, u'member': 8, u'yangon': 4, u'largest': 4, u'inch': 5, u'difficult': 4, u'week': 15, u'oil': 7, u'rail': 4, u'two reuter': 4, u'hand': 8, u'donald trump': 10, u'state secret': 4, u'000': 6, u'countri': 13, u'new york': 13, u'center': 10, u'i': 4, u'poland': 5, u'new prison': 4, u'the fed': 4, u'the': 82, u'left': 16, u'presid trump': 15, u'just': 4, u'money': 6, u'offici secret': 4, u'not': 4, u'kill': 6, u'eas rule': 6, u'behind': 5, u'concentr': 4, u'death': 11, u'u s': 29, u'campaign': 5, u'rose': 7, u'day': 11, u'other': 8, u'4': 5, u'prison': 6, u'tax': 18, u'east': 7, u'ski': 5, u'build': 4, u'fate': 6, u'big': 5, u'five': 5, u'know': 6, u'world': 13, u'athlet': 4, u'like': 7, u'resid': 4, u'd': 5, u'toyota': 9, u'resolv': 4, u'collect': 4, u't': 4, u'nuclear deal': 4, u'right': 8, u'old': 11, u'motor': 6, u'deal': 8, u'kevin spacey': 4, u'sanction': 4, u'play': 4, u'dead': 9, u'the u': 5, u'intern': 10, u'home': 8, u'libel law': 4, u'feder': 8, u'for': 4, u'fox': 4, u'foreign': 9, u'estim': 4, u'larg': 4, u'unit': 20, u'cnn': 4, u'leader': 12, u'be': 8, u'power': 7, u'journal': 4, u'confer': 4, u'last week': 6, u'chairman': 5, u'central': 5, u'nafta': 5, u'justic': 7, u'island': 5, u'act': 5, u'industri': 5, u'bond': 5, u'block': 4, u'op': 9, u'libel': 4, u'mudslid': 6, u'washington': 17, u'surviv': 4, u'contributor': 6, u'jerusalem': 6, u'your': 9, u'support': 4, u'fast': 4, u'fight': 9, u'los': 4, u'appl': 9, u'includ': 10, u'way': 6, u'replac': 4, u'south korea': 16, u'war': 9, u'the compani': 4, u'north': 30, u'forc': 10, u'6': 8, u'ford': 6, u'heat': 4, u'link': 4, u'hail': 6, u'russian': 4, u'line': 6, u'with': 15, u'he': 5, u'all money': 4, u'pull': 5, u'made': 9, u'possibl': 4, u'donald': 10, u'us': 14, u'record': 4, u'creat': 4, u'repres': 7, u'novemb': 5, u'at': 8, u'face': 6, u'film': 7, u'no': 6, u'when': 6, u'book': 4, u'5': 8, u'futur': 6, u'you': 6, u'congress': 7, u'william': 5, u'billion': 16, u'e': 7, u'invest': 6, u'rule': 9, u'emerg': 6, u'u': 36, u'time': 10}\n"
     ]
    }
   ],
   "source": [
    "from collections import defaultdict\n",
    "import nltk\n",
    "nltk.download('stopwords')\n",
    "from nltk.corpus import stopwords\n",
    "from nltk.tokenize import RegexpTokenizer\n",
    "from nltk import ngrams\n",
    "\n",
    "def to_dict(d):\n",
    "    '''helper class – converts defaultdict to regular dict'''\n",
    "    if isinstance(d, defaultdict):\n",
    "        d = {k: to_dict(v) for k, v in d.iteritems()}\n",
    "    return d\n",
    "\n",
    "def getwords_adv(doc):\n",
    "    \n",
    "    #doc = doc.lower()\n",
    "    \n",
    "    #tokenize\n",
    "    tokenizer = RegexpTokenizer(r'\\w+')\n",
    "    tokens = tokenizer.tokenize(doc)\n",
    "    \n",
    "    #remove stopwords\n",
    "    stop_words = set(stopwords.words('english'))\n",
    "    tokens = [word for word in tokens if word not in stop_words]\n",
    "    \n",
    "    #stemming\n",
    "    stemmer = nltk.stem.snowball.SnowballStemmer('english')\n",
    "    tokens = [stemmer.stem(word) for word in tokens]\n",
    "    \n",
    "    #add bigrams\n",
    "    docsting = ' '.join(tokens).strip()\n",
    "    n = 2\n",
    "    n_grams = ngrams(docsting.split(), n)\n",
    "    tokens = tokens + [' '.join(grams) for grams in n_grams]\n",
    "    \n",
    "    #remove words smaller than 4 and bigger than 60\n",
    "    #tokens = [token for token in tokens if len(token) in range(4,60)]\n",
    "    return tokens\n",
    "\n",
    "def getarticlewords(articles):\n",
    "    allwords = defaultdict(int)\n",
    "    articletitles = []\n",
    "    articlewords = []\n",
    "    \n",
    "    for index, row in articles.iterrows():\n",
    "        title = row.loc['title']\n",
    "        fulltext = row.loc['title'] + ' ' + row.loc['text']\n",
    "        # add articletitles\n",
    "        articletitles.append(title)\n",
    "        # add articlewords\n",
    "        words = getwords_adv(fulltext)\n",
    "        wordsdict = defaultdict(int)\n",
    "        for word in words: \n",
    "            wordsdict[word] += 1\n",
    "            # extend allwords\n",
    "            allwords[word] += 1\n",
    "        articlewords.append(wordsdict)\n",
    "    \n",
    "    #remove words where count is lower 4\n",
    "    wordsToRemove = []\n",
    "    for word,count in allwords.items():\n",
    "        if count < 4:\n",
    "            #gather words to be removed\n",
    "            wordsToRemove.append(word)\n",
    "            #remove from allwords\n",
    "            allwords.pop(word, None)\n",
    "    \n",
    "    #remove words from articlewords\n",
    "    for words in articlewords:\n",
    "        for word in wordsToRemove:\n",
    "            words.pop(word, None)\n",
    "    #remove word that are included in more than 30% of all documents\n",
    "    \n",
    "    return to_dict(allwords),articlewords,articletitles\n",
    "\n",
    "allwords,articlewords,articletitles = getarticlewords(rssfeeds)\n",
    "print len(allwords)\n",
    "print len(articlewords)\n",
    "print to_dict(articlewords[0])\n",
    "print '\\n',to_dict(allwords)\n",
    "#print to_dict([to_dict(words) for words in articlewords])"
   ]
  },
  {
   "cell_type": "markdown",
   "metadata": {},
   "source": [
    "### Die Funktion _makematrix()_\n",
    "Schreiben Sie eine Funktion _makematrix()_, die aus dem Dictionary _allwords_ und der Liste _articlewords_ (vorige Aufgabe) die Artikel-/Wort-Matrix generiert. Die Einträge in der Matrix sollen die Häufigkeiten der Wörter im jeweiligen Dokument sein (term frequency tf). Die Artikel-/Wort-Matrix soll als 2-dimensionales Numpy Array angelegt werden."
   ]
  },
  {
   "cell_type": "code",
   "execution_count": 26,
   "metadata": {},
   "outputs": [
    {
     "name": "stdout",
     "output_type": "stream",
     "text": [
      "(290, 574)\n",
      "[[0 0 0 ..., 0 0 0]\n",
      " [0 0 0 ..., 0 2 0]\n",
      " [0 0 0 ..., 0 0 0]\n",
      " ..., \n",
      " [0 0 0 ..., 0 0 1]\n",
      " [0 0 0 ..., 0 1 0]\n",
      " [0 0 0 ..., 0 0 0]]\n"
     ]
    }
   ],
   "source": [
    "from gensim import corpora, models, similarities\n",
    "\n",
    "'''def makematrix(allwords, articlewords):\n",
    "    \n",
    "    dictionary = corpora.Dictionary(articlewords)\n",
    "    v = dictionary.token2id\n",
    "    print v\n",
    "    #A = \n",
    "    print(\"Total number of documents in the dictionary: \",dictionary.num_docs)\n",
    "    print(\"Total number of corpus positions: \",dictionary.num_pos)\n",
    "    print(\"Total number of non-zeros in the BoW-Matrix: \",dictionary.num_nnz)\n",
    "    print(\"Total number of different words in the dictionary: \",len(dictionary))'''\n",
    "    \n",
    "# makematrix(allwords, articlewords)\n",
    "\n",
    "def get_row(all_words, article_words):\n",
    "    for word, value in all_words.items():\n",
    "        try:\n",
    "            all_words[word] = article_words[word]\n",
    "        except KeyError:\n",
    "            value = 0\n",
    "    article_array = np.array(all_words.values()) \n",
    "    return article_array\n",
    "\n",
    "def makematrix(article_words, all_words):\n",
    "    A = np.empty(shape=(0,len(all_words)), dtype=int) #<- hier stimmt was noch net\n",
    "    for words_of_single_article in article_words:\n",
    "        v = get_row(all_words, words_of_single_article)\n",
    "        A = np.vstack((A, v))\n",
    "    return A\n",
    "\n",
    "matrix_A = makematrix(articlewords,allwords)\n",
    "print matrix_A.shape\n",
    "print matrix_A"
   ]
  },
  {
   "cell_type": "markdown",
   "metadata": {},
   "source": [
    "## Die Nicht Negative Matrix Faktorisierung\n",
    "Die Implementierung der NNMF ist entsprechend der Beschreibung im Theoriekapitel durchzuführen.\n",
    "\n",
    "* Implementieren Sie die Funktion _cost(A,B)_. Dieser Funktion werden zwei Numpy-Matrizen $A$ und $B$ übergeben. Zurück geliefert werden die nach oben angegebener Formel berechneten Kosten $k$. Diese Funktion wird von der im folgenden beschriebenen Funktion _nnmf(A,m,it)_ benutzt.\n",
    "* Implementieren Sie die Funktion __nnmf(A,m,it)__. In dieser Funktion soll der oben beschriebene Algorithmus für die Nicht-negative Matrix Faktorisierung ausgeführt werden. Der Funktion wird die zu faktorisierende Matrix $A$, die Anzahl der Merkmale $m$ und die Anzahl der Iterationen $it$ übergeben. Die Funktion gibt die gefundenen Faktoren $W$ und $H$ zurück. In jeder Iteration sollen mit der Funktion __cost(A,B)__ die Kosten berechnet werden. Sobald die Kostenabnahme pro 10 Iterationen kleiner als $2$ ist oder eine maximale Anzahl von Iterationen ($maxIt=200$) erreicht ist, soll der Algorithmus mit der Rückgabe der Faktoren $W$ und $H$ terminieren.     \n",
    "\n",
    "\n",
    "Tipp für die Implementierung elementweiser Operationen von Matrizen: Für elementweise Operationen müssen in Python/Numpy nicht alle Elemente über Schleifen explizit berechnet werden. Eine elementweise Anpassung aller Matrixelemente kann kompakt programmiert werden indem die beteiligten Matrizen für diese Operationen als Arrays implementiert werden. Sollen z.B. die beiden gleich großen Numpy Arrays $U$ und $V$ elementweise multipliziert werden, dann wäre der entsprechende Programmcode einfach _U*V_.  "
   ]
  },
  {
   "cell_type": "code",
   "execution_count": 113,
   "metadata": {
    "scrolled": true
   },
   "outputs": [
    {
     "data": {
      "text/plain": [
       "(array([[  3.71210913e-02,   1.39043317e-28,   3.09842643e-14, ...,\n",
       "           2.72542717e-02,   1.69774022e-02,   2.01468346e-12],\n",
       "        [  4.48751278e-09,   1.20077049e-10,   4.72279248e-16, ...,\n",
       "           2.17917195e-02,   7.61800370e-03,   7.82481560e-05],\n",
       "        [  3.85146378e-07,   3.77820434e-14,   1.62745673e-07, ...,\n",
       "           1.27467259e-05,   6.81137454e-03,   1.49249830e-04],\n",
       "        ..., \n",
       "        [  5.44639274e-07,   8.42620099e-18,   1.61176532e-04, ...,\n",
       "           6.29469655e-17,   7.34408073e-02,   8.82884107e-05],\n",
       "        [  4.56490149e-10,   1.15064609e-11,   1.97324943e-03, ...,\n",
       "           1.67114548e-05,   1.22912224e-03,   1.18093727e-02],\n",
       "        [  1.57729466e-03,   3.62121266e-08,   1.34341222e-08, ...,\n",
       "           7.64027280e-14,   5.75647596e-04,   6.75612327e-11]]),\n",
       " array([[  7.67335961e-01,   6.16744902e-01,   5.67303229e-01, ...,\n",
       "           1.12683669e+00,   3.19587994e-01,   4.14268485e-02],\n",
       "        [  3.21442225e+00,   6.51426735e-01,   4.03871452e+00, ...,\n",
       "           2.81156552e+00,   5.05086881e-02,   7.75514624e-01],\n",
       "        [  1.01435274e+00,   5.18657576e-01,   6.00377408e-01, ...,\n",
       "           1.64645321e+00,   1.84940415e+00,   5.16251997e-01],\n",
       "        ..., \n",
       "        [  6.66966476e-02,   7.22065808e-02,   2.36100232e-01, ...,\n",
       "           3.67042198e-01,   4.34879899e-01,   9.30173836e-04],\n",
       "        [  1.07747867e-01,   3.12422290e-01,   4.54340650e-01, ...,\n",
       "           6.91488363e-01,   6.38548781e-02,   5.45292033e-03],\n",
       "        [  1.39005365e+00,   1.46145992e+00,   1.83577372e+00, ...,\n",
       "           9.23763017e-02,   3.93168076e-01,   5.71688794e-01]]))"
      ]
     },
     "execution_count": 113,
     "metadata": {},
     "output_type": "execute_result"
    }
   ],
   "source": [
    "# Erstellen der Matrix H und W\n",
    "def generate_random_matrix(rows, columns):\n",
    "    return np.random.random((rows, columns))\n",
    "\n",
    "count_of_features = 15 # (m) Merkmale\n",
    "row_count_matrix_A = len(matrix_A)\n",
    "#print row_count_matrix_A\n",
    "col_count_matrix_A = len(matrix_A[2])\n",
    "\n",
    "matrix_H = generate_random_matrix(count_of_features,col_count_matrix_A)\n",
    "matrix_W = generate_random_matrix(row_count_matrix_A, count_of_features)\n",
    "\n",
    "# Erstellen der Matrix B, mit B = W * H\n",
    "\n",
    "matrix_B = np.matmul(matrix_W, matrix_H)\n",
    "\n",
    "#print matrix_B\n",
    "\n",
    "# Berechnung Kostenfaktor k\n",
    "\n",
    "def calc_cost(matrix_A, matrix_B):\n",
    "    sub_matrix = np.subtract(matrix_A, matrix_B)\n",
    "    sum_of_all = 0\n",
    "    for v in sub_matrix:\n",
    "        for v_2 in v:\n",
    "            sum_of_all += v_2*v_2\n",
    "    return sum_of_all\n",
    "\n",
    "#print calc_cost(matrix_A, matrix_B)\n",
    "\n",
    "def adapt_H(A, H, W):\n",
    "    W_t = np.transpose(W)\n",
    "    nummerator = np.matmul(W_t,A)\n",
    "    denominator = np.matmul(np.matmul(W_t,W), H)\n",
    "    fract = np.divide(nummerator,denominator)\n",
    "    result = H*fract # fraglich\n",
    "    return result\n",
    "    \n",
    "def adapt_W(A, H, W):\n",
    "    H_t = np.transpose(H)\n",
    "    nummerator = np.matmul(A, H_t)\n",
    "    denominator = np.matmul(np.matmul(W,H), H_t)\n",
    "    fract = np.divide(nummerator,denominator)\n",
    "    result = W*fract # fraglich\n",
    "    return result\n",
    "    \n",
    "def nnmf(A,m,it):\n",
    "    H = generate_random_matrix(count_of_features,col_count_matrix_A)\n",
    "    W = generate_random_matrix(row_count_matrix_A, count_of_features)    \n",
    "    cost_list = []\n",
    "    for i in range(it):\n",
    "        H = adapt_H(A, H, W)\n",
    "        B = np.matmul(W, H)\n",
    "        cost_list.append(calc_cost(A, B))\n",
    "        if len(cost_list) > 10 and (cost_list[-10] - cost_list[-1]) < 2.0:\n",
    "            break\n",
    "    W = adapt_W(A, H, W)\n",
    "    return (H,W)\n",
    "\n",
    "nnmf(matrix_A, 30, 200)"
   ]
  },
  {
   "cell_type": "markdown",
   "metadata": {},
   "source": [
    "## Anzeige der Merkmale und der Gewichte\n",
    "\n",
    "Im vorigen Abschnitt wurde die Merkmalsmatrix $H$ und die Gewichtsmatrix $W$ berechnet. Diese Matrizen können natürlich am Bildschirm ausgegeben werden, was jedoch nicht besonders informativ ist. Aus den Matrizen können jedoch die Antworten für die folgenden interessanten Fragen berechnet werden:\n",
    "\n",
    "* In welchen Artikeln sind welche Merkmale stark vertreten?\n",
    "* Wie lassen sich die insgesamt $m$ Merkmale beschreiben, so dass aus dieser Merkmalsbeschreibung klar wird, welches Thema den Artikeln, in denen das Merkmal stark vertreten ist, behandelt wird? \n",
    " \n",
    "Die Antwort auf die erste Frage ergibt sich aus der Gewichtsmatrix $W$. Für die Beantwortung der zweiten Frage wird die Merkmalsmatrix $H$ herangezogen.\n",
    "\n",
    "\n",
    "\n",
    "### Beschreibung der Merkmale\n",
    "\n",
    "Die Merkmalsmatrix $H$ beschreibt, wie stark die Worte aus _wordvec_ in jedem Merkmal enthalten sind. Jede Zeile von $H$ gehört zu einem Merkmal, jede Spalte von $H$ gehört zu einem Wort in _wordvec_.\n",
    "\n",
    "Es bietet sich an jedes Merkmal einfach durch die $N=6$ Wörter aus _wordvec_ zu beschreiben, welche am stärksten in diesem Merkmal enthalten sind. Hierzu muss für jedes Merkmal die entsprechende Zeile in $H$ nach den $N=6$ größten Werten durchsucht bzw. geordnet werden. Die entsprechenden Spalten dieser Matrixelemente verweisen dann auf die $N=6$ wichtigsten Worte des Merkmals.\n",
    "\n",
    "Tipp für die Implementierung: Legen Sie für jedes Merkmal $i$ eine Liste an. Die Listenlänge ist durch die Anzahl der Worte in _wordvec_ (d.h. die Anzahl der Spalten in $H$) gegeben. Jedes Listenelement $j$ enthält selbst wieder 2 Elemente: An erster Stelle den entsprechenden Wert $H_{i,j}$ der Merkmalsmatrix, an der zweiten Stelle das $j.$-te Wort in _wordvec_. Nachdem die Liste angelegt ist, kann sie mit _listname.sort()_ in aufsteigender Reihenfolge sortiert werden. Die abnehmende Sortierung erhält man mit _listname.sort().reverse()_. Danach geben die $N=6$ ersten Listenelemente die für das Merkmal $i$ wichtigsten Worte an.\n",
    "\n",
    "   \n",
    "### Präsenz der Merkmale in den Artikeln\n",
    "\n",
    "Die Gewichtsmatrix $W$ beschreibt, wie stark die $m$ Merkmale in den Artikeln aus _articletitles_ enthalten sind. Jede Zeile von $W$ gehört zu einem Artikel, jede Spalte von $W$ gehört zu einem Merkmal.\n",
    "Die Berechnung der $M=2$ gewichtigsten Merkmale für jeden Artikel in _articletitles_ kann analog zu der oben beschriebenen Berechnung der $N=6$ wichtigsten Worte eines Merkmals berechnet werden.\n",
    "\n",
    "\n",
    "### Implementierung\n",
    "\n",
    "Implementieren Sie eine Funktion _showfeatures(w,h,titles,wordvec)_, welche wie oben beschrieben für jeden Artikel die $M=2$ wichtigsten Merkmale am Bildschirm ausgibt. Dabei soll jedes Merkmal durch die 6 wichtigsten Wörter dieses Merkmals angegeben werden. Siehe Beispielausgabe unten.  \n",
    "\n",
    "Übergabeparameter der Funktion sind die Merkmalsmatrix $H$, die Gewichtungsmatrix $W$, die Liste aller Artikeltitel _articletitles_ und die Liste aller Worte _wordvec_.\n",
    "\n",
    "\n",
    "Beispiel fuer Ausgabe:"
   ]
  },
  {
   "cell_type": "markdown",
   "metadata": {},
   "source": [
    "[(13.54131155883748, 13, u'Putin vows payback after confirmation of Egypt plane bomb'),\n",
    "\n",
    "(2.2466669548146254, 9, u'Putin vows payback after confirmation of Egypt plane bomb')]\n",
    "\n",
    "----- ['plane', 'egypt', 'russia', 'month', 'killing', 'putin']\n",
    "\n",
    "----- ['airport', 'russian', 'crash', 'egypt', 'security', 'officials']"
   ]
  },
  {
   "cell_type": "markdown",
   "metadata": {},
   "source": [
    "Die Ausgabe ist wie folgt zu interpretieren:\n",
    "* Für den Artikel _Putin vows payback after confirmation of Egypt plane bomb_ ist \n",
    "    * das wichtigste Merkmal durch die 6 Wörter _plane_, _egypt_, _russia_, _month_, _killing_, _putin_ definiert. Das Gewicht dieses Merkmals im Artikel ist 13.54\n",
    "    * das zweitwichtigste Merkmal durch die 6 Wörter _airport_, _russian_, _crash_, _egypt_, _security_, _officials_ definiert. Das Gewicht dieses Merkmals im Artikel ist 2.24"
   ]
  },
  {
   "cell_type": "code",
   "execution_count": 8,
   "metadata": {
    "collapsed": true
   },
   "outputs": [],
   "source": [
    "#Your code"
   ]
  },
  {
   "cell_type": "markdown",
   "metadata": {},
   "source": [
    "## Aufgaben\n",
    "\n",
    "1. Analysieren Sie die berechneten Topics indem Sie sich überlegen ob die gefundenen 6 Wörter pro Topic wirklich Themen beschreiben.\n",
    "2. Verändern Sie die Parameter der NNMF (Anzahl der Topics $m$, Anzahl der Iterationen). Bei welcher Einstellung der Parameter erhalten Sie das für sie sinnvollste Resultat (sinnvolle Topics)?\n",
    "3. Wie kann die _getwords()_ Methode verbessert werden, so dass noch bedeutsamere Topics gefunden werden? "
   ]
  },
  {
   "cell_type": "code",
   "execution_count": 9,
   "metadata": {
    "collapsed": true
   },
   "outputs": [],
   "source": [
    "#Your markdown"
   ]
  },
  {
   "cell_type": "code",
   "execution_count": null,
   "metadata": {
    "collapsed": true
   },
   "outputs": [],
   "source": []
  }
 ],
 "metadata": {
  "kernelspec": {
   "display_name": "Python 2",
   "language": "python",
   "name": "python2"
  },
  "language_info": {
   "codemirror_mode": {
    "name": "ipython",
    "version": 2
   },
   "file_extension": ".py",
   "mimetype": "text/x-python",
   "name": "python",
   "nbconvert_exporter": "python",
   "pygments_lexer": "ipython2",
   "version": "2.7.13"
  },
  "nav_menu": {},
  "toc": {
   "navigate_menu": true,
   "number_sections": true,
   "sideBar": true,
   "threshold": 6,
   "toc_cell": false,
   "toc_section_display": "block",
   "toc_window_display": false
  }
 },
 "nbformat": 4,
 "nbformat_minor": 1
}
