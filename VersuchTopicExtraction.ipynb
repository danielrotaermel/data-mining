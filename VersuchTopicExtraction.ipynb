{
 "cells": [
  {
   "cell_type": "markdown",
   "metadata": {},
   "source": [
    "# Topic Extraction in Newsfeeds\n",
    "* Autor: Prof. Dr. Johannes Maucher\n",
    "* Datum: 17.11.2015\n",
    "\n",
    "[Übersicht Ipython Notebooks im Data Mining Praktikum](Data Mining Praktikum.ipynb)\n",
    "\n",
    "# Einführung\n",
    "## Lernziele:\n",
    "\n",
    "In diesem Versuch sollen Kenntnisse in folgenden Themen vermittelt werden:\n",
    "\n",
    "* __RSS Feeds:__ Struktur von RSS Feeds analysieren und parsen mit dem _Universal Feed Parser_. \n",
    "* __Dokument Analyse:__ Die Häufigkeit aller Worte in einem Dokument (Inhalt des RSS Feeds) zählen und in einem Array verwalten. \n",
    "* __Merkmalsextraktion:__ Bestimmung von Merkmalen (hier auch: __Topics__) (Allgemein spricht man von Merkmalen. Im Fall, dass die NNMF auf Dokumente angewandt wird, werden die Merkmale auch mit __Topics__ oder __Themen__ bezeichnet) mit der \\emph{Non Negative Matrix Factorization}.\n",
    "* __Zuordnung__: Wie setzen sich die Topics aus den Wörtern zusammen? Wie stark sind die gefundenen Topics in den Artikeln vertreten?\n",
    "* __Dokument Clustering:__ Mit der NNMF kann auch ein Clustering realisiert werden. Jeder Topic repräsentiert ein Cluster. Jedes Dokument wird dem Cluster zugeordnet, dessen Topic am stärksten in ihm vertreten ist. \n",
    "\n",
    "Sämtliche Verfahren und Algorithmen werden in Python implementiert.\n",
    "\n",
    "## Theorie zur Vorbereitung\n",
    "\n",
    "Stellen Sie sich vor Sie möchten in eine eigene Webseite die RSS Feeds einer Menge von Nachrichtenservern einbinden. Da die unterschiedlichen Server wahrscheinlich Artikel zu den gleichen Themen anbieten, werden die Inhalte einiger Artikel ähnlich sein. Mit der __Nicht Negativen Matrixfaktorisierung (NNMF)__ kann für eine große Menge von Dokumenten eine Menge von Themen (Topics) ermittelt werden, auf die sich die Dokumente beziehen. Damit ist es u.a. möglich\n",
    "* die Dokumente thematisch zu ordnen\n",
    "* zu jedem Thema nur ein Dokument anzuzeigen\n",
    "\n",
    "### Ähnlichkeiten bestimmen und relevante Merkmale extrahieren\n",
    "\n",
    "Eine Sammlung von Dokumenten - in diesem Versuch die Menge aller Nachrichten der angegebenen Feeds - kann in einer Artikel/Wort-Matrix repräsentiert werden. Jede Zeile dieser Matrix gehört zu einem Dokument. Für jedes Wort, das mindestens in einem der Dokumente vorkommt, ist eine Spalte vorgesehen. Das Matrixelement in Zeile $i$, Spalte $j$ beschreibt wie häufig das Wort in Spalte $j$ im zur Zeile $i$ gehörenden Dokument vorkommt.\n",
    "\n",
    "Unter der Annahme, dass Artikel umso ähnlicher sind, je mehr Worte in diesen gemeinsam vorkommen, kann auf der Grundlage dieser Matrix die Ähnlichkeit zwischen den Artikeln berechnet werden. Hierzu könnte die Matrix z.B. einfach einem _Hierarchischen Clustering_ übergeben werden. Das hierarchische Clustering weist jedoch im Fall einer großen Menge von zu vergleichenden Objekten zwei wesentliche Nachteile auf: Erstens ist die wiederholte Berechnung der Distanzen zwischen allen Artikeln/Clustern extrem rechenaufwendig, zweitens ist die Darstellung einer großen Anzahl von Objekten im Dendrogramm nicht mehr übersichtlich. \n",
    "\n",
    "Für das Auffinden von Assoziationen zwischen Dokumenten hat sich in den letzten Jahren die Methode der __Nicht-Negativen Matrix Faktorisierung (NNMF)__ etabliert. Mit dieser Methode kann eine Menge von wesentlichen Merkmalen berechnet werden, anhand derer sich die Dokumente clustern lassen, d.h. Dokumente des gleichen Clusters repräsentieren das gleiche Merkmal (Thema). Ein solches Merkmal wird durch eine Menge von Worten beschrieben, z.B. $\\{$ _Paris, terror, IS_ $\\}$  oder $\\{$_refugee, syria, border_ $\\}$. Neben der Merkmalsextraktion stellt die relativ geringe Komplexität einen weiteren Vorteil der NNMF dar. Durch die Darstellung der Artikel/Wort-Matrix als Produkt von 2 Faktormatrizen müssen deutlich weniger Einträge gespeichert werden.\n",
    "\n",
    "### Nicht Negative Matrixfaktorisierung: Die Idee\n",
    "\n",
    "Die Artikel/Wort-Matrix wird im Folgenden mit $A$ bezeichnet. Sie besitzt $r$ Zeilen und $c$ Spalten, wobei $r$ die Anzahl der Artikel und $c$ die Anzahl der relevanten Worte in der Menge aller Artikel ist. Durch Multiplikation der Matrix $A$ mit dem Vektor $v$ (_wordvec_: Vektor der alle relevanten Worte enthält) werden die Worte den Artikeln $a$ (_articletitles_: Vektor der alle Artikeltitel enthält) zugeordnet:\n",
    "\n",
    "$$\n",
    "a=A*v.\n",
    "$$\n",
    "\n",
    "Die Idee der NNMF besteht darin die Matrix $A$ als Produkt zweier Matrizen $W$ und $H$ darzustellen,\n",
    "\n",
    "$$\n",
    "A=W*H\n",
    "$$\n",
    "\n",
    "wobei alle Elemente in $W$ und $H$ größer oder gleich Null sein müssen. Die Matrixmultiplikation erfordert, dass die Anzahl der Zeilen $m$ in $H$ gleich der Anzahl der Spalten in $W$ sein muss. \n",
    "Durch die Faktorisierung der Matrix $A$ wird die Zuordnung der Wörter des Wortvektors $v$  zu den Artikeln des Vektors $a$ in zwei Stufen zerlegt. \n",
    "\n",
    "$$\n",
    "f = H*v\n",
    "$$\n",
    "$$\n",
    "a = W*f \n",
    "$$\n",
    "\n",
    "In der ersten Stufe werden durch die Multiplikation von $v$ mit der Matrix $H$ die Wörter einem sogenannten Merkmalsvektor $f$ mit $m$ Elementen zugewiesen. In der zweiten Stufe werden durch die Multiplikation des Merkmalsvektor $f$ mit der Matrix $W$ die einzelnen Merkmale den Artikeln in $a$ zugeordnet. Die Matrix $H$ definiert also aus welchen Wörtern die Merkmale gebildet werden. Sie wird deshalb __Merkmalsmatrix__ genannt. Die Matrix $W$ hingegen beschreibt mit welchem Gewicht die einzelnen Merkmale in den verschiedenen Artikeln auftreten. Sie wird deshalb __Gewichtungsmatrix__ genannt.\n",
    "\n",
    "Daraus folgt: Wenn eine Faktorisierung der Matrix $A$ gefunden wird, dann werden damit auch relevante Merkmale, also die Themen, definiert, hinsichtlich derer die Artikel effizient kategorisiert werden. Durch die Matrixfaktorisierung wird eine __Merkmalsextraktion__ realisiert. \n",
    "\n",
    "### Berechnung der Matrixfaktoren\n",
    "\n",
    "Für die Berechnung der Faktoren wurde in [Lee, Algortihms for Non-negative Matrix Factorisation](http://papers.nips.cc/paper/1861-algorithms-for-non-negative-matrix-factorization.pdf) eine iterative Methode vorgestellt, die derzeit wohl am häufigsten angewandt wird und auch in dieser Übung implementiert werden soll. Der Algorithmus besteht aus folgenden Schritten:\n",
    "* Gebe die zu faktorisierende Matrix $A$ ein. $r$ sei die Anzahl der Zeilen und $c$ die Anzahl der Spalten von $A$.\n",
    "* Wähle die Anzahl $m$ der Merkmale, mit $m<c$. _Tipp:_ Für $m$ sollte zunächst ein Wert im Bereich $15$ bis $30$ gewählt werden.\n",
    "* Lege eine $m \\times c$ Matrix $H$ an mit initial zufälligen Elementen (Anwendung der numpy Funktion _random.random()_)\n",
    "* Lege eine $r \\times m$ Matrix $W$ an mit initial zufälligen Elementen (Anwendung der numpy Funktion _random.random()_)\n",
    "* Wiederhole bis maximale Anzahl der Iteration erreicht oder Kosten $k$ unter vordefinierter Schwelle:\n",
    "\n",
    "\t* Berechne aktuelles Produkt $B=W*H$ und bereche die Kostenfunktion \n",
    "\t\t$$\n",
    "\t\t\tk=\\left\\| A - B \\right\\|^2 = \\sum\\limits_{i,j} \\left(A_{i,j} - B_{i,j}\\right)^2\n",
    "\t\t$$ \n",
    "\t* Anpassung der Matrix $H$ durch folgende Neuberechnung der Matrixelemente\n",
    "    \n",
    "\t\t$$\n",
    "\t\tH_{i,j} := H_{i,j} \\frac{(W^T*A)_{i,j}}{(W^T*W*H)_{i,j}}\n",
    "\t\t$$\n",
    "        \n",
    "\t* __Nach__ der Anpassung der Matrix $H$: Anpassung der Matrix $W$ durch folgende Neuberechnung der Matrixelemente\n",
    "    \n",
    "\t\t$$\n",
    "\t\tW_{l,i} := W_{l,i} \\frac{(A*H^T)_{l,i}}{(W*H*H^T)_{l,i}}\n",
    "\t\t$$\n",
    "\n",
    "In [Lee, Algortihms for Non-negative Matrix Factorisation](http://papers.nips.cc/paper/1861-algorithms-for-non-negative-matrix-factorization.pdf) ist bewiesen, dass durch die o.g. Anpassungsroutinen die Kosten $k$ monoton abnehmen und in einem Minimum konvergieren. Der Algorithmus ist jedoch nicht optimal weil das gefundene Minimum ein lokales Minimum sein kann."
   ]
  },
  {
   "cell_type": "markdown",
   "metadata": {},
   "source": [
    " ## Vor dem Versuch zu klärende Fragen\n",
    " \n",
    " * Was versteht man unter Artikel/Wort-Matrix? Wie wird diese im aktuellen Versuch gebildet?"
   ]
  },
  {
   "cell_type": "markdown",
   "metadata": {
    "collapsed": true
   },
   "source": [
    "|      | Spalte   |  1.  |   2. |\n",
    "| ---- |:-------------:| -----:|\n",
    "|Zeile | Doclist | 'wort1' | 'wort2' |\n",
    "|   1.  | Doc1 |  1   |  0   | \n",
    "|   2.  | Doc2 |  0   |  0   | \n",
    "|   3.  | Doc3 |  0   |  0   |  \n",
    "\n",
    "Jede Zeile dieser Matrix gehört zu einem Dokument. Für jedes Wort, das mindestens in einem der Dokumente vorkommt, ist eine Spalte vorgesehen. Das Matrixelement in Zeile  i, Spalte  j beschreibt wie häufig das Wort in Spalte j im zur Zeile i gehörenden Dokument vorkommt.\n",
    "\n",
    " \n",
    "Gebildet wird diese Matrix in dem man eine bereinigte Liste aus allen Wörtern zu jedem Dokument erstellt wird. Zur Bereinigung zählen: Stoppwörter, Doppelte Wörter und Satzzeichen zu entfernen (Tokenizing). Außerdem das Normalisieren der Wortmenge. Diese Listen werden in einer Liste gespeichert.\n",
    "Anschließend wird aus diesem Objekt ein Gensim-Dictionary erzeugt. Es besitzt nun die Eigenschaft, dass es jedem relevanten Wort (Key) einen zufälligen, eindeutigen  Index (Value) erzeugt. \n",
    "\n",
    "\n",
    "Um die Performance zu erhöhen wird die Efficient Corpus Representation eingesetzt. Dabei wird aus dem Dictionary eine Liste aus Tupeln erzeugt, wobei der erste Wert, der Indize des Wortes ist und der zweite Wert die Häufigkeit des Wortes repräsentiert. Dies bildet den Corpus."
   ]
  },
  {
   "cell_type": "markdown",
   "metadata": {},
   "source": [
    "* Wie multipliziert man die Matrix\n",
    "    $$\n",
    "    A= \\left( \\begin{array}{cccc}\n",
    "a_{00} & a_{01} & a_{02} & a_{03} \\\\ \n",
    "a_{10} & a_{11} & a_{12} & a_{13} \\\\ \n",
    "a_{20} & a_{21} & a_{22} & a_{23}\n",
    "\\end{array} \\right)\n",
    "    $$\n",
    "    mit dem Vektor  \n",
    "    $$\n",
    "    v=\\left( \\begin{array}{c}\n",
    "v_{0} \\\\ \n",
    "v_{1} \\\\ \n",
    "v_{2} \\\\ \n",
    "v_{3}\n",
    "\\end{array} \\right)\n",
    "    $$\n",
    "    "
   ]
  },
  {
   "cell_type": "markdown",
   "metadata": {
    "collapsed": true
   },
   "source": [
    "So multipliziert man die Matrix:\n",
    "    $$\n",
    "    a = A * v = \\left( \\begin{array}{cccc}\n",
    "a_{00} & a_{01} & a_{02} & a_{03} \\\\ \n",
    "a_{10} & a_{11} & a_{12} & a_{13} \\\\ \n",
    "a_{20} & a_{21} & a_{22} & a_{23}\n",
    "\\end{array} \\right)\n",
    "     *    \n",
    "\\left( \\begin{array}{c}\n",
    "v_{0} \\\\ \n",
    "v_{1} \\\\ \n",
    "v_{2} \\\\ \n",
    "v_{3}\n",
    "\\end{array} \\right)\n",
    "     =\n",
    "\\left( \\begin{array}{c}\n",
    "a_{00}*v_{0} + a_{01}*v_{1} + a_{02}*v_{2} + a_{03}*v_{3}  \\\\ \n",
    "a_{10}*v_{0} + a_{11}*v_{1} + a_{12}*v_{2} + a_{13}*v_{3} \\\\ \n",
    "a_{20}*v_{0} + a_{21}*v_{1} + a_{22}*v_{2} + a_{23}*v_{3} \\\\ \n",
    "a_{30}*v_{0} + a_{31}*v_{1} + a_{32}*v_{2} + a_{33}*v_{3}\n",
    "\\end{array} \\right)\n",
    "    $$\n",
    "    \n",
    "Die Voraussetzung das zwei Matritzen *A* , *v* miteinander multipliziert werden können ist das die Anzahl der spalten in *A* der Anzahl der Zeilen in *v* entspricht. Da in diesem Fall *v* ein Vektor ist, muss er genau so viele Dimensionen haben wie die Matrix Spalten."
   ]
  },
  {
   "cell_type": "markdown",
   "metadata": {},
   "source": [
    "* Was versteht man im Kontext der NNMF unter\n",
    "    * Merkmalsmatrix\n",
    "    * Gewichtsmatrix"
   ]
  },
  {
   "cell_type": "code",
   "execution_count": null,
   "metadata": {
    "collapsed": true
   },
   "outputs": [],
   "source": []
  },
  {
   "cell_type": "markdown",
   "metadata": {},
   "source": [
    "* Wie werden in Numpy zwei Arrays (Typ numpy.array) \n",
    "\t* im Sinne der Matrixmultiplikation miteinander multipliziert?\n",
    "\t* elementweise multipliziert?\n",
    "* Wie wird die Transponierte eines Numpy-Arrays berechnet?"
   ]
  },
  {
   "cell_type": "markdown",
   "metadata": {
    "collapsed": true
   },
   "source": [
    "**Elementweise:**\n",
    "\n",
    "`np.multiply(x1, x2)`\n",
    "\n",
    "**Matrixmultiplikation:**\n",
    "\n",
    "`np.matmul(a, b)`\n",
    "\n",
    "**Transponierten:**\n",
    "\n",
    "`np.transpose(x)`"
   ]
  },
  {
   "cell_type": "markdown",
   "metadata": {},
   "source": [
    "# Versuchsdurchführung\n",
    "Die in diesem Versuch einzubindenden Feeds sind in der unten stehenden Liste _feedlist_ definiert. Die aus dem vorigen Vesuch bereits bekannte Funktion _stripHTML()_ ist ebenfalls gegeben:"
   ]
  },
  {
   "cell_type": "code",
   "execution_count": 4,
   "metadata": {},
   "outputs": [],
   "source": [
    "import feedparser\n",
    "import numpy as np\n",
    "import pandas as pd\n",
    "\n",
    "feedlist=['http://feeds.reuters.com/reuters/topNews',\n",
    "          'http://feeds.reuters.com/reuters/businessNews',\n",
    "          'http://feeds.reuters.com/reuters/worldNews',\n",
    "          'http://feeds2.feedburner.com/time/world',\n",
    "          'http://feeds2.feedburner.com/time/business',\n",
    "          'http://feeds2.feedburner.com/time/politics',\n",
    "          'http://rss.cnn.com/rss/edition.rss',\n",
    "          'http://rss.cnn.com/rss/edition_world.rss',\n",
    "          'http://www.nytimes.com/services/xml/rss/nyt/GlobalHome.xml',\n",
    "          'http://feeds.nytimes.com/nyt/rss/Business',\n",
    "          'http://www.nytimes.com/services/xml/rss/nyt/World.xml',\n",
    "          'http://www.nytimes.com/services/xml/rss/nyt/Economy.xml'\n",
    "          ]"
   ]
  },
  {
   "cell_type": "code",
   "execution_count": 5,
   "metadata": {},
   "outputs": [],
   "source": [
    "def stripHTML(h):\n",
    "  p=''\n",
    "  s=0\n",
    "  for c in h:\n",
    "    if c=='<': s=1\n",
    "    elif c=='>':\n",
    "      s=0\n",
    "      p+=' '\n",
    "    elif s==0: p+=c\n",
    "  return p"
   ]
  },
  {
   "cell_type": "code",
   "execution_count": 17,
   "metadata": {},
   "outputs": [
    {
     "name": "stdout",
     "output_type": "stream",
     "text": [
      "--------------------Articles------------------------\n",
      "******************************\n",
      "http://feeds.reuters.com/reuters/topNews\n",
      "******************************\n",
      "http://feeds.reuters.com/reuters/businessNews\n",
      "******************************\n",
      "http://feeds.reuters.com/reuters/worldNews\n",
      "******************************\n",
      "http://feeds2.feedburner.com/time/world\n",
      "******************************\n",
      "http://feeds2.feedburner.com/time/business\n",
      "******************************\n",
      "http://feeds2.feedburner.com/time/politics\n",
      "******************************\n",
      "http://rss.cnn.com/rss/edition.rss\n",
      "******************************\n",
      "http://rss.cnn.com/rss/edition_world.rss\n",
      "******************************\n",
      "http://www.nytimes.com/services/xml/rss/nyt/GlobalHome.xml\n",
      "******************************\n",
      "http://feeds.nytimes.com/nyt/rss/Business\n",
      "******************************\n",
      "http://www.nytimes.com/services/xml/rss/nyt/World.xml\n",
      "******************************\n",
      "http://www.nytimes.com/services/xml/rss/nyt/Economy.xml\n",
      "------------------------------------------------------\n",
      "------------------------------------------------------\n"
     ]
    }
   ],
   "source": [
    "rssfeeds = pd.DataFrame(columns=['title','text','source'])\n",
    "\n",
    "print \"--------------------Articles------------------------\"\n",
    "for feed in feedlist:\n",
    "    print \"*\"*30\n",
    "    print feed\n",
    "    f=feedparser.parse(feed)\n",
    "    for e in f.entries:\n",
    "      #print '\\n---------------------------'\n",
    "      if 'summary' in e.keys() and 'title' in e.keys():\n",
    "        text = stripHTML(e.description)\n",
    "        title = stripHTML(e.title)\n",
    "        rssfeeds = rssfeeds.append(pd.DataFrame({'title': title, 'text': text, 'source': feed}, index=[0]), ignore_index=True)\n",
    "print \"------------------------------------------------------\"\n",
    "print \"------------------------------------------------------\""
   ]
  },
  {
   "cell_type": "code",
   "execution_count": 18,
   "metadata": {},
   "outputs": [
    {
     "name": "stdout",
     "output_type": "stream",
     "text": [
      "                                                source  \\\n",
      "137  http://www.nytimes.com/services/xml/rss/nyt/Gl...   \n",
      "172  http://www.nytimes.com/services/xml/rss/nyt/Gl...   \n",
      "186          http://feeds.nytimes.com/nyt/rss/Business   \n",
      "227  http://www.nytimes.com/services/xml/rss/nyt/Wo...   \n",
      "233  http://www.nytimes.com/services/xml/rss/nyt/Wo...   \n",
      "\n",
      "                                                  text  \\\n",
      "137  Jared Kushner and his wife, Ivanka Trump, at t...   \n",
      "172  One of the popular new shows this past year wa...   \n",
      "186  The Sweatcoin app uses an algorithm to verify ...   \n",
      "227  Alan Walton, a dingo fence patrol officer, ove...   \n",
      "233  The Befana market in the Piazza Navona in Rome...   \n",
      "\n",
      "                                                 title  \n",
      "137  Kushner’s Financial Ties to Israel Deepen Even...  \n",
      "172  487 Original Programs Aired in 2017. Bet You D...  \n",
      "186  Can Sweatcoin, a Hot Fitness App, Keep You Off...  \n",
      "227  Coober Pedy Journal: Mending Fences in the War...  \n",
      "233  The Befana Market, a Beloved Roman Tradition, ...  \n"
     ]
    }
   ],
   "source": [
    "print rssfeeds.sample(5)"
   ]
  },
  {
   "cell_type": "markdown",
   "metadata": {},
   "source": [
    "## Anlegen der Artikel/Wort-Matrix\n",
    "\n",
    "### Die Funktion _getarticlewords()_\n",
    "Schreiben Sie eine Funktion _getarticlewords()_, die folgende Elemente zurückgibt:\n",
    "\n",
    "* _allwords:_ ist ein Dictionary dessen Keys die Worte aller gesammelten Artikel sind. Der zu jedem Key gehörende Wert ist die Anzahl, wie oft das Wort insgesamt vorkommt.\n",
    "* _articlewords:_ ist eine Liste mit so vielen Elementen wie Artikel in der Sammlung sind. Jedes Listenelement ist ein Dictionary, welches die Worte des jeweiligen Artikels als Key enthält und als Wert die Worthäufigkeit.\n",
    "* _articletitles_ ist eine Liste mit so vielen Elementen wie Artikel in der Sammlung sind. Jedes Element ist der Artikeltitel als String.\n",
    "\n",
    "Für das Parsing der Feeds soll wieder das Modul _feedparser_ eingesetzt werden. Die zu einer Nachricht gehörenden Wörter sollen die Wörter des Elements _title_ und die Wörter des Elements _description_ sein (siehe voriger Versuch). Allerdings sollen hier nicht alle Wörter eingebunden werden, sondern wie im vorigen Versuch eine Methode _getwords()_ implementiert werden, welche nur die _relevanten_ Wörter zurückgibt. Die Frage welche Wörter relevant sind ist nicht eindeutig beantwortbar. Sie können sich hierzu eigene Antworten einfallen lassen. Auf jeden Fall sollten aber die Stopwörter ignoriert werden. Hierzu kann z.B. die Stopwortliste von NLTK angewandt werden.\n",
    "\n",
    "Nachdem alle relevanten Wörter aller Nachrichten gesammelt sind, sollte eine weitere Bereinigung stattfinden, die \n",
    "\n",
    "* alle Wörter, die weniger als 4 mal vorkommen\n",
    "* alle Wörter, die in mehr als 30% aller Dokumente vorkommen\n",
    "\n",
    "entfernt. \n",
    "\n",
    "Durch dieses Herausfiltern nicht relevanter Wörter kann es vorkommen, dass einzelne Artikel keine relevanten Wörter mehr enthalten. Diese Artikel sollen dann ganz ignoriert werden. D.h. unter anderem, dass diese Artikel auch nicht in _articlewords_ und _articletitles_ erscheinen."
   ]
  },
  {
   "cell_type": "code",
   "execution_count": 59,
   "metadata": {},
   "outputs": [
    {
     "name": "stdout",
     "output_type": "stream",
     "text": [
      "2388\n",
      "{u'pardon': 2, u'four': 2, u'protest': 15, u'sleep': 1, u'asian': 1, u'upsid': 1, u'whose': 1, u'accus': 5, u'pedro': 1, u'tweet': 8, u'khuzami': 2, u'kidman': 1, u'under': 2, u'pride': 1, u'worth': 5, u'winfrey': 10, u'pact': 2, u'digit': 7, u'risk': 9, u'chancellor': 2, u'casam': 1, u'rise': 1, u'loom': 1, u'arous': 1, u'govern': 19, u'jacob': 1, u'appar': 1, u'emili': 2, u'school': 1, u'prize': 1, u'stun': 2, u'wednesday': 3, u'technolog': 3, u'1940s': 2, u'enjoy': 2, u'charter': 1, u'bill': 6, u'vladimir': 1, u'miller': 2, u'direct': 2, u'second': 4, u'street': 2, u'7th': 1, u'n': 1, u'even': 12, u'supervis': 1, u'brexit': 3, u'wreck': 1, u'panama': 1, u'asid': 1, u'asia': 1, u'conduct': 1, u'new': 54, u'net': 2, u'ever': 3, u'told': 2, u'ongo': 1, u'hero': 3, u'men': 6, u'richest': 5, u'here': 2, u'studio': 1, u'100': 1, u'interpret': 2, u'militari': 4, u'k': 2, u'credit': 3, u'harass': 3, u'karim': 1, u'smoke': 2, u'studi': 3, u'controversi': 2, u'joshua': 1, u'golden': 27, u'myanmar': 3, u'bru': 4, u'mitchel': 3, u'brought': 1, u'releas': 8, u'pyongyang': 1, u'total': 2, u'unit': 14, u'spoke': 2, u'would': 8, u'palestinian': 5, u'hanoi': 1, u'call': 16, u'calm': 3, u'rattl': 1, u'tell': 2, u'musk': 1, u'alphabet': 1, u'remark': 2, u'georgian': 1, u'relat': 1, u'award': 14, u'warn': 9, u'berlin': 2, u'grandfath': 1, u'90': 1, u'92': 3, u'tariff': 1, u'must': 2, u'1991': 1, u'ii': 1, u'join': 5, u'room': 1, u'flore': 2, u'work': 3, u'pierc': 1, u'wors': 1, u'era': 1, u'ms': 2, u'mr': 7, u'my': 2, u'shook': 2, u'vodka': 4, u'559': 2, u'climat': 2, u'give': 9, u'hardlin': 2, u'india': 7, u'coalit': 4, u'caution': 1, u'want': 6, u'artilleri': 1, u'uae': 1, u'airstrik': 2, u'motion': 1, u'end': 11, u'turn': 2, u'polic': 5, u'travel': 8, u'gillan': 1, u'ceremoni': 2, u'how': 12, u'hot': 6, u'shred': 1, u'interview': 8, u'gate': 1, u'negoti': 2, u'beach': 3, u'polit': 7, u'elizabeth': 1, u'disson': 2, u'less': 5, u'chines': 5, u'after': 11, u'substanc': 1, u'lab': 2, u'befor': 3, u'lay': 1, u'refug': 1, u'demonstr': 3, u'las': 1, u'attempt': 1, u'third': 1, u'amid': 1, u'greet': 1, u'childhood': 1, u'detent': 2, u'perform': 2, u'enter': 1, u'exclus': 1, u'worst': 2, u'harlem': 1, u'order': 5, u'wine': 1, u'oper': 2, u'offici': 13, u'orang': 1, u'becaus': 1, u'carnag': 2, u'london': 6, u'affect': 1, u'japan': 5, u'jersey': 4, u'fit': 2, u'benign': 1, u'fix': 4, u'crew': 9, u'better': 3, u'damascus': 1, u'offic': 6, u'then': 1, u'them': 2, u'anim': 1, u'tourist': 1, u'break': 9, u'nobel': 1, u'bang': 1, u'promis': 2, u'ramaphosa': 1, u'they': 2, u'bank': 8, u'bread': 1, u'secretari': 2, u'philharmon': 2, u'victori': 1, u'dingo': 2, u'debut': 1, u'l': 2, u'detroit': 1, u'memphi': 1, u'went': 3, u'european': 2, u'side': 1, u'40x': 1, u'dous': 1, u'colleagu': 2, u'sled': 2, u'combust': 1, u'raid': 4, u'dawn': 1, u'commiss': 2, u'saturday': 7, u'goo': 2, u'kiev': 1, u'oprah': 13, u'maduro': 6, u'palac': 3, u'ware': 1, u'venezuela': 8, u'gop': 1, u'barrier': 5, u'free': 1, u'jennif': 1, u'district': 1, u'puzzl': 1, u'antigovern': 2, u'renew': 1, u'ish': 1, u'iphon': 1, u'nigel': 1, u'wasp': 1, u'magico': 1, u'independ': 1, u'wast': 2, u'alreadi': 3, u'sober': 1, u'agre': 1, u'primari': 1, u'lego': 1, u'top': 2, u'too': 2, u'hollywood': 2, u'john': 1, u'bitter': 4, u'toe': 2, u'consol': 1, u'took': 4, u'chairwoman': 1, u'conserv': 5, u'toronto': 3, u'past': 3, u'target': 3, u'pamplona': 1, u'penalti': 1, u'provid': 1, u'hike': 1, u'tree': 2, u'shower': 1, u'matter': 3, u'flame': 2, u'minus': 1, u'etihad': 2, u'modern': 1, u'mine': 1, u'seem': 1, u'dozen': 2, u'strength': 1, u'especi': 1, u'snow': 2, u'rome': 3, u'hatch': 1, u'panmunjom': 1, u'rider': 1, u'subpoena': 1, u'insur': 1, u'though': 2, u'bruce': 3, u'object': 1, u'dialogu': 1, u'marin': 2, u'letter': 1, u'everyth': 1, u'tradit': 4, u'blacklist': 3, u'don': 4, u'alarm': 1, u'camp': 7, u'm': 2, u'dog': 1, u'doe': 4, u'declar': 1, u'tech': 5, u'hospic': 1, u'dow': 2, u'marvel': 1, u'bomb': 2, u'opposit': 7, u'queen': 2, u'advisori': 1, u'shelv': 3, u'earth': 2, u'involv': 1, u'sugar': 2, u'busi': 10, u'rich': 2, u'mend': 1, u'11': 6, u'watch': 4, u'coast': 8, u'fetish': 1, u'report': 12, u'du': 1, u'youtub': 1, u'calest': 2, u'earn': 1, u'pearson': 1, u'bar': 1, u'obsequi': 1, u'bag': 1, u'bad': 1, u'troop': 2, u'18': 1, u'ban': 3, u'bashar': 1, u'steam': 2, u'respond': 1, u'fair': 1, u'habit': 1, u'beschler': 1, u'liquor': 2, u'scourg': 1, u'result': 1, u'respons': 2, u'fail': 1, u'christian': 1, u'best': 6, u'subject': 1, u'brazil': 1, u'awar': 1, u'said': 26, u'07': 1, u'away': 8, u'irn': 4, u'attribut': 1, u'we': 5, u'never': 1, u'mikheil': 2, u'wa': 2, u'weak': 1, u'boss': 1, u'weav': 1, u'devour': 1, u'wear': 1, u'news': 7, u'protect': 3, u'easi': 3, u'veer': 1, u'disdain': 1, u'howev': 1, u'against': 1, u'russia': 3, u'china': 18, u'matrimoni': 1, u'prospect': 1, u'widen': 1, u'karen': 1, u'cyclon': 1, u'trust': 1, u'speak': 1, u'union': 1, u'three': 7, u'specul': 1, u'revenu': 1, u'much': 1, u'beet': 1, u'trickeri': 1, u'interest': 2, u'monologu': 1, u'm\\xe1gico': 1, u'life': 2, u'90th': 1, u'regul': 2, u'eastern': 5, u'endur': 1, u'worker': 1, u'search': 2, u'anywher': 2, u'169': 1, u'child': 6, u'catch': 3, u'deepen': 2, u'chux': 1, u'physician': 1, u'east': 6, u'mogul': 1, u'servic': 12, u'commerci': 2, u'air': 8, u'aim': 3, u'ail': 1, u'near': 12, u'marriag': 1, u'occas': 1, u'aid': 6, u'anchor': 1, u'mexico': 5, u'is': 18, u'it': 22, u'sting': 1, u'separatist': 2, u'io': 1, u'in': 15, u'sever': 1, u'if': 3, u'inventori': 1, u'jame': 1, u'receiv': 3, u'suggest': 3, u'make': 8, u'format': 1, u'complex': 1, u'jungl': 1, u'monarch': 1, u'complet': 2, u'wheel': 2, u'hamoud': 1, u'awardscast': 1, u'kushner': 8, u'swell': 1, u'social': 2, u'rain': 1, u'suburb': 1, u'rais': 5, u'kim': 8, u'kid': 2, u'redefin': 1, u'kept': 1, u'piazza': 3, u'loughlin': 1, u'contact': 1, u'greatest': 1, u'monaco': 1, u'the': 88, u'legisl': 2, u'left': 6, u'identifi': 1, u'coutur': 1, u'just': 4, u'photo': 2, u'yet': 4, u'languag': 2, u'previous': 1, u'adelaid': 1, u'campaign': 1, u'expos': 1, u'royal': 2, u'spread': 1, u'prison': 6, u'has': 9, u'gave': 2, u'opt': 1, u'donat': 1, u'vaniti': 1, u'arab': 7, u'rahman': 1, u'birth': 2, u'korean': 4, u'measur': 3, u'50': 1, u'night': 6, u'attorney': 5, u'right': 6, u'old': 6, u'deal': 3, u'surg': 1, u'crown': 1, u'dead': 7, u'resolv': 1, u'malaysia': 1, u'donald': 14, u'billboard': 4, u'befana': 6, u'ici': 1, u'cooper': 1, u'for': 3, u'jos\\xe9': 2, u'ice': 2, u'cnn': 11, u'holiday': 1, u'stefan': 1, u'buri': 1, u'confer': 3, u'discount': 2, u'corp': 1, u'zigzag': 1, u'post': 4, u'meyer': 4, u'mcelduff': 1, u'o': 2, u'festiv': 1, u'visa': 4, u'dilip': 1, u'chrysler': 1, u'produc': 2, u'bannon': 17, u'javad': 1, u'crescendo': 1, u'civil': 1, u'regist': 1, u'mocha': 1, u'down': 1, u'creativ': 1, u'crowd': 1, u'quirki': 1, u'support': 4, u'transform': 1, u'nova': 2, u'fight': 3, u'anderson': 2, u'fought': 1, u'editor': 3, u'way': 1, u'music': 1, u'was': 4, u'war': 8, u'asset': 1, u'head': 3, u'form': 3, u'offer': 4, u'forc': 2, u'ford': 2, u'dealbook': 2, u'heat': 2, u'hear': 1, u'refriger': 1, u'analyst': 2, u'revel': 1, u'prowl': 1, u'emir': 3, u'retir': 2, u'150': 1, u'basilica': 1, u'featur': 3, u'alongsid': 1, u'peruvian': 2, u'israel': 16, u'sale': 5, u'elon': 1, u'ship': 5, u'face': 6, u'trip': 4, u'pre': 1, u'floor': 1, u'stake': 3, u'when': 9, u'flood': 6, u'jong': 6, u'communic': 1, u'jone': 1, u'test': 2, u'tie': 2, u'appetit': 1, u'roll': 2, u'holt': 1, u'faction': 1, u'cybersecur': 1, u'deton': 1, u'walton': 1, u'intent': 1, u'consid': 3, u'miranda': 2, u'detox': 1, u'weekend': 1, u'billion': 3, u'younger': 1, u'shootout': 1, u'potato': 1, u'gorilla': 2, u'loyal': 1, u'vietnam': 2, u'time': 18, u'push': 5, u'serious': 1, u'daili': 1, u'gown': 1, u'chain': 2, u'global': 4, u'focus': 2, u'roy': 2, u'signific': 1, u'mile': 1, u'milk': 1, u'row': 1, u'ballet': 2, u'safaei': 1, u'zone': 3, u'father': 1, u'environment': 2, u'decis': 1, u'editori': 1, u'170m': 1, u'southwest': 2, u'sourc': 1, u'string': 1, u'minist': 2, u'starbuck': 4, u'dodg': 1, u'catalonia': 1, u'metoo': 4, u'hour': 5, u'administr': 1, u'level': 1, u'die': 3, u'democrat': 2, u'brothel': 1, u'subway': 1, u'team': 1, u'guy': 1, u'steepli': 1, u'regret': 1, u'tougher': 2, u'sign': 4, u'cost': 2, u'pedi': 2, u'fear': 2, u'currenc': 1, u'melt': 2, u'penc': 2, u'current': 1, u'wolff': 6, u'appeal': 2, u'boost': 3, u'burn': 3, u'makeup': 1, u'french': 1, u'okinawa': 1, u'water': 6, u'address': 3, u'cyril': 1, u'along': 1, u'wait': 2, u'buck': 1, u'male': 1, u'shift': 3, u'trial': 2, u'healthi': 4, u'boe': 2, u'taipei': 1, u'promot': 4, u'winner': 2, u'elect': 2, u'loosen': 1, u'leav': 6, u'instal': 2, u'fbi': 1, u'mobik': 3, u'market': 11, u'red': 7, u'manufactur': 3, u'seneg': 1, u'perk': 1, u'tillerson': 4, u'univers': 1, u'visit': 3, u'angela': 2, u'abroad': 2, u'live': 2, u'peru': 2, u'australian': 2, u'today': 3, u'capit': 4, u'club': 1, u'peopl': 12, u'ventur': 2, u'inhabit': 1, u'tokyo': 1, u'car': 9, u'prepar': 1, u'judg': 1, u'fli': 2, u'vega': 1, u'can': 7, u'walsh': 1, u'claim': 5, u'underestim': 1, u'trump': 50, u'stream': 1, u'predict': 2, u'chip': 5, u'agent': 1, u'heard': 1, u'critic': 6, u'council': 1, u'agenc': 3, u'spd': 1, u'clair': 1, u'multipl': 1, u'winter': 6, u'attract': 2, u'brand': 1, u'economi': 7, u'1': 11, u'sunday': 23, u'anyon': 2, u'banker': 1, u'map': 1, u'product': 4, u'145': 1, u'horizon': 1, u'cocktail': 1, u'may': 9, u'fed': 7, u'southern': 3, u'mac': 1, u'birthday': 3, u'date': 1, u'man': 2, u'unsettl': 1, u'johnson': 2, u'brussel': 1, u'secur': 12, u'favorit': 2, u'tale': 4, u'inform': 2, u'switch': 1, u'jail': 1, u'jain': 1, u'african': 3, u'hassan': 2, u'talk': 9, u'offenc': 1, u'anticip': 1, u'graduat': 1, u'coli': 4, u'cold': 4, u'still': 4, u'overhaul': 1, u'monitor': 2, u'polici': 2, u'torn': 1, u'precondit': 1, u'suspicion': 2, u'farmer': 2, u'mediocr': 1, u'main': 6, u'ascrib': 1, u'recal': 3, u'estat': 1, u'financi': 7, u'menora': 2, u'beij': 5, u'nation': 8, u'answer': 1, u'half': 4, u'not': 2, u'now': 3, u'twilight': 1, u'hall': 4, u'malnutrit': 2, u'term': 1, u'plung': 1, u'entrepreneur': 1, u'toyoda': 4, u'hancock': 1, u'didn': 3, u'separ': 2, u'stockholm': 1, u'denmark': 1, u'januari': 1, u'collud': 1, u'ed': 6, u'individu': 3, u'wrestl': 4, u'eb': 1, u'collus': 1, u'ex': 2, u'year': 38, u'eu': 2, u'girl': 1, u'dispos': 2, u'scottish': 2, u'canada': 4, u'jackson': 1, u'stitch': 1, u'space': 3, u'profit': 1, u'profil': 1, u'pamela': 1, u'internet': 2, u'formula': 1, u'correct': 1, u'earlier': 1, u'million': 11, u'hulu': 2, u'ontario': 1, u'california': 1, u'rebel': 5, u'card': 2, u'care': 3, u'chevi': 2, u'frequenc': 1, u'outcri': 1, u'british': 2, u'recov': 2, u'thing': 2, u'place': 3, u'aboard': 2, u'oeschinen': 2, u'trailblaz': 1, u'nicknam': 1, u'think': 3, u'first': 8, u'origin': 3, u'carri': 3, u'question': 2, u'potter': 1, u'one': 31, u'suspens': 2, u'long': 4, u'spanish': 1, u'oppos': 2, u'tame': 2, u'open': 17, u'sheep': 1, u'given': 1, u'christma': 2, u'fieri': 2, u'caught': 2, u'slept': 1, u'traction': 1, u'citi': 7, u'silenc': 1, u'2': 4, u'averag': 1, u'circl': 2, u'white': 15, u'friend': 4, u'a': 32, u'starfish': 2, u'that': 6, u'season': 2, u'navona': 3, u'alan': 1, u'broadcast': 2, u'hartford': 1, u'tehran': 4, u'than': 1, u'inventor': 1, u'serv': 1, u'10': 3, u'13': 4, u'15': 1, u'17': 4, u'19': 1, u'rival': 4, u'midtown': 1, u'r': 1, u'were': 2, u'posit': 1, u'crackl': 1, u'parnassus': 1, u'seri': 2, u'and': 2, u'angel': 1, u'anc': 2, u'pro': 2, u'premier': 1, u'marijuana': 2, u'ghouta': 5, u'zuma': 2, u'say': 23, u'slam': 1, u'deliv': 2, u'anger': 3, u'windsor': 2, u'engin': 1, u'squar': 2, u'take': 10, u'advis': 6, u'destroy': 2, u'channel': 2, u'200': 1, u'begin': 1, u'sure': 1, u'track': 2, u'price': 5, u'paid': 3, u'plagu': 1, u'assault': 1, u'abus': 2, u'pair': 1, u'librarian': 1, u'america': 4, u'rescu': 10, u'drive': 4, u'mrs': 1, u'paytm': 6, u'senior': 3, u'salt': 2, u'shop': 3, u'shot': 1, u'show': 12, u'german': 3, u'russian': 5, u'kalanick': 2, u'label': 4, u'ground': 3, u'slow': 1, u'ratio': 1, u'fenc': 2, u'treasuri': 1, u'pump': 3, u'crime': 3, u'debunk': 1, u'black': 3, u'over': 8, u'sensate': 1, u'get': 10, u'maidenhead': 1, u'merkel': 2, u'patriot': 1, u'cannot': 2, u'requir': 1, u'prime': 3, u'reveal': 3, u'kingsmil': 1, u'malaysian': 1, u'lenfest': 1, u'scientist': 2, u'roger': 1, u'16th': 1, u'husband': 1, u'lyft': 1, u'concert': 1, u'keyboard': 1, u'seat': 1, u'concern': 1, u'televis': 2, u'innov': 1, u'review': 1, u'forecast': 1, u'3': 14, u'bureau': 1, u'between': 2, u'bedtim': 3, u'across': 8, u'august': 1, u'parent': 2, u'latt': 4, u'jr': 4, u'maggior': 1, u'tacit': 2, u'spark': 2, u'come': 5, u'jfk': 5, u'reaction': 1, u'region': 4, u'rippl': 1, u'quiet': 2, u'tour': 1, u'columnist': 2, u'aura': 1, u'newfound': 1, u'mani': 6, u'among': 8, u'cancer': 6, u'color': 3, u'pot': 1, u'period': 2, u'insist': 3, u'64': 1, u'cancel': 3, u'cura\\xe7ao': 3, u'mummifi': 2, u'stretch': 1, u'west': 1, u'suicid': 2, u'mark': 1, u'breath': 1, u'tesla': 1, u'leadership': 1, u'barri': 1, u'500': 1, u'6b': 1, u'diesel': 2, u'resolut': 2, u'squash': 1, u'tiger': 1, u'aviat': 3, u'former': 13, u'case': 2, u'paton': 1, u'scath': 1, u'amend': 1, u'might': 1, u'mount': 2, u'cash': 7, u'trick': 1, u'cast': 1, u'joke': 4, u'strait': 2, u'destin': 1, u'furi': 4, u'sudden': 1, u'outrag': 1, u'nicol\\xe1': 3, u'pursu': 1, u'fastest': 1, u'helmet': 1, u'develop': 2, u'harsh': 1, u'author': 9, u'pay': 5, u'sunggi': 1, u'econom': 6, u'check': 2, u'speech': 4, u'yangon': 4, u'pai': 1, u'week': 12, u'jeffrey': 1, u'putin': 2, u'driver': 3, u'companion': 1, u'director': 1, u'capabl': 1, u'drain': 2, u'theater': 2, u'pennsylvania': 1, u'no': 2, u'justifi': 2, u'hustl': 1, u'without': 3, u'relief': 4, u'gain': 5, u'model': 2, u'buddhist': 2, u'wartim': 1, u'outdoor': 2, u'execut': 3, u'pakistan': 1, u'money': 7, u'rest': 1, u'kill': 7, u'touch': 2, u'halfway': 2, u'alarmist': 1, u'death': 8, u'europ': 1, u'parad': 1, u'littl': 3, u'dodson': 1, u'pile': 1, u'4': 3, u'irrespons': 2, u'notori': 1, u'role': 3, u'disrupt': 1, u'ross': 1, u'real': 2, u'hover': 1, u'around': 7, u'shuafat': 2, u'read': 2, u'mop': 2, u'ladi': 1, u'unveil': 2, u'dark': 1, u'temperatur': 2, u'traffic': 4, u'mom': 1, u'world': 18, u'grim': 1, u'intel': 2, u'manhattan': 2, u't': 1, u'kennedi': 4, u'manag': 3, u'sharehold': 1, u'constitut': 1, u'1858': 1, u'freez': 2, u'prosecutor': 1, u'caribbean': 3, u'confirm': 1, u'exil': 1, u'legal': 3, u'pioneer': 1, u'moor': 4, u'exit': 1, u'squabbl': 3, u'freed': 1, u'westinghous': 1, u'power': 10, u'broker': 1, u'volkswagen': 1, u'tiangong': 2, u'1937': 1, u'restiv': 2, u'on': 4, u'ok': 2, u'nafta': 2, u'island': 8, u'drag': 1, u'fein': 1, u'tumor': 1, u'stanc': 1, u'stand': 1, u'neighbor': 3, u'act': 3, u'industri': 5, u'mean': 1, u'road': 6, u'op': 6, u'amber': 1, u'routin': 1, u'effici': 1, u'bbc': 7, u'homeless': 2, u'nurs': 2, u'airlin': 8, u'your': 5, u'her': 3, u'area': 6, u'there': 4, u'philadelphia': 3, u'start': 6, u'stealth': 2, u'low': 2, u'brazilian': 1, u'truck': 3, u'media': 4, u'bottl': 8, u'enough': 3, u'conclud': 1, u'femal': 4, u'amplifi': 1, u'asbesto': 1, u'mich': 1, u'fighter': 1, u'with': 13, u'conclus': 1, u'pull': 2, u'rush': 2, u'possibl': 1, u'ra\\xfal': 2, u'expect': 6, u'ad': 3, u'creat': 3, u'al': 1, u'general': 5, u'britain': 6, u'at': 5, u'file': 2, u'cultur': 1, u'syrian': 7, u'film': 4, u'again': 2, u'collid': 4, u'googl': 2, u'orrin': 1, u'5': 5, u'you': 15, u'architectur': 1, u'poor': 1, u'polar': 1, u'championship': 1, u'congress': 1, u'symbol': 3, u'chris': 2, u'peac': 4, u'reduc': 2, u'2009': 1, u'wife': 2, u'invest': 5, u'thorn': 1, u'rutger': 1, u'barcelona': 3, u'u': 35, u'potenti': 2, u'missouri': 2, u'all': 4, u'founder': 4, u'ali': 1, u'riedel': 1, u'lack': 3, u'dollar': 1, u'demill': 2, u'ala': 2, u'unrest': 1, u'abil': 1, u'follow': 2, u'alt': 1, u'settlement': 1, u'children': 3, u'alp': 2, u'carpet': 7, u'overcharg': 1, u'tv': 1, u'thursday': 5, u'to': 1, u'program': 8, u'spain': 2, u'alberto': 2, u'health': 2, u'scrutini': 1, u'norm': 1, u'celebr': 4, u'diari': 1, u'egyptian': 2, u'faw': 2, u'rouhani': 4, u'candid': 4, u'fan': 2, u'fall': 5, u'veri': 1, u'ticket': 2, u'strand': 2, u'steve': 6, u'humira': 1, u'harri': 1, u'strategist': 3, u'list': 3, u'laud': 1, u'saudi': 6, u'sana': 1, u'small': 2, u'neighborhood': 1, u'underfil': 2, u'tex': 1, u'rate': 6, u'pressur': 3, u'pass': 1, u'what': 7, u'sub': 1, u'maritim': 1, u'section': 2, u'brief': 6, u'crush': 1, u'jedi': 1, u'version': 1, u'microchip': 1, u'public': 7, u'movement': 1, u'full': 1, u'iran': 8, u'pacif': 2, u'goodby': 1, u'strong': 5, u'backlash': 2, u'valu': 2, u'900': 1, u'ahead': 2, u'miseri': 2, u'tamblyn': 1, u'brutal': 1, u'soldier': 1, u'airport': 9, u'pick': 1, u'action': 1, u'intern': 7, u'depart': 2, u'bombshel': 1, u'declin': 2, u'lawrenc': 2, u'transit': 1, u'africa': 3, u'ask': 3, u'voyag': 1, u'famili': 7, u'sanction': 2, u'gunmen': 2, u'abdel': 1, u'aggress': 1, u'eye': 4, u'injuri': 1, u'tackl': 2, u'two': 10, u'coverag': 1, u'morn': 2, u'6': 1, u'taken': 2, u'more': 11, u'teen': 1, u'flaw': 5, u'hundr': 2, u'site': 2, u'flag': 1, u'dior': 1, u'known': 3, u'compani': 14, u'saharan': 1, u'town': 3, u'eden': 3, u'hous': 17, u'histori': 2, u'remain': 5, u'nine': 1, u'learn': 1, u'dec': 2, u'oilfield': 2, u'explod': 3, u'prompt': 1, u'747': 1, u'pont': 1, u'challeng': 5, u'share': 8, u'accept': 6, u'boycott': 5, u'niagara': 1, u'explor': 2, u'explos': 8, u'pond': 4, u'robinson': 1, u'condemn': 2, u'huge': 3, u'court': 3, u'goal': 3, u'awkward': 1, u'divid': 1, u'anoth': 5, u'comfort': 3, u'unilater': 1, u'divis': 1, u'johannesburg': 1, u'larsen': 1, u'cling': 3, u'stir': 2, u'idaho': 1, u'perman': 1, u'plant': 4, u'seoul': 3, u'breitbart': 4, u'blood': 1, u'associ': 2, u'backstag': 1, u'short': 4, u'coax': 3, u'coutinho': 1, u'caus': 5, u'coal': 1, u'cigarett': 2, u'dream': 1, u'began': 2, u'infant': 1, u'129th': 1, u'mexican': 2, u'help': 8, u'emmanuel': 1, u'bonair': 3, u'trade': 4, u'held': 6, u'paper': 2, u'scott': 1, u'hell': 1, u'suffer': 1, u'25': 4, u'26': 1, u'20': 4, u'22': 1, u'pray': 4, u'28': 1, u'alli': 1, u'late': 1, u'resort': 1, u'balukhali': 1, u'disus': 1, u'stephen': 4, u'senat': 3, u'tri': 8, u'good': 3, u'return': 3, u'food': 1, u'sentenc': 2, u'ukrain': 1, u'imperil': 3, u'ces': 1, u'frigid': 1, u'foot': 3, u'bless': 1, u'eleanor': 1, u'fujimori': 5, u'found': 10, u'eyelash': 1, u'hard': 5, u'haley': 4, u'tighten': 2, u'realli': 6, u'heavi': 1, u'oil': 16, u'connect': 1, u'todd': 1, u'beyond': 4, u'event': 1, u'massiv': 1, u'safeti': 2, u'alcohol': 3, u'robert': 2, u'research': 2, u'sustain': 1, u'7': 1, u'absorb': 1, u'highway': 1, u'extraordinari': 1, u'friday': 10, u'base': 1, u'believ': 1, u'airway': 1, u'put': 6, u'teach': 1, u'heroic': 1, u'launch': 3, u'so': 1, u'american': 13, u'businessmen': 1, u'threat': 2, u'rainforest': 2, u'oslo': 1, u'syria': 2, u'fallen': 1, u'feed': 1, u'major': 2, u'purport': 1, u'feel': 2, u'exchang': 2, u'number': 3, u'feet': 2, u'sailor': 1, u'pablo': 1, u'stabl': 5, u'miss': 4, u'koo': 1, u'least': 5, u'checkpoint': 2, u'paint': 2, u'stori': 1, u'station': 5, u'saint': 1, u'illeg': 2, u'scheme': 1, u'store': 3, u'storm': 3, u'behind': 4, u'month': 8, u'hotel': 4, u'park': 1, u'pari': 1, u'graci': 4, u'part': 8, u'jordan': 1, u'policymak': 1, u'king': 2, u'kind': 1, u'b': 2, u'iranian': 8, u'remov': 2, u'2020': 3, u'tuysuz': 1, u'comput': 3, u'deleg': 1, u'seth': 4, u'meltdown': 2, u'option': 2, u'sell': 4, u'lie': 3, u'self': 6, u'violat': 2, u'scotland': 2, u'couch': 2, u'also': 2, u'build': 2, u'brace': 1, u'tatsuro': 4, u'play': 2, u'distribut': 1, u'serena': 1, u'choos': 1, u'reach': 3, u'react': 1, u'yawn': 1, u'75': 3, u'plan': 13, u'suitcas': 1, u'charg': 6, u'clear': 3, u'humanitarian': 1, u'salari': 2, u'coober': 2, u'latest': 2, u'standoff': 1, u'golf': 1, u'asphalt': 2, u'humil': 1, u'midwestern': 1, u'session': 4, u'freight': 1, u'reput': 1, u'aokigahara': 1, u'ambit': 1, u'equiti': 1, u'writer': 1, u'solut': 1, u'8': 1, u'discuss': 2, u'his': 5, u'hit': 1, u'express': 1, u'intensifi': 2, u'actress': 3, u'compass': 1, u'emira': 1, u'banner': 1, u'him': 1, u'silo': 1, u'tumult': 1, u'singapor': 1, u'common': 2, u'switzerland': 2, u'x': 1, u'ivanka': 2, u'tanker': 13, u'snowstorm': 1, u'wrote': 1, u'319': 2, u'set': 3, u'art': 2, u'matteo': 1, u'startup': 1, u'potent': 1, u'sex': 1, u'see': 2, u'are': 9, u'sea': 4, u'close': 5, u'unqualifi': 1, u'project': 6, u'saakashvili': 3, u'pickup': 2, u'smallest': 1, u'woe': 1, u'hold': 5, u'experi': 4, u'altern': 2, u'korea': 13, u's': 39, u'sold': 1, u'outfit': 1, u'pagoda': 2, u'aircraft': 1, u'bodi': 8, u'c': 1, u'last': 21, u'opal': 1, u'annual': 1, u'alon': 1, u'grudg': 1, u'foreign': 2, u'roman': 3, u'blaze': 2, u'monday': 16, u'loaf': 1, u'point': 2, u'lake': 5, u'hwasong': 1, u'dancer': 2, u'shutdown': 3, u'church': 1, u'vessel': 1, u'communiti': 1, u'yukon': 4, u'ravag': 1, u'overlook': 1, u'devic': 1, u'secret': 5, u'pa': 1, u'threaten': 5, u'nicol': 1, u'napl': 1, u'woke': 2, u'pm': 1, u'firm': 7, u'flight': 7, u'champion': 1, u'fire': 14, u'gas': 4, u'convert': 2, u'gap': 3, u'fund': 3, u'demand': 1, u'milit': 1, u'stolen': 4, u'politician': 1, u'look': 4, u'frozen': 7, u'ski': 3, u'tip': 2, u'budget': 1, u'rope': 1, u'smart': 3, u'error': 1, u'fleet': 1, u'skier': 1, u'kingdom': 1, u'readi': 1, u'centr': 1, u'jake': 3, u'centuri': 1, u'tribesmen': 1, u'rig': 2, u'rid': 1, u'anniversari': 2, u'itali': 1, u'grand': 1, u'ray': 1, u'conflict': 1, u'higher': 1, u'mountain': 2, u'inflat': 2, u'moment': 2, u'000': 5, u'temporari': 1, u'user': 6, u'cryptocurr': 1, u'horvath': 1, u'recent': 9, u'lower': 1, u'cellphon': 3, u'savvi': 1, u'poland': 1, u'pickl': 1, u'person': 4, u'expens': 1, u'withdraw': 2, u'swiss': 1, u'yemen': 2, u'bront\\xeb': 4, u'propos': 3, u'ambassador': 2, u'shape': 1, u'patel': 1, u'taiwan': 4, u'cut': 14, u'cup': 6, u'nikki': 3, u'sydney': 2, u'snap': 1, u'jerom': 1, u'chairman': 1, u'australia': 7, u'march': 1, u'transpar': 1, u'big': 6, u'bid': 3, u'allenbrook': 1, u'fremont': 2, u'ipo': 1, u'catalan': 1, u'game': 2, u'75th': 1, u'd': 1, u'signal': 1, u'toyota': 4, u'rehabilit': 1, u'consensus': 3, u'arthur': 3, u'bahar': 1, u'baggag': 1, u'popular': 5, u'love': 1, u'voraci': 1, u'often': 2, u'spring': 3, u'some': 6, u'back': 7, u'scientif': 1, u'mideast': 2, u'aligarh': 3, u'germani': 1, u'surpris': 1, u'torbjorn': 2, u'be': 9, u'run': 1, u'grotesqu': 1, u'word': 1, u'lose': 7, u'agreement': 5, u'step': 6, u'elixir': 1, u'santo': 2, u'by': 2, u'faith': 2, u'cautious': 1, u'most': 2, u'brooklyn': 1, u'drama': 2, u'ariel': 1, u'ambush': 1, u'gujarat': 1, u'block': 2, u'72': 3, u'ahm': 1, u'into': 1, u'within': 2, u'savag': 1, u'ayatollah': 1, u'caf\\xe9': 2, u'contributor': 3, u'announc': 1, u'forth': 1, u'institut': 2, u'bangladesh': 2, u'wildfir': 1, u'lone': 2, u'fast': 1, u'custom': 1, u'crackdown': 1, u'includ': 5, u'suit': 1, u'advoc': 2, u'jewish': 1, u'subsidiari': 1, u'khamenei': 1, u'cloth': 1, u'link': 4, u'reef': 3, u'goosebump': 1, u'line': 4, u'isra': 2, u'guaran\\xed': 2, u'plaudit': 1, u'up': 1, u'us': 9, u'ul': 1, u'un': 8, u'yellen': 1, u'uk': 1, u'highlight': 3, u'similar': 2, u'uber': 5, u'aerial': 2, u'nationalist': 1, u'ralli': 3, u'chao': 1, u'lectur': 1, u'cure': 2, u'home': 8, u'hospit': 3, u'pronounc': 1, u'titl': 2, u'nick': 1, u'swirl': 1, u'freighter': 2, u'absentia': 2, u'draw': 2, u'missil': 2, u'william': 3, u'quetta': 1, u'ago': 2, u'land': 2, u'e': 5, u'algorithm': 2, u'vice': 1, u'age': 6, u'feud': 1, u'2003': 1, u'2004': 1, u'2008': 2, u'200th': 1, u'rescuer': 4, u'csaba': 1, u'partial': 1, u'edg': 2, u'soften': 1, u'dwayn': 1, u'go': 6, u'simon': 2, u'shanghai': 2, u'young': 1, u'dealership': 1, u'becam': 5, u'visitor': 2, u'sens': 1, u'airplan': 1, u'sweatcoin': 8, u'electron': 1, u'disast': 1, u'assad': 2, u'wipe': 1, u'recip': 2, u'magic': 1, u'carmak': 1, u'gender': 3, u'button': 1, u'shock': 1, u'michael': 5, u'eve': 1, u'fewer': 2, u'race': 2, u'marri': 1, u'maysaloun': 1, u'juma': 2, u'8230': 1, u'riyadh': 2, u'battl': 1, u'mediterranean': 1, u'mishap': 1, u'jump': 1, u'helicopt': 2, u'video': 4, u'copenhagen': 2, u'cartel': 2, u'carlo': 2, u'ode': 1, u'index': 1, u'avalanch': 1, u'houthi': 1, u'evacu': 1, u'profan': 1, u'indian': 3, u'bds': 1, u'bird': 1, u'impact': 2, u'led': 8, u'shafik': 1, u'punch': 1, u'sinn': 1, u'les': 1, u'let': 2, u'sink': 1, u'safer': 3, u'becom': 3, u'sinc': 6, u'great': 2, u'ajit': 1, u'33': 2, u'32': 4, u'31': 2, u'30': 2, u'vacat': 1, u'34': 1, u'rohingya': 3, u'edgewat': 1, u'earli': 1, u'opinion': 5, u'chang': 5, u'chanc': 1, u'egypt': 1, u'win': 3, u'app': 9, u'inequ': 1, u'presidenti': 2, u'motor': 5, u'deputi': 1, u'scandal': 1, u'lima': 2, u'use': 8, u'fee': 2, u'from': 7, u'doubl': 1, u'next': 2, u'uss': 1, u'ministeri': 1, u'parliament': 1, u'babi': 2, u'about': 5, u'nascar': 1, u'central': 1, u'gambl': 1, u'nypd': 1, u'olymp': 2, u'women': 7, u'account': 3, u'f': 3, u'this': 5, u'ride': 1, u'trilobit': 1, u'drill': 1, u'meet': 8, u'control': 2, u'patrol': 2, u'do': 1, u'process': 1, u'tax': 8, u'high': 13, u'sought': 1, u'rape': 1, u'manish': 1, u'sit': 2, u'overse': 1, u'reuter': 34, u'degre': 2, u'delay': 6, u'brian': 1, u'carrier': 1, u'forest': 1, u'instead': 1, u'mccoy': 2, u'stock': 6, u'job': 4, u'stop': 1, u'payrol': 1, u'scammel': 1, u'notebook': 2, u'attent': 1, u'farr': 1, u'domenico': 1, u'villag': 2, u'drape': 2, u'orchestr': 1, u'kelli': 1, u'agricultur': 2, u'light': 2, u'arduous': 1, u'liner': 1, u'issu': 3, u'scoop': 1, u'chief': 6, u'allow': 6, u'minivan': 1, u'furious': 1, u'longest': 1, u'houston': 1, u'movi': 1, u'move': 5, u'swain': 1, u'fizzl': 1, u'fizzi': 2, u'iguana': 1, u'monarchist': 1, u'write': 1, u'outer': 1, u'nostalgia': 1, u'marsh': 1, u'2018': 15, u'2014': 2, u'2017': 6, u'dustin': 1, u'2011': 1, u'2010': 2, u'2013': 2, u'2012': 1, u'crash': 1, u'auto': 2, u'spell': 2, u'strateg': 1, u'tribut': 1, u'toshiba': 1, u'republican': 2, u'investor': 1, u'fled': 1, u'nfl': 1, u'trap': 1, u'disregard': 1, u'modi': 2, u'rodland': 2, u'societi': 2, u'intellig': 3, u'globe': 28, u'consum': 3, u'88': 2, u'statin': 2, u'patch': 3, u'sexual': 3, u'87': 2, u'special': 2, u'out': 1, u'rex': 2, u'jerusalem': 7, u'gamechang': 1, u'enemi': 1, u'influenc': 2, u'defend': 3, u'repress': 1, u'activist': 2, u'amphibi': 1, u'romain': 4, u'calif': 2, u'pruitt': 1, u'34th': 1, u'counterpart': 2, u'franc': 1, u'shut': 1, u'insid': 3, u'regulatori': 1, u'spot': 1, u'saud': 1, u'invad': 1, u'york': 20, u'invas': 1, u'philip': 1, u'river': 1, u'takata': 2, u'g': 2, u'could': 6, u'pictur': 3, u'florida': 1, u'levi': 2, u'david': 3, u'tanc\\xedtaro': 4, u'enforc': 1, u'outsid': 5, u'ltd': 1, u'austin': 1, u'south': 9, u'softwar': 2, u'elyse': 1, u'scene': 2, u'owner': 1, u'princ': 4, u'swept': 2, u'los': 1, u'overdraft': 1, u'grip': 2, u'system': 4, u'messag': 3, u'their': 4, u'attack': 8, u'650': 1, u'pakistani': 2, u'gear': 1, u'travi': 1, u'petrovietnam': 1, u'academi': 2, u'reaffirm': 1, u'pregam': 1, u'charact': 1, u'steep': 1, u'bet': 2, u'viewer': 2, u'splatter': 1, u'tonight': 1, u'corrupt': 1, u'congresswoman': 1, u'reserv': 3, u'need': 8, u'north': 15, u'border': 5, u'cecil': 2, u'rout': 2, u'lili': 2, u'mid': 2, u'geffen': 1, u'mix': 1, u'combin': 1, u'singh': 3, u'divers': 1, u'singl': 4, u'kahan': 1, u'combat': 1, u'who': 5, u'whi': 6, u'presid': 39, u'01': 1, u'eight': 6, u'transcript': 1, u'payment': 3, u'urg': 2, u'gather': 2, u'upset': 2, u'dent': 2, u'deni': 2, u'occasion': 1, u'fact': 1, u'bell': 1, u'son': 2, u'affair': 2, u'indoor': 2, u'bring': 3, u'chicken': 1, u'handmaid': 3, u'setter': 1, u'footbal': 1, u'bicycl': 1, u'tire': 2, u'mute': 2, u'forev': 1, u'jan': 1, u'earner': 1, u'won': 2, u'tape': 2, u'fuel': 3, u'brownsvill': 1, u'jab': 2, u'hope': 2, u'meant': 1, u'contribut': 1, u'passeng': 4, u'joint': 2, u'boycot': 1, u'increas': 1, u'bondi': 2, u'endless': 1, u'gray': 1, u'organ': 4, u'h': 1, u'rage': 2, u'summon': 1, u'ripley': 2, u'she': 1, u'injur': 2, u'grab': 1, u'goggl': 1, u'asunci\\xf3n': 1, u'view': 3, u'credibl': 3, u'upsw': 1, u'accord': 4, u'apolog': 1, u'troubl': 1, u'closer': 1, u'mileston': 1, u'entranc': 2, u'cole': 2, u'nuclear': 2, u'nationwid': 2, u'barca': 1, u'macron': 2, u'genius': 5, u'state': 19, u'crude': 2, u'progress': 1, u'neither': 1, u'bunch': 1, u'verifi': 5, u'janet': 1, u'derogatori': 1, u'entir': 1, u'key': 2, u'group': 7, u'precious': 1, u'lawsuit': 3, u'invulner': 1, u'ramp': 1, u'equal': 1, u'drug': 1, u'doorway': 1, u'instanc': 1, u'grain': 3, u'bronx': 2, u'menuir': 1, u'comment': 5, u'co': 5, u'guidelin': 2, u'tuesday': 2, u'walk': 4, u'mohamad': 2, u'respect': 1, u'quit': 5, u'farag': 2, u'midland': 2, u'polka': 1, u'cent': 1, u'gaza': 2, u'immedi': 2, u'whitehors': 2, u'upcom': 1, u'presenc': 1, u'bulk': 1, u'feroci': 2, u'bulb': 1, u'an': 7, u'decad': 1, u'present': 2, u'statist': 1, u'multi': 1, u'2016': 3, u'as': 3, u'will': 4, u'jumanji': 2, u'ill': 2, u'ripa': 1, u'kuczynski': 1, u'engag': 1, u'parsonag': 1, u'almost': 1, u'narendra': 1, u'vw': 1, u'arabia': 3, u'incom': 1, u'uniti': 3, u'denial': 1, u'welcom': 1, u'japanes': 2, u'parti': 6, u'tapper': 4, u'civilian': 3, u'pooran': 3, u'member': 9, u'largest': 4, u'inch': 1, u'outbreak': 2, u'twelfth': 1, u'paula': 1, u'difficult': 1, u'competit': 1, u'prais': 1, u'columbia': 1, u'expans': 3, u'drink': 5, u'effect': 1, u'coffe': 3, u'initi': 1, u'student': 3, u'countri': 13, u'dust': 1, u'afghan': 1, u'expand': 4, u'keep': 10, u'rift': 1, u'insurg': 1, u'off': 10, u'center': 7, u'krzanich': 1, u'i': 5, u'weapon': 1, u'welk': 1, u'well': 3, u'exampl': 1, u'english': 1, u'partner': 1, u'747s': 1, u'enclav': 2, u'camel': 2, u'pensk': 2, u'gun': 3, u'surpass': 1, u'systemat': 1, u'web': 1, u'wed': 2, u'jeff': 3, u'jare': 2, u'patricia': 1, u'day': 13, u'arrest': 4, u'add': 2, u'aruba': 3, u'reunit': 1, u'collis': 6, u'snowcoach': 1, u'kick': 2, u'myth': 2, u'government': 1, u'admit': 1, u'haut': 1, u'utah': 1, u'fuji': 1, u'know': 2, u'press': 1, u'mahathir': 2, u'name': 5, u'loss': 2, u'dubai': 1, u'resid': 1, u'like': 11, u'lost': 4, u'safest': 1, u'corpor': 1, u'journalist': 3, u'imprison': 1, u'divest': 1, u'juic': 1, u'crisi': 1, u'revers': 2, u'incent': 1, u'twitter': 8, u'suppli': 1, u'georgia': 2, u'hail': 1, u'dougla': 1, u'117': 2, u'growth': 2, u'trucker': 4, u'guarante': 1, u'drop': 1, u'librari': 1, u'competitor': 1, u'feder': 4, u'lead': 4, u'leak': 3, u'refut': 1, u'miner': 1, u'passion': 2, u'settl': 2, u'leader': 12, u'investig': 7, u'slight': 1, u'journal': 1, u'ident': 2, u'surat': 1, u'host': 5, u'refuge': 3, u'stage': 5, u'epiphani': 1, u'justin': 1, u'justic': 1, u'freedom': 3, u'withdrew': 1, u'supercharg': 1, u'statement': 4, u'futurist': 1, u'sweat': 1, u'blockbust': 1, u'discard': 2, u'own': 5, u'portrait': 1, u'washington': 5, u'487': 2, u'weather': 2, u'lung': 2, u'lettuc': 4, u'1984': 2, u'snowplow': 1, u'transfer': 1, u'museum': 2, u'oasi': 2, u'appl': 2, u'inner': 1, u'cairo': 1, u'biggest': 2, u'venezuelan': 1, u'deliveri': 2, u'buy': 2, u'alexa': 1, u'frisk': 1, u'demilitar': 1, u'but': 4, u'continu': 6, u'neutral': 2, u'claridg': 2, u'assail': 2, u'he': 8, u'count': 2, u'made': 5, u'wise': 1, u'whether': 2, u'wish': 1, u'j': 1, u'smooth': 1, u'distract': 1, u'record': 1, u'belov': 3, u'limit': 1, u'problem': 1, u'ministri': 1, u'sponsor': 2, u'sycamor': 1, u'dure': 2, u'mivtachim': 2, u'novemb': 2, u'paraguay': 2, u'eric': 1, u'automot': 2, u'diplomat': 6, u'quot': 2, u'48': 1, u'salesman': 1, u'percent': 6, u'detail': 1, u'detain': 4, u'pacifica': 1, u'book': 8, u'futur': 1, u'boon': 1, u'wing': 1, u'hacker': 1, u'dismiss': 2, u'star': 2, u'castl': 1, u'sooner': 1, u'class': 1, u'treason': 1, u'stay': 2, u'stag': 1, u'nintendo': 2, u'repeal': 2, u'philipp': 1, u'massacr': 1, u'samsung': 2, u'rule': 3, u'emerg': 2, u'gorham': 1, u'decemb': 4, u'wilma': 1, u'buoy': 1}\n"
     ]
    }
   ],
   "source": [
    "from collections import defaultdict\n",
    "import nltk\n",
    "from nltk.corpus import stopwords\n",
    "from nltk.tokenize import RegexpTokenizer\n",
    "from nltk import ngrams\n",
    "\n",
    "def to_dict(d):\n",
    "    '''helper class – converts defaultdict to regular dict'''\n",
    "    if isinstance(d, defaultdict):\n",
    "        d = {k: to_dict(v) for k, v in d.iteritems()}\n",
    "    return d\n",
    "\n",
    "def getwords_adv(doc):\n",
    "    \n",
    "    #doc = doc.lower()\n",
    "    \n",
    "    #tokenize\n",
    "    tokenizer = RegexpTokenizer(r'\\w+')\n",
    "    tokens = tokenizer.tokenize(doc)\n",
    "    \n",
    "    #remove stopwords\n",
    "    stop_words = set(stopwords.words('english'))\n",
    "    tokens = [word for word in tokens if word not in stop_words]\n",
    "    \n",
    "    #stemming\n",
    "    stemmer = nltk.stem.snowball.SnowballStemmer('english')\n",
    "    tokens = [stemmer.stem(word) for word in tokens]\n",
    "    \n",
    "    #add bigrams\n",
    "    #docsting = ' '.join(tokens).strip()\n",
    "    #n = 2\n",
    "    #n_grams = ngrams(docsting.split(), n)\n",
    "    #tokens = tokens + [' '.join(grams) for grams in n_grams]\n",
    "    \n",
    "    #remove words smaller than 4 and bigger than 60\n",
    "    #tokens = [token for token in tokens if len(token) in range(4,60)]\n",
    "    return tokens\n",
    "\n",
    "def getarticlewords(articles):\n",
    "    allwords = defaultdict(int)\n",
    "    articletitles = []\n",
    "    articlewords = []\n",
    "    #defaultdict(lambda : defaultdict(int))\n",
    "    \n",
    "    for index, row in articles.iterrows():\n",
    "        title = row.loc['title']\n",
    "        fulltext = row.loc['title'] + ' ' + row.loc['text']\n",
    "        # add articletitles\n",
    "        articletitles.append(title)\n",
    "        # add articlewords\n",
    "        words = getwords_adv(fulltext)\n",
    "        wordsdict = defaultdict(int)\n",
    "        for word in words: \n",
    "            wordsdict[word] += 1\n",
    "            # extend allwords\n",
    "            allwords[word] += 1\n",
    "        articlewords.append(wordsdict)\n",
    "        \n",
    "        \n",
    "    return allwords,articlewords,articletitles\n",
    "\n",
    "allwords,articlewords,articletitles = getarticlewords(rssfeeds)\n",
    "print len(allwords)\n",
    "print to_dict(allwords)"
   ]
  },
  {
   "cell_type": "markdown",
   "metadata": {},
   "source": [
    "### Die Funktion _makematrix()_\n",
    "Schreiben Sie eine Funktion _makematrix()_, die aus dem Dictionary _allwords_ und der Liste _articlewords_ (vorige Aufgabe) die Artikel-/Wort-Matrix generiert. Die Einträge in der Matrix sollen die Häufigkeiten der Wörter im jeweiligen Dokument sein (term frequency tf). Die Artikel-/Wort-Matrix soll als 2-dimensionales Numpy Array angelegt werden."
   ]
  },
  {
   "cell_type": "code",
   "execution_count": null,
   "metadata": {
    "collapsed": true
   },
   "outputs": [],
   "source": [
    "makematrix()"
   ]
  },
  {
   "cell_type": "markdown",
   "metadata": {},
   "source": [
    "## Die Nicht Negative Matrix Faktorisierung\n",
    "Die Implementierung der NNMF ist entsprechend der Beschreibung im Theoriekapitel durchzuführen.\n",
    "\n",
    "* Implementieren Sie die Funktion _cost(A,B)_. Dieser Funktion werden zwei Numpy-Matrizen $A$ und $B$ übergeben. Zurück geliefert werden die nach oben angegebener Formel berechneten Kosten $k$. Diese Funktion wird von der im folgenden beschriebenen Funktion _nnmf(A,m,it)_ benutzt.\n",
    "* Implementieren Sie die Funktion __nnmf(A,m,it)__. In dieser Funktion soll der oben beschriebene Algorithmus für die Nicht-negative Matrix Faktorisierung ausgeführt werden. Der Funktion wird die zu faktorisierende Matrix $A$, die Anzahl der Merkmale $m$ und die Anzahl der Iterationen $it$ übergeben. Die Funktion gibt die gefundenen Faktoren $W$ und $H$ zurück. In jeder Iteration sollen mit der Funktion __cost(A,B)__ die Kosten berechnet werden. Sobald die Kostenabnahme pro 10 Iterationen kleiner als $2$ ist oder eine maximale Anzahl von Iterationen ($maxIt=200$) erreicht ist, soll der Algorithmus mit der Rückgabe der Faktoren $W$ und $H$ terminieren.     \n",
    "\n",
    "\n",
    "Tipp für die Implementierung elementweiser Operationen von Matrizen: Für elementweise Operationen müssen in Python/Numpy nicht alle Elemente über Schleifen explizit berechnet werden. Eine elementweise Anpassung aller Matrixelemente kann kompakt programmiert werden indem die beteiligten Matrizen für diese Operationen als Arrays implementiert werden. Sollen z.B. die beiden gleich großen Numpy Arrays $U$ und $V$ elementweise multipliziert werden, dann wäre der entsprechende Programmcode einfach _U*V_.  "
   ]
  },
  {
   "cell_type": "code",
   "execution_count": null,
   "metadata": {
    "collapsed": true
   },
   "outputs": [],
   "source": [
    "#Your code"
   ]
  },
  {
   "cell_type": "markdown",
   "metadata": {},
   "source": [
    "## Anzeige der Merkmale und der Gewichte\n",
    "\n",
    "Im vorigen Abschnitt wurde die Merkmalsmatrix $H$ und die Gewichtsmatrix $W$ berechnet. Diese Matrizen können natürlich am Bildschirm ausgegeben werden, was jedoch nicht besonders informativ ist. Aus den Matrizen können jedoch die Antworten für die folgenden interessanten Fragen berechnet werden:\n",
    "\n",
    "* In welchen Artikeln sind welche Merkmale stark vertreten?\n",
    "* Wie lassen sich die insgesamt $m$ Merkmale beschreiben, so dass aus dieser Merkmalsbeschreibung klar wird, welches Thema den Artikeln, in denen das Merkmal stark vertreten ist, behandelt wird? \n",
    " \n",
    "Die Antwort auf die erste Frage ergibt sich aus der Gewichtsmatrix $W$. Für die Beantwortung der zweiten Frage wird die Merkmalsmatrix $H$ herangezogen.\n",
    "\n",
    "\n",
    "\n",
    "### Beschreibung der Merkmale\n",
    "\n",
    "Die Merkmalsmatrix $H$ beschreibt, wie stark die Worte aus _wordvec_ in jedem Merkmal enthalten sind. Jede Zeile von $H$ gehört zu einem Merkmal, jede Spalte von $H$ gehört zu einem Wort in _wordvec_.\n",
    "\n",
    "Es bietet sich an jedes Merkmal einfach durch die $N=6$ Wörter aus _wordvec_ zu beschreiben, welche am stärksten in diesem Merkmal enthalten sind. Hierzu muss für jedes Merkmal die entsprechende Zeile in $H$ nach den $N=6$ größten Werten durchsucht bzw. geordnet werden. Die entsprechenden Spalten dieser Matrixelemente verweisen dann auf die $N=6$ wichtigsten Worte des Merkmals.\n",
    "\n",
    "Tipp für die Implementierung: Legen Sie für jedes Merkmal $i$ eine Liste an. Die Listenlänge ist durch die Anzahl der Worte in _wordvec_ (d.h. die Anzahl der Spalten in $H$) gegeben. Jedes Listenelement $j$ enthält selbst wieder 2 Elemente: An erster Stelle den entsprechenden Wert $H_{i,j}$ der Merkmalsmatrix, an der zweiten Stelle das $j.$-te Wort in _wordvec_. Nachdem die Liste angelegt ist, kann sie mit _listname.sort()_ in aufsteigender Reihenfolge sortiert werden. Die abnehmende Sortierung erhält man mit _listname.sort().reverse()_. Danach geben die $N=6$ ersten Listenelemente die für das Merkmal $i$ wichtigsten Worte an.\n",
    "\n",
    "   \n",
    "### Präsenz der Merkmale in den Artikeln\n",
    "\n",
    "Die Gewichtsmatrix $W$ beschreibt, wie stark die $m$ Merkmale in den Artikeln aus _articletitles_ enthalten sind. Jede Zeile von $W$ gehört zu einem Artikel, jede Spalte von $W$ gehört zu einem Merkmal.\n",
    "Die Berechnung der $M=2$ gewichtigsten Merkmale für jeden Artikel in _articletitles_ kann analog zu der oben beschriebenen Berechnung der $N=6$ wichtigsten Worte eines Merkmals berechnet werden.\n",
    "\n",
    "\n",
    "### Implementierung\n",
    "\n",
    "Implementieren Sie eine Funktion _showfeatures(w,h,titles,wordvec)_, welche wie oben beschrieben für jeden Artikel die $M=2$ wichtigsten Merkmale am Bildschirm ausgibt. Dabei soll jedes Merkmal durch die 6 wichtigsten Wörter dieses Merkmals angegeben werden. Siehe Beispielausgabe unten.  \n",
    "\n",
    "Übergabeparameter der Funktion sind die Merkmalsmatrix $H$, die Gewichtungsmatrix $W$, die Liste aller Artikeltitel _articletitles_ und die Liste aller Worte _wordvec_.\n",
    "\n",
    "\n",
    "Beispiel fuer Ausgabe:"
   ]
  },
  {
   "cell_type": "markdown",
   "metadata": {},
   "source": [
    "[(13.54131155883748, 13, u'Putin vows payback after confirmation of Egypt plane bomb'),\n",
    "\n",
    "(2.2466669548146254, 9, u'Putin vows payback after confirmation of Egypt plane bomb')]\n",
    "\n",
    "----- ['plane', 'egypt', 'russia', 'month', 'killing', 'putin']\n",
    "\n",
    "----- ['airport', 'russian', 'crash', 'egypt', 'security', 'officials']"
   ]
  },
  {
   "cell_type": "markdown",
   "metadata": {},
   "source": [
    "Die Ausgabe ist wie folgt zu interpretieren:\n",
    "* Für den Artikel _Putin vows payback after confirmation of Egypt plane bomb_ ist \n",
    "    * das wichtigste Merkmal durch die 6 Wörter _plane_, _egypt_, _russia_, _month_, _killing_, _putin_ definiert. Das Gewicht dieses Merkmals im Artikel ist 13.54\n",
    "    * das zweitwichtigste Merkmal durch die 6 Wörter _airport_, _russian_, _crash_, _egypt_, _security_, _officials_ definiert. Das Gewicht dieses Merkmals im Artikel ist 2.24"
   ]
  },
  {
   "cell_type": "code",
   "execution_count": null,
   "metadata": {
    "collapsed": true
   },
   "outputs": [],
   "source": [
    "#Your code"
   ]
  },
  {
   "cell_type": "markdown",
   "metadata": {},
   "source": [
    "## Aufgaben\n",
    "\n",
    "1. Analysieren Sie die berechneten Topics indem Sie sich überlegen ob die gefundenen 6 Wörter pro Topic wirklich Themen beschreiben.\n",
    "2. Verändern Sie die Parameter der NNMF (Anzahl der Topics $m$, Anzahl der Iterationen). Bei welcher Einstellung der Parameter erhalten Sie das für sie sinnvollste Resultat (sinnvolle Topics)?\n",
    "3. Wie kann die _getwords()_ Methode verbessert werden, so dass noch bedeutsamere Topics gefunden werden? "
   ]
  },
  {
   "cell_type": "code",
   "execution_count": 7,
   "metadata": {
    "collapsed": true
   },
   "outputs": [],
   "source": [
    "#Your markdown"
   ]
  },
  {
   "cell_type": "code",
   "execution_count": null,
   "metadata": {
    "collapsed": true
   },
   "outputs": [],
   "source": []
  }
 ],
 "metadata": {
  "kernelspec": {
   "display_name": "Python 2",
   "language": "python",
   "name": "python2"
  },
  "language_info": {
   "codemirror_mode": {
    "name": "ipython",
    "version": 2
   },
   "file_extension": ".py",
   "mimetype": "text/x-python",
   "name": "python",
   "nbconvert_exporter": "python",
   "pygments_lexer": "ipython2",
   "version": "2.7.13"
  },
  "nav_menu": {},
  "toc": {
   "navigate_menu": true,
   "number_sections": true,
   "sideBar": true,
   "threshold": 6,
   "toc_cell": false,
   "toc_section_display": "block",
   "toc_window_display": false
  }
 },
 "nbformat": 4,
 "nbformat_minor": 1
}
