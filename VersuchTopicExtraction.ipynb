{
 "cells": [
  {
   "cell_type": "markdown",
   "metadata": {},
   "source": [
    "# Topic Extraction in Newsfeeds\n",
    "* Autor: Prof. Dr. Johannes Maucher\n",
    "* Datum: 17.11.2015\n",
    "\n",
    "[Übersicht Ipython Notebooks im Data Mining Praktikum](Data Mining Praktikum.ipynb)\n",
    "\n",
    "# Einführung\n",
    "## Lernziele:\n",
    "\n",
    "In diesem Versuch sollen Kenntnisse in folgenden Themen vermittelt werden:\n",
    "\n",
    "* __RSS Feeds:__ Struktur von RSS Feeds analysieren und parsen mit dem _Universal Feed Parser_. \n",
    "* __Dokument Analyse:__ Die Häufigkeit aller Worte in einem Dokument (Inhalt des RSS Feeds) zählen und in einem Array verwalten. \n",
    "* __Merkmalsextraktion:__ Bestimmung von Merkmalen (hier auch: __Topics__) (Allgemein spricht man von Merkmalen. Im Fall, dass die NNMF auf Dokumente angewandt wird, werden die Merkmale auch mit __Topics__ oder __Themen__ bezeichnet) mit der \\emph{Non Negative Matrix Factorization}.\n",
    "* __Zuordnung__: Wie setzen sich die Topics aus den Wörtern zusammen? Wie stark sind die gefundenen Topics in den Artikeln vertreten?\n",
    "* __Dokument Clustering:__ Mit der NNMF kann auch ein Clustering realisiert werden. Jeder Topic repräsentiert ein Cluster. Jedes Dokument wird dem Cluster zugeordnet, dessen Topic am stärksten in ihm vertreten ist. \n",
    "\n",
    "Sämtliche Verfahren und Algorithmen werden in Python implementiert.\n",
    "\n",
    "## Theorie zur Vorbereitung\n",
    "\n",
    "Stellen Sie sich vor Sie möchten in eine eigene Webseite die RSS Feeds einer Menge von Nachrichtenservern einbinden. Da die unterschiedlichen Server wahrscheinlich Artikel zu den gleichen Themen anbieten, werden die Inhalte einiger Artikel ähnlich sein. Mit der __Nicht Negativen Matrixfaktorisierung (NNMF)__ kann für eine große Menge von Dokumenten eine Menge von Themen (Topics) ermittelt werden, auf die sich die Dokumente beziehen. Damit ist es u.a. möglich\n",
    "* die Dokumente thematisch zu ordnen\n",
    "* zu jedem Thema nur ein Dokument anzuzeigen\n",
    "\n",
    "### Ähnlichkeiten bestimmen und relevante Merkmale extrahieren\n",
    "\n",
    "Eine Sammlung von Dokumenten - in diesem Versuch die Menge aller Nachrichten der angegebenen Feeds - kann in einer Artikel/Wort-Matrix repräsentiert werden. Jede Zeile dieser Matrix gehört zu einem Dokument. Für jedes Wort, das mindestens in einem der Dokumente vorkommt, ist eine Spalte vorgesehen. Das Matrixelement in Zeile $i$, Spalte $j$ beschreibt wie häufig das Wort in Spalte $j$ im zur Zeile $i$ gehörenden Dokument vorkommt.\n",
    "\n",
    "Unter der Annahme, dass Artikel umso ähnlicher sind, je mehr Worte in diesen gemeinsam vorkommen, kann auf der Grundlage dieser Matrix die Ähnlichkeit zwischen den Artikeln berechnet werden. Hierzu könnte die Matrix z.B. einfach einem _Hierarchischen Clustering_ übergeben werden. Das hierarchische Clustering weist jedoch im Fall einer großen Menge von zu vergleichenden Objekten zwei wesentliche Nachteile auf: Erstens ist die wiederholte Berechnung der Distanzen zwischen allen Artikeln/Clustern extrem rechenaufwendig, zweitens ist die Darstellung einer großen Anzahl von Objekten im Dendrogramm nicht mehr übersichtlich. \n",
    "\n",
    "Für das Auffinden von Assoziationen zwischen Dokumenten hat sich in den letzten Jahren die Methode der __Nicht-Negativen Matrix Faktorisierung (NNMF)__ etabliert. Mit dieser Methode kann eine Menge von wesentlichen Merkmalen berechnet werden, anhand derer sich die Dokumente clustern lassen, d.h. Dokumente des gleichen Clusters repräsentieren das gleiche Merkmal (Thema). Ein solches Merkmal wird durch eine Menge von Worten beschrieben, z.B. $\\{$ _Paris, terror, IS_ $\\}$  oder $\\{$_refugee, syria, border_ $\\}$. Neben der Merkmalsextraktion stellt die relativ geringe Komplexität einen weiteren Vorteil der NNMF dar. Durch die Darstellung der Artikel/Wort-Matrix als Produkt von 2 Faktormatrizen müssen deutlich weniger Einträge gespeichert werden.\n",
    "\n",
    "### Nicht Negative Matrixfaktorisierung: Die Idee\n",
    "\n",
    "Die Artikel/Wort-Matrix wird im Folgenden mit $A$ bezeichnet. Sie besitzt $r$ Zeilen und $c$ Spalten, wobei $r$ die Anzahl der Artikel und $c$ die Anzahl der relevanten Worte in der Menge aller Artikel ist. Durch Multiplikation der Matrix $A$ mit dem Vektor $v$ (_wordvec_: Vektor der alle relevanten Worte enthält) werden die Worte den Artikeln $a$ (_articletitles_: Vektor der alle Artikeltitel enthält) zugeordnet:\n",
    "\n",
    "$$\n",
    "a=A*v.\n",
    "$$\n",
    "\n",
    "Die Idee der NNMF besteht darin die Matrix $A$ als Produkt zweier Matrizen $W$ und $H$ darzustellen,\n",
    "\n",
    "$$\n",
    "A=W*H\n",
    "$$\n",
    "\n",
    "wobei alle Elemente in $W$ und $H$ größer oder gleich Null sein müssen. Die Matrixmultiplikation erfordert, dass die Anzahl der Zeilen $m$ in $H$ gleich der Anzahl der Spalten in $W$ sein muss. \n",
    "Durch die Faktorisierung der Matrix $A$ wird die Zuordnung der Wörter des Wortvektors $v$  zu den Artikeln des Vektors $a$ in zwei Stufen zerlegt. \n",
    "\n",
    "$$\n",
    "f = H*v\n",
    "$$\n",
    "$$\n",
    "a = W*f \n",
    "$$\n",
    "\n",
    "In der ersten Stufe werden durch die Multiplikation von $v$ mit der Matrix $H$ die Wörter einem sogenannten Merkmalsvektor $f$ mit $m$ Elementen zugewiesen. In der zweiten Stufe werden durch die Multiplikation des Merkmalsvektor $f$ mit der Matrix $W$ die einzelnen Merkmale den Artikeln in $a$ zugeordnet. Die Matrix $H$ definiert also aus welchen Wörtern die Merkmale gebildet werden. Sie wird deshalb __Merkmalsmatrix__ genannt. Die Matrix $W$ hingegen beschreibt mit welchem Gewicht die einzelnen Merkmale in den verschiedenen Artikeln auftreten. Sie wird deshalb __Gewichtungsmatrix__ genannt.\n",
    "\n",
    "Daraus folgt: Wenn eine Faktorisierung der Matrix $A$ gefunden wird, dann werden damit auch relevante Merkmale, also die Themen, definiert, hinsichtlich derer die Artikel effizient kategorisiert werden. Durch die Matrixfaktorisierung wird eine __Merkmalsextraktion__ realisiert. \n",
    "\n",
    "### Berechnung der Matrixfaktoren\n",
    "\n",
    "Für die Berechnung der Faktoren wurde in [Lee, Algortihms for Non-negative Matrix Factorisation](http://papers.nips.cc/paper/1861-algorithms-for-non-negative-matrix-factorization.pdf) eine iterative Methode vorgestellt, die derzeit wohl am häufigsten angewandt wird und auch in dieser Übung implementiert werden soll. Der Algorithmus besteht aus folgenden Schritten:\n",
    "* Gebe die zu faktorisierende Matrix $A$ ein. $r$ sei die Anzahl der Zeilen und $c$ die Anzahl der Spalten von $A$.\n",
    "* Wähle die Anzahl $m$ der Merkmale, mit $m<c$. _Tipp:_ Für $m$ sollte zunächst ein Wert im Bereich $15$ bis $30$ gewählt werden.\n",
    "* Lege eine $m \\times c$ Matrix $H$ an mit initial zufälligen Elementen (Anwendung der numpy Funktion _random.random()_)\n",
    "* Lege eine $r \\times m$ Matrix $W$ an mit initial zufälligen Elementen (Anwendung der numpy Funktion _random.random()_)\n",
    "* Wiederhole bis maximale Anzahl der Iteration erreicht oder Kosten $k$ unter vordefinierter Schwelle:\n",
    "\n",
    "\t* Berechne aktuelles Produkt $B=W*H$ und bereche die Kostenfunktion \n",
    "\t\t$$\n",
    "\t\t\tk=\\left\\| A - B \\right\\|^2 = \\sum\\limits_{i,j} \\left(A_{i,j} - B_{i,j}\\right)^2\n",
    "\t\t$$ \n",
    "\t* Anpassung der Matrix $H$ durch folgende Neuberechnung der Matrixelemente\n",
    "    \n",
    "\t\t$$\n",
    "\t\tH_{i,j} := H_{i,j} \\frac{(W^T*A)_{i,j}}{(W^T*W*H)_{i,j}}\n",
    "\t\t$$\n",
    "        \n",
    "\t* __Nach__ der Anpassung der Matrix $H$: Anpassung der Matrix $W$ durch folgende Neuberechnung der Matrixelemente\n",
    "    \n",
    "\t\t$$\n",
    "\t\tW_{l,i} := W_{l,i} \\frac{(A*H^T)_{l,i}}{(W*H*H^T)_{l,i}}\n",
    "\t\t$$\n",
    "\n",
    "In [Lee, Algortihms for Non-negative Matrix Factorisation](http://papers.nips.cc/paper/1861-algorithms-for-non-negative-matrix-factorization.pdf) ist bewiesen, dass durch die o.g. Anpassungsroutinen die Kosten $k$ monoton abnehmen und in einem Minimum konvergieren. Der Algorithmus ist jedoch nicht optimal weil das gefundene Minimum ein lokales Minimum sein kann."
   ]
  },
  {
   "cell_type": "markdown",
   "metadata": {},
   "source": [
    " ## Vor dem Versuch zu klärende Fragen\n",
    " \n",
    " * Was versteht man unter Artikel/Wort-Matrix? Wie wird diese im aktuellen Versuch gebildet?"
   ]
  },
  {
   "cell_type": "markdown",
   "metadata": {
    "collapsed": true
   },
   "source": [
    "|      | Spalte   |  1.  |   2. |\n",
    "| ---- |:-------------:| -----:|\n",
    "|Zeile | Doclist | 'wort1' | 'wort2' |\n",
    "|   1.  | Doc1 |  1   |  0   | \n",
    "|   2.  | Doc2 |  0   |  0   | \n",
    "|   3.  | Doc3 |  0   |  0   |  \n",
    "\n",
    "Jede Zeile dieser Matrix gehört zu einem Dokument. Für jedes Wort, das mindestens in einem der Dokumente vorkommt, ist eine Spalte vorgesehen. Das Matrixelement in Zeile  i, Spalte  j beschreibt wie häufig das Wort in Spalte j im zur Zeile i gehörenden Dokument vorkommt.\n",
    "\n",
    " \n",
    "Gebildet wird diese Matrix in dem man eine bereinigte Liste aus allen Wörtern zu jedem Dokument erstellt wird. Zur Bereinigung zählen: Stoppwörter, Doppelte Wörter und Satzzeichen zu entfernen (Tokenizing). Außerdem das Normalisieren der Wortmenge. Diese Listen werden in einer Liste gespeichert.\n",
    "Anschließend wird aus diesem Objekt ein Gensim-Dictionary erzeugt. Es besitzt nun die Eigenschaft, dass es jedem relevanten Wort (Key) einen zufälligen, eindeutigen  Index (Value) erzeugt. \n",
    "\n",
    "\n",
    "Um die Performance zu erhöhen wird die Efficient Corpus Representation eingesetzt. Dabei wird aus dem Dictionary eine Liste aus Tupeln erzeugt, wobei der erste Wert, der Indize des Wortes ist und der zweite Wert die Häufigkeit des Wortes repräsentiert. Dies bildet den Corpus."
   ]
  },
  {
   "cell_type": "markdown",
   "metadata": {},
   "source": [
    "* Wie multipliziert man die Matrix\n",
    "    $$\n",
    "    A= \\left( \\begin{array}{cccc}\n",
    "a_{00} & a_{01} & a_{02} & a_{03} \\\\ \n",
    "a_{10} & a_{11} & a_{12} & a_{13} \\\\ \n",
    "a_{20} & a_{21} & a_{22} & a_{23}\n",
    "\\end{array} \\right)\n",
    "    $$\n",
    "    mit dem Vektor  \n",
    "    $$\n",
    "    v=\\left( \\begin{array}{c}\n",
    "v_{0} \\\\ \n",
    "v_{1} \\\\ \n",
    "v_{2} \\\\ \n",
    "v_{3}\n",
    "\\end{array} \\right)\n",
    "    $$\n",
    "    "
   ]
  },
  {
   "cell_type": "markdown",
   "metadata": {
    "collapsed": true
   },
   "source": [
    "So multipliziert man die Matrix:\n",
    "    $$\n",
    "    a = A * v = \\left( \\begin{array}{cccc}\n",
    "a_{00} & a_{01} & a_{02} & a_{03} \\\\ \n",
    "a_{10} & a_{11} & a_{12} & a_{13} \\\\ \n",
    "a_{20} & a_{21} & a_{22} & a_{23}\n",
    "\\end{array} \\right)\n",
    "     *    \n",
    "\\left( \\begin{array}{c}\n",
    "v_{0} \\\\ \n",
    "v_{1} \\\\ \n",
    "v_{2} \\\\ \n",
    "v_{3}\n",
    "\\end{array} \\right)\n",
    "     =\n",
    "\\left( \\begin{array}{c}\n",
    "a_{00}*v_{0} + a_{01}*v_{1} + a_{02}*v_{2} + a_{03}*v_{3}  \\\\ \n",
    "a_{10}*v_{0} + a_{11}*v_{1} + a_{12}*v_{2} + a_{13}*v_{3} \\\\ \n",
    "a_{20}*v_{0} + a_{21}*v_{1} + a_{22}*v_{2} + a_{23}*v_{3} \\\\ \n",
    "a_{30}*v_{0} + a_{31}*v_{1} + a_{32}*v_{2} + a_{33}*v_{3}\n",
    "\\end{array} \\right)\n",
    "    $$\n",
    "    \n",
    "Die Voraussetzung das zwei Matritzen *A* , *v* miteinander multipliziert werden können ist das die Anzahl der spalten in *A* der Anzahl der Zeilen in *v* entspricht. Da in diesem Fall *v* ein Vektor ist, muss er genau so viele Dimensionen haben wie die Matrix Spalten."
   ]
  },
  {
   "cell_type": "markdown",
   "metadata": {},
   "source": [
    "* Was versteht man im Kontext der NNMF unter\n",
    "    * Merkmalsmatrix\n",
    "    * Gewichtsmatrix"
   ]
  },
  {
   "cell_type": "code",
   "execution_count": null,
   "metadata": {
    "collapsed": true
   },
   "outputs": [],
   "source": []
  },
  {
   "cell_type": "markdown",
   "metadata": {},
   "source": [
    "* Wie werden in Numpy zwei Arrays (Typ numpy.array) \n",
    "\t* im Sinne der Matrixmultiplikation miteinander multipliziert?\n",
    "\t* elementweise multipliziert?\n",
    "* Wie wird die Transponierte eines Numpy-Arrays berechnet?"
   ]
  },
  {
   "cell_type": "markdown",
   "metadata": {
    "collapsed": true
   },
   "source": [
    "**Elementweise:**\n",
    "\n",
    "`np.multiply(x1, x2)`\n",
    "\n",
    "**Matrixmultiplikation:**\n",
    "\n",
    "`np.matmul(a, b)`\n",
    "\n",
    "**Transponierten:**\n",
    "\n",
    "`np.transpose(x)`"
   ]
  },
  {
   "cell_type": "markdown",
   "metadata": {},
   "source": [
    "# Versuchsdurchführung\n",
    "Die in diesem Versuch einzubindenden Feeds sind in der unten stehenden Liste _feedlist_ definiert. Die aus dem vorigen Vesuch bereits bekannte Funktion _stripHTML()_ ist ebenfalls gegeben:"
   ]
  },
  {
   "cell_type": "code",
   "execution_count": 4,
   "metadata": {},
   "outputs": [],
   "source": [
    "import feedparser\n",
    "import numpy as np\n",
    "import pandas as pd\n",
    "\n",
    "feedlist=['http://feeds.reuters.com/reuters/topNews',\n",
    "          'http://feeds.reuters.com/reuters/businessNews',\n",
    "          'http://feeds.reuters.com/reuters/worldNews',\n",
    "          'http://feeds2.feedburner.com/time/world',\n",
    "          'http://feeds2.feedburner.com/time/business',\n",
    "          'http://feeds2.feedburner.com/time/politics',\n",
    "          'http://rss.cnn.com/rss/edition.rss',\n",
    "          'http://rss.cnn.com/rss/edition_world.rss',\n",
    "          'http://www.nytimes.com/services/xml/rss/nyt/GlobalHome.xml',\n",
    "          'http://feeds.nytimes.com/nyt/rss/Business',\n",
    "          'http://www.nytimes.com/services/xml/rss/nyt/World.xml',\n",
    "          'http://www.nytimes.com/services/xml/rss/nyt/Economy.xml'\n",
    "          ]"
   ]
  },
  {
   "cell_type": "code",
   "execution_count": 5,
   "metadata": {},
   "outputs": [],
   "source": [
    "def stripHTML(h):\n",
    "  p=''\n",
    "  s=0\n",
    "  for c in h:\n",
    "    if c=='<': s=1\n",
    "    elif c=='>':\n",
    "      s=0\n",
    "      p+=' '\n",
    "    elif s==0: p+=c\n",
    "  return p"
   ]
  },
  {
   "cell_type": "code",
   "execution_count": 17,
   "metadata": {},
   "outputs": [
    {
     "name": "stdout",
     "output_type": "stream",
     "text": [
      "--------------------Articles------------------------\n",
      "******************************\n",
      "http://feeds.reuters.com/reuters/topNews\n",
      "******************************\n",
      "http://feeds.reuters.com/reuters/businessNews\n",
      "******************************\n",
      "http://feeds.reuters.com/reuters/worldNews\n",
      "******************************\n",
      "http://feeds2.feedburner.com/time/world\n",
      "******************************\n",
      "http://feeds2.feedburner.com/time/business\n",
      "******************************\n",
      "http://feeds2.feedburner.com/time/politics\n",
      "******************************\n",
      "http://rss.cnn.com/rss/edition.rss\n",
      "******************************\n",
      "http://rss.cnn.com/rss/edition_world.rss\n",
      "******************************\n",
      "http://www.nytimes.com/services/xml/rss/nyt/GlobalHome.xml\n",
      "******************************\n",
      "http://feeds.nytimes.com/nyt/rss/Business\n",
      "******************************\n",
      "http://www.nytimes.com/services/xml/rss/nyt/World.xml\n",
      "******************************\n",
      "http://www.nytimes.com/services/xml/rss/nyt/Economy.xml\n",
      "------------------------------------------------------\n",
      "------------------------------------------------------\n"
     ]
    }
   ],
   "source": [
    "rssfeeds = pd.DataFrame(columns=['title','text','source'])\n",
    "\n",
    "print \"--------------------Articles------------------------\"\n",
    "for feed in feedlist:\n",
    "    print \"*\"*30\n",
    "    print feed\n",
    "    f=feedparser.parse(feed)\n",
    "    for e in f.entries:\n",
    "      #print '\\n---------------------------'\n",
    "      if 'summary' in e.keys() and 'title' in e.keys():\n",
    "        text = stripHTML(e.description)\n",
    "        title = stripHTML(e.title)\n",
    "        rssfeeds = rssfeeds.append(pd.DataFrame({'title': title, 'text': text, 'source': feed}, index=[0]), ignore_index=True)\n",
    "print \"------------------------------------------------------\"\n",
    "print \"------------------------------------------------------\""
   ]
  },
  {
   "cell_type": "code",
   "execution_count": 18,
   "metadata": {},
   "outputs": [
    {
     "name": "stdout",
     "output_type": "stream",
     "text": [
      "                                                source  \\\n",
      "137  http://www.nytimes.com/services/xml/rss/nyt/Gl...   \n",
      "172  http://www.nytimes.com/services/xml/rss/nyt/Gl...   \n",
      "186          http://feeds.nytimes.com/nyt/rss/Business   \n",
      "227  http://www.nytimes.com/services/xml/rss/nyt/Wo...   \n",
      "233  http://www.nytimes.com/services/xml/rss/nyt/Wo...   \n",
      "\n",
      "                                                  text  \\\n",
      "137  Jared Kushner and his wife, Ivanka Trump, at t...   \n",
      "172  One of the popular new shows this past year wa...   \n",
      "186  The Sweatcoin app uses an algorithm to verify ...   \n",
      "227  Alan Walton, a dingo fence patrol officer, ove...   \n",
      "233  The Befana market in the Piazza Navona in Rome...   \n",
      "\n",
      "                                                 title  \n",
      "137  Kushner’s Financial Ties to Israel Deepen Even...  \n",
      "172  487 Original Programs Aired in 2017. Bet You D...  \n",
      "186  Can Sweatcoin, a Hot Fitness App, Keep You Off...  \n",
      "227  Coober Pedy Journal: Mending Fences in the War...  \n",
      "233  The Befana Market, a Beloved Roman Tradition, ...  \n"
     ]
    }
   ],
   "source": [
    "print rssfeeds.sample(5)"
   ]
  },
  {
   "cell_type": "markdown",
   "metadata": {},
   "source": [
    "## Anlegen der Artikel/Wort-Matrix\n",
    "\n",
    "### Die Funktion _getarticlewords()_\n",
    "Schreiben Sie eine Funktion _getarticlewords()_, die folgende Elemente zurückgibt:\n",
    "\n",
    "* _allwords:_ ist ein Dictionary dessen Keys die Worte aller gesammelten Artikel sind. Der zu jedem Key gehörende Wert ist die Anzahl, wie oft das Wort insgesamt vorkommt.\n",
    "* _articlewords:_ ist eine Liste mit so vielen Elementen wie Artikel in der Sammlung sind. Jedes Listenelement ist ein Dictionary, welches die Worte des jeweiligen Artikels als Key enthält und als Wert die Worthäufigkeit.\n",
    "* _articletitles_ ist eine Liste mit so vielen Elementen wie Artikel in der Sammlung sind. Jedes Element ist der Artikeltitel als String.\n",
    "\n",
    "Für das Parsing der Feeds soll wieder das Modul _feedparser_ eingesetzt werden. Die zu einer Nachricht gehörenden Wörter sollen die Wörter des Elements _title_ und die Wörter des Elements _description_ sein (siehe voriger Versuch). Allerdings sollen hier nicht alle Wörter eingebunden werden, sondern wie im vorigen Versuch eine Methode _getwords()_ implementiert werden, welche nur die _relevanten_ Wörter zurückgibt. Die Frage welche Wörter relevant sind ist nicht eindeutig beantwortbar. Sie können sich hierzu eigene Antworten einfallen lassen. Auf jeden Fall sollten aber die Stopwörter ignoriert werden. Hierzu kann z.B. die Stopwortliste von NLTK angewandt werden.\n",
    "\n",
    "Nachdem alle relevanten Wörter aller Nachrichten gesammelt sind, sollte eine weitere Bereinigung stattfinden, die \n",
    "\n",
    "* alle Wörter, die weniger als 4 mal vorkommen\n",
    "* alle Wörter, die in mehr als 30% aller Dokumente vorkommen\n",
    "\n",
    "entfernt. \n",
    "\n",
    "Durch dieses Herausfiltern nicht relevanter Wörter kann es vorkommen, dass einzelne Artikel keine relevanten Wörter mehr enthalten. Diese Artikel sollen dann ganz ignoriert werden. D.h. unter anderem, dass diese Artikel auch nicht in _articlewords_ und _articletitles_ erscheinen."
   ]
  },
  {
   "cell_type": "code",
   "execution_count": 79,
   "metadata": {},
   "outputs": [
    {
     "name": "stdout",
     "output_type": "stream",
     "text": [
      "546\n",
      "{u'comment': 2, u'trump': 3, u'washington': 1, u'back': 2, u'steve': 1, u'donald': 1, u'presid donald': 1, u'explos': 1, u'would': 1, u'away': 1, u'reuter': 1, u'steve bannon': 1, u'sunday': 1, u'book': 1, u'new': 1, u'white': 1, u'power': 1, u'fire': 1, u'donald trump': 1, u'conserv': 1, u'former': 1, u'threaten': 1, u'hous': 1, u'could': 1, u'white hous': 1, u'presid': 1, u'new book': 1, u'bannon': 3}\n",
      "\n",
      "{u'last month': 7, u'all': 4, u'founder': 4, u'global': 4, u'month': 8, u'steve': 6, u'protest': 15, u'go': 6, u'carpet': 7, u'accus': 5, u'tweet': 8, u'thursday': 5, u'program': 8, u'becam': 5, u'worth': 5, u'winfrey': 10, u'pay': 5, u'digit': 7, u'celebr': 4, u'risk': 9, u'sweatcoin': 8, u'rouhani': 4, u'candid': 4, u'govern': 19, u'tri': 8, u'metoo': 4, u'percent': 6, u'michael': 5, u'the new': 6, u'saudi': 6, u'new book': 4, u'sign': 4, u'second': 4, u'video': 4, u'even': 12, u'what': 7, u'globe award': 5, u'brief': 6, u'wolff': 6, u'verifi user': 5, u'new': 54, u'fall': 5, u'public': 7, u'friday': 10, u'iran': 8, u'men': 6, u'richest': 5, u'bodi': 8, u'china': 18, u'strong': 5, u'sinc': 6, u'eastern ghouta': 5, u'militari': 4, u'host': 5, u'airport': 9, u'healthi': 4, u'opinion': 5, u'chang': 5, u'york': 20, u'golden': 27, u'bru': 4, u'releas': 8, u'famili': 7, u'market': 11, u'fed': 7, u'eye': 4, u'would': 8, u'palestinian': 5, u'tillerson': 4, u'two': 10, u'call': 16, u'meyer': 4, u'challeng': 5, u'more': 11, u'flaw': 5, u'peopl': 12, u'iranian oil': 4, u'israel': 16, u'award': 14, u'warn': 9, u'compani': 14, u'hold': 5, u'women': 7, u'michael wolff': 5, u'high': 13, u'join': 5, u'hour': 5, u'hous': 17, u'this': 5, u'car': 9, u'remain': 5, u'can': 7, u'mr': 7, u'meet': 8, u'kim jong': 6, u'claim': 5, u'vodka': 4, u'trump': 50, u'give': 9, u'chip': 5, u'india': 7, u'accept': 6, u'boycott': 5, u'coalit': 4, u'critic': 6, u'want': 6, u'explos': 8, u'station': 5, u'cut off': 5, u'end': 11, u'winter': 6, u'secur': 12, u'polic': 5, u'anoth': 5, u'travel': 8, u'reuter': 34, u'economi': 7, u'delay': 6, u'how': 12, u'sunday': 23, u'interview': 8, u'verifi': 5, u'toyoda': 4, u'polit': 7, u'product': 4, u'may': 9, u'chines': 5, u'after': 11, u'breitbart': 4, u'the befana': 6, u'link romain': 4, u'a': 32, u'short': 4, u'tale': 4, u'chief': 6, u'road': 6, u'allow': 6, u'parti': 6, u'order': 5, u'talk': 9, u'help': 8, u'offici': 13, u'move': 5, u'trade': 4, u'north korea': 6, u'held': 6, u'london': 6, u'coli': 4, u'japan': 5, u'cold': 4, u'still': 4, u'latt': 4, u'group': 7, u'pray': 4, u'fix': 4, u'hot': 6, u'crew': 9, u'offic': 6, u'2018': 15, u'stephen': 4, u'2017': 6, u'main': 6, u'financi': 7, u'beij': 5, u'nation': 8, u'break': 9, u'half': 4, u'hall': 4, u'bank': 8, u'name': 5, u'found': 10, u'stock': 6, u'seth meyer': 4, u'ed': 6, u'globe': 28, u'hard': 5, u'haley': 4, u'continu': 6, u'realli': 6, u'expect': 6, u'around world': 4, u'beyond': 4, u'saturday': 7, u'canada': 4, u'jerusalem': 7, u'oprah': 13, u'airport new': 4, u'open': 17, u'maduro': 6, u'princ': 4, u'romain': 4, u'venezuela': 8, u'red': 7, u'barrier': 5, u'million': 11, u'rebel': 5, u'put': 6, u'could': 6, u'keep': 10, u'tanc\\xedtaro': 4, u'american': 13, u'rais': 5, u'stolen': 4, u'outsid': 5, u'presid': 39, u'south': 9, u'first': 8, u'u s': 35, u'one': 31, u'fujimori': 5, u'stabl': 5, u'miss': 4, u'their': 4, u'system': 4, u'least': 5, u'cash': 7, u'citi': 7, u'attack': 8, u'2': 4, u'statement': 4, u'white': 15, u'bitter': 4, u'friend': 4, u'op ed': 6, u'that': 6, u'hotel': 4, u'took': 4, u'graci': 4, u'part': 8, u'conserv': 5, u'tehran': 4, u'11': 6, u'13': 4, u'17': 4, u'iranian': 8, u'rival': 4, u'rate': 6, u'project': 6, u'north korean': 4, u'pond': 4, u'ghouta': 5, u'say': 23, u'presid donald': 8, u'close': 5, u'need': 8, u'border': 5, u'sell': 4, u'caus': 5, u'reuter report': 4, u'self': 6, u'take': 10, u'advis': 6, u'korean': 4, u'singl': 4, u'irn bru': 4, u'tatsuro': 4, u'price': 5, u'who': 5, u'whi': 6, u'visa': 4, u'eight': 6, u'plan': 13, u'romain lettuc': 4, u'america': 4, u'charg': 6, u'tradit': 4, u'don': 4, u'rescu': 10, u'camp': 7, u'sale': 5, u'doe': 4, u'tech': 5, u'paytm': 6, u'show': 12, u'opposit': 7, u'tatsuro toyoda': 4, u'session': 4, u'state': 19, u'steve bannon': 6, u'busi': 10, u'unit nation': 4, u'over': 8, u'his': 5, u'get': 10, u'watch': 4, u'passeng': 4, u'coast': 8, u'report': 12, u'organ': 4, u'white hous': 14, u'plant': 4, u'tanker': 13, u'leader kim': 4, u'jong un': 6, u'we': 5, u'are': 9, u'sea': 4, u'led': 8, u'last year': 5, u'best': 6, u'korean leader': 4, u'said': 26, u'away': 8, u'use': 8, u'label': 4, u'genius': 5, u'3': 14, u'irn': 4, u'experi': 4, u'across': 8, u'accord': 4, u'korea': 13, u'25': 4, u'jr': 4, u'job': 4, u'cut': 14, u'oil tanker': 11, u'20': 4, u'come': 5, u'jfk': 5, u'water': 6, u'last': 21, u'joke': 4, u'region': 4, u'east coast': 6, u's': 39, u'mani': 6, u'share': 8, u'jersey': 4, u'comment': 5, u'among': 8, u'co': 5, u'cancer': 6, u'golden globe': 27, u'walk': 4, u'news': 7, u'yukon': 4, u'quit': 5, u'1 3': 4, u'bbc': 7, u'three': 7, u'secret': 5, u'threaten': 5, u'firm': 7, u'flight': 7, u'eastern': 5, u'fire': 14, u'befana market': 6, u'child': 6, u'general': 5, u'former': 13, u'east': 6, u'look': 4, u'frozen': 7, u'servic': 12, u'bill': 6, u'crew wrestl': 4, u'air': 8, u'will': 4, u'near': 12, u'32': 4, u'aid': 6, u'china east': 4, u'mexico': 5, u'is': 18, u'it': 22, u'in': 15, u'unit state': 4, u'author': 9, u'media': 4, u'make': 8, u'econom': 6, u'worth 1': 4, u'member': 9, u'speech': 4, u'yangon': 4, u'largest': 4, u'bbc news': 4, u'week': 12, u'oil': 16, u'raid': 4, u'kushner': 8, u'drink': 5, u'donald trump': 14, u'000': 5, u'user': 6, u'kim': 8, u'countri': 13, u'new york': 20, u'expand': 4, u'recent': 9, u'off': 10, u'center': 7, u'i': 5, u'seth': 4, u'their time': 4, u'person': 4, u'1': 11, u'relief': 4, u'the': 88, u'bront\\xeb': 4, u'left': 6, u'presid trump': 11, u'just': 4, u'less': 5, u'money': 7, u'oprah winfrey': 10, u'3 million': 5, u'kill': 7, u'behind': 4, u'taiwan': 4, u'yet': 4, u'death': 8, u'cup': 6, u'drive': 4, u'lake': 5, u'day': 13, u'arrest': 4, u'prison': 6, u'collis': 6, u'tax': 8, u'has': 9, u'app': 9, u'australia': 7, u'around': 7, u'e coli': 4, u'big': 6, u'arab': 7, u'traffic': 4, u'world': 18, u'like': 11, u'lost': 4, u'red carpet': 7, u'toyota': 4, u'kennedi': 4, u'night': 6, u'popular': 5, u'attorney': 5, u'right': 6, u'old': 6, u'motor': 5, u'twitter': 8, u'some': 6, u'back': 7, u'dead': 7, u'intern': 7, u'trucker': 4, u'billboard': 4, u'befana': 6, u'5': 5, u'feder': 4, u'lead': 4, u'said monday': 4, u'moor': 4, u'leav': 6, u'unit': 14, u'cnn': 11, u'leader': 12, u'be': 9, u'investig': 7, u'power': 10, u'intern airport': 4, u'lose': 7, u'agreement': 5, u'step': 6, u'promot': 4, u'from': 7, u'post': 4, u'stage': 5, u'on': 4, u'about': 5, u'island': 8, u'rescu crew': 4, u'industri': 5, u'bannon': 17, u'op': 6, u'own': 5, u'washington': 5, u'lettuc': 4, u'airlin': 8, u'your': 5, u'area': 6, u'new jersey': 4, u'support': 4, u'there': 4, u'long': 4, u'start': 6, u'includ': 5, u'south korea': 6, u'was': 4, u'war': 8, u'fire furi': 4, u'bottl': 8, u'north': 15, u'offer': 4, u'but': 4, u'wrestl': 4, u'link': 4, u'gain': 5, u'russian': 5, u'line': 4, u'with': 13, u'he': 8, u'made': 5, u'trump jr': 4, u'new year': 5, u'donald': 14, u'us': 9, u'un': 8, u'uber': 5, u'year': 38, u'capit': 4, u'an': 7, u'britain': 6, u'at': 5, u'home': 8, u'furi': 4, u'ship': 5, u'face': 6, u'syrian': 7, u'trip': 4, u'film': 4, u'diplomat': 6, u'collid': 4, u'when': 9, u'starbuck': 4, u'detain': 4, u'flood': 6, u'book': 8, u'jong': 6, u'you': 15, u'gas station': 4, u'monday': 16, u'gas': 4, u'pray releas': 4, u'peac': 4, u'tapper': 4, u'femal': 4, u'e': 5, u'invest': 5, u'age': 6, u'u': 35, u'time': 18, u'push': 5, u'decemb': 4, u'rescuer': 4}\n"
     ]
    }
   ],
   "source": [
    "from collections import defaultdict\n",
    "import nltk\n",
    "from nltk.corpus import stopwords\n",
    "from nltk.tokenize import RegexpTokenizer\n",
    "from nltk import ngrams\n",
    "\n",
    "def to_dict(d):\n",
    "    '''helper class – converts defaultdict to regular dict'''\n",
    "    if isinstance(d, defaultdict):\n",
    "        d = {k: to_dict(v) for k, v in d.iteritems()}\n",
    "    return d\n",
    "\n",
    "def getwords_adv(doc):\n",
    "    \n",
    "    #doc = doc.lower()\n",
    "    \n",
    "    #tokenize\n",
    "    tokenizer = RegexpTokenizer(r'\\w+')\n",
    "    tokens = tokenizer.tokenize(doc)\n",
    "    \n",
    "    #remove stopwords\n",
    "    stop_words = set(stopwords.words('english'))\n",
    "    tokens = [word for word in tokens if word not in stop_words]\n",
    "    \n",
    "    #stemming\n",
    "    stemmer = nltk.stem.snowball.SnowballStemmer('english')\n",
    "    tokens = [stemmer.stem(word) for word in tokens]\n",
    "    \n",
    "    #add bigrams\n",
    "    docsting = ' '.join(tokens).strip()\n",
    "    n = 2\n",
    "    n_grams = ngrams(docsting.split(), n)\n",
    "    tokens = tokens + [' '.join(grams) for grams in n_grams]\n",
    "    \n",
    "    #remove words smaller than 4 and bigger than 60\n",
    "    #tokens = [token for token in tokens if len(token) in range(4,60)]\n",
    "    return tokens\n",
    "\n",
    "def getarticlewords(articles):\n",
    "    allwords = defaultdict(int)\n",
    "    articletitles = []\n",
    "    articlewords = []\n",
    "    \n",
    "    for index, row in articles.iterrows():\n",
    "        title = row.loc['title']\n",
    "        fulltext = row.loc['title'] + ' ' + row.loc['text']\n",
    "        # add articletitles\n",
    "        articletitles.append(title)\n",
    "        # add articlewords\n",
    "        words = getwords_adv(fulltext)\n",
    "        wordsdict = defaultdict(int)\n",
    "        for word in words: \n",
    "            wordsdict[word] += 1\n",
    "            # extend allwords\n",
    "            allwords[word] += 1\n",
    "        articlewords.append(wordsdict)\n",
    "    \n",
    "    #remove words where count is lower 4\n",
    "    wordsToRemove = []\n",
    "    for word,count in allwords.items():\n",
    "        if count < 4:\n",
    "            #gather words to be removed\n",
    "            wordsToRemove.append(word)\n",
    "            #remove from allwords\n",
    "            allwords.pop(word, None)\n",
    "    \n",
    "    #remove words from articlewords\n",
    "    for words in articlewords:\n",
    "        for word in wordsToRemove:\n",
    "            words.pop(word, None)\n",
    "    #remove word that are included in more than 30% of all documents\n",
    "    \n",
    "    return allwords,articlewords,articletitles\n",
    "\n",
    "allwords,articlewords,articletitles = getarticlewords(rssfeeds)\n",
    "print len(allwords)\n",
    "print to_dict(articlewords[0])\n",
    "print '\\n',to_dict(allwords)\n",
    "#print to_dict([to_dict(words) for words in articlewords])"
   ]
  },
  {
   "cell_type": "markdown",
   "metadata": {},
   "source": [
    "### Die Funktion _makematrix()_\n",
    "Schreiben Sie eine Funktion _makematrix()_, die aus dem Dictionary _allwords_ und der Liste _articlewords_ (vorige Aufgabe) die Artikel-/Wort-Matrix generiert. Die Einträge in der Matrix sollen die Häufigkeiten der Wörter im jeweiligen Dokument sein (term frequency tf). Die Artikel-/Wort-Matrix soll als 2-dimensionales Numpy Array angelegt werden."
   ]
  },
  {
   "cell_type": "code",
   "execution_count": 103,
   "metadata": {},
   "outputs": [
    {
     "name": "stdout",
     "output_type": "stream",
     "text": [
      "('Total number of documents in the dictionary: ', 283)\n",
      "('Total number of corpus positions: ', 3448)\n",
      "('Total number of non-zeros in the BoW-Matrix: ', 3448)\n",
      "('Total number of different words in the dictionary: ', 546)\n"
     ]
    }
   ],
   "source": [
    "from gensim import corpora, models, similarities\n",
    "\n",
    "def makematrix(docWords):\n",
    "    dictionary = corpora.Dictionary(docWords)\n",
    "    v = dictionary.token2id\n",
    "    A =\n",
    "    print(\"Total number of documents in the dictionary: \",dictionary.num_docs)\n",
    "    print(\"Total number of corpus positions: \",dictionary.num_pos)\n",
    "    print(\"Total number of non-zeros in the BoW-Matrix: \",dictionary.num_nnz)\n",
    "    print(\"Total number of different words in the dictionary: \",len(dictionary))\n",
    "    \n",
    "makematrix(articlewords)"
   ]
  },
  {
   "cell_type": "markdown",
   "metadata": {},
   "source": [
    "## Die Nicht Negative Matrix Faktorisierung\n",
    "Die Implementierung der NNMF ist entsprechend der Beschreibung im Theoriekapitel durchzuführen.\n",
    "\n",
    "* Implementieren Sie die Funktion _cost(A,B)_. Dieser Funktion werden zwei Numpy-Matrizen $A$ und $B$ übergeben. Zurück geliefert werden die nach oben angegebener Formel berechneten Kosten $k$. Diese Funktion wird von der im folgenden beschriebenen Funktion _nnmf(A,m,it)_ benutzt.\n",
    "* Implementieren Sie die Funktion __nnmf(A,m,it)__. In dieser Funktion soll der oben beschriebene Algorithmus für die Nicht-negative Matrix Faktorisierung ausgeführt werden. Der Funktion wird die zu faktorisierende Matrix $A$, die Anzahl der Merkmale $m$ und die Anzahl der Iterationen $it$ übergeben. Die Funktion gibt die gefundenen Faktoren $W$ und $H$ zurück. In jeder Iteration sollen mit der Funktion __cost(A,B)__ die Kosten berechnet werden. Sobald die Kostenabnahme pro 10 Iterationen kleiner als $2$ ist oder eine maximale Anzahl von Iterationen ($maxIt=200$) erreicht ist, soll der Algorithmus mit der Rückgabe der Faktoren $W$ und $H$ terminieren.     \n",
    "\n",
    "\n",
    "Tipp für die Implementierung elementweiser Operationen von Matrizen: Für elementweise Operationen müssen in Python/Numpy nicht alle Elemente über Schleifen explizit berechnet werden. Eine elementweise Anpassung aller Matrixelemente kann kompakt programmiert werden indem die beteiligten Matrizen für diese Operationen als Arrays implementiert werden. Sollen z.B. die beiden gleich großen Numpy Arrays $U$ und $V$ elementweise multipliziert werden, dann wäre der entsprechende Programmcode einfach _U*V_.  "
   ]
  },
  {
   "cell_type": "code",
   "execution_count": null,
   "metadata": {
    "collapsed": true
   },
   "outputs": [],
   "source": [
    "#Your code"
   ]
  },
  {
   "cell_type": "markdown",
   "metadata": {},
   "source": [
    "## Anzeige der Merkmale und der Gewichte\n",
    "\n",
    "Im vorigen Abschnitt wurde die Merkmalsmatrix $H$ und die Gewichtsmatrix $W$ berechnet. Diese Matrizen können natürlich am Bildschirm ausgegeben werden, was jedoch nicht besonders informativ ist. Aus den Matrizen können jedoch die Antworten für die folgenden interessanten Fragen berechnet werden:\n",
    "\n",
    "* In welchen Artikeln sind welche Merkmale stark vertreten?\n",
    "* Wie lassen sich die insgesamt $m$ Merkmale beschreiben, so dass aus dieser Merkmalsbeschreibung klar wird, welches Thema den Artikeln, in denen das Merkmal stark vertreten ist, behandelt wird? \n",
    " \n",
    "Die Antwort auf die erste Frage ergibt sich aus der Gewichtsmatrix $W$. Für die Beantwortung der zweiten Frage wird die Merkmalsmatrix $H$ herangezogen.\n",
    "\n",
    "\n",
    "\n",
    "### Beschreibung der Merkmale\n",
    "\n",
    "Die Merkmalsmatrix $H$ beschreibt, wie stark die Worte aus _wordvec_ in jedem Merkmal enthalten sind. Jede Zeile von $H$ gehört zu einem Merkmal, jede Spalte von $H$ gehört zu einem Wort in _wordvec_.\n",
    "\n",
    "Es bietet sich an jedes Merkmal einfach durch die $N=6$ Wörter aus _wordvec_ zu beschreiben, welche am stärksten in diesem Merkmal enthalten sind. Hierzu muss für jedes Merkmal die entsprechende Zeile in $H$ nach den $N=6$ größten Werten durchsucht bzw. geordnet werden. Die entsprechenden Spalten dieser Matrixelemente verweisen dann auf die $N=6$ wichtigsten Worte des Merkmals.\n",
    "\n",
    "Tipp für die Implementierung: Legen Sie für jedes Merkmal $i$ eine Liste an. Die Listenlänge ist durch die Anzahl der Worte in _wordvec_ (d.h. die Anzahl der Spalten in $H$) gegeben. Jedes Listenelement $j$ enthält selbst wieder 2 Elemente: An erster Stelle den entsprechenden Wert $H_{i,j}$ der Merkmalsmatrix, an der zweiten Stelle das $j.$-te Wort in _wordvec_. Nachdem die Liste angelegt ist, kann sie mit _listname.sort()_ in aufsteigender Reihenfolge sortiert werden. Die abnehmende Sortierung erhält man mit _listname.sort().reverse()_. Danach geben die $N=6$ ersten Listenelemente die für das Merkmal $i$ wichtigsten Worte an.\n",
    "\n",
    "   \n",
    "### Präsenz der Merkmale in den Artikeln\n",
    "\n",
    "Die Gewichtsmatrix $W$ beschreibt, wie stark die $m$ Merkmale in den Artikeln aus _articletitles_ enthalten sind. Jede Zeile von $W$ gehört zu einem Artikel, jede Spalte von $W$ gehört zu einem Merkmal.\n",
    "Die Berechnung der $M=2$ gewichtigsten Merkmale für jeden Artikel in _articletitles_ kann analog zu der oben beschriebenen Berechnung der $N=6$ wichtigsten Worte eines Merkmals berechnet werden.\n",
    "\n",
    "\n",
    "### Implementierung\n",
    "\n",
    "Implementieren Sie eine Funktion _showfeatures(w,h,titles,wordvec)_, welche wie oben beschrieben für jeden Artikel die $M=2$ wichtigsten Merkmale am Bildschirm ausgibt. Dabei soll jedes Merkmal durch die 6 wichtigsten Wörter dieses Merkmals angegeben werden. Siehe Beispielausgabe unten.  \n",
    "\n",
    "Übergabeparameter der Funktion sind die Merkmalsmatrix $H$, die Gewichtungsmatrix $W$, die Liste aller Artikeltitel _articletitles_ und die Liste aller Worte _wordvec_.\n",
    "\n",
    "\n",
    "Beispiel fuer Ausgabe:"
   ]
  },
  {
   "cell_type": "markdown",
   "metadata": {},
   "source": [
    "[(13.54131155883748, 13, u'Putin vows payback after confirmation of Egypt plane bomb'),\n",
    "\n",
    "(2.2466669548146254, 9, u'Putin vows payback after confirmation of Egypt plane bomb')]\n",
    "\n",
    "----- ['plane', 'egypt', 'russia', 'month', 'killing', 'putin']\n",
    "\n",
    "----- ['airport', 'russian', 'crash', 'egypt', 'security', 'officials']"
   ]
  },
  {
   "cell_type": "markdown",
   "metadata": {},
   "source": [
    "Die Ausgabe ist wie folgt zu interpretieren:\n",
    "* Für den Artikel _Putin vows payback after confirmation of Egypt plane bomb_ ist \n",
    "    * das wichtigste Merkmal durch die 6 Wörter _plane_, _egypt_, _russia_, _month_, _killing_, _putin_ definiert. Das Gewicht dieses Merkmals im Artikel ist 13.54\n",
    "    * das zweitwichtigste Merkmal durch die 6 Wörter _airport_, _russian_, _crash_, _egypt_, _security_, _officials_ definiert. Das Gewicht dieses Merkmals im Artikel ist 2.24"
   ]
  },
  {
   "cell_type": "code",
   "execution_count": null,
   "metadata": {
    "collapsed": true
   },
   "outputs": [],
   "source": [
    "#Your code"
   ]
  },
  {
   "cell_type": "markdown",
   "metadata": {},
   "source": [
    "## Aufgaben\n",
    "\n",
    "1. Analysieren Sie die berechneten Topics indem Sie sich überlegen ob die gefundenen 6 Wörter pro Topic wirklich Themen beschreiben.\n",
    "2. Verändern Sie die Parameter der NNMF (Anzahl der Topics $m$, Anzahl der Iterationen). Bei welcher Einstellung der Parameter erhalten Sie das für sie sinnvollste Resultat (sinnvolle Topics)?\n",
    "3. Wie kann die _getwords()_ Methode verbessert werden, so dass noch bedeutsamere Topics gefunden werden? "
   ]
  },
  {
   "cell_type": "code",
   "execution_count": 7,
   "metadata": {
    "collapsed": true
   },
   "outputs": [],
   "source": [
    "#Your markdown"
   ]
  },
  {
   "cell_type": "code",
   "execution_count": null,
   "metadata": {
    "collapsed": true
   },
   "outputs": [],
   "source": []
  }
 ],
 "metadata": {
  "kernelspec": {
   "display_name": "Python 2",
   "language": "python",
   "name": "python2"
  },
  "language_info": {
   "codemirror_mode": {
    "name": "ipython",
    "version": 2
   },
   "file_extension": ".py",
   "mimetype": "text/x-python",
   "name": "python",
   "nbconvert_exporter": "python",
   "pygments_lexer": "ipython2",
   "version": "2.7.13"
  },
  "nav_menu": {},
  "toc": {
   "navigate_menu": true,
   "number_sections": true,
   "sideBar": true,
   "threshold": 6,
   "toc_cell": false,
   "toc_section_display": "block",
   "toc_window_display": false
  }
 },
 "nbformat": 4,
 "nbformat_minor": 1
}
