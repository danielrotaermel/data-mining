{
 "cells": [
  {
   "cell_type": "markdown",
   "metadata": {},
   "source": [
    "# Data Mining Versuch Mobile User Analysis and Gender-Age-Group Prediction\n",
    "* Autor: Prof. Dr. Johannes Maucher\n",
    "* Datum: 04.10.2016\n",
    "\n",
    "[Übersicht Ipython Notebooks im Data Mining Praktikum](Data Mining Praktikum.ipynb)"
   ]
  },
  {
   "cell_type": "markdown",
   "metadata": {},
   "source": [
    "# Einführung\n",
    "\n",
    "## Kurzbeschreibung:\n",
    "\n",
    "In diesem Versuch werden die im Rahmen eines Kaggle-Contest [von _TalkingData_ bereitgestellten Daten](https://www.kaggle.com/c/talkingdata-mobile-user-demographics/data) analysiert. Die Daten enthalten für eine große Menge chinesischer User, Angaben zur Marke und Modell des Smartphones und zu den installierten und aktiven Apps. Ziel ist es aus den zur Verfügung stehenden Trainingsdaten ein Modell zu erlernen, das die Klassifikation der User in die jeweilige Gender-Age-Gruppe erlaubt. Für die Lösung dieser Aufgabe müssen sämtliche Schritte der Data Mining Prozesskette implementiert werden:\n",
    "\n",
    "1. Datenbeschaffung und Zugriff\n",
    "2. Datenauswahl: Welche der vorhandenen Daten sind für die gegebene Aufgabe tatsächlich relevant\n",
    "3. Datenbereinigung: Wie wird mit fehlenden und fehlerhaften Daten umgegangen?\n",
    "4. Datentransformation: Wie können aus den vorhandenen Daten informative Mermale gewonnen werden?\n",
    "5. Modellbildung: Unüberwachtes oder überwachtes erlernen eines Modells; Clustering-, Klassifikations- oder Regressionsmodell.\n",
    "6. Evaluation, Visualisierung und Interpretation der Daten/Ergebnisse\n",
    "\n",
    "## Lernziele:\n",
    "In diesem Versuch sollen Kenntnisse in folgenden Themen vermittelt werden:\n",
    "\n",
    "* Zugriff auf Daten in .csv Files\n",
    "* Zugriff auf Daten in SQLite Files\n",
    "* Statistische Analyse und Visualisierung von Daten\n",
    "* Implementierung der oben genannten Data Mining Prozessschritte, insbesondere:\n",
    "\n",
    "    * Feature-Engineering: Berechnung von für die gegebene Aufgabe relevanter Daten aus Rohdaten\n",
    "    * Clustering (unüberwachtes Lernen) \n",
    "    * Klassifikation/Prädiktion (überwachtes Lernen) mit verschiedenen Machine Learning Verfahren\n",
    "    * Evaluation von Klassifikationsverfahren\n",
    "\n",
    "## Aufgaben zur Vorbereitung\n",
    "\n",
    "1. Laden Sie die Daten entweder vom Skripteserver oder direkt von [Kaggle](https://www.kaggle.com/c/talkingdata-mobile-user-demographics/data) herunter und versuchen Sie die Daten anhand dieser [Beschreibung](https://www.kaggle.com/c/talkingdata-mobile-user-demographics/data) zu verstehen.\n",
    "2. In diesem Versuch soll die Gender-Age-Group von Smartphone-Usern vorhergesagt werden. Überlegen Sie sich welche der vorhandenen Daten für diese Vorhersage relevant sein könnten.\n",
    "3. Für die Vorhersage kann ein beliebiger Klassifikationsalgorithmus aus dem Bereich des überwachten Lernens eingesetzt werden. Das Prinzip des überwachten Lernens und das entsprechende Testen des gelernten Modells ist in der unten aufgeführten Abbildung dargestellt. Machen Sie sich mit diesem Prinzip vertraut.\n",
    "\n",
    "4. Für das überwachte Lernen sind gelabelte Daten (Soll-Ausgabe) notwendig. In diesem Versuch ist die Ausgabe die Gender-Age-Group der User. Im File *gender\\_age\\_train.csv* ist für 74645 User (devices) die zugehörigen Gender-Age-Group angegeben. Die Menge aller gelabelten Daten muss für die Modellvalidierung in disjunkte Trainings- und Testpartitionen unterteilt werden. In diesem Versuch kommt sowohl eine einfache Partitionierung in Trainings- und Testdaten als auch eine Kreuzvalidierung zum Einsatz ([KI-Vorlesung](https://www.mi.hdm-stuttgart.de/mib/studium/intern/skripteserver/skripte/Einfuehrung_Kuenstliche_Intelligenz/WS1516/06_PartLernen1.pdf)). Machen Sie sich mit dem Prinzip der Kreuzvalidierung (Abbildung unten) vertraut.\n",
    "\n",
    "5. Den meisten Machine Learning-Algorithmen können kategoriale Parameter nicht direkt übergeben werden. Diese Parameter werden typisch *One-Hot* encodiert. Machen Sie sich mit diesem Prinzip vertraut.\n",
    "\n",
    "6. In diesem Versuch soll ein Multilayer-Perzeptron (MLP) als Klassifikator eingesetzt werden. Machen Sie sich mit dem MLP vertraut. [KI-Vorlesung](https://www.mi.hdm-stuttgart.de/mib/studium/intern/skripteserver/skripte/Einfuehrung_Kuenstliche_Intelligenz/WS1516/09_PartLernen4.pdf), [MLP in Scikit-Learn](http://scikit-learn.org/stable/modules/neural_networks_supervised.html).\n",
    "\n",
    "**Prinzip überwachtes Lernen und Validierung:**\n",
    "![Prinzip überwachtes Lernen](https://www.hdm-stuttgart.de/~maucher/ipnotebooks/DataMining//Bilder/SupervisedLarningSchemaValidation.png \"Überwachtes Lernen Schema\")\n",
    "\n",
    "\n",
    "\n",
    "\n",
    "\n",
    "**Prinzip der 10-fachen Kreuzvalidierung:**\n",
    "\n",
    "![Kreuzvalidierung](https://www.hdm-stuttgart.de/~maucher/ipnotebooks/DataMining//Bilder/CrossValidation.jpg \"Cross-Validation\")"
   ]
  },
  {
   "cell_type": "markdown",
   "metadata": {},
   "source": [
    "# Durchführung\n",
    "## Datenzugriff\n",
    "Die Daten sind in insgesamt 7 .csv Files organisiert (das File sample_submission.csv wird nicht benötigt). Die einzelnen .csv Dateien sind z.T. sehr groß. In diesem Fall bietet es sich an, nicht das ganze File in einen Pandas-Dataframe zu laden, sondern das .csv-File zunächst in eine Datenbank zu schreiben und dann auf diese dediziert zuzugreifen. \n",
    "\n",
    "_Tipp:_ Mit der auf dem Skripteserver bereitgestellten Datei _brandMap.txt_, können die chinesischen Schriftzeichen in den Markennamen übersetzt werden.\n",
    "\n",
    "**Aufgaben:**\n",
    "\n",
    "1. Lesen Sie jedes der .csv Files in chunks von jeweils ca. 20000 Zeilen in einen Pandas Dataframe ein und schreiben Sie die Daten chunk für chunk in eine SQLite Database. Für das Einlesen ist die Pandas-Methode [read_csv()](http://pandas.pydata.org/pandas-docs/stable/generated/pandas.read_csv.html) mit dem Parameter _chunksize_ zu verwenden. Für das schreiben der Daten aus dem Pandas Dataframe in die SQLite Datenbank ist die Pandas-Methode [to_sql()](http://pandas.pydata.org/pandas-docs/stable/generated/pandas.DataFrame.to_sql.html) zu verwenden. Für jedes .csv File soll in der SQLite-DB eine eigene Tabelle angelegt werden. Als DB-connector soll eine engine-Instanz des _SQLAlchemy_-Pakets mit der Methode create\\_engine() angelegt werden. Siehe z.B. [SQLAlchemy Doku](http://docs.sqlalchemy.org/en/latest/core/engines.html).\n",
    "\n",
    "2. Nachdem alle Tabellen der DB angelegt sind, sollen aus jeder Tabelle die ersten 10 Zeilen mit der Pandas Methode [read_sql_query()](http://pandas.pydata.org/pandas-docs/stable/generated/pandas.read_sql_query.html) abgefragt und angezeigt werden. Ausserdem ist für jede Tabelle die Größe (Anzahl der Zeilen) auszugeben.\n",
    "3. Wie viele verschiedene devices befinden sich in der Tabelle, welche die Daten aus gender\\_age\\_train.csv enthält?\n",
    "4. Wie viele verschiedene devices befinden sich in der Tabelle, welche die Daten aus events.csv enthält?\n",
    "5. Wie viele verschiedene devices kommen in beiden dieser Tabellen vor? \n"
   ]
  },
  {
   "cell_type": "code",
   "execution_count": 1,
   "metadata": {},
   "outputs": [],
   "source": [
    "# startup init\n",
    "from sklearn.cluster import DBSCAN\n",
    "from sklearn.preprocessing import StandardScaler\n",
    "import matplotlib.pyplot as plt\n",
    "import matplotlib.colors as colors\n",
    "import matplotlib.dates as mdates\n",
    "import matplotlib.patches as mpatches\n",
    "import datetime\n",
    "\n",
    "import json\n",
    "import pandas as pd\n",
    "import sqlite3 as sq\n",
    "import glob\n",
    "import numpy as np\n",
    "import os\n",
    "import matplotlib.pyplot as plt\n",
    "import gmaps\n",
    "from sqlalchemy import create_engine\n",
    "engine = create_engine('sqlite:///MobileUser.db')\n",
    "\n",
    "#Connect sqlite\n",
    "conn = engine.connect()"
   ]
  },
  {
   "cell_type": "code",
   "execution_count": 5,
   "metadata": {},
   "outputs": [
    {
     "name": "stdout",
     "output_type": "stream",
     "text": [
      "stored gender_age_brand_train\n",
      "stored phone_brand_device_model\n",
      "stored gender_age_test\n",
      "stored app_labels\n",
      "stored label_categories\n",
      "stored events\n",
      "stored app_events\n",
      "stored gender_age_train\n",
      "stored sample_submission\n"
     ]
    }
   ],
   "source": [
    "#1\n",
    "def readinchunks(tablename,conn,filename,chunksize):\n",
    "    for chunk in pd.read_csv(filename, chunksize=20000, iterator=True, encoding='utf-8'):\n",
    "        chunk.to_sql(name=tablename, con=conn, if_exists='append')\n",
    "    print 'stored', tablename\n",
    "        \n",
    "#Read all CSVs\n",
    "chunksize = 20000\n",
    "path = \"Ressource/Data/GenderAgePrediction/*.csv\"\n",
    "for filename in glob.glob(path):\n",
    "    \n",
    "    rawdata = pd.DataFrame()\n",
    "    #pd.read_csv(filename)\n",
    "    \n",
    "    tablename = filename.replace('.csv','').split('/')[-1]\n",
    "    \n",
    "    readinchunks(tablename,conn,filename,chunksize)"
   ]
  },
  {
   "cell_type": "code",
   "execution_count": null,
   "metadata": {},
   "outputs": [],
   "source": [
    "#Übersetzung\n",
    "'''\n",
    "def removeEmptyLines(filename):\n",
    "    if not os.path.isfile(filename):\n",
    "        print(\"{} does not exist \".format(filename))\n",
    "        return\n",
    "    with open(filename) as filehandle:\n",
    "        lines = filehandle.readlines()\n",
    "    with open(filename, 'w') as filehandle:\n",
    "        lines = filter(lambda x: x.strip(), lines)\n",
    "        filehandle.writelines(lines)\n",
    "#removeEmptyLines('Ressource/Data/GenderAgePrediction/brandMap.txt')\n",
    "translation = open('Ressource/Data/GenderAgePrediction/brandMap.txt', 'r').read()\n",
    "'''\n",
    "translations =  np.genfromtxt(r'Ressource/Data/GenderAgePrediction/brandMap.txt', delimiter=' ', dtype='string')\n",
    "\n",
    "for translation in translations:\n",
    "    #print trans[0] trans[1]\n",
    "    conn.execute(\"UPDATE phone_brand_device_model SET phone_brand = \\'\" + translation[1] + \"\\' WHERE phone_brand=\\'\" + translation[0].decode('utf8') +\"\\'\")          "
   ]
  },
  {
   "cell_type": "code",
   "execution_count": 45,
   "metadata": {},
   "outputs": [
    {
     "name": "stdout",
     "output_type": "stream",
     "text": [
      "table: app_events\n",
      "count: 32473067\n",
      "   index  event_id               app_id  is_installed  is_active\n",
      "0      0         2  5927333115845830913             1          1\n",
      "1      1         2 -5720078949152207372             1          0\n",
      "2      2         2 -1633887856876571208             1          0\n",
      "3      3         2  -653184325010919369             1          1\n",
      "4      4         2  8693964245073640147             1          1\n",
      "5      5         2  4775896950989639373             1          1\n",
      "6      6         2 -8022267440849930066             1          0\n",
      "7      7         2  9112463267739110219             1          0\n",
      "8      8         2 -3725672010020973973             1          0\n",
      "9      9         2  7167114343576723123             1          1\n",
      "\n",
      "\n",
      "table: app_labels\n",
      "count: 459943\n",
      "   index               app_id  label_id\n",
      "0      0  7324884708820027918       251\n",
      "1      1 -4494216993218550286       251\n",
      "2      2  6058196446775239644       406\n",
      "3      3  6058196446775239644       407\n",
      "4      4  8694625920731541625       406\n",
      "5      5  8694625920731541625       407\n",
      "6      6  1977658975649789753       406\n",
      "7      7  1977658975649789753       407\n",
      "8      8  7311663864768030840       256\n",
      "9      9  5902120154267999338       256\n",
      "\n",
      "\n",
      "table: events\n",
      "count: 3252950\n",
      "   index  event_id            device_id            timestamp  longitude  \\\n",
      "0      0         1    29182687948017175  2016-05-01 00:55:25     121.38   \n",
      "1      1         2 -6401643145415154744  2016-05-01 00:54:12     103.65   \n",
      "2      2         3 -4833982096941402721  2016-05-01 00:08:05     106.60   \n",
      "3      3         4 -6815121365017318426  2016-05-01 00:06:40     104.27   \n",
      "4      4         5 -5373797595892518570  2016-05-01 00:07:18     115.88   \n",
      "5      5         6  1476664663289716375  2016-05-01 00:27:21       0.00   \n",
      "6      6         7  5990807147117726237  2016-05-01 00:15:13     113.73   \n",
      "7      7         8  1782450055857303792  2016-05-01 00:15:35     113.94   \n",
      "8      8         9 -2073340001552902943  2016-05-01 00:15:33       0.00   \n",
      "9      9        10 -8195816569128397698  2016-05-01 00:41:31     119.34   \n",
      "\n",
      "   latitude  \n",
      "0     31.24  \n",
      "1     30.97  \n",
      "2     29.70  \n",
      "3     23.28  \n",
      "4     28.66  \n",
      "5      0.00  \n",
      "6     23.00  \n",
      "7     34.70  \n",
      "8      0.00  \n",
      "9     26.04  \n",
      "\n",
      "\n",
      "table: gender_age_brand_train\n",
      "count: 74839\n",
      "   level_0  Unnamed: 0  index            device_id gender  age agegroup  \\\n",
      "0        0           0      0 -8076087639492063270      M   35   M32-38   \n",
      "1        1           1      1 -2897161552818060146      M   35   M32-38   \n",
      "2        2           2      2 -8260683887967679142      M   35   M32-38   \n",
      "3        3           3      3 -4938849341048082022      M   30   M29-31   \n",
      "4        4           4      4   245133531816851882      M   30   M29-31   \n",
      "5        5           5      5 -1297074871525174196      F   24   F24-26   \n",
      "6        6           6      6   236877999787307864      M   36   M32-38   \n",
      "7        7           7      7 -8098239495777311881      M   38   M32-38   \n",
      "8        8           8      8   176515041953473526      M   33   M32-38   \n",
      "9        9           9      9  1596610250680140042      F   36   F33-42   \n",
      "\n",
      "     brand  \n",
      "0   xiaomi  \n",
      "1   xiaomi  \n",
      "2   xiaomi  \n",
      "3   xiaomi  \n",
      "4   xiaomi  \n",
      "5     OPPO  \n",
      "6  coolpad  \n",
      "7   xiaomi  \n",
      "8     vivo  \n",
      "9  samsung  \n",
      "\n",
      "\n",
      "table: gender_age_test\n",
      "count: 112071\n",
      "   index            device_id\n",
      "0      0  1002079943728939269\n",
      "1      1 -1547860181818787117\n",
      "2      2  7374582448058474277\n",
      "3      3 -6220210354783429585\n",
      "4      4 -5893464122623104785\n",
      "5      5 -7560708697029818408\n",
      "6      6   289797889702373958\n",
      "7      7  -402874006399730161\n",
      "8      8  5751283639860028129\n",
      "9      9  -848943298935149395\n",
      "\n",
      "\n",
      "table: gender_age_train\n",
      "count: 74645\n",
      "   index            device_id gender  age agegroup\n",
      "0      0 -8076087639492063270      M   35   M32-38\n",
      "1      1 -2897161552818060146      M   35   M32-38\n",
      "2      2 -8260683887967679142      M   35   M32-38\n",
      "3      3 -4938849341048082022      M   30   M29-31\n",
      "4      4   245133531816851882      M   30   M29-31\n",
      "5      5 -1297074871525174196      F   24   F24-26\n",
      "6      6   236877999787307864      M   36   M32-38\n",
      "7      7 -8098239495777311881      M   38   M32-38\n",
      "8      8   176515041953473526      M   33   M32-38\n",
      "9      9  1596610250680140042      F   36   F33-42\n",
      "\n",
      "\n",
      "table: label_categories\n",
      "count: 930\n",
      "   index  label_id              category\n",
      "0      0         1                  None\n",
      "1      1         2        game-game type\n",
      "2      2         3      game-Game themes\n",
      "3      3         4        game-Art Style\n",
      "4      4         5     game-Leisure time\n",
      "5      5         6   game-Cutting things\n",
      "6      6         7    game-Finding fault\n",
      "7      7         8  game-stress reliever\n",
      "8      8         9              game-pet\n",
      "9      9        10           game-Answer\n",
      "\n",
      "\n",
      "table: phone_brand_device_model\n",
      "count: 187245\n",
      "   index            device_id phone_brand   device_model\n",
      "0      0 -8890648629457979026      xiaomi             红米\n",
      "1      1  1277779817574759137      xiaomi           MI 2\n",
      "2      2  5137427614288105724     samsung      Galaxy S4\n",
      "3      3  3669464369358936369       SUGAR           时尚手机\n",
      "4      4 -5019277647504317457     samsung  Galaxy Note 2\n",
      "5      5  3238009352149731868      huawei           Mate\n",
      "6      6 -3883532755183027260      xiaomi          MI 2S\n",
      "7      7 -2972199645857147708      huawei          G610S\n",
      "8      8 -5827952925479472594      xiaomi    MI One Plus\n",
      "9      9 -8262508968076336275        vivo            S7I\n",
      "\n",
      "\n",
      "table: sample_submission\n",
      "count: 112071\n",
      "   index            device_id    F23-  F24-26  F27-28  F29-32  F33-42    F43+  \\\n",
      "0      0  1002079943728939269  0.0833  0.0833  0.0833  0.0833  0.0833  0.0833   \n",
      "1      1 -1547860181818787117  0.0833  0.0833  0.0833  0.0833  0.0833  0.0833   \n",
      "2      2  7374582448058474277  0.0833  0.0833  0.0833  0.0833  0.0833  0.0833   \n",
      "3      3 -6220210354783429585  0.0833  0.0833  0.0833  0.0833  0.0833  0.0833   \n",
      "4      4 -5893464122623104785  0.0833  0.0833  0.0833  0.0833  0.0833  0.0833   \n",
      "5      5 -7560708697029818408  0.0833  0.0833  0.0833  0.0833  0.0833  0.0833   \n",
      "6      6   289797889702373958  0.0833  0.0833  0.0833  0.0833  0.0833  0.0833   \n",
      "7      7  -402874006399730161  0.0833  0.0833  0.0833  0.0833  0.0833  0.0833   \n",
      "8      8  5751283639860028129  0.0833  0.0833  0.0833  0.0833  0.0833  0.0833   \n",
      "9      9  -848943298935149395  0.0833  0.0833  0.0833  0.0833  0.0833  0.0833   \n",
      "\n",
      "     M22-  M23-26  M27-28  M29-31  M32-38    M39+  \n",
      "0  0.0833  0.0833  0.0833  0.0833  0.0833  0.0833  \n",
      "1  0.0833  0.0833  0.0833  0.0833  0.0833  0.0833  \n",
      "2  0.0833  0.0833  0.0833  0.0833  0.0833  0.0833  \n",
      "3  0.0833  0.0833  0.0833  0.0833  0.0833  0.0833  \n",
      "4  0.0833  0.0833  0.0833  0.0833  0.0833  0.0833  \n",
      "5  0.0833  0.0833  0.0833  0.0833  0.0833  0.0833  \n",
      "6  0.0833  0.0833  0.0833  0.0833  0.0833  0.0833  \n",
      "7  0.0833  0.0833  0.0833  0.0833  0.0833  0.0833  \n",
      "8  0.0833  0.0833  0.0833  0.0833  0.0833  0.0833  \n",
      "9  0.0833  0.0833  0.0833  0.0833  0.0833  0.0833  \n",
      "\n",
      "\n"
     ]
    }
   ],
   "source": [
    "#2\n",
    "\n",
    "tablelist = list(conn.execute(\"SELECT name FROM sqlite_master WHERE type='table' ORDER BY name;\"))\n",
    "for row in tablelist:\n",
    "    print 'table:', row['name']\n",
    "    print 'count:', conn.execute(\"SELECT MAX(_ROWID_) FROM \"  + row['name']).fetchone()[0]\n",
    "    print pd.read_sql_query(\"select * from \" + row['name'] + \" limit 10\", conn)\n",
    "#    print \"sql: select * from \" + row['name'] + \" limit 10\"\n",
    "    print '\\n'\n",
    "\n",
    "#for filename in glob.glob(path):\n",
    "#    name = filename.replace('.csv','').split('/')[-1]\n",
    "#    print 'table: ' + name\n",
    "#    print 'count:', conn.execute(\"SELECT MAX(_ROWID_) FROM \"  + name).fetchone()[0]\n",
    "#    print pd.read_sql_query(\"select * from \" + name + \" limit 10\", conn)\n",
    "#    print '\\n'\n"
   ]
  },
  {
   "cell_type": "code",
   "execution_count": 56,
   "metadata": {},
   "outputs": [
    {
     "name": "stdout",
     "output_type": "stream",
     "text": [
      "device ids: 74645\n"
     ]
    }
   ],
   "source": [
    "#3\n",
    "device_ids = conn.execute(\"SELECT DISTINCT count(device_id) FROM gender_age_train\").fetchone()[0]\n",
    "print 'device ids:', device_ids"
   ]
  },
  {
   "cell_type": "code",
   "execution_count": 51,
   "metadata": {},
   "outputs": [
    {
     "name": "stdout",
     "output_type": "stream",
     "text": [
      "event device ids: 60865\n"
     ]
    }
   ],
   "source": [
    "#4\n",
    "event_device_ids = conn.execute(\"SELECT count(DISTINCT device_id) FROM events\").fetchone()[0]\n",
    "print 'event device ids:', event_device_ids\n"
   ]
  },
  {
   "cell_type": "code",
   "execution_count": 55,
   "metadata": {},
   "outputs": [
    {
     "name": "stdout",
     "output_type": "stream",
     "text": [
      "common ids: 23309\n"
     ]
    }
   ],
   "source": [
    "#5\n",
    "common_ids = conn.execute(\"SELECT count(DISTINCT events.device_id) FROM events INNER JOIN gender_age_train ON events.device_id = gender_age_train.device_id;\").fetchone()[0]\n",
    "print 'common ids:', common_ids"
   ]
  },
  {
   "cell_type": "markdown",
   "metadata": {
    "collapsed": true
   },
   "source": [
    "## Deskriptive Statistik\n",
    "\n",
    "In der obigen Teilaufgabe sollte die Schnittstelle zwischen Pandas Dataframes und Datenbanken (hier SQLite) demonstriert werden. Diese Art von Datenhandling eignet sich besonders im Fall sehr großer Datenmengen, die nicht im Arbeitsspeicher gehalten werden können. Die Dateien in diesem Versuch sind tatsächlich nicht so groß, dass sie nicht als ganzes in Pandas-Dataframes geladen werden könnten. In allen folgenden Teilversuchen ist Ihnen freigestellt, ob Sie mit der Datenbank-Variante oder der in-memory Variante (alle Daten im Pandas-Dataframe) arbeiten.\n",
    "\n",
    "### Verteilung der User über die Gender-Age-Gruppen\n",
    "\n",
    "Die Menge aller User wird in 12 verschiedene Gender-Age-Groups unterteilt. Bestimmen Sie die Verteilung der User in der gender\\_age\\_train-Tabelle über diese 12 Gruppen und viusalisieren Sie diese Verteilung in einem [Matplolib Bar Chart](http://matplotlib.org/api/pyplot_api.html). \n",
    " "
   ]
  },
  {
   "cell_type": "code",
   "execution_count": 19,
   "metadata": {},
   "outputs": [
    {
     "data": {
      "image/png": "[encoded data removed]",
      "text/plain": [
       "<matplotlib.figure.Figure at 0x10e2bee50>"
      ]
     },
     "metadata": {},
     "output_type": "display_data"
    }
   ],
   "source": [
    "genderagegroupscount = pd.read_sql_query(\"SELECT distinct agegroup, COUNT(device_id) AS `count` FROM gender_age_train GROUP BY agegroup\", conn)\n",
    "#print genderagegroupscount\n",
    "\n",
    "genderagegroupscount.plot(kind='bar', figsize=(15,15))\n",
    "plt.xticks(genderagegroupscount.index.values, genderagegroupscount['agegroup'], rotation=45)\n",
    "plt.show()"
   ]
  },
  {
   "cell_type": "markdown",
   "metadata": {},
   "source": [
    "### Verteilung der User über die Smartphone-Marken\n",
    "\n",
    "1. Bestimmen Sie die Anzahl der verschiedenen Devices und die Anzahl der verschiedenen Marken in der Tabelle *phone\\_brand\\_device\\_model*.\n",
    "2. Fügen Sie dem Pandas Dataframe mit der *gender_age_train*-Tabelle eine Spalte _brand_ hinzu und schreiben Sie in diese Spalte den Markennamen des zur jeweiligen Zeile gehörenden Device.\n",
    "3. Schreiben Sie den um den Markennamen erweiterten Dataframe in ein File *gender\\_age\\_brand\\_train.csv*.\n",
    "4. Bestimmmen Sie mittels der Dataframe-Methode *value_counts()* die Anzahl der Devices pro Marke.\n",
    "5. Stellen Sie diese Verteilung der Devices über die Marken für die 20 häufigsten Marken grafisch mit einem *Matplotlib-bar-chart dar.*\n",
    "6. Untersuchen Sie jetzt die Verteilung der Devices über die Marken pro Gender-Age-Group. Gibt es eine Korrelation zwischen Gender-Age-Group und Häufigkeit der Marken? Überlegen sie sich eine Visualisierung mit der eine derartige Korrelation bestätigt oder widerlegt werden kann. Implementieren Sie die Visualisierung und zeigen Sie anhand dieser Visualisierung mögliche Korrelationen zwischen Gender-Age-Group und Markenhäufigkeit. "
   ]
  },
  {
   "cell_type": "code",
   "execution_count": 20,
   "metadata": {},
   "outputs": [
    {
     "name": "stdout",
     "output_type": "stream",
     "text": [
      "Verschiedene Devices:  186716\n",
      "Verschiedene Marken:  130\n"
     ]
    }
   ],
   "source": [
    "#1\n",
    "print \"Verschiedene Devices: \", conn.execute(\"SELECT count(DISTINCT device_id) FROM phone_brand_device_model;\").fetchone()[0]\n",
    "print \"Verschiedene Marken: \", conn.execute(\"SELECT count(DISTINCT phone_brand) FROM phone_brand_device_model;\").fetchone()[0]"
   ]
  },
  {
   "cell_type": "code",
   "execution_count": 27,
   "metadata": {},
   "outputs": [
    {
     "name": "stdout",
     "output_type": "stream",
     "text": [
      "   index            device_id gender  age agegroup    brand\n",
      "0      0 -8076087639492063270      M   35   M32-38   xiaomi\n",
      "1      1 -2897161552818060146      M   35   M32-38   xiaomi\n",
      "2      2 -8260683887967679142      M   35   M32-38   xiaomi\n",
      "3      3 -4938849341048082022      M   30   M29-31   xiaomi\n",
      "4      4   245133531816851882      M   30   M29-31   xiaomi\n",
      "5      5 -1297074871525174196      F   24   F24-26     OPPO\n",
      "6      6   236877999787307864      M   36   M32-38  coolpad\n",
      "7      7 -8098239495777311881      M   38   M32-38   xiaomi\n",
      "8      8   176515041953473526      M   33   M32-38     vivo\n",
      "9      9  1596610250680140042      F   36   F33-42  samsung\n"
     ]
    }
   ],
   "source": [
    "#2\n",
    "print type (pd.read_sql_query(\"SELECT * FROM  gender_age_train;\", conn))\n",
    "\n",
    "extendedDataFrame = pd.read_sql_query(\"SELECT gender_age_train.*, phone_brand as brand FROM gender_age_train LEFT JOIN phone_brand_device_model on phone_brand_device_model.device_id = gender_age_train.device_id;\", conn)\n",
    "\n",
    "print extendedDataFrame.head(10)"
   ]
  },
  {
   "cell_type": "code",
   "execution_count": 22,
   "metadata": {},
   "outputs": [],
   "source": [
    "#3 gender_age_brand_train.csv\n",
    "extendedDataFrame.to_csv(path_or_buf=\"Ressource/Data/GenderAgePrediction/gender_age_brand_train.csv\", encoding='utf-8')"
   ]
  },
  {
   "cell_type": "code",
   "execution_count": 28,
   "metadata": {},
   "outputs": [
    {
     "name": "stdout",
     "output_type": "stream",
     "text": [
      "xiaomi     17336\n",
      "samsung    13706\n",
      "huawei     13001\n",
      "OPPO        5802\n",
      "vivo        5658\n",
      "meizu       4710\n",
      "coolpad     3349\n",
      "lenovo      2695\n",
      "gionee      1124\n",
      "HTC         1015\n",
      "Name: brand, dtype: int64\n"
     ]
    }
   ],
   "source": [
    "#4\n",
    "devicesByBrands = extendedDataFrame['brand'].value_counts()\n",
    "print devicesByBrands.head(10)"
   ]
  },
  {
   "cell_type": "code",
   "execution_count": 61,
   "metadata": {},
   "outputs": [
    {
     "data": {
      "image/png": "[encoded data removed]",
      "text/plain": [
       "<matplotlib.figure.Figure at 0x10a9956d0>"
      ]
     },
     "metadata": {},
     "output_type": "display_data"
    }
   ],
   "source": [
    "#5\n",
    "#print type(devicesByBrands)\n",
    "devicesByBrands.head(10).plot(x=\"brand\", y=\"dtype\", figsize=(15,5), kind='bar')\n",
    "plt.show()"
   ]
  },
  {
   "cell_type": "code",
   "execution_count": 25,
   "metadata": {},
   "outputs": [
    {
     "data": {
      "image/png": "[encoded data removed]",
      "text/plain": [
       "<matplotlib.figure.Figure at 0x10ef3de50>"
      ]
     },
     "metadata": {},
     "output_type": "display_data"
    }
   ],
   "source": [
    "ageGroups = pd.read_sql_query(\"SELECT DISTINCT agegroup FROM gender_age_train ORDER BY agegroup;\", conn)\n",
    "for group in ageGroups['agegroup']:\n",
    "    type(group)\n",
    "    extendedDataFrame[extendedDataFrame.agegroup == group]['brand'].value_counts().head(13).plot(x=\"brand\", y=\"dtype\", figsize=(15,12), label=group)\n",
    "plt.legend()\n",
    "plt.show()"
   ]
  },
  {
   "cell_type": "markdown",
   "metadata": {},
   "source": [
    "## Spatio-Temporale Analyse des Verhaltens einzelner User\n",
    "\n",
    "1. Wählen Sie aus der *events*-Tabelle ein Device, für das mindestens 30 events mit zugewiesenen Geokordinaten vorliegen.\n",
    "2. Stellen Sie alle Aufenthaltsorte des zu diesem Device gehörenden Users in einer *gmaps-Heatmap* dar. Informationen hierzu finden Sie in der [gmaps-Doku]( https://github.com/pbugnion/gmaps). Für den Zugriff auf gmaps benötigen Sie einen Google-API-Key (siehe [gmaps authentication](http://jupyter-gmaps.readthedocs.io/en/latest/authentication.html))\n",
    "3. Clustern Sie die 2-dimensionalen Geodaten des ausgewählten Users mit dem [DBSCAN-Algorithmus von scikit-learn](http://scikit-learn.org/stable/auto_examples/cluster/plot_dbscan.html). Die Parameter des Algorithmus sind so zu wählen, dass wesentlich unterschiedliche Orte des Users in unterschiedlichen Clustern landen.\n",
    "4. Stellen Sie den zeitlichen Verlauf der Events des ausgewählten Users im unten dargestellten Stil visuell dar. Auf der horizontalen Achse ist die Zeit relativ zur Zeit des ersten Events in Sekunden dargestellt. Auf der vertikalen Achse ist die Anzahl der bisherigen Events des Users aufgetragen. Mit jedem Event wird der Wert auf der vertikalen Achse um 1 erhöht. Die Farbe der Marker im Graph gibt den Aufenthaltscluster an. Für jeden in der vorigen Teilaufgabe gefundenen Aufenthaltscluster wird eine unterschiedliche Farbe benutzt (Im Beispiel unten wurden nur 2 Cluster gefunden). Diskutieren Sie das Verhalten des Users anhand des Graphs.\n",
    "\n",
    "![Abbildung Zeitliches Auftreten der Events](https://www.hdm-stuttgart.de/~maucher/ipnotebooks/DataMining//Bilder/tempbehave.PNG \"Events über der Zeit\")"
   ]
  },
  {
   "cell_type": "code",
   "execution_count": 3,
   "metadata": {},
   "outputs": [
    {
     "name": "stdout",
     "output_type": "stream",
     "text": [
      "4830593356246717684 entrys: 105\n"
     ]
    },
    {
     "data": {
      "application/vnd.jupyter.widget-view+json": {
       "model_id": "53e70f55913f44ac9883f024f8b8b494",
       "version_major": 2,
       "version_minor": 0
      },
      "text/html": [
       "<p>Failed to display Jupyter Widget of type <code>Figure</code>.</p>\n",
       "<p>\n",
       "  If you're reading this message in the Jupyter Notebook or JupyterLab Notebook, it may mean\n",
       "  that the widgets JavaScript is still loading. If this message persists, it\n",
       "  likely means that the widgets JavaScript library is either not installed or\n",
       "  not enabled. See the <a href=\"https://ipywidgets.readthedocs.io/en/stable/user_install.html\">Jupyter\n",
       "  Widgets Documentation</a> for setup instructions.\n",
       "</p>\n",
       "<p>\n",
       "  If you're reading this message in another frontend (for example, a static\n",
       "  rendering on GitHub or <a href=\"https://nbviewer.jupyter.org/\">NBViewer</a>),\n",
       "  it may mean that your frontend doesn't currently support widgets.\n",
       "</p>\n"
      ],
      "text/plain": [
       "Figure()"
      ]
     },
     "metadata": {},
     "output_type": "display_data"
    }
   ],
   "source": [
    "#print pd.read_sql_query(\"SELECT device_id FROM events \", conn)\n",
    "\n",
    "#1\n",
    "#device_id = 29182687948017175\n",
    "device_id = 4830593356246717684\n",
    "entrycount = conn.execute(\"SELECT count(device_id) FROM events where device_id =\" + str(device_id)).fetchone()[0]\n",
    "print device_id, 'entrys:', entrycount\n",
    "gmapsAPIKey=json.load(open('google_api_key.json'))[\"GOOGLE_API_KEY\"]\n",
    "\n",
    "#2\n",
    "gmaps.configure(gmapsAPIKey)\n",
    "\n",
    "events = pd.read_sql_query(\"SELECT * FROM events where device_id =\" + str(device_id), conn)\n",
    "#events = pd.read_sql_query(\"SELECT latitude,longitude FROM events limit 2000\", conn)\n",
    "#locations = events\n",
    "\n",
    "#import gmaps.datasets\n",
    "#location = gmaps.datasets.load_dataset(\"taxi_rides\")\n",
    "#print location[0]\n",
    "#print locations[0]\n",
    "\n",
    "fig = gmaps.figure()\n",
    "fig.add_layer(gmaps.heatmap_layer(events[['latitude','longitude']]))\n",
    "fig"
   ]
  },
  {
   "cell_type": "code",
   "execution_count": 4,
   "metadata": {
    "scrolled": true
   },
   "outputs": [
    {
     "name": "stderr",
     "output_type": "stream",
     "text": [
      "/usr/local/anaconda2/lib/python2.7/site-packages/ipykernel_launcher.py:19: SettingWithCopyWarning: \n",
      "A value is trying to be set on a copy of a slice from a DataFrame.\n",
      "Try using .loc[row_indexer,col_indexer] = value instead\n",
      "\n",
      "See the caveats in the documentation: http://pandas.pydata.org/pandas-docs/stable/indexing.html#indexing-view-versus-copy\n",
      "/usr/local/anaconda2/lib/python2.7/site-packages/ipykernel_launcher.py:22: SettingWithCopyWarning: \n",
      "A value is trying to be set on a copy of a slice from a DataFrame.\n",
      "Try using .loc[row_indexer,col_indexer] = value instead\n",
      "\n",
      "See the caveats in the documentation: http://pandas.pydata.org/pandas-docs/stable/indexing.html#indexing-view-versus-copy\n"
     ]
    },
    {
     "data": {
      "image/png": "[encoded data removed]",
      "text/plain": [
       "<matplotlib.figure.Figure at 0x113e1fe50>"
      ]
     },
     "metadata": {},
     "output_type": "display_data"
    }
   ],
   "source": [
    "#3\n",
    "# get data\n",
    "events = pd.read_sql_query(\"SELECT * FROM events where device_id =\" + str(device_id), conn)\n",
    "\n",
    "\n",
    "# split data into two frames\n",
    "# events with no location data\n",
    "events_zero = events[events.longitude == 0.0]\n",
    "# events with location\n",
    "events_notzero = events[events.longitude != 0.0]\n",
    "\n",
    "\n",
    "# compute DBSCAN\n",
    "db = DBSCAN(eps=0.3, min_samples=10).fit(events_notzero[['longitude','latitude']])\n",
    "labels = db.labels_\n",
    "\n",
    "\n",
    "# assign labels to events with location data\n",
    "events_notzero['cluster'] = db.labels_\n",
    "\n",
    "# assign -2 to all events that have location data\n",
    "events_zero['cluster'] = -2\n",
    "\n",
    "\n",
    "# merge events back again\n",
    "extended_events = pd.concat([events_zero, events_notzero], ignore_index=True)\n",
    "#events_notzero.append(events_zero)\n",
    "\n",
    "# check if events still same size\n",
    "#print extended_events.size == events.size\n",
    "\n",
    "# number of clusters in labels – ignoring noise\n",
    "n_clusters_ = len(set(labels)) - (1 if -1 in labels else 0)\n",
    "#print('Estimated number of clusters: %d' % n_clusters_)\n",
    "\n",
    "# get unique labels\n",
    "unique_labels = set(labels)\n",
    "\n",
    "# assign color to every unique label\n",
    "colors = plt.cm.Spectral(np.linspace(0, 1, len(unique_labels)))\n",
    "\n",
    "# color helper\n",
    "colorMap = {key: value for (key, value) in zip(unique_labels, colors)}\n",
    "#print colorMap\n",
    "def getClustomColor(label):\n",
    "    if label in colorMap:\n",
    "        return list(colorMap[label])\n",
    "    else:\n",
    "        return 'black'\n",
    "\n",
    "# set up patches for the legend\n",
    "patches = [mpatches.Patch(color=getClustomColor(label), label=(label if label >= 0 else 'outliers')) for label in unique_labels] \n",
    "\n",
    "plt.figure(figsize=(5, 5))\n",
    "\n",
    "for index, row in extended_events.iterrows():\n",
    "    # print row['latitude'], row['longitude']\n",
    "    # don't plot entrys with no location data\n",
    "    if row['cluster'] != -2:\n",
    "#        print row['latitude'] == 0, row['latitude']\n",
    "        plt.plot(row['latitude'], row['longitude'], 'o', markerfacecolor=(getClustomColor(row['cluster'])), markeredgecolor='black', markeredgewidth=.4, markersize=14)\n",
    "    \n",
    "plt.legend(handles=patches, loc='best', prop={'size':10})\n",
    "plt.title('Estimated number of clusters: %d' % n_clusters_)\n",
    "#plt.axis([31,32,121,122])\n",
    "plt.show()\n",
    "    \n"
   ]
  },
  {
   "cell_type": "code",
   "execution_count": 5,
   "metadata": {},
   "outputs": [
    {
     "name": "stdout",
     "output_type": "stream",
     "text": [
      "samplesize: 840\n"
     ]
    },
    {
     "data": {
      "image/png": "[encoded data removed]",
      "text/plain": [
       "<matplotlib.figure.Figure at 0x113f0be50>"
      ]
     },
     "metadata": {},
     "output_type": "display_data"
    }
   ],
   "source": [
    "# 4\n",
    "\n",
    "# format timestamp\n",
    "extended_events['timestamp'] = extended_events['timestamp'].astype('datetime64[ns]')\n",
    "\n",
    "# sort by timestamp\n",
    "extended_events.sort_values(by=['timestamp'], inplace=True)\n",
    "\n",
    "# add time delta in hours\n",
    "delta = []\n",
    "for ts in extended_events['timestamp']:\n",
    "    firsttime = extended_events['timestamp'].iloc[0]\n",
    "    delta.append(((ts-firsttime).total_seconds())/60/60)\n",
    "extended_events['delta'] = delta\n",
    "\n",
    "# set figure size\n",
    "plt.figure(figsize=(17, 6))\n",
    "\n",
    "# plot line\n",
    "plt.plot(extended_events['delta'], range(len(events)), '-k')\n",
    "plt.xlabel(\"Time Offset in Hours\")\n",
    "\n",
    "# plot dots\n",
    "count = 0\n",
    "for index, row in extended_events.iterrows():\n",
    "    plt.plot(row['delta'], count, 'bo-', markerfacecolor=(getClustomColor(row['cluster'])), markeredgecolor='black', markeredgewidth=.5, markersize=14)\n",
    "    count = count + 1\n",
    "\n",
    "print 'samplesize:', extended_events.size\n",
    "#plt.legend(handles=patches, loc='best', prop={'size':10})\n",
    "\n",
    "plt.title('Smartphone Events over time')\n",
    "plt.show()"
   ]
  },
  {
   "cell_type": "markdown",
   "metadata": {
    "collapsed": true
   },
   "source": [
    "# Feature Extraction"
   ]
  },
  {
   "cell_type": "markdown",
   "metadata": {},
   "source": [
    "Anmerkung: In den vorigen Aufgaben war das Vorgehen relativ konkret vorgegeben. In den folgenden Aufgaben sind die Vorgaben bewußt knapp gehalten. Ihre Kreativität ist gefragt.\n",
    "\n",
    "1. Überlegen Sie sich aus welchen Merkmalen, die aus den vorhandenen Daten extrahiert werden können, möglichst gut die Gender-Age-Group vorhergesagt werden kann.\n",
    "2. Extahieren Sie diese Merkmale aus den Daten für möglichst viele (mindestens 20.000) User (devices) aus der Tabelle *gender_age_train*.  "
   ]
  },
  {
   "cell_type": "code",
   "execution_count": 16,
   "metadata": {},
   "outputs": [
    {
     "name": "stdout",
     "output_type": "stream",
     "text": [
      "m1:  [u'index_x' u'device_id' u'gender' u'age' u'agegroup' u'index_y'\n",
      " u'event_id' u'timestamp' u'longitude' u'latitude'] rows:  12155950\n",
      "m2:  [u'index_x' u'device_id' u'gender' u'age' u'agegroup' u'index_y'\n",
      " u'event_id' u'timestamp' u'longitude' u'latitude' u'index' u'phone_brand'\n",
      " u'device_model'] rows:  15866162\n",
      "m3:  [u'index_x' u'device_id' u'gender' u'age' u'agegroup' u'index_y'\n",
      " u'event_id' u'timestamp' u'longitude' u'latitude' u'index_x'\n",
      " u'phone_brand' u'device_model' u'index_y' u'app_id' u'is_installed'\n",
      " u'is_active'] rows:  208648684\n",
      "m4:  [u'index_x' u'device_id' u'gender' u'age' u'agegroup' u'index_y'\n",
      " u'event_id' u'timestamp' u'longitude' u'latitude' u'index_x'\n",
      " u'phone_brand' u'device_model' u'index_y' u'app_id' u'is_installed'\n",
      " u'is_active' u'index' u'label_id'] rows:  1502169735\n",
      "m5:  [u'index_x' u'device_id' u'gender' u'age' u'agegroup' u'index_y'\n",
      " u'event_id' u'timestamp' u'longitude' u'latitude' u'index_x'\n",
      " u'phone_brand' u'device_model' u'index_y' u'app_id' u'is_installed'\n",
      " u'is_active' u'index_x' u'label_id' u'index_y' u'category'] rows:  1660292865\n",
      "\n",
      "length of final dataframe: 12006588\n",
      "number of distinct device ids: 23247\n",
      "columns: [u'device_id' u'gender' u'age' u'agegroup' u'timestamp' u'phone_brand'\n",
      " u'device_model' u'category' 'time_of_day']\n"
     ]
    }
   ],
   "source": [
    "## feature extraction\n",
    "## takes a while – be sure to have sufficient memory when running this\n",
    "## ~9gb ram\n",
    "\n",
    "'''\n",
    "Als Merkmale nutzen wir:\n",
    "* timestamp(events) – wann das gerät benutzt wird\n",
    "* phone_brand(label_categories) – welche marke genutzt wird\n",
    "* category(label_categories) – zu welcher category eine app gehört\n",
    "\n",
    "deviceids(phone_brand_device_model) 20.000\n",
    "alle events für jede device_id\n",
    "alle app_events für jedes event\n",
    "'''\n",
    "\n",
    "import gc\n",
    "gc.collect()\n",
    "\n",
    "## only using 2 dataframes for memory efficiency\n",
    "df1 = pd.read_sql_query(\"SELECT * FROM gender_age_train group by device_id\", conn)\n",
    "#df1 = pd.read_sql_query(\"SELECT * FROM gender_age_train limit 20000\", conn)\n",
    "\n",
    "# 1. merge\n",
    "df2 = pd.read_sql_query(\"SELECT * FROM events group by device_id\", conn)\n",
    "df1 = df1.merge(df2, how='inner', on='device_id')\n",
    "print 'm1: ', df1.columns.values, \n",
    "print 'rows: ' , df1.size\n",
    "gc.collect()\n",
    "\n",
    "# 2. merge\n",
    "df2 = pd.read_sql_query(\"SELECT * FROM phone_brand_device_model group by device_id\", conn)\n",
    "df1 = df1.merge(df2, how='inner', on='device_id')\n",
    "print 'm2: ', df1.columns.values, \n",
    "print 'rows: ' , df1.size\n",
    "gc.collect()\n",
    "\n",
    "\n",
    "# 3. merge\n",
    "df2 = pd.read_sql_query(\"SELECT * FROM app_events\", conn)\n",
    "df1 = df1.merge(df2, how='inner', on='event_id')\n",
    "print 'm3: ', df1.columns.values, \n",
    "print 'rows: ' , df1.size\n",
    "gc.collect()\n",
    "\n",
    "# 4. merge\n",
    "df2 = pd.read_sql_query(\"SELECT * FROM app_labels\", conn)\n",
    "df1 = df1.merge(df2, how='inner', on='app_id')\n",
    "print 'm4: ', df1.columns.values, \n",
    "print 'rows: ' , df1.size\n",
    "gc.collect()\n",
    "\n",
    "\n",
    "# 5. merge\n",
    "df2 = pd.read_sql_query(\"SELECT * FROM label_categories\", conn)\n",
    "df1 = df1.merge(df2, how='inner', on='label_id')\n",
    "print 'm5: ', df1.columns.values, \n",
    "print 'rows: ' , df1.size\n",
    "gc.collect()\n",
    "\n",
    "## data cleanup\n",
    "# remove all unwanted columns that don't hold usable information\n",
    "# longitude and latitude may don't have much to do with genderagegroup\n",
    "# index_y and index_x are leftovers from the merges\n",
    "# is_installed is always true for the whole dataset\n",
    "# event_id is also not giving any valuable information about the vector\n",
    "# duplicate – label_id is only a the numeral representation of the category\n",
    "# removing app_id as category should give enough info about the usage\n",
    "\n",
    "#print set(df1.is_active)\n",
    "#print set(df1.is_installed)\n",
    "\n",
    "df1.drop(df1[df1.is_active == 0].index, inplace=True)\n",
    "df1.drop(['index_x','index_y','longitude','latitude','is_installed','event_id','label_id','app_id'], axis=1, inplace=True)\n",
    "\n",
    "# finally remove duplicate rows\n",
    "df1.drop_duplicates(inplace=True)\n",
    "\n",
    "#print df1\n",
    "gc.collect()\n",
    "\n",
    "print '\\nlength of final dataframe:',df1.index.size\n",
    "print 'number of distinct device ids:', len(set(df1.device_id))\n",
    "print 'columns:', df1.columns.values"
   ]
  },
  {
   "cell_type": "code",
   "execution_count": 17,
   "metadata": {},
   "outputs": [],
   "source": [
    "## save df to sqlite db\n",
    "## this takes a while\n",
    "df1.to_sql('bigdata', conn, chunksize=200000)\n",
    "\n",
    "## save df to a csv – not efficient\n",
    "#df1.to_csv(\"Ressource/Data/bigdata.csv\", encoding='utf-8')"
   ]
  },
  {
   "cell_type": "code",
   "execution_count": 18,
   "metadata": {},
   "outputs": [
    {
     "data": {
      "text/plain": [
       "12006588"
      ]
     },
     "execution_count": 18,
     "metadata": {},
     "output_type": "execute_result"
    }
   ],
   "source": [
    "df1.index.size"
   ]
  },
  {
   "cell_type": "code",
   "execution_count": 9,
   "metadata": {},
   "outputs": [
    {
     "data": {
      "text/plain": [
       "'\\nimport random\\nfilepath = \"Ressource/Data/bigdata.csv\"\\n\\n# read csv with random sample size\\nn = 78360118 #number of rows in the file\\ns = 20000 #desired sample size\\nskip = sorted(np.random.choice(np.arange(1,n+1), (n-s), replace=False))\\ndf1 = pd.read_csv(filepath, skiprows=skip, encoding=\\'utf-8\\')\\n\\n# remove csv leftover\\ndf1.drop(\\'Unnamed: 0\\', 1, inplace=True)\\n'"
      ]
     },
     "execution_count": 9,
     "metadata": {},
     "output_type": "execute_result"
    }
   ],
   "source": [
    "## read random rows from sqlite db\n",
    "df1 = pd.read_sql_query(\"SELECT * FROM bigdata ORDER BY RANDOM() LIMIT 600000;\", conn)\n",
    "\n",
    "## read random rows from csv – not efficient\n",
    "'''\n",
    "import random\n",
    "filepath = \"Ressource/Data/bigdata.csv\"\n",
    "\n",
    "# read csv with random sample size\n",
    "n = 78360118 #number of rows in the file\n",
    "s = 20000 #desired sample size\n",
    "skip = sorted(np.random.choice(np.arange(1,n+1), (n-s), replace=False))\n",
    "df1 = pd.read_csv(filepath, skiprows=skip, encoding='utf-8')\n",
    "\n",
    "# remove csv leftover\n",
    "df1.drop('Unnamed: 0', 1, inplace=True)\n",
    "'''"
   ]
  },
  {
   "cell_type": "code",
   "execution_count": 10,
   "metadata": {},
   "outputs": [
    {
     "data": {
      "text/plain": [
       "0"
      ]
     },
     "execution_count": 10,
     "metadata": {},
     "output_type": "execute_result"
    }
   ],
   "source": [
    "## call garbeagecollector directly to cleanup – happens automatically but we want to keep the ram at minimum ~1.3gb\n",
    "import gc\n",
    "gc.collect()"
   ]
  },
  {
   "cell_type": "code",
   "execution_count": 11,
   "metadata": {},
   "outputs": [
    {
     "name": "stdout",
     "output_type": "stream",
     "text": [
      "number of device_ids: 20494\n",
      "size: 600000\n",
      "[u'index' u'device_id' u'gender' u'age' u'agegroup' u'timestamp'\n",
      " u'phone_brand' u'device_model' u'category' u'time_of_day']\n",
      "           index            device_id gender  age agegroup  \\\n",
      "418585  33967648 -3045139278169088099      M   32   M32-38   \n",
      "45233   60132274  7548795466428524847      M   42     M39+   \n",
      "411409  75673908  3875639602151236040      M   24   M23-26   \n",
      "59931   69081773  5339897725185405729      F   33   F33-42   \n",
      "193242  69623400  6481794979237385775      M   52     M39+   \n",
      "\n",
      "                  timestamp phone_brand device_model  \\\n",
      "418585  2016-05-07 00:43:27      xiaomi         MI 4   \n",
      "45233   2016-05-04 21:16:04     coolpad         5950   \n",
      "411409  2016-05-02 10:01:02       meizu     魅蓝Note 2   \n",
      "59931   2016-05-01 15:47:07        vivo        X5Pro   \n",
      "193242  2016-05-07 11:27:08      huawei         荣耀3C   \n",
      "\n",
      "                        category  time_of_day  \n",
      "418585  Personal Effectiveness 1            0  \n",
      "45233          Wealth Management           21  \n",
      "411409          foreign language           10  \n",
      "59931                  High Flow           15  \n",
      "193242    Moderate profitability           11  \n"
     ]
    }
   ],
   "source": [
    "## get an overview of the data\n",
    "print 'number of device_ids:', len(df1.device_id.unique())\n",
    "print 'size:', df1.index.size\n",
    "print df1.columns.values\n",
    "print df1.sample(5)"
   ]
  },
  {
   "cell_type": "code",
   "execution_count": 12,
   "metadata": {
    "scrolled": true
   },
   "outputs": [
    {
     "name": "stdout",
     "output_type": "stream",
     "text": [
      "[u'index' u'device_id' u'gender' u'age' u'agegroup' u'timestamp'\n",
      " u'phone_brand' u'device_model' u'category' u'time_of_day']\n",
      "       agegroup phone_brand device_model           category  time_of_day\n",
      "359324     M39+     coolpad   ivvi 小骨Pro  Wealth Management            0\n",
      "494308     M22-     samsung   Galaxy Win        Relatives 1           14\n",
      "385007   M32-38       yuxin          红辣椒           Low Risk            0\n",
      "418783   M32-38        lshi       超级手机1s       Industry tag            0\n",
      "365734   F27-28      huawei    Ascend G7      Low liquidity            7\n"
     ]
    }
   ],
   "source": [
    "#temp = df1.sample(10)\n",
    "#temp = df1.sample(1000000)\n",
    "temp = df1.copy(deep=True)\n",
    "print temp.columns.values\n",
    "\n",
    "## categorize timestamps into 24 hours per day\n",
    "def to_hour(ts):\n",
    "    ts = pd.to_datetime(ts, format='%Y-%m-%d %H:%M:%S')\n",
    "    #delta = datetime.timedelta(hours=ts.hour, minutes=ts.minute, seconds=ts.second)\n",
    "    #return delta.total_seconds()\n",
    "    return ts.hour\n",
    "\n",
    "#temp['time_of_day'] = temp.timestamp.apply(to_hour)\n",
    "\n",
    "## more cleanup\n",
    "temp.drop('timestamp',axis=1,inplace=True)\n",
    "#temp.drop(temp[temp.is_active == 0].index, inplace=True)\n",
    "#temp.drop(['index','is_active','gender','device_id','age'], 1, inplace=True)\n",
    "temp.drop(['index','gender','device_id','age'], 1, inplace=True)\n",
    "\n",
    "print temp.sample(5)"
   ]
  },
  {
   "cell_type": "markdown",
   "metadata": {},
   "source": [
    "# Gender-Age-Group Prediction\n",
    "* In der vorigen Aufgabe wurde für jeden User (device) ein Merkmalsvektor berechnet. Die Menge der Merkmalsvektoren aller User aus der Tabelle *gender_age_train* bildet die Eingabe-Matrix $X$ für die Klassifikationsalgorithmen. Die Soll-Ausgabe Vektor $y$ wird durch die *gender_age_group* der User gebildet. Bringen Sie die Matrix aller Eingabevektoren in eine Form, in der\n",
    "    * alle kategorialen Parameter *One-Hot*-encodiert sind [Scikit-Learn One-Hot-Encoder](http://scikit-learn.org/stable/modules/generated/sklearn.preprocessing.OneHotEncoder.html#sklearn.preprocessing.OneHotEncoder).\n",
    "    * alle Merkmale eine Varianz von 1 aufweisen. Benützen Sie hierfür die [Scikit-Learn Methode scale](http://scikit-learn.org/stable/modules/generated/sklearn.preprocessing.scale.html#sklearn.preprocessing.scale)."
   ]
  },
  {
   "cell_type": "markdown",
   "metadata": {},
   "source": [
    "* Teilen Sie die Datensätze in $X$ und $y$ in eine Trainings- und eine Testpartition auf - im Verhältnis $3/4$ für Training, $1/4$ für Test. "
   ]
  },
  {
   "cell_type": "code",
   "execution_count": 20,
   "metadata": {},
   "outputs": [
    {
     "name": "stdout",
     "output_type": "stream",
     "text": [
      "temp shape: (600000, 6)\n",
      "onehotenc shape: (600000, 1362)\n"
     ]
    }
   ],
   "source": [
    "from sklearn.preprocessing import scale\n",
    "\n",
    "#print temp.columns.values\n",
    "#print temp.agegroup\n",
    "#print temp.describe().transpose()\n",
    "#print set(temp['agegroup'])\n",
    "\n",
    "# label encoding agegroups\n",
    "# replace ageroups with integers\n",
    "factorized_agegroup = pd.factorize(temp['agegroup'])\n",
    "temp['agegroup_cat'] = factorized_agegroup[0]\n",
    "# create labels for agegroup\n",
    "labels = factorized_agegroup[1]\n",
    "np.save('labels.npy',labels)\n",
    "\n",
    "# onehot encoding the rest\n",
    "onehotenc = pd.get_dummies(temp.drop(['agegroup'], 1))\n",
    "print 'temp shape:', temp.shape\n",
    "print 'onehotenc shape:', onehotenc.shape\n",
    "#print onehotenc.sample(5)"
   ]
  },
  {
   "cell_type": "code",
   "execution_count": 10,
   "metadata": {},
   "outputs": [],
   "source": [
    "# split into X = data and y = labels\n",
    "y = np.asarray(onehotenc.agegroup_cat)"
   ]
  },
  {
   "cell_type": "code",
   "execution_count": 11,
   "metadata": {},
   "outputs": [],
   "source": [
    "X = onehotenc.drop(['agegroup_cat'], 1)"
   ]
  },
  {
   "cell_type": "code",
   "execution_count": 12,
   "metadata": {},
   "outputs": [
    {
     "name": "stdout",
     "output_type": "stream",
     "text": [
      "standard deviation: 1.0\n",
      "shape of scaled data (X): (600000, 1371)\n"
     ]
    }
   ],
   "source": [
    "# scale X\n",
    "X = scale(X)\n",
    "\n",
    "print 'standard deviation:', X.std()\n",
    "print 'shape of scaled data (X):', X.shape"
   ]
  },
  {
   "cell_type": "code",
   "execution_count": 15,
   "metadata": {},
   "outputs": [],
   "source": [
    "## save X and y\n",
    "np.save('./X.npy', X, allow_pickle=True, fix_imports=True)\n",
    "np.save('./y.npy', y, allow_pickle=True, fix_imports=True)"
   ]
  },
  {
   "cell_type": "code",
   "execution_count": 16,
   "metadata": {},
   "outputs": [],
   "source": [
    "#temp.drop(['age','gender','agegroup'], 1, inplace=True)\n",
    "## split data\n",
    "\n",
    "from sklearn.model_selection import train_test_split\n",
    "\n",
    "# split test and train\n",
    "X_train, X_test, y_train, y_test = train_test_split(X, y, test_size=0.25)"
   ]
  },
  {
   "cell_type": "code",
   "execution_count": null,
   "metadata": {},
   "outputs": [],
   "source": [
    "## save data\n",
    "np.save('X_train.npy')\n",
    "np.save('y_train.npy')\n",
    "\n",
    "np.save('X_test.npy')\n",
    "np.save('y_test.npy')"
   ]
  },
  {
   "cell_type": "code",
   "execution_count": 3,
   "metadata": {},
   "outputs": [],
   "source": [
    "## load train data\n",
    "X_train = np.load('X_train.npy')\n",
    "y_train = np.load('y_train.npy')"
   ]
  },
  {
   "cell_type": "code",
   "execution_count": 6,
   "metadata": {},
   "outputs": [
    {
     "name": "stdout",
     "output_type": "stream",
     "text": [
      "X_train: (450000, 1371)\n",
      "y_train: (450000,)\n"
     ]
    }
   ],
   "source": [
    "print 'X_train:', X_train.shape\n",
    "print 'y_train:', y_train.shape\n",
    "\n",
    "#print '\\n'\n",
    "#print 'combined:', scaled_data.shape\n",
    "\n",
    "#print '\\n'\n",
    "#print X_train, '\\n', y_train, '\\n', X_test, '\\n', y_test\n",
    "#print '\\n', y_test[0]\n",
    "\n",
    "\n",
    "#X, y = np.split(scaled_data,[-1],axis=1)\n",
    "#X = np.hsplit(scaled_data, 1)\n",
    "#print X\n",
    "\n",
    "#print scaled_data.shape\n",
    "#print scaled_data, '\\n'\n",
    "\n",
    "#print X.shape\n",
    "#print X , '\\n'\n",
    "#print y.shape\n",
    "#print y, '\\n'"
   ]
  },
  {
   "cell_type": "markdown",
   "metadata": {},
   "source": [
    "* Trainieren Sie mit der Trainingspartition ein [Multilayer-Perzeptron](http://scikit-learn.org/stable/modules/neural_networks_supervised.html)."
   ]
  },
  {
   "cell_type": "code",
   "execution_count": 8,
   "metadata": {},
   "outputs": [
    {
     "data": {
      "text/plain": [
       "MLPClassifier(activation='relu', alpha=0.0001, batch_size='auto', beta_1=0.9,\n",
       "       beta_2=0.999, early_stopping=False, epsilon=1e-08,\n",
       "       hidden_layer_sizes=(13, 13, 13), learning_rate='constant',\n",
       "       learning_rate_init=0.001, max_iter=200, momentum=0.9,\n",
       "       nesterovs_momentum=True, power_t=0.5, random_state=None,\n",
       "       shuffle=True, solver='adam', tol=0.0001, validation_fraction=0.1,\n",
       "       verbose=False, warm_start=False)"
      ]
     },
     "execution_count": 8,
     "metadata": {},
     "output_type": "execute_result"
    },
    {
     "name": "stdout",
     "output_type": "stream",
     "text": [
      "\n"
     ]
    }
   ],
   "source": [
    "from sklearn.neural_network import MLPClassifier\n",
    "\n",
    "clf = MLPClassifier(hidden_layer_sizes=(13,13,13)\n",
    "                    #,max_iter=20000\n",
    "                   )\n",
    "\n",
    "'''mlp = MLPClassifier(\n",
    "activation='relu', alpha=0.7, batch_size=100,\n",
    "       beta_1=0.8, beta_2=0.999, early_stopping=False,\n",
    "       epsilon=1e-08, hidden_layer_sizes=(300,), learning_rate='adaptive',\n",
    "       learning_rate_init=0.001, max_iter=1000, momentum=0.9,\n",
    "       nesterovs_momentum=True, power_t=0.5, random_state=95335, shuffle=True,\n",
    "       solver='adam', tol=0.0001, validation_fraction=0.1, verbose=False,\n",
    "       warm_start=False )\n",
    "'''\n",
    "clf.fit(X_train,y_train)"
   ]
  },
  {
   "cell_type": "code",
   "execution_count": 2,
   "metadata": {},
   "outputs": [],
   "source": [
    "#save classifier to disk\n",
    "from sklearn.externals import joblib\n",
    "\n",
    "filename = 'Ressource/Data/mobile_user_classifier.joblib.pkl'\n",
    "_ = joblib.dump(clf, filename, compress=9)\n",
    "\n",
    "#clf = joblib.load(filename)"
   ]
  },
  {
   "cell_type": "markdown",
   "metadata": {},
   "source": [
    "* Testen Sie das gelernte Modell mit der Testpartition. Für die Auswertung sollte die [Accurracy](http://scikit-learn.org/stable/modules/generated/sklearn.metrics.accuracy_score.html#sklearn.metrics.accuracy_score) und die [Confusion Matrix](http://scikit-learn.org/stable/modules/generated/sklearn.metrics.confusion_matrix.html#sklearn.metrics.confusion_matrix) bestimmt werden. Finden Sie eine Parametereinstellung, die zu einer möglichst guten Accuracy führt. Interpretieren Sie die Confusion Matrix."
   ]
  },
  {
   "cell_type": "code",
   "execution_count": 3,
   "metadata": {},
   "outputs": [],
   "source": [
    "## load test data\n",
    "X_test = np.load('X_test.npy')\n",
    "y_test = np.load('y_test.npy')\n",
    "## load labels\n",
    "labels = np.load('labels.npy')"
   ]
  },
  {
   "cell_type": "code",
   "execution_count": 4,
   "metadata": {},
   "outputs": [
    {
     "name": "stdout",
     "output_type": "stream",
     "text": [
      "X_test: (150000, 1371)\n",
      "y_test: (150000,)\n"
     ]
    }
   ],
   "source": [
    "print 'X_test:', X_test.shape\n",
    "print 'y_test:', y_test.shape"
   ]
  },
  {
   "cell_type": "code",
   "execution_count": 8,
   "metadata": {},
   "outputs": [
    {
     "ename": "AttributeError",
     "evalue": "'numpy.ndarray' object has no attribute 'values'",
     "output_type": "error",
     "traceback": [
      "\u001b[0;31m---------------------------------------------------------------------------\u001b[0m",
      "\u001b[0;31mAttributeError\u001b[0m                            Traceback (most recent call last)",
      "\u001b[0;32m<ipython-input-8-21252d72ca7d>\u001b[0m in \u001b[0;36m<module>\u001b[0;34m()\u001b[0m\n\u001b[1;32m     17\u001b[0m \u001b[0;34m\u001b[0m\u001b[0m\n\u001b[1;32m     18\u001b[0m df_cm = pd.DataFrame(conf_mat, index = [i for i in labels],\n\u001b[0;32m---> 19\u001b[0;31m                   columns = [i for i in labels.values])\n\u001b[0m\u001b[1;32m     20\u001b[0m \u001b[0mplt\u001b[0m\u001b[0;34m.\u001b[0m\u001b[0mfigure\u001b[0m\u001b[0;34m(\u001b[0m\u001b[0mfigsize\u001b[0m \u001b[0;34m=\u001b[0m \u001b[0;34m(\u001b[0m\u001b[0;36m12\u001b[0m\u001b[0;34m,\u001b[0m\u001b[0;36m10\u001b[0m\u001b[0;34m)\u001b[0m\u001b[0;34m)\u001b[0m\u001b[0;34m\u001b[0m\u001b[0m\n\u001b[1;32m     21\u001b[0m \u001b[0msn\u001b[0m\u001b[0;34m.\u001b[0m\u001b[0mheatmap\u001b[0m\u001b[0;34m(\u001b[0m\u001b[0mdf_cm\u001b[0m\u001b[0;34m,\u001b[0m \u001b[0mannot\u001b[0m\u001b[0;34m=\u001b[0m\u001b[0mTrue\u001b[0m\u001b[0;34m)\u001b[0m\u001b[0;34m\u001b[0m\u001b[0m\n",
      "\u001b[0;31mAttributeError\u001b[0m: 'numpy.ndarray' object has no attribute 'values'"
     ]
    }
   ],
   "source": [
    "from sklearn.metrics import confusion_matrix\n",
    "from sklearn.metrics import accuracy_score\n",
    "import seaborn as sn\n",
    "\n",
    "predictions = clf.predict(X_test)\n",
    "#print y_test\n",
    "#print predictions\n",
    "#print accuracy_score(y_test, predictions)\n",
    "\n",
    "conf_mat = confusion_matrix(y_test, predictions)\n",
    "\n",
    "#pd.crosstab(y_test, predictions, rownames=['True'], colnames=['Predicted']).apply(lambda r: 100.0 * r/r.sum())\n",
    "\n",
    "#print labels.values.tolist()\n",
    "#print conf_mat\n",
    "#plt.imshow(conf_mat , cmap='binary', interpolation='None')\n",
    "\n",
    "df_cm = pd.DataFrame(conf_mat, index = [i for i in labels],\n",
    "                  columns = [i for i in labels.values])\n",
    "plt.figure(figsize = (12,10))\n",
    "sn.heatmap(df_cm, annot=True)\n",
    "plt.xticks(rotation=45)\n",
    "plt.yticks(rotation=45)\n",
    "plt.show()"
   ]
  },
  {
   "cell_type": "markdown",
   "metadata": {},
   "source": [
    "* Wenden Sie nun eine [5-fache Kreuzvalidierung](http://scikit-learn.org/stable/modules/generated/sklearn.model_selection.cross_val_score.html#sklearn.model_selection.cross_val_score) an und bestimmen Sie damit eine möglichst gute Parametereinstellung."
   ]
  },
  {
   "cell_type": "code",
   "execution_count": 24,
   "metadata": {},
   "outputs": [
    {
     "name": "stdout",
     "output_type": "stream",
     "text": [
      "[ 0.14347079  0.13843508  0.15022936  0.15413318  0.1412981 ]\n",
      "Accuracy: 0.15 (+/- 0.01)\n"
     ]
    }
   ],
   "source": [
    "from sklearn import datasets, linear_model\n",
    "from sklearn.model_selection import cross_val_score\n",
    "from sklearn import svm\n",
    "\n",
    "#lasso = linear_model.Lasso()\n",
    "#clf = svm.SVC(kernel='linear', C=1)\n",
    "#scores = cross_val_score(lasso, X_train, y_train)\n",
    "scores = cross_val_score(mlp, X_train, y_train, cv=5)\n",
    "print scores\n",
    "\n",
    "print(\"Accuracy: %0.2f (+/- %0.2f)\" % (scores.mean(), scores.std() * 2))"
   ]
  },
  {
   "cell_type": "code",
   "execution_count": 101,
   "metadata": {},
   "outputs": [
    {
     "name": "stdout",
     "output_type": "stream",
     "text": [
      "Training set score: 0.318580\n",
      "Training set loss: 1.869208\n"
     ]
    }
   ],
   "source": []
  },
  {
   "cell_type": "markdown",
   "metadata": {},
   "source": [
    "* Mit welchen Parametern erzielen Sie die beste Accurracy? Wie hoch ist diese dann? Diskutieren Sie das Ergebnis."
   ]
  },
  {
   "cell_type": "code",
   "execution_count": null,
   "metadata": {},
   "outputs": [],
   "source": []
  }
 ],
 "metadata": {
  "kernelspec": {
   "display_name": "Python 2",
   "language": "python",
   "name": "python2"
  },
  "language_info": {
   "codemirror_mode": {
    "name": "ipython",
    "version": 2
   },
   "file_extension": ".py",
   "mimetype": "text/x-python",
   "name": "python",
   "nbconvert_exporter": "python",
   "pygments_lexer": "ipython2",
   "version": "2.7.13"
  },
  "nav_menu": {},
  "toc": {
   "navigate_menu": true,
   "number_sections": true,
   "sideBar": true,
   "threshold": 6,
   "toc_cell": false,
   "toc_section_display": "block",
   "toc_window_display": true
  }
 },
 "nbformat": 4,
 "nbformat_minor": 1
}
