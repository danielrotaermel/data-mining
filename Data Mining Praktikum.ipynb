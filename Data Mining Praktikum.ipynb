{
 "cells": [
  {
   "cell_type": "markdown",
   "metadata": {},
   "source": [
    "# Data Mining Praktikum\n",
    "[Homepage der Vorlesung](https://www.hdm-stuttgart.de/~maucher/Data_Mining_WS1516.html)\n",
    "\n",
    "## Jupyter Notebooks zur Einführung\n",
    "\n",
    "* [Python Tutorial (html)](https://www.hdm-stuttgart.de/~maucher/Python/html/index.html)\n",
    "* [Numpy Basics](NP01numpyBasics.ipynb)\n",
    "* [Matplotlib Basics](PLT01visualization.ipynb)\n",
    "* [Pandas Basics](PD01Pandas.ipynb)\n",
    "\n",
    "## Übungen zu Python, Numpy, Matplotlib und Pandas\n",
    "\n",
    "* [Aufgaben zur Einarbeitung](Aufgaben zur Einarbeitung in das Data Mining Praktikum.ipynb) \n",
    "\n",
    "\n",
    "\n",
    "## Versuchsanleitungen\n",
    "\n",
    "* [Mobile User Data Analysis](VersuchMobileUsers.ipynb)\n",
    "* [Recommender Systeme](VersuchRecommenderSystem.ipynb)\n",
    "* [Music Clustering](VersuchMusicClustering.ipynb)\n",
    "* [Document Classification](VersuchDocumentClassification.ipynb)\n",
    "* [Topic Extraction ](VersuchTopicExtraction.ipynb)\n",
    "* [Gesichtserkennung](VersuchFaceRecognition.ipynb)\n",
    "\n",
    "\n",
    "\n",
    "\n"
   ]
  },
  {
   "cell_type": "code",
   "execution_count": null,
   "metadata": {
    "collapsed": true
   },
   "outputs": [],
   "source": []
  }
 ],
 "metadata": {
  "kernelspec": {
   "display_name": "Python [default]",
   "language": "python",
   "name": "python2"
  },
  "language_info": {
   "codemirror_mode": {
    "name": "ipython",
    "version": 2
   },
   "file_extension": ".py",
   "mimetype": "text/x-python",
   "name": "python",
   "nbconvert_exporter": "python",
   "pygments_lexer": "ipython2",
   "version": "2.7.13"
  },
  "nav_menu": {},
  "toc": {
   "navigate_menu": true,
   "number_sections": true,
   "sideBar": true,
   "threshold": 6,
   "toc_cell": false,
   "toc_section_display": "block",
   "toc_window_display": false
  }
 },
 "nbformat": 4,
 "nbformat_minor": 1
}
