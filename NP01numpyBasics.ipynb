{
 "cells": [
  {
   "cell_type": "markdown",
   "metadata": {
    "run_control": {
     "marked": true
    }
   },
   "source": [
    "# Numpy Introduction"
   ]
  },
  {
   "cell_type": "code",
   "execution_count": 49,
   "metadata": {
    "run_control": {
     "marked": true
    }
   },
   "outputs": [
    {
     "name": "stdout",
     "output_type": "stream",
     "text": [
      "1.9.2\n"
     ]
    }
   ],
   "source": [
    "import numpy as np\n",
    "print np.__version__"
   ]
  },
  {
   "cell_type": "markdown",
   "metadata": {
    "run_control": {
     "marked": true
    }
   },
   "source": [
    "## Numpy Array\n",
    "In Numpy arrays are the main type of objects. In arrays elements are arranged in multidimensional tables. Array elements are indexed by positive integers, starting at 0.\n",
    "### Create a numpy array\n",
    "Create a 1-dimensional array and access its type, number of dimensions and shape and size:"
   ]
  },
  {
   "cell_type": "code",
   "execution_count": 50,
   "metadata": {
    "run_control": {
     "marked": true
    }
   },
   "outputs": [
    {
     "name": "stdout",
     "output_type": "stream",
     "text": [
      "[ 1.  2.  3.]\n",
      "Type of variable:      <type 'numpy.ndarray'>\n",
      "Type of elements:      float64\n",
      "Number of dimensions:  1\n",
      "Shape:                 (3L,)\n",
      "Size:                  3\n"
     ]
    }
   ],
   "source": [
    "A=np.array([1,2,3.0])\n",
    "print A\n",
    "print \"Type of variable:     \",type(A)\n",
    "print \"Type of elements:     \",A.dtype\n",
    "print \"Number of dimensions: \",A.ndim\n",
    "print \"Shape:                \",A.shape\n",
    "print \"Size:                 \",A.size"
   ]
  },
  {
   "cell_type": "markdown",
   "metadata": {
    "run_control": {
     "marked": true
    }
   },
   "source": [
    "Create a 2-dimensional array and access its type, number of dimensions and shape and size:"
   ]
  },
  {
   "cell_type": "code",
   "execution_count": 51,
   "metadata": {
    "run_control": {
     "marked": true
    }
   },
   "outputs": [
    {
     "name": "stdout",
     "output_type": "stream",
     "text": [
      "[[1 2 3 4]\n",
      " [5 6 0 1]\n",
      " [1 2 0 1]]\n",
      "Type of variable:      <type 'numpy.ndarray'>\n",
      "Type of elements:      int32\n",
      "Number of dimensions:  2\n",
      "Shape:                 (3L, 4L)\n",
      "Size:                  12\n"
     ]
    }
   ],
   "source": [
    "B=np.array([[1,2,3,4],[5,6,0,1],[1,2,0,1]])\n",
    "print B\n",
    "print \"Type of variable:     \",type(B)\n",
    "print \"Type of elements:     \",B.dtype\n",
    "print \"Number of dimensions: \",B.ndim\n",
    "print \"Shape:                \",B.shape\n",
    "print \"Size:                 \",B.size"
   ]
  },
  {
   "cell_type": "markdown",
   "metadata": {
    "run_control": {
     "marked": true
    }
   },
   "source": [
    "Create 2-dimensional array of zeros:"
   ]
  },
  {
   "cell_type": "code",
   "execution_count": 52,
   "metadata": {
    "run_control": {
     "marked": true
    }
   },
   "outputs": [
    {
     "name": "stdout",
     "output_type": "stream",
     "text": [
      "[[ 0.  0.]\n",
      " [ 0.  0.]\n",
      " [ 0.  0.]\n",
      " [ 0.  0.]\n",
      " [ 0.  0.]]\n"
     ]
    }
   ],
   "source": [
    "Z=np.zeros((5,2))\n",
    "print Z"
   ]
  },
  {
   "cell_type": "markdown",
   "metadata": {
    "run_control": {
     "marked": true
    }
   },
   "source": [
    "Create a 3-dimensional array of ones"
   ]
  },
  {
   "cell_type": "code",
   "execution_count": 53,
   "metadata": {
    "run_control": {
     "marked": true
    }
   },
   "outputs": [
    {
     "name": "stdout",
     "output_type": "stream",
     "text": [
      "[[[ 1.  1.  1.  1.]\n",
      "  [ 1.  1.  1.  1.]\n",
      "  [ 1.  1.  1.  1.]]\n",
      "\n",
      " [[ 1.  1.  1.  1.]\n",
      "  [ 1.  1.  1.  1.]\n",
      "  [ 1.  1.  1.  1.]]]\n"
     ]
    }
   ],
   "source": [
    "O=np.ones((2,3,4))\n",
    "print O"
   ]
  },
  {
   "cell_type": "markdown",
   "metadata": {
    "run_control": {
     "marked": true
    }
   },
   "source": [
    "Create 2-dimensional array of random integers between 10 (inclusive) and 20 (exclusive)"
   ]
  },
  {
   "cell_type": "code",
   "execution_count": 54,
   "metadata": {
    "run_control": {
     "marked": true
    }
   },
   "outputs": [
    {
     "name": "stdout",
     "output_type": "stream",
     "text": [
      "[[17 17 13]\n",
      " [12 16 18]\n",
      " [12 10 13]\n",
      " [19 19 14]\n",
      " [18 12 11]]\n"
     ]
    }
   ],
   "source": [
    "RI=np.random.randint(10,20,(5,3))\n",
    "print RI"
   ]
  },
  {
   "cell_type": "markdown",
   "metadata": {
    "run_control": {
     "marked": true
    }
   },
   "source": [
    "Create a 2-dimensional array of random numbers according to a Gaussian normal distribution with mean 0 and standard deviation 1."
   ]
  },
  {
   "cell_type": "code",
   "execution_count": 55,
   "metadata": {
    "run_control": {
     "marked": true
    }
   },
   "outputs": [
    {
     "name": "stdout",
     "output_type": "stream",
     "text": [
      "[[ 0.77 -0.26 -0.18  1.43 -0.23]\n",
      " [-0.99  1.47  0.24 -0.49  0.52]]\n"
     ]
    }
   ],
   "source": [
    "RN=np.random.randn(2,5)\n",
    "print RN"
   ]
  },
  {
   "cell_type": "markdown",
   "metadata": {
    "run_control": {
     "marked": true
    }
   },
   "source": [
    "Create a 2-dimensional array of random numbers according to a Gaussian normal distribution with mean m=100 and standard deviation s=5."
   ]
  },
  {
   "cell_type": "code",
   "execution_count": 56,
   "metadata": {
    "run_control": {
     "marked": true
    }
   },
   "outputs": [
    {
     "name": "stdout",
     "output_type": "stream",
     "text": [
      "[[  88.01   95.01  104.52   96.19   87.87  106.71  105.     95.83]\n",
      " [  99.94   94.07   98.05  105.2    97.55   98.95   94.13   96.02]\n",
      " [  98.12  101.69   97.79  106.64  100.89   98.89   98.96  101.11]\n",
      " [ 104.48   93.26  103.99   94.45   97.67   88.25   99.96  105.28]]\n"
     ]
    }
   ],
   "source": [
    "mean=100\n",
    "sigma=5\n",
    "RN100=sigma*np.random.randn(4,8)+mean\n",
    "print RN100"
   ]
  },
  {
   "cell_type": "markdown",
   "metadata": {
    "run_control": {
     "marked": true
    }
   },
   "source": [
    "Set print options, such that only 2 positions after the decimal point are printed."
   ]
  },
  {
   "cell_type": "code",
   "execution_count": 57,
   "metadata": {
    "run_control": {
     "marked": true
    }
   },
   "outputs": [
    {
     "name": "stdout",
     "output_type": "stream",
     "text": [
      "[[  88.01   95.01  104.52   96.19   87.87  106.71  105.     95.83]\n",
      " [  99.94   94.07   98.05  105.2    97.55   98.95   94.13   96.02]\n",
      " [  98.12  101.69   97.79  106.64  100.89   98.89   98.96  101.11]\n",
      " [ 104.48   93.26  103.99   94.45   97.67   88.25   99.96  105.28]]\n"
     ]
    }
   ],
   "source": [
    "np.set_printoptions(precision=2)\n",
    "print RN100"
   ]
  },
  {
   "cell_type": "markdown",
   "metadata": {
    "run_control": {
     "marked": true
    }
   },
   "source": [
    "Throw a balanced dice for 30 times. The first element of the resulting array is the number of times a 1 has been thrown, the last element is the number of times a 1 has been thrown.   "
   ]
  },
  {
   "cell_type": "code",
   "execution_count": 58,
   "metadata": {
    "run_control": {
     "marked": true
    }
   },
   "outputs": [
    {
     "name": "stdout",
     "output_type": "stream",
     "text": [
      "[6 5 6 3 4 6]\n"
     ]
    }
   ],
   "source": [
    "RM=np.random.multinomial(30,[1/6.]*6)\n",
    "print RM"
   ]
  },
  {
   "cell_type": "markdown",
   "metadata": {
    "run_control": {
     "marked": true
    }
   },
   "source": [
    "Create a 1-dimensional array, containing a sequence of numbers, starting from 2, terminating before 18 and a stepzize of 4.  "
   ]
  },
  {
   "cell_type": "code",
   "execution_count": 109,
   "metadata": {
    "run_control": {
     "marked": true
    }
   },
   "outputs": [
    {
     "name": "stdout",
     "output_type": "stream",
     "text": [
      "[ 2  6 10 14]\n"
     ]
    }
   ],
   "source": [
    "S=np.arange(2,18,4)\n",
    "print S"
   ]
  },
  {
   "cell_type": "markdown",
   "metadata": {
    "run_control": {
     "marked": true
    }
   },
   "source": [
    "Reshape the 1-dimensional array to a 2-dimensional array. Note that the number of elements in the original and the reshaped array must be equal."
   ]
  },
  {
   "cell_type": "code",
   "execution_count": 110,
   "metadata": {
    "run_control": {
     "marked": true
    }
   },
   "outputs": [
    {
     "name": "stdout",
     "output_type": "stream",
     "text": [
      "[[ 2  6]\n",
      " [10 14]]\n"
     ]
    }
   ],
   "source": [
    "SR = S.reshape((2,2))\n",
    "print SR"
   ]
  },
  {
   "cell_type": "markdown",
   "metadata": {},
   "source": [
    "In the _reshape()_ function the last shape-element need not be specified. It is enough to place a _-1_ at the corresponding position. Then this shape-element is calculated from the other shape-elements and the number of elements in the array. Below another _reshape()_ is performed. Note that the result is a _2-dimensional array_ of 1 row and 4 columns. "
   ]
  },
  {
   "cell_type": "code",
   "execution_count": 113,
   "metadata": {},
   "outputs": [
    {
     "name": "stdout",
     "output_type": "stream",
     "text": [
      "[[ 2  6 10 14]]\n"
     ]
    }
   ],
   "source": [
    "SRR=SR.reshape((1,-1))\n",
    "print SRR"
   ]
  },
  {
   "cell_type": "markdown",
   "metadata": {},
   "source": [
    "The _flatten()_ function yields a _1-dimensional_ array."
   ]
  },
  {
   "cell_type": "code",
   "execution_count": 114,
   "metadata": {},
   "outputs": [
    {
     "name": "stdout",
     "output_type": "stream",
     "text": [
      "[ 2  6 10 14]\n"
     ]
    }
   ],
   "source": [
    "SRRR=SR.flatten()\n",
    "print SRRR"
   ]
  },
  {
   "cell_type": "markdown",
   "metadata": {
    "run_control": {
     "marked": true
    }
   },
   "source": [
    "### Accessing Array Elements"
   ]
  },
  {
   "cell_type": "code",
   "execution_count": 61,
   "metadata": {
    "run_control": {
     "marked": true
    }
   },
   "outputs": [
    {
     "name": "stdout",
     "output_type": "stream",
     "text": [
      "[[1 2 3 4]\n",
      " [5 6 0 1]\n",
      " [1 2 0 1]]\n"
     ]
    }
   ],
   "source": [
    "print B"
   ]
  },
  {
   "cell_type": "markdown",
   "metadata": {
    "run_control": {
     "marked": true
    }
   },
   "source": [
    "Access the element in the first row and third column:"
   ]
  },
  {
   "cell_type": "code",
   "execution_count": 62,
   "metadata": {
    "run_control": {
     "marked": true
    }
   },
   "outputs": [
    {
     "name": "stdout",
     "output_type": "stream",
     "text": [
      "3\n"
     ]
    }
   ],
   "source": [
    "b=B[0,2]\n",
    "print b"
   ]
  },
  {
   "cell_type": "markdown",
   "metadata": {
    "run_control": {
     "marked": true
    }
   },
   "source": [
    "Access the second row:"
   ]
  },
  {
   "cell_type": "code",
   "execution_count": 63,
   "metadata": {
    "run_control": {
     "marked": true
    }
   },
   "outputs": [
    {
     "name": "stdout",
     "output_type": "stream",
     "text": [
      "[5 6 0 1]\n"
     ]
    }
   ],
   "source": [
    "r=B[1,:]\n",
    "print r"
   ]
  },
  {
   "cell_type": "markdown",
   "metadata": {
    "run_control": {
     "marked": true
    }
   },
   "source": [
    "Access the first column:"
   ]
  },
  {
   "cell_type": "code",
   "execution_count": 64,
   "metadata": {
    "run_control": {
     "marked": true
    }
   },
   "outputs": [
    {
     "name": "stdout",
     "output_type": "stream",
     "text": [
      "[1 5 1]\n"
     ]
    }
   ],
   "source": [
    "c=B[:,0]\n",
    "print c"
   ]
  },
  {
   "cell_type": "markdown",
   "metadata": {
    "run_control": {
     "marked": true
    }
   },
   "source": [
    "Access elements 2 and 3 of the second column:"
   ]
  },
  {
   "cell_type": "code",
   "execution_count": 65,
   "metadata": {
    "run_control": {
     "marked": true
    }
   },
   "outputs": [
    {
     "name": "stdout",
     "output_type": "stream",
     "text": [
      "[6 0]\n"
     ]
    }
   ],
   "source": [
    "p=B[1,1:3]\n",
    "print p"
   ]
  },
  {
   "cell_type": "markdown",
   "metadata": {
    "run_control": {
     "marked": true
    }
   },
   "source": [
    "Access the lower right (2x2) subarray of B:"
   ]
  },
  {
   "cell_type": "code",
   "execution_count": 95,
   "metadata": {
    "run_control": {
     "marked": true
    }
   },
   "outputs": [
    {
     "name": "stdout",
     "output_type": "stream",
     "text": [
      "[[1 1]\n",
      " [1 1]]\n"
     ]
    }
   ],
   "source": [
    "l=B[1:,2:]\n",
    "print l"
   ]
  },
  {
   "cell_type": "markdown",
   "metadata": {},
   "source": [
    "Negative integers can be applied to access array elements in the reverse order. E.g. B[-1,:] is the last row of B. Thus the lower right (2x2) subarray of B can also be obtained by:"
   ]
  },
  {
   "cell_type": "code",
   "execution_count": 96,
   "metadata": {},
   "outputs": [
    {
     "name": "stdout",
     "output_type": "stream",
     "text": [
      "[[1 1]\n",
      " [1 1]]\n"
     ]
    }
   ],
   "source": [
    "l2=B[-2:,-2:]\n",
    "print l2"
   ]
  },
  {
   "cell_type": "markdown",
   "metadata": {},
   "source": [
    "Reversing columns and rows in an array:"
   ]
  },
  {
   "cell_type": "code",
   "execution_count": 101,
   "metadata": {},
   "outputs": [
    {
     "name": "stdout",
     "output_type": "stream",
     "text": [
      "B=\n",
      "[[1 2 3 4]\n",
      " [5 6 1 1]\n",
      " [1 2 1 1]]\n",
      "Reverse order of columns and rows:\n",
      "RB=\n",
      "[[1 1 2 1]\n",
      " [1 1 6 5]\n",
      " [4 3 2 1]]\n"
     ]
    }
   ],
   "source": [
    "RB=B[::-1,::-1]\n",
    "print \"B=\\n\",B\n",
    "print \"Reverse order of columns and rows:\\nRB=\\n\",RB"
   ]
  },
  {
   "cell_type": "code",
   "execution_count": 168,
   "metadata": {},
   "outputs": [
    {
     "name": "stdout",
     "output_type": "stream",
     "text": [
      "[ 0 10 20 30 40 50 60 70 80 90]\n",
      "[10 90 30]\n"
     ]
    }
   ],
   "source": [
    "a=10*np.arange(10)\n",
    "idx=np.array([1,9,3])\n",
    "print a\n",
    "print a[idx]"
   ]
  },
  {
   "cell_type": "markdown",
   "metadata": {},
   "source": [
    "### Copying and Editing Array Elements"
   ]
  },
  {
   "cell_type": "markdown",
   "metadata": {},
   "source": [
    "Copy B to CB:"
   ]
  },
  {
   "cell_type": "code",
   "execution_count": 67,
   "metadata": {},
   "outputs": [
    {
     "name": "stdout",
     "output_type": "stream",
     "text": [
      "[[1 2 3 4]\n",
      " [5 6 0 1]\n",
      " [1 2 0 1]]\n"
     ]
    }
   ],
   "source": [
    "CB=B\n",
    "print CB"
   ]
  },
  {
   "cell_type": "markdown",
   "metadata": {},
   "source": [
    "Editing part of B:"
   ]
  },
  {
   "cell_type": "code",
   "execution_count": 68,
   "metadata": {},
   "outputs": [
    {
     "name": "stdout",
     "output_type": "stream",
     "text": [
      "B=\n",
      "[[1 2 3 4]\n",
      " [5 6 0 0]\n",
      " [1 2 0 0]]\n",
      "CB=\n",
      "[[1 2 3 4]\n",
      " [5 6 0 0]\n",
      " [1 2 0 0]]\n"
     ]
    }
   ],
   "source": [
    "B[1:,2:]=np.zeros((2,2))\n",
    "print \"B=\\n\",B\n",
    "print \"CB=\\n\",CB"
   ]
  },
  {
   "cell_type": "markdown",
   "metadata": {},
   "source": [
    "As shown above copying by __=__ is a shallow copy. A **deep copy** can be implemented as follows:"
   ]
  },
  {
   "cell_type": "code",
   "execution_count": 69,
   "metadata": {},
   "outputs": [
    {
     "name": "stdout",
     "output_type": "stream",
     "text": [
      "B=\n",
      "[[1 2 3 4]\n",
      " [5 6 1 1]\n",
      " [1 2 1 1]]\n",
      "CB=\n",
      "[[1 2 3 4]\n",
      " [5 6 0 0]\n",
      " [1 2 0 0]]\n"
     ]
    }
   ],
   "source": [
    "CB=B.copy()\n",
    "B[1:,2:]=np.ones((2,2))\n",
    "print \"B=\\n\",B\n",
    "print \"CB=\\n\",CB"
   ]
  },
  {
   "cell_type": "markdown",
   "metadata": {
    "collapsed": true,
    "run_control": {
     "marked": true
    }
   },
   "source": [
    "## Basic Operations"
   ]
  },
  {
   "cell_type": "markdown",
   "metadata": {
    "run_control": {
     "marked": true
    }
   },
   "source": [
    "### Add and multiply array elements with a scalar"
   ]
  },
  {
   "cell_type": "code",
   "execution_count": 70,
   "metadata": {
    "run_control": {
     "marked": true
    }
   },
   "outputs": [
    {
     "name": "stdout",
     "output_type": "stream",
     "text": [
      "[[1 2 3 4]\n",
      " [5 6 1 1]\n",
      " [1 2 1 1]]\n"
     ]
    }
   ],
   "source": [
    "print B"
   ]
  },
  {
   "cell_type": "code",
   "execution_count": 71,
   "metadata": {},
   "outputs": [
    {
     "name": "stdout",
     "output_type": "stream",
     "text": [
      "[[ 3  6  9 12]\n",
      " [15 18  3  3]\n",
      " [ 3  6  3  3]]\n"
     ]
    }
   ],
   "source": [
    "print 3*B"
   ]
  },
  {
   "cell_type": "code",
   "execution_count": 72,
   "metadata": {},
   "outputs": [
    {
     "name": "stdout",
     "output_type": "stream",
     "text": [
      "[[101 102 103 104]\n",
      " [105 106 101 101]\n",
      " [101 102 101 101]]\n"
     ]
    }
   ],
   "source": [
    "print 100+B"
   ]
  },
  {
   "cell_type": "markdown",
   "metadata": {},
   "source": [
    "### Elementwise addition and multiplication of matrices of the same size"
   ]
  },
  {
   "cell_type": "code",
   "execution_count": 73,
   "metadata": {},
   "outputs": [
    {
     "name": "stdout",
     "output_type": "stream",
     "text": [
      "B=\n",
      "[[1 2 3 4]\n",
      " [5 6 1 1]\n",
      " [1 2 1 1]]\n",
      "A=\n",
      "[[2 3 2 6]\n",
      " [2 0 6 4]\n",
      " [0 4 5 5]]\n"
     ]
    }
   ],
   "source": [
    "A=np.random.randint(0,7,B.shape)\n",
    "print \"B=\\n\",B\n",
    "print \"A=\\n\",A"
   ]
  },
  {
   "cell_type": "code",
   "execution_count": 74,
   "metadata": {},
   "outputs": [
    {
     "name": "stdout",
     "output_type": "stream",
     "text": [
      "[[ 3  5  5 10]\n",
      " [ 7  6  7  5]\n",
      " [ 1  6  6  6]]\n"
     ]
    }
   ],
   "source": [
    "S=A+B\n",
    "print S"
   ]
  },
  {
   "cell_type": "code",
   "execution_count": 75,
   "metadata": {},
   "outputs": [
    {
     "name": "stdout",
     "output_type": "stream",
     "text": [
      "[[ 2  6  6 24]\n",
      " [10  0  6  4]\n",
      " [ 0  8  5  5]]\n"
     ]
    }
   ],
   "source": [
    "P=A*B\n",
    "print P"
   ]
  },
  {
   "cell_type": "markdown",
   "metadata": {},
   "source": [
    "### Some other elementwise operations:"
   ]
  },
  {
   "cell_type": "code",
   "execution_count": 76,
   "metadata": {},
   "outputs": [
    {
     "name": "stdout",
     "output_type": "stream",
     "text": [
      "All elements of B raised to a power of 2\n",
      " P2=\n",
      "[[ 1  4  9 16]\n",
      " [25 36  1  1]\n",
      " [ 1  4  1  1]]\n"
     ]
    }
   ],
   "source": [
    "P2=B**2\n",
    "print \"All elements of B raised to a power of 2\\n P2=\\n\",P2"
   ]
  },
  {
   "cell_type": "code",
   "execution_count": 77,
   "metadata": {},
   "outputs": [
    {
     "name": "stdout",
     "output_type": "stream",
     "text": [
      "Elementwise squareroot\n",
      " SR=\n",
      "[[ 1.    1.41  1.73  2.  ]\n",
      " [ 2.24  2.45  1.    1.  ]\n",
      " [ 1.    1.41  1.    1.  ]]\n"
     ]
    }
   ],
   "source": [
    "SR=np.sqrt(B)\n",
    "print \"Elementwise squareroot\\n SR=\\n\",SR"
   ]
  },
  {
   "cell_type": "code",
   "execution_count": 78,
   "metadata": {},
   "outputs": [
    {
     "name": "stdout",
     "output_type": "stream",
     "text": [
      "Elementwise sine\n",
      " SI=\n",
      "[[ 0.84  0.91  0.14 -0.76]\n",
      " [-0.96 -0.28  0.84  0.84]\n",
      " [ 0.84  0.91  0.84  0.84]]\n"
     ]
    }
   ],
   "source": [
    "SI=np.sin(B)\n",
    "print \"Elementwise sine\\n SI=\\n\",SI"
   ]
  },
  {
   "cell_type": "markdown",
   "metadata": {},
   "source": [
    "### Dot product"
   ]
  },
  {
   "cell_type": "code",
   "execution_count": 79,
   "metadata": {},
   "outputs": [
    {
     "name": "stdout",
     "output_type": "stream",
     "text": [
      "[0 1 2]\n",
      "[2 4 1]\n"
     ]
    }
   ],
   "source": [
    "a=np.arange(3)\n",
    "b=np.array([2,4,1])\n",
    "print a\n",
    "print b"
   ]
  },
  {
   "cell_type": "code",
   "execution_count": 80,
   "metadata": {},
   "outputs": [
    {
     "name": "stdout",
     "output_type": "stream",
     "text": [
      "6\n"
     ]
    }
   ],
   "source": [
    "c=np.dot(a,b)\n",
    "print c"
   ]
  },
  {
   "cell_type": "markdown",
   "metadata": {},
   "source": [
    "### Matrix multiplication"
   ]
  },
  {
   "cell_type": "code",
   "execution_count": 85,
   "metadata": {},
   "outputs": [
    {
     "name": "stdout",
     "output_type": "stream",
     "text": [
      "B=\n",
      "[[1 2 3 4]\n",
      " [5 6 1 1]\n",
      " [1 2 1 1]]\n",
      "A=\n",
      "[[2 3 2 6]\n",
      " [2 0 6 4]\n",
      " [0 4 5 5]]\n"
     ]
    }
   ],
   "source": [
    "print \"B=\\n\",B\n",
    "print \"A=\\n\",A"
   ]
  },
  {
   "cell_type": "code",
   "execution_count": 82,
   "metadata": {},
   "outputs": [
    {
     "ename": "ValueError",
     "evalue": "shapes (3,4) and (3,4) not aligned: 4 (dim 1) != 3 (dim 0)",
     "output_type": "error",
     "traceback": [
      "\u001b[0;31m---------------------------------------------------------------------------\u001b[0m",
      "\u001b[0;31mValueError\u001b[0m                                Traceback (most recent call last)",
      "\u001b[0;32m<ipython-input-82-392bb8cd34fa>\u001b[0m in \u001b[0;36m<module>\u001b[0;34m()\u001b[0m\n\u001b[0;32m----> 1\u001b[0;31m \u001b[0mC\u001b[0m\u001b[0;34m=\u001b[0m\u001b[0mnp\u001b[0m\u001b[0;34m.\u001b[0m\u001b[0mdot\u001b[0m\u001b[0;34m(\u001b[0m\u001b[0mA\u001b[0m\u001b[0;34m,\u001b[0m\u001b[0mB\u001b[0m\u001b[0;34m)\u001b[0m\u001b[0;34m\u001b[0m\u001b[0m\n\u001b[0m\u001b[1;32m      2\u001b[0m \u001b[0;32mprint\u001b[0m \u001b[0;34m\"C=\\n\"\u001b[0m\u001b[0;34m,\u001b[0m\u001b[0mC\u001b[0m\u001b[0;34m\u001b[0m\u001b[0m\n",
      "\u001b[0;31mValueError\u001b[0m: shapes (3,4) and (3,4) not aligned: 4 (dim 1) != 3 (dim 0)"
     ]
    }
   ],
   "source": [
    "C=np.dot(A,B)\n",
    "print \"C=\\n\",C"
   ]
  },
  {
   "cell_type": "code",
   "execution_count": 84,
   "metadata": {},
   "outputs": [
    {
     "name": "stdout",
     "output_type": "stream",
     "text": [
      "BT=\n",
      "[[1 5 1]\n",
      " [2 6 2]\n",
      " [3 1 1]\n",
      " [4 1 1]]\n",
      "C=\n",
      "[[38 36 16]\n",
      " [36 20 12]\n",
      " [43 34 18]]\n"
     ]
    }
   ],
   "source": [
    "BT=np.transpose(B)\n",
    "print \"BT=\\n\",BT\n",
    "C=np.dot(A,BT)\n",
    "print \"C=\\n\",C"
   ]
  },
  {
   "cell_type": "code",
   "execution_count": 86,
   "metadata": {},
   "outputs": [
    {
     "name": "stdout",
     "output_type": "stream",
     "text": [
      "BT2=\n",
      "[[38 36 16]\n",
      " [36 20 12]\n",
      " [43 34 18]]\n"
     ]
    }
   ],
   "source": [
    "BT2=A.dot(BT)\n",
    "print \"BT2=\\n\",BT2"
   ]
  },
  {
   "cell_type": "markdown",
   "metadata": {},
   "source": [
    "### Simple statistic operations on arrays"
   ]
  },
  {
   "cell_type": "code",
   "execution_count": 87,
   "metadata": {},
   "outputs": [
    {
     "name": "stdout",
     "output_type": "stream",
     "text": [
      "A=\n",
      "[[2 3 2 6]\n",
      " [2 0 6 4]\n",
      " [0 4 5 5]]\n"
     ]
    }
   ],
   "source": [
    "print \"A=\\n\",A "
   ]
  },
  {
   "cell_type": "code",
   "execution_count": 90,
   "metadata": {},
   "outputs": [
    {
     "name": "stdout",
     "output_type": "stream",
     "text": [
      "Minimum =   0\n",
      "Maximum =   6\n",
      "Mean = 3.25\n"
     ]
    }
   ],
   "source": [
    "print \"Minimum = %3d\\nMaximum = %3d\\nMean = %3.2f\"%(A.min(),A.max(),A.mean())"
   ]
  },
  {
   "cell_type": "code",
   "execution_count": 92,
   "metadata": {},
   "outputs": [
    {
     "name": "stdout",
     "output_type": "stream",
     "text": [
      "Minimum = [0 0 2 4]\n",
      "Maximum = [2 4 6 6]\n",
      "Mean = [ 1.33  2.33  4.33  5.  ]\n"
     ]
    }
   ],
   "source": [
    "print \"Minimum = %s\\nMaximum = %s\\nMean = %s\"%(A.min(axis=0),A.max(axis=0),A.mean(axis=0))"
   ]
  },
  {
   "cell_type": "code",
   "execution_count": 93,
   "metadata": {},
   "outputs": [
    {
     "name": "stdout",
     "output_type": "stream",
     "text": [
      "Minimum = [2 0 0]\n",
      "Maximum = [6 6 5]\n",
      "Mean = [ 3.25  3.    3.5 ]\n"
     ]
    }
   ],
   "source": [
    "print \"Minimum = %s\\nMaximum = %s\\nMean = %s\"%(A.min(axis=1),A.max(axis=1),A.mean(axis=1))"
   ]
  },
  {
   "cell_type": "markdown",
   "metadata": {},
   "source": [
    "## Stacking and splitting arrays "
   ]
  },
  {
   "cell_type": "code",
   "execution_count": 115,
   "metadata": {},
   "outputs": [
    {
     "name": "stdout",
     "output_type": "stream",
     "text": [
      "A=\n",
      "[[2 3 2 6]\n",
      " [2 0 6 4]\n",
      " [0 4 5 5]]\n",
      "B=\n",
      "[[1 2 3 4]\n",
      " [5 6 1 1]\n",
      " [1 2 1 1]]\n"
     ]
    }
   ],
   "source": [
    "print \"A=\\n\",A\n",
    "print \"B=\\n\",B"
   ]
  },
  {
   "cell_type": "code",
   "execution_count": 116,
   "metadata": {},
   "outputs": [
    {
     "name": "stdout",
     "output_type": "stream",
     "text": [
      "V=\n",
      "[[2 3 2 6]\n",
      " [2 0 6 4]\n",
      " [0 4 5 5]\n",
      " [1 2 3 4]\n",
      " [5 6 1 1]\n",
      " [1 2 1 1]]\n"
     ]
    }
   ],
   "source": [
    "V=np.vstack((A,B))\n",
    "print \"V=\\n\",V"
   ]
  },
  {
   "cell_type": "code",
   "execution_count": 117,
   "metadata": {},
   "outputs": [
    {
     "name": "stdout",
     "output_type": "stream",
     "text": [
      "H=\n",
      "[[2 3 2 6 1 2 3 4]\n",
      " [2 0 6 4 5 6 1 1]\n",
      " [0 4 5 5 1 2 1 1]]\n"
     ]
    }
   ],
   "source": [
    "H=np.hstack((A,B))\n",
    "print \"H=\\n\",H"
   ]
  },
  {
   "cell_type": "code",
   "execution_count": 125,
   "metadata": {},
   "outputs": [
    {
     "name": "stdout",
     "output_type": "stream",
     "text": [
      "1st part=\n",
      "[[2 3 2]\n",
      " [2 0 6]\n",
      " [0 4 5]]\n",
      "2nd part=\n",
      "[[6 1]\n",
      " [4 5]\n",
      " [5 1]]\n",
      "3rd part=\n",
      "[[2 3 4]\n",
      " [6 1 1]\n",
      " [2 1 1]]\n"
     ]
    }
   ],
   "source": [
    "Hs=np.hsplit(H,(3,5))\n",
    "print \"1st part=\\n\",Hs[0]\n",
    "print \"2nd part=\\n\",Hs[1]\n",
    "print \"3rd part=\\n\",Hs[2]"
   ]
  },
  {
   "cell_type": "code",
   "execution_count": 130,
   "metadata": {},
   "outputs": [
    {
     "name": "stdout",
     "output_type": "stream",
     "text": [
      "1st part=\n",
      "[[2 3 2 6]\n",
      " [2 0 6 4]]\n",
      "2nd part=\n",
      "[[0 4 5 5]\n",
      " [1 2 3 4]\n",
      " [5 6 1 1]\n",
      " [1 2 1 1]]\n"
     ]
    }
   ],
   "source": [
    "Vs=np.vsplit(V,(2,))\n",
    "print \"1st part=\\n\",Vs[0]\n",
    "print \"2nd part=\\n\",Vs[1]"
   ]
  },
  {
   "cell_type": "markdown",
   "metadata": {},
   "source": [
    "## Ordering array elements"
   ]
  },
  {
   "cell_type": "code",
   "execution_count": 158,
   "metadata": {},
   "outputs": [
    {
     "name": "stdout",
     "output_type": "stream",
     "text": [
      "[ 4 95 20 56 10 64  0 97 10 25 99 26 53 46 61]\n"
     ]
    }
   ],
   "source": [
    "b=np.random.randint(0,100,15)\n",
    "print b"
   ]
  },
  {
   "cell_type": "code",
   "execution_count": 162,
   "metadata": {},
   "outputs": [
    {
     "name": "stdout",
     "output_type": "stream",
     "text": [
      "[ 0  4 10 10 20 25 26 46 53 56 61 64 95 97 99]\n",
      "[ 4 95 20 56 10 64  0 97 10 25 99 26 53 46 61]\n"
     ]
    }
   ],
   "source": [
    "bs=np.sort(b)\n",
    "print bs"
   ]
  },
  {
   "cell_type": "code",
   "execution_count": 163,
   "metadata": {},
   "outputs": [
    {
     "name": "stdout",
     "output_type": "stream",
     "text": [
      "[ 6  0  4  8  2  9 11 13 12  3 14  5  1  7 10]\n"
     ]
    }
   ],
   "source": [
    "sortIdx=np.argsort(b)\n",
    "print sortIdx"
   ]
  },
  {
   "cell_type": "code",
   "execution_count": 164,
   "metadata": {},
   "outputs": [
    {
     "name": "stdout",
     "output_type": "stream",
     "text": [
      "[ 0  4 10 10 20 25 26 46 53 56 61 64 95 97 99]\n"
     ]
    }
   ],
   "source": [
    "bss=b[sortIdx]\n",
    "print bss"
   ]
  },
  {
   "cell_type": "markdown",
   "metadata": {},
   "source": [
    "## Array Query"
   ]
  },
  {
   "cell_type": "code",
   "execution_count": 137,
   "metadata": {},
   "outputs": [
    {
     "name": "stdout",
     "output_type": "stream",
     "text": [
      "[[2 3 2 6]\n",
      " [2 0 6 4]\n",
      " [0 4 5 5]]\n"
     ]
    }
   ],
   "source": [
    "print A"
   ]
  },
  {
   "cell_type": "code",
   "execution_count": 138,
   "metadata": {},
   "outputs": [
    {
     "name": "stdout",
     "output_type": "stream",
     "text": [
      "(array([0, 0, 0, 0, 1, 1, 1, 2, 2, 2], dtype=int64), array([0, 1, 2, 3, 0, 2, 3, 1, 2, 3], dtype=int64))\n"
     ]
    }
   ],
   "source": [
    "print A.nonzero()"
   ]
  },
  {
   "cell_type": "code",
   "execution_count": 136,
   "metadata": {},
   "outputs": [
    {
     "name": "stdout",
     "output_type": "stream",
     "text": [
      "(array([0, 0, 1, 1, 2, 2, 2], dtype=int64), array([1, 3, 2, 3, 1, 2, 3], dtype=int64))\n"
     ]
    }
   ],
   "source": [
    "print np.where(A>2)"
   ]
  },
  {
   "cell_type": "code",
   "execution_count": 135,
   "metadata": {},
   "outputs": [
    {
     "name": "stdout",
     "output_type": "stream",
     "text": [
      "[[ 0.  1.  0.  1.]\n",
      " [ 0.  0.  1.  1.]\n",
      " [ 0.  1.  1.  1.]]\n"
     ]
    }
   ],
   "source": [
    "print np.where(A>2,np.ones(A.shape),np.zeros(A.shape))"
   ]
  },
  {
   "cell_type": "code",
   "execution_count": 132,
   "metadata": {},
   "outputs": [
    {
     "name": "stdout",
     "output_type": "stream",
     "text": [
      "[[2 3 2 6]\n",
      " [2 0 6 4]\n",
      " [0 4 5 5]]\n"
     ]
    }
   ],
   "source": [
    "print A"
   ]
  },
  {
   "cell_type": "code",
   "execution_count": 140,
   "metadata": {},
   "outputs": [
    {
     "name": "stdout",
     "output_type": "stream",
     "text": [
      "[[1 2 3 4]\n",
      " [5 6 1 1]\n",
      " [1 2 1 1]]\n"
     ]
    }
   ],
   "source": [
    "print B"
   ]
  },
  {
   "cell_type": "code",
   "execution_count": 141,
   "metadata": {},
   "outputs": [
    {
     "name": "stdout",
     "output_type": "stream",
     "text": [
      "[[ True  True False  True]\n",
      " [False False  True  True]\n",
      " [False  True  True  True]]\n"
     ]
    }
   ],
   "source": [
    "print A>B"
   ]
  },
  {
   "cell_type": "code",
   "execution_count": 142,
   "metadata": {},
   "outputs": [
    {
     "name": "stdout",
     "output_type": "stream",
     "text": [
      "[ True  True  True  True]\n"
     ]
    }
   ],
   "source": [
    "print np.any(A>B,axis=0)"
   ]
  },
  {
   "cell_type": "code",
   "execution_count": 143,
   "metadata": {},
   "outputs": [
    {
     "name": "stdout",
     "output_type": "stream",
     "text": [
      "[ True  True  True]\n"
     ]
    }
   ],
   "source": [
    "print np.any(A>B,axis=1)"
   ]
  },
  {
   "cell_type": "code",
   "execution_count": 144,
   "metadata": {},
   "outputs": [
    {
     "name": "stdout",
     "output_type": "stream",
     "text": [
      "[False False False  True]\n"
     ]
    }
   ],
   "source": [
    "print np.all(A>B,axis=0)"
   ]
  },
  {
   "cell_type": "code",
   "execution_count": 145,
   "metadata": {},
   "outputs": [
    {
     "name": "stdout",
     "output_type": "stream",
     "text": [
      "[False False False]\n"
     ]
    }
   ],
   "source": [
    "print np.all(A>B,axis=1)"
   ]
  },
  {
   "cell_type": "markdown",
   "metadata": {},
   "source": [
    "## Import and Export Data from/to Files "
   ]
  },
  {
   "cell_type": "code",
   "execution_count": 169,
   "metadata": {},
   "outputs": [
    {
     "name": "stdout",
     "output_type": "stream",
     "text": [
      "[[2 3 2 6]\n",
      " [2 0 6 4]\n",
      " [0 4 5 5]]\n"
     ]
    }
   ],
   "source": [
    "print A"
   ]
  },
  {
   "cell_type": "markdown",
   "metadata": {},
   "source": [
    "Save array A to a binary file in NumPy .npy format. In the example below the file is saved in the working directory. However, an arbitrary path can be specified in the string-parameter of _save()_."
   ]
  },
  {
   "cell_type": "code",
   "execution_count": 170,
   "metadata": {
    "collapsed": true
   },
   "outputs": [],
   "source": [
    "np.save(\"binFileA\",A)"
   ]
  },
  {
   "cell_type": "markdown",
   "metadata": {},
   "source": [
    "Load array, which has been saved to a binary file into NumPy:"
   ]
  },
  {
   "cell_type": "code",
   "execution_count": 173,
   "metadata": {},
   "outputs": [
    {
     "name": "stdout",
     "output_type": "stream",
     "text": [
      "[[2 3 2 6]\n",
      " [2 0 6 4]\n",
      " [0 4 5 5]]\n"
     ]
    }
   ],
   "source": [
    "AL=np.load(\"binFileA.npy\")\n",
    "print AL"
   ]
  },
  {
   "cell_type": "markdown",
   "metadata": {},
   "source": [
    "Save array to a text-file. Note that _savetxt()_ also has parameters for separating columns (_delimiter=''_) and lines (_newline='\\n'_). Thus this method and the corresponding _loadtxt()_-method can also be applied for writing to and reading from .csv."
   ]
  },
  {
   "cell_type": "markdown",
   "metadata": {},
   "source": [
    "Load data from a textfile into a NumPy array:"
   ]
  },
  {
   "cell_type": "code",
   "execution_count": 179,
   "metadata": {
    "collapsed": true
   },
   "outputs": [],
   "source": [
    "np.savetxt(\"textFileA\",A,fmt=\"%4.2f\")"
   ]
  },
  {
   "cell_type": "code",
   "execution_count": 181,
   "metadata": {},
   "outputs": [
    {
     "name": "stdout",
     "output_type": "stream",
     "text": [
      "[[ 2.  3.  2.  6.]\n",
      " [ 2.  0.  6.  4.]\n",
      " [ 0.  4.  5.  5.]]\n"
     ]
    }
   ],
   "source": [
    "AT=np.loadtxt(\"textFileA\")\n",
    "print AT"
   ]
  },
  {
   "cell_type": "markdown",
   "metadata": {},
   "source": [
    "## Exercises"
   ]
  },
  {
   "cell_type": "code",
   "execution_count": null,
   "metadata": {
    "collapsed": true
   },
   "outputs": [],
   "source": []
  }
 ],
 "metadata": {
  "kernelspec": {
   "display_name": "Python 3",
   "language": "python",
   "name": "python3"
  },
  "language_info": {
   "codemirror_mode": {
    "name": "ipython",
    "version": 3
   },
   "file_extension": ".py",
   "mimetype": "text/x-python",
   "name": "python",
   "nbconvert_exporter": "python",
   "pygments_lexer": "ipython3",
   "version": "3.6.1"
  },
  "nav_menu": {},
  "toc": {
   "navigate_menu": true,
   "number_sections": true,
   "sideBar": true,
   "threshold": 6,
   "toc_cell": false,
   "toc_section_display": "block",
   "toc_window_display": true
  },
  "toc_position": {
   "height": "533px",
   "left": "0px",
   "right": "1196px",
   "top": "106px",
   "width": "212px"
  }
 },
 "nbformat": 4,
 "nbformat_minor": 1
}
