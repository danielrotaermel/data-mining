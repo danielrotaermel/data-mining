{
 "cells": [
  {
   "cell_type": "markdown",
   "metadata": {},
   "source": [
    "# Data Mining Versuch Recommender Systeme\n",
    "\n",
    "* Autor: Prof. Dr. Johannes Maucher\n",
    "* Datum: 30.09.2015\n",
    "\n",
    "[Übersicht Ipython Notebooks im Data Mining Praktikum](Data Mining Praktikum.ipynb)\n",
    "\n",
    "\n",
    "# Einführung\n",
    "## Lernziele:\n",
    "In diesem Versuch sollen Kenntnisse in folgenden Themen vermittelt werden:\n",
    "\n",
    "* __Ähnlichkeit:__ Verfahren zur Bestimmung der Ähnlichkeit zwischen Personen (Kunden) und Elementen (Produkten)\n",
    "* __Empfehlungssysteme__ Collaborative Filtering \n",
    "* __Collaborative Filtering:__ Nutzerbezogener Ansatz und elementbasierter Ansatz\n",
    "\n",
    "Sämtliche Verfahren und Algorithmen werden in Python implementiert.\n",
    "\n",
    "## Theorie zur Vorbereitung\n",
    "### Recommender Systeme\n",
    "Recommender Systeme werden im E-Commerce eingesetzt um Werbung in Form von kundenspezifischen Empfehlungen zu verteilen. Weitläufig bekannt sind die Amazon-Empfehlungen, die entweder per e-mail geschickt oder nach dem Log-In in der Web-Page angezeigt werden. Diese Empfehlungen werden in Abhängigkeit von den bisher vom jeweiligen Kunden gekauften bzw. bewerteten Produkten erstellt. In diesem Versuch werden die derzeit wohl am weitest verbreiteteten Verfahren für die Erzeugung kundenspezifischer Empfehlungen vorgestellt, darunter das elementweise Collaborative Filtering, welches z.B. auch von Amazon eingesetzt wird.     \n",
    "\n",
    "Direkt-Marketing Methoden wie die kundenspezifische Erzeugung und Bereitstellung von Werbung erfordern detaillierte Kunden- und Warenkorbanalysen. Kunden mit ähnlichem Kaufverhalten werden in Kundengruppen zusammengefasst. Die Warenkorbanalyse untersucht u.a. welche Waren bevorzugt im Verbund von der gleichen Person gekauft werden. Damit kann ein Händler Werbung in Form von Empfehlungen individuell und gezielt an seine Kunden richten, abhängig davon welcher Kundengruppe er angehört und welche Produkte bevorzugt von dieser Kundengruppe nachgefragt werden. \n",
    "\n",
    "Im ersten Teil der Übung werden fiktive Daten in einer überschaubaren Menge verwendet. Es handelt sich hier um Filmbewertungen. Anhand dieses Beispiels sollen die notwendigen Methoden und Abläufe implementiert und getestet werden. Diese werden im zweiten Teil der Übung auf echte Daten angewandt. Hierzu werden über eine Python-API Daten vom Internet-Meta-Radio _last.fm_ integriert. Auf der Basis dieser Daten sollen dann Musikempfehlungen für last.fm User berechnet werden. \n",
    "\n",
    "Recommender Systeme lassen sich mit\n",
    "\n",
    "* Clustering Verfahren\n",
    "* Suchalgorithmen\n",
    "* Collaborativen Filtering \n",
    " \n",
    "realisieren. Am häufigsten wird hierbei das Collaborative Filtering eingesetzt. Für das Collaborative Filtering wird jeder der $M$ User durch einen $N$-dimensionalen Vektor beschrieben, wobei $N$ die Anzahl der Produkte im Angebot des Händlers ist. Jedes Element im Vektor gehört zu einem speziellen Produkt. Das Element hat den Wert 1, wenn der User dieses Produkt bereits gekauft hat, sonst 0 (andere Wertbelegungen sind möglich, z.B. wenn Produktbewertungen vorliegen). Alle $M$ Zeilenvektoren können zur _User/Item_ Matrix zusammengefasst werden (siehe Abbildung).\n",
    "\n",
    "![Abbildung User Item Matrix](https://www.hdm-stuttgart.de/~maucher/ipnotebooks/DataMining//Bilder/UserItemMatrix.png \"User Item Matrix\")"
   ]
  },
  {
   "cell_type": "markdown",
   "metadata": {},
   "source": [
    "Das traditionelle __userbasierte Collaborative Filtering (UCF)__, benutzt die Ähnlichkeit zwischen Benutzern: Um für User $U_i$ eine Empfehlung zu erzeugen wird zunächst der diesem User ähnlichste Kunde (oder eine Menge vom ähnlichsten Kunden) ermittelt. Dann werden $U_i$ die Produkte (Items) empfohlen, welche der ähnlichste Kunde gekauft hat, $U_i$ selbst jedoch noch nicht. \n",
    "\n",
    "Dieser Ansatz skaliert schlecht im Fall sehr großer _User/Item_-Matrizen. Ausserdem ist er für User, welche erst wenige Produkte gekauft haben unzuverlässig. Besser eignet sich in diesen Fällen das __itembasierte Collaborative Filtering (ICF)__. Es wird u.a. von Amazon.com eingesetzt. Diese Variante benutzt die Ähnlichkeit zwischen Produkten (Items). Dabei sind Produkte umso ähnlicher je mehr Kunden diese Produkte gemeinsam gekauft haben. Für die Produkte welche ein Referenzuser $U_i$ bereits gekauft hat, werden die ähnlichsten Produkte ermittelt. Diese ähnlichsten Produkte werden $U_i$ empfohlen, wenn er sie nicht schon selbst gekauft hat.\n",
    "\n",
    "Im folgenden Abschnitt werden einige gebräuchliche Metriken für die Berechnung der Ähnlichkeit zwischen Benutzern oder Artikeln vorgestellt. Für Collaboratives Filtering wird sehr häufig das Cosinus - Ähnlichkeitsmaß eingesetzt.\n"
   ]
  },
  {
   "cell_type": "markdown",
   "metadata": {},
   "source": [
    "### Gebräuchliche Ähnlichkeitsmaße\n",
    "\n",
    "Die __euklidische Distanz__ $d_E(\\underline{a},\\underline{b})$ zwischen zwei n-dimensionalen Vektoren $\\underline{a}=(a_1,\\ldots,a_n)$ und $\\underline{b}=(b_1,\\ldots,b_n)$ berechnet sich zu\n",
    "\t$$\n",
    "\td_E(\\underline{a},\\underline{b})=\\sqrt{\\sum_{i=1}^n (a_i-b_i)^2}\n",
    "\t$$\n",
    "Zwei Vektoren können als umso ähnlicher erachtet werden, je kleiner deren euklidische Distanz ist. \n",
    "Ein auf der euklidischen Metrik basierendes Ähnlichkeitsmaß zwischen zwei Vektoren $\\underline{a}$ und $\\underline{b}$ kann durch \n",
    "$$\n",
    "s_E(\\underline{a},\\underline{b})=\\frac{1}{1+d_E(\\underline{a},\\underline{b})}\n",
    "$$\n",
    "angegeben werden.\n",
    "\n",
    "\n",
    "__Pearson Korrelation__\n",
    "Die Ähnlichkeit zwischen zwei Vektoren kann auch durch den Pearson-Korrelationskoeffizient $\\rho_{\\underline{a},\\underline{b}}$ ausgedrückt werden. Er berechnet sich zu\n",
    "$$\n",
    "\\rho_{\\underline{a},\\underline{b}}= \\frac{1}{N}\\cdot \\sum\\limits_{i=1}^{N}\\frac{(a_i-\\overline{a})}{\\sigma_a} \\frac{(b_i-\\overline{b})}{\\sigma_b}\n",
    "$$\n",
    "Dabei bezeichnet $N$ die Länge der Vektoren, $\\overline{a}$ den Mittelwert und $\\sigma_a$ die Standardabweichung des Vektors $\\underline{a}$. \n",
    "\n",
    "Der Pearson-Korrelationskoeffizient misst die lineare Abhängigkeit zwischen zwei Vektoren. Der maximale Wert von $+1$ wird erreicht, wenn die durch die beiden Vektoren definierten N Punkte im 2-dimensionalen Raum auf einer ansteigenden Geraden liegen. Der Minimalwert von $-1$ wird erreicht, wenn die Punkte auf einer abfallenden Geraden liegen. Der Betrag des Koeffizienten ist umso kleiner, je stärker die Punkte von einer fiktiven Geraden (kann durch lineare Regression berechnet werden) abweichen. Der Koeffizient ist $0$ wenn keine lineare Abhängigkeit zwischen den Vektoren besteht.\n",
    "\n",
    "\n",
    "__Cosinus Ähnlichkeitsmaß__\n",
    "Die Ähnlichkeit zwischen zwei Vektoren kann auch durch den Cosinus $\\cos(\\underline{a},\\underline{b})$ ausgedrückt werden. Er berechnet sich zu\n",
    "$$\n",
    "\\cos(\\underline{a},\\underline{b})= \\frac{\\underline{a} \\cdot \\underline{b}}{\\left\\|\\underline{a}\\right\\|\\cdot \\left\\|\\underline{b}\\right\\|}\n",
    "$$\n",
    "wobei im Zähler das Skalarprodukt der beiden Vektoren steht und mit $\\left\\|\\underline{x}\\right\\|$ der Betrag des Vektors $\\underline{x}$ bezeichnet wird.\n",
    "\n",
    "Falls die Vektoren $\\underline{a}$ und $\\underline{b}$ mittelwertfrei sind, ist der Cosinus-Ähnlichkeitswert gleich dem Pearson-Korrelationswert. In der Dokument- und Textanalyse wird vornehmlich das Cosinus-Ähnlichkeitsmaß verwendet. \n",
    "\n",
    "\n",
    "__Russel Rao Ähnlichkeitsmaß__\n",
    "Die Russel Rao-Ähnlichkeit zwischen zwei binären Vektoren $\\underline{a}$ und $\\underline{b}$ mißt das Verhältnis zwischen der Anzahl $\\alpha$ der Stellen in denen beide Vektoren den Wert 1 haben und der Länge $n$ der Vektoren. Z.B. ist für die Vektoren $\\underline{a}=(1,0,1,0,0,1)$ und $\\underline{b}=(0,1,1,1,0,1)$ die Russel-Rao-Ähnlichkeit $s_{RR}(\\underline{a},\\underline{b})=2/6=0.333$.\n",
    "\n",
    "__Jaccard Ähnlichkeitsmaß__\n",
    "Die Jaccard-Ähnlichkeit zwischen zwei binären Vektoren $\\underline{a}$ und $\\underline{b}$ mißt das Verhältnis zwischen der Anzahl $\\alpha$ der Stellen in denen beide Vektoren den Wert $1$ haben und der Anzahl der Stellen in denen mindestens einer der beiden Vektoren ungleich $1$ ist. Z.B. ist für die Vektoren $\\underline{a}=(1,0,1,0,0,1)$ und $\\underline{b}=(0,1,1,1,0,1)$ die Jaccard-Ähnlichkeit $s_{J}(\\underline{a},\\underline{b})=2/5=0.5$. %Die Jaccard Metrik wird in diesem Versuch für die Bestimmung der Ähnlichkeit von _last.fm_-Usern eingesetzt.\n"
   ]
  },
  {
   "cell_type": "markdown",
   "metadata": {},
   "source": [
    "## Vor dem Versuch zu klärende Fragen\n",
    "Eine Untermenge der im Folgenden aufgeführten Fragen wird zu Beginn des Versuchs im Rahmen eines Gruppenkolloqs abgefragt. Auf jede Frage sollte von mindestens einem Gruppenmitglied eine Antwort geliefert werden und jedes Gruppenmitglied muss mindestens eine der gestellten Fragen beantworten können.\n",
    "\n",
    "**Aufgaben:**\n",
    "\n",
    "* Beschreiben Sie das Prinzip des userbasierten Collaborativen Filtering (UCF)."
   ]
  },
  {
   "cell_type": "markdown",
   "metadata": {
    "collapsed": true
   },
   "source": [
    "#### Antwort\n",
    "\n",
    "UFC nutzt Änlichkeiten zwischen Nutzern um ihnen Produkte vorzuschlagen. Einem Nutzer werden die von einem ähnlichen Nutzer gekauften Produkte vorgeschlagen.\n",
    "\n",
    "Es werden Kaufverhalten von Benutzergruppen beobachtet, um auf die interessen Einzelner zu schließen.\n",
    "1. Schritt: Suche nach einer Nutzergruppe die ein ähnliches Kaufverhalten wie der aktive Nutzer vorweist. \n",
    "2. Schritt: Verwende die Kaufentscheidungen der Gruppe um Vorhersagungen für den aktiven Nutzer zu treffen. "
   ]
  },
  {
   "cell_type": "markdown",
   "metadata": {},
   "source": [
    "* Welche Nachteile hat das UCF?"
   ]
  },
  {
   "cell_type": "markdown",
   "metadata": {
    "collapsed": true
   },
   "source": [
    "#### Antwort\n",
    "\n",
    "Bei Nutzern die erst wenig gekauft haben sind die Vorschläge nicht präzise. Außerdem skaliert es schlecht da sehr große Matrize über alle Nutzer und Produkte erstellt werden muss (User/Item Matrizen)."
   ]
  },
  {
   "cell_type": "markdown",
   "metadata": {},
   "source": [
    "* Worin besteht der Unterschied zwischen UCF und itembasierten Collaborativen Filtering (ICF)?"
   ]
  },
  {
   "cell_type": "markdown",
   "metadata": {
    "collapsed": true
   },
   "source": [
    "#### Antwort\n",
    "\n",
    "Es wird der Betrachrungswinkel geändert.\n",
    "Anders als UFC wird bei IFC die Ähnlichkeit zwischen Produkten genutzt und nicht Ähnlichkeit zwischen Nutzern. Anhand eines Produktes werden ähnlich Produkte vorgeschlagen, ohne dass Nutzer verglichen werden müssen.\n",
    "Die Ähnlichkeit zwischen Produkten werden gemessen, an der häufigkeit der Käufe, die für die Produkte gemeinsam getätigt wurden.\n",
    "\n",
    "##### UFC\n",
    "Bei einem UCF werden Userprofile erzeugt und der jenige der dem aktiven User am ähnlichsten ist zugeschrieben.\n",
    "Das heißt, es werden die Produkte vorgeschlagen, die ein anderer User gekauft hat, man selbst aber nicht.\n",
    "\n",
    "##### ICF\n",
    "ICF fokussiert sich auf Produkte.\n",
    "Es existieren 500 potenzielle Käufer auf der Plattform.\n",
    "300 davon kaufen ein IPhone und davon kaufen 290 User zusätzlich eine Hülle. Dann ergibt das für Produkt IPhone und\n",
    "Produkt Hülle eine Ähnlichkeit die den Produkten zugeschrieben werden. Einem neuen User, der ein IPhone kauft werden nun ähnliche Produkte z. B. die Hülle vorgeschlagen."
   ]
  },
  {
   "cell_type": "markdown",
   "metadata": {},
   "source": [
    "* Gegeben seien die Vektoren \n",
    "\n",
    "    \\begin{eqnarray*}\n",
    "    \\underline{a} & = & [1,2,3,4,5,6] \\\\\n",
    "    \\underline{b} & = & [3,3,5,6,7,8] \\\\\n",
    "    \\end{eqnarray*}\n",
    "    \n",
    "    Schreiben Sie eine Python Funktion, die den Mittelwert derartiger Vektoren berechnet. Schreiben Sie eine weitere Funktion, die die Varianz berechnet"
   ]
  },
  {
   "cell_type": "code",
   "execution_count": 1,
   "metadata": {},
   "outputs": [
    {
     "name": "stdout",
     "output_type": "stream",
     "text": [
      "average  A: 3.5             numpy: 3.5\n",
      "average  B: 5.33333333333   numpy: 5.33333333333\n",
      "variance A: 2.91666666667   numpy: 2.91666666667\n",
      "variance B: 3.55555555556   numpy: 3.55555555556\n"
     ]
    }
   ],
   "source": [
    "import math\n",
    "import numpy as np\n",
    "vA= [1,2,3,4,5,6]\n",
    "vB= [3,3,5,6,7,8]\n",
    "\n",
    "def avg(vector):\n",
    "    return sum(vector) / float(len(vector))\n",
    "\n",
    "def var(vector):\n",
    "    return sum([(val - avg(vector))**2 for val in vector]) / len(vector)\n",
    "\n",
    "print 'average  A:',avg(vA),'            numpy:', np.mean(vA)\n",
    "print 'average  B:',avg(vB),'  numpy:', np.mean(vB)\n",
    "print 'variance A:',var(vA),'  numpy:', np.var(vA)\n",
    "print 'variance B:',var(vB),'  numpy:', np.var(vB)"
   ]
  },
  {
   "cell_type": "markdown",
   "metadata": {},
   "source": [
    "* Wie groß ist die\n",
    "\n",
    "    - Euklidische Ähnlichkeit\n",
    "    - Pearson Ähnlichkeit\n",
    "    - Cosinus Ähnlichkeit\n",
    "    \n",
    "    zwischen den Vektoren $\\underline{a}$ und $\\underline{b}$? "
   ]
  },
  {
   "cell_type": "code",
   "execution_count": 2,
   "metadata": {
    "scrolled": true
   },
   "outputs": [
    {
     "name": "stdout",
     "output_type": "stream",
     "text": [
      "Euklidische Distanz: 4.58257569496     scipy: 4.58257569496\n",
      "\n",
      "Pearson Ähnlichkeit: 0.983343422063   scipy: (0.98334342206285474, 0.0004138517691427288)\n",
      "\n",
      "Cosinus Ähnlichkeit: 0.00893991525484\n"
     ]
    }
   ],
   "source": [
    "def euclideanDist(vA,vB):\n",
    "    return math.sqrt(sum([(a-b)**2 for a,b in zip(vA,vB)]))\n",
    "\n",
    "def pearsonCorr(vA,vB):\n",
    "    '''\n",
    "    Erklärung: http://www.crashkurs-statistik.de/der-korrelationskoeffizient-nach-pearson/\n",
    "    test arrays\n",
    "     #vA=[4,21,2,11,14,2,6]\n",
    "     #vB=[70,63,82,65,61,74,84]\n",
    "    '''\n",
    "    avgA = avg(vA)\n",
    "    avgB = avg(vB)\n",
    "        \n",
    "    x = [a-(avg(vA)) for a in vA]\n",
    "    y = [b-(avg(vB)) for b in vB]\n",
    "        \n",
    "    z = sum([a*b for a,b in zip(x,y)])\n",
    "        \n",
    "    v = math.sqrt(sum([(a-avgA)**2 for a in vA]))\n",
    "    w = math.sqrt(sum([(b-avgB)**2 for b in vB]))\n",
    "\n",
    "    return z/(v*w)\n",
    "\n",
    "import scipy.stats as stats\n",
    "import scipy.spatial.distance as dc\n",
    "\n",
    "# eucliddis\n",
    "print 'Euklidische Distanz:', euclideanDist(vA,vB), '    scipy:', dc.euclidean(vA,vB)\n",
    "#print np.linalg.norm(a)\n",
    "# pearson \n",
    "print '\\nPearson Ähnlichkeit:', pearsonCorr(vA,vB), '  scipy:', stats.pearsonr(vA,vB)\n",
    "#print '\\n\\n', np.corrcoef(vA,vB)\n",
    "# cosine\n",
    "print \"\\nCosinus Ähnlichkeit:\", dc.cosine(vA,vB)"
   ]
  },
  {
   "cell_type": "markdown",
   "metadata": {},
   "source": [
    "* In welchen Fällen sind Cosinus- und Pearsonähnlichkeit der euklidischen Ähnlichkeit vorzuziehen?"
   ]
  },
  {
   "cell_type": "markdown",
   "metadata": {},
   "source": [
    "##### Antwort\n",
    "Die euklidische Distanz besitz die Eigenschaft, dass sie keinen absolute Aussage über die Ähnlichkeit treffen kann. \n",
    "Die Range beginnt bei 0 und endet bei Unendlich. Daher ist es schwierig allein durch den Wert eine Aussage über \n",
    "die Ähnlichkeit zu treffen ohne einen Vergleich zu einer anderen Distanz zu treffen. Vergleichen wir zwei Werte\n",
    "gibt die Distanz eine gute Aussage. \n",
    "\n",
    "In diesen Fällen sind die Cosinus- und Pearsonähnlichkeit der euklidischen Ähnlichkeit vorzuziehen, da sie sich \n",
    "die Werte in einem Definierten Bereich bewegen. "
   ]
  },
  {
   "cell_type": "code",
   "execution_count": 3,
   "metadata": {
    "collapsed": true
   },
   "outputs": [],
   "source": [
    "from IPython.display import Latex\n",
    "from IPython.display import Image\n",
    "import pylast"
   ]
  },
  {
   "cell_type": "markdown",
   "metadata": {},
   "source": [
    "# Versuchsdurchführung\n",
    "## Teil 1: Fiktive Filmbewertung\n",
    "### Daten\n",
    "Folgende Tabelle enthält die Filmbewertungen von 7 Personen.\n",
    "from IPython.display import Latex\n",
    "In diesem Versuch sollen Kenntnisse in folgenden Themen vermittelt werden:\n",
    "\n",
    "![Abbildung Bewertung Fiktive Kunden](https://www.hdm-stuttgart.de/~maucher/ipnotebooks/DataMining/Bilder/recommenderFilmRecommendations.PNG)"
   ]
  },
  {
   "cell_type": "markdown",
   "metadata": {},
   "source": [
    "Die Tabelle ist als Python dictionary _critics_ implementiert. Die Keys des Python-Dictionary definieren die Namen von Personen (Zeilen in der Matrix), die Filme bewertet haben. Die Values sind selbst wieder Dictionarys, welche als Keys die Filmnamen (Spalten in der Matrix) und als Values die jeweilige Filmbewertung (Matrixelment) enthalten."
   ]
  },
  {
   "cell_type": "code",
   "execution_count": 4,
   "metadata": {
    "collapsed": true
   },
   "outputs": [],
   "source": [
    "critics={\n",
    "    'Lisa Rose': \n",
    "        {'Lady in the Water': 2.5, 'Snakes on a Plane': 3.5,\n",
    " 'Just My Luck': 3.0, 'Superman Returns': 3.5, 'You, Me and Dupree': 2.5, \n",
    " 'The Night Listener': 3.0},\n",
    "    'Gene Seymour': \n",
    "        {'Lady in the Water': 3.0, 'Snakes on a Plane': 3.5, \n",
    " 'Just My Luck': 1.5, 'Superman Returns': 5.0, 'The Night Listener': 3.0, \n",
    " 'You, Me and Dupree': 3.5},\n",
    "    'Michael Phillips': \n",
    "        {'Lady in the Water': 2.5, 'Snakes on a Plane': 3.0,\n",
    " 'Superman Returns': 3.5, 'The Night Listener': 4.0},\n",
    "    'Claudia Puig': \n",
    "        {'Snakes on a Plane': 3.5, 'Just My Luck': 3.0,\n",
    " 'The Night Listener': 4.5, 'Superman Returns': 4.0, \n",
    " 'You, Me and Dupree': 2.5},\n",
    "    'Mick LaSalle': \n",
    "        {'Lady in the Water': 3.0, 'Snakes on a Plane': 4.0, \n",
    " 'Just My Luck': 2.0, 'Superman Returns': 3.0, 'The Night Listener': 3.0,\n",
    " 'You, Me and Dupree': 2.0}, \n",
    "    'Jack Matthews': \n",
    "        {'Lady in the Water': 3.0, 'Snakes on a Plane': 4.0,\n",
    " 'The Night Listener': 3.0, 'Superman Returns': 5.0, 'You, Me and Dupree': 3.5},\n",
    "    'Toby': \n",
    "        {'Snakes on a Plane':4.5,'You, Me and Dupree':1.0,'Superman Returns':4.0}\n",
    "}"
   ]
  },
  {
   "cell_type": "markdown",
   "metadata": {},
   "source": [
    "### Ähnlichkeiten berechnen\n",
    "\n",
    "Für die Bestimmung der Ähnlichkeit zwischen Personen und Produkten werden in diesem Versuch ein auf der euklidischen Distanz basierendes Ähnlichkeitsmaß und die Pearson-Korrelation verwendet. Beide Ähnlichkeitsmaße sind in den unten definierten Funktionen implementiert. Alle drei hier implementierten Funktionen zur Berechnung der Ähnlichkeit erhalten als Übergabeparameter das oben definierte Dictionary, das die Filmbewertungen enthält und die Namen der zwei Personen, die verglichen werden sollen. \n",
    "\n",
    "Zu beachten ist, dass in beiden Funktionen für die Berechnung der Ähnlichkeit zwischen zwei Personen nur die Produkte berücksichtigt werden, welche von beiden Personen schon bewertet wurden. Es handelt sich hier also um modifizierte Ähnlichkeitsfunktionen. \n",
    "\n",
    "__Aufgabe:__\n",
    "Fragen Sie von diesem Dictionary _Toby's_ Bewertung des Films _Snakes on a Plane_ ab und geben Sie diesen Wert aus: "
   ]
  },
  {
   "cell_type": "code",
   "execution_count": 5,
   "metadata": {},
   "outputs": [
    {
     "name": "stdout",
     "output_type": "stream",
     "text": [
      "Toby's critic: 4.5\n"
     ]
    }
   ],
   "source": [
    "#Your Code\n",
    "print \"Toby's critic:\",critics['Toby']['Snakes on a Plane']"
   ]
  },
  {
   "cell_type": "code",
   "execution_count": 6,
   "metadata": {
    "collapsed": true
   },
   "outputs": [],
   "source": [
    "import numpy as np\n",
    "import scipy.spatial.distance as sci\n",
    "\n",
    "\n",
    "def sim_euclid(prefs,person1,person2,normed=True):\n",
    "  ''' Returns a euclidean-distance-based similarity score for \n",
    "  person1 and person2. In the distance calculation the sum is computed \n",
    "  only over those items, which are nonzero for both instances, i.e. only\n",
    "  films which are ranked by both persons are regarded.\n",
    "  If the parameter normed is True, then the euclidean distance is divided by\n",
    "  the number of non-zero elements integrated in the distance calculation. Thus\n",
    "  the effect of larger distances in the case of an increasing number of commonly ranked\n",
    "  items is avoided.\n",
    "  '''\n",
    "  # Get the list of shared_items\n",
    "  si={}\n",
    "  for item in prefs[person1]: \n",
    "    if item in prefs[person2]: si[item]=1\n",
    "  # len(si) counts the number of common ratings\n",
    "  # if they have no ratings in common, return 0\n",
    "  if len(si)==0: return 0\n",
    "\n",
    "  # Add up the squares of all the differences\n",
    "  sum_of_squares=np.sqrt(sum([pow(prefs[person1][item]-prefs[person2][item],2) \n",
    "                     for item in prefs[person1] if item in prefs[person2]]))\n",
    "  if normed:\n",
    "     sum_of_squares= 1.0/len(si)*sum_of_squares\n",
    "  return 1/(1+sum_of_squares)\n",
    "\n",
    "\n",
    "def sim_pearson(prefs,p1,p2):\n",
    "  '''\n",
    "  Returns the Pearson correlation coefficient for p1 and p2\n",
    "  '''\n",
    "    \n",
    "  # Get the list of commonly rated items\n",
    "  si={}\n",
    "  for item in prefs[p1]: \n",
    "    if item in prefs[p2]: si[item]=1\n",
    "\n",
    "  # if they are no ratings in common, return 0\n",
    "  if len(si)==0: return 0\n",
    "\n",
    "  # Sum calculations\n",
    "  n=len(si)\n",
    "  \n",
    "  # Calculate means of person 1 and 2\n",
    "  mp1=np.mean([prefs[p1][it] for it in si])\n",
    "  mp2=np.mean([prefs[p2][it] for it in si])\n",
    "  \n",
    "  # Calculate standard deviation of person 1 and 2\n",
    "  sp1=np.std([prefs[p1][it] for it in si])\n",
    "  sp2=np.std([prefs[p2][it] for it in si])\n",
    "  \n",
    "  # If all elements in one sample are identical, the standard deviation is 0. \n",
    "  # In this case there is no linear correlation between the samples\n",
    "  if sp1==0 or sp2==0:\n",
    "      return 0\n",
    "  r=1/(n*sp1*sp2)*sum([(prefs[p1][it]-mp1)*(prefs[p2][it]-mp2) for it in si])\n",
    "  return r\n",
    "\n",
    "\n",
    "def sim_RusselRao(prefs,person1,person2,normed=True):\n",
    "  ''' Returns RusselRao similaritiy between 2 users. The RusselRao similarity just counts the number\n",
    "  of common non-zero components of the two vectors and divides this number by N, where N is the length\n",
    "  of the vectors. If normed=False, the division by N is omitted.\n",
    "  '''\n",
    "  # Get the list of shared_items\n",
    "  si={}\n",
    "  commons=0\n",
    "  for item in prefs[person1]: \n",
    "    if prefs[person1][item]==1 and prefs[person2][item]==1:   \n",
    "        commons+=1\n",
    "  #print commons\n",
    "  if not normed:\n",
    "      return commons\n",
    "  else:\n",
    "      return commons*1.0/len(prefs[person1]) "
   ]
  },
  {
   "cell_type": "markdown",
   "metadata": {},
   "source": [
    "**Aufgabe:**\n",
    "1. Geben Sie die euklidische Ähnlichkeit und die Pearson Ähnlichkeit zwischen den Personen _Toby_ und _Lisa Rose_ aus.\n",
    "2. Diskutieren Sie die unterschiedlichen Ähnlichkeitswert\n",
    "3. Welches Ähnlichkeitsmaß erscheint Ihnen für diese Anwendung am besten geeignet?"
   ]
  },
  {
   "cell_type": "code",
   "execution_count": 7,
   "metadata": {},
   "outputs": [
    {
     "name": "stdout",
     "output_type": "stream",
     "text": [
      "Euklidische Distanz (Toby,Lisa): 0.615911621789\n",
      "Euklidische Distanz (Claudia,Lisa): 0.759746926648\n",
      "Pearson Distanz (Toby,Lisa): 0.991240707162\n",
      "Pearson Distanz zum Vergleich (Claudia,Lisa): 0.566946709514\n"
     ]
    },
    {
     "data": {
      "text/plain": [
       "'\\nPearson \\n'"
      ]
     },
     "execution_count": 7,
     "metadata": {},
     "output_type": "execute_result"
    }
   ],
   "source": [
    "#Your Code\n",
    "#1\n",
    "print \"Euklidische Distanz (Toby,Lisa):\", sim_euclid(critics, 'Toby', 'Lisa Rose')\n",
    "print \"Euklidische Distanz (Claudia,Lisa):\", sim_euclid(critics, 'Claudia Puig', 'Lisa Rose')\n",
    "\n",
    "print \"Pearson Distanz (Toby,Lisa):\", sim_pearson(critics, 'Toby', 'Lisa Rose')\n",
    "print \"Pearson Distanz zum Vergleich (Claudia,Lisa):\", sim_pearson(critics, 'Claudia Puig', 'Lisa Rose')\n",
    "\n",
    "\n",
    "#2\n",
    "'''\n",
    "Da der Wert der euklidischen Distanz allein nicht auswertbar ist, haben wir zum Vergleich ein zweites Paar generiert.\n",
    "Nun kann man sagen, dass die Bewertungen von (Toby,Lisa) ähnlicher sind als die Bewertungen von (Claudia, Lisa). \n",
    "\n",
    "Die Pearson Distanz gibt dagegen einen verwertbaren guten Eindruck zurück. Da sich der Pearson zwischen +1 und -1, wobei +1\n",
    "eine absolute Ähnlichkeit darstellt, bewegt. \n",
    "'''\n",
    "#3\n",
    "'''\n",
    "Pearson \n",
    "'''"
   ]
  },
  {
   "cell_type": "markdown",
   "metadata": {},
   "source": [
    "__Aufgabe:__\n",
    "0. Schreiben Sie eine Funktion _topMatches(prefs,person,similarity)_, welche für eine beliebige in _critics_ enthaltene Person die Ähnlichkeitswerte zu allen anderen Personen berechnet und in einer geordneten Liste zurück gibt. Der Funktion soll als Übergabeparameter auch die anzuwendende Ähnlichkeitsfunktion (_sim_euclid_ oder _sim_pearson_) übergeben werden können. Berechnen Sie mit dieser Funktion für jede Person die _top matches_, zunächst unter Verwendung der euklidischen- dann unter Verwendung der Pearson-Ähnlichkeit.\n",
    "1. Geben Sie mit der implementierten Funktion die _top matches_ der Person Toby aus.\n",
    "2. Vergleichen Sie die beiden Ähnlichkeitsmaße. Welches Ähnlichkeitsmaß erscheint Ihnen für diesen Anwendungsfall sinnvoller und warum?"
   ]
  },
  {
   "cell_type": "code",
   "execution_count": 8,
   "metadata": {},
   "outputs": [
    {
     "name": "stdout",
     "output_type": "stream",
     "text": [
      "OrderedDict([('Mick LaSalle', 0.80925643016945381), ('Michael Phillips', 0.78155010474579123), ('Claudia Puig', 0.75974692664795784), ('Jack Matthews', 0.72082548868148033), ('Gene Seymour', 0.71446298942353204), ('Toby', 0.615911621788925)])\n",
      "\n",
      "\n",
      "OrderedDict([('Toby', 0.99124070716193025), ('Jack Matthews', 0.74701788083399601), ('Mick LaSalle', 0.59408852578600457), ('Claudia Puig', 0.56694670951384085), ('Michael Phillips', 0.40451991747794525), ('Gene Seymour', 0.39605901719066977)])\n",
      "\n",
      "\n",
      "OrderedDict([('Lisa Rose', 0.99124070716193025), ('Mick LaSalle', 0.92447345164190509), ('Claudia Puig', 0.89340514744156441), ('Jack Matthews', 0.66284898035987028), ('Gene Seymour', 0.38124642583151169), ('Michael Phillips', -1.0)])\n"
     ]
    }
   ],
   "source": [
    "import collections\n",
    "import operator\n",
    "def topMatches(prefs, person, function):\n",
    "    mapOfSimilarities = {}\n",
    "    for personName, movies in prefs.items():\n",
    "        if personName != person:\n",
    "            mapOfSimilarities[personName] = function(prefs, person, personName)\n",
    "    return collections.OrderedDict(sorted(mapOfSimilarities.items(), key=operator.itemgetter(1), reverse=True))\n",
    "print topMatches(critics, 'Lisa Rose', sim_euclid)\n",
    "print '\\n'\n",
    "print topMatches(critics, 'Lisa Rose', sim_pearson)\n",
    "print '\\n'\n",
    "print topMatches(critics, 'Toby', sim_pearson)\n",
    "\n",
    "\n"
   ]
  },
  {
   "cell_type": "markdown",
   "metadata": {},
   "source": [
    "__Aufgabe:__\n",
    "Schreiben Sie eine Funktion _getRecommendations(prefs,person,similarity)_, mit der die Empfehlungswerte berechnet werden können und bestimmen Sie die Empfehlungswerte für Toby. Der Funktion wird  \n",
    "\n",
    "* das Dictionary _critics_ mit den Filmbewertungen, \n",
    "* der Name der Person, für welche Empfehlungen berechnet werden sollen\n",
    "* die Methode für die Berechnung der Ähnlichkeit _sim_euclid_ oder _sim_pearson_\n",
    "\n",
    "übergeben. Die Methode soll eine geordnete Liste zurück geben. Jedes Listenelement enthält an erster Stelle den berechneten Empfehlungswert und an zweiter Stelle den Namen des Films. Die Liste soll nach Empfehlungswerten absteigend geordnet sein.\n",
    "\n",
    "Testen Sie diese Funktion indem Sie die Empfehlungen für _Toby_ berechnen und mit den Werten in der oben aufgeführten Tabelle vergleichen."
   ]
  },
  {
   "cell_type": "code",
   "execution_count": 9,
   "metadata": {
    "collapsed": true
   },
   "outputs": [],
   "source": [
    "def sum_for_movie(prefs, person, movie_name, similarity):\n",
    "    korrelations = topMatches(prefs, person, similarity)\n",
    "    movie_sum = 0.0 \n",
    "    for person_name, movies in prefs.items():\n",
    "        if person_name != person and korrelations[person_name]> 0:\n",
    "            try:\n",
    "                movie_sum = movie_sum + korrelations[person_name]*movies[movie_name]\n",
    "            except KeyError:\n",
    "                movie_sum = movie_sum\n",
    "    return movie_sum\n",
    "\n",
    "def korrelation_sum(prefs, person, movie_name, similarity):\n",
    "    korrelation_sum= 0.0\n",
    "    korrelations = topMatches(prefs, person, similarity)\n",
    "    for person_name, korrelation in korrelations.items():\n",
    "        if person_name != person and korrelations[person_name]> 0 and has_evaluated_movie(prefs, person_name, movie_name):            \n",
    "            korrelation_sum = korrelation_sum + korrelation            \n",
    "    return korrelation_sum\n",
    "\n",
    "def has_evaluated_movie(prefs, person, movie_name):\n",
    "    for person_name, movies in prefs.items():\n",
    "        if person == person_name and movie_name in movies:\n",
    "            return True\n",
    "    return False\n",
    "\n",
    "def get_seen_movies(prefs, person):\n",
    "    try: \n",
    "        return prefs[person].keys()\n",
    "    except KeyError:\n",
    "        return list()\n",
    "\n",
    "def get_all_movies(prefs):\n",
    "    all_movies = list()\n",
    "    for person, movies in prefs.items():\n",
    "        all_movies.extend(movies.keys())\n",
    "    return set(all_movies)\n",
    "\n",
    "def get_recom(prefs, person, movie_name, similarity):\n",
    "    return round(sum_for_movie(prefs, person, movie_name, similarity) / korrelation_sum(prefs, person, movie_name, similarity), 20)\n",
    "\n",
    "def getRecommendations(prefs, person, similarity):\n",
    "    recommendations = {}\n",
    "    seen_movies = get_seen_movies(prefs, person)\n",
    "    all_movies = get_all_movies(prefs)\n",
    "    for movie_name in all_movies:\n",
    "        if movie_name not in seen_movies:\n",
    "            recommendations[movie_name]=get_recom(prefs, person, movie_name, similarity)\n",
    "    return sorted(recommendations.items(), key=operator.itemgetter(1), reverse=True)   "
   ]
  },
  {
   "cell_type": "markdown",
   "metadata": {},
   "source": [
    "###Berechnung von Empfehlungen mit User basiertem Collaborative Filtering\n",
    "Für die Produkte, die von einer Person noch nicht gekauft wurden, sollen Empfehlungen berechnet werden. Die Empfehlungen können ebenfalls Werte zwischen 1 (wird nicht empfohlen) und 5 (wird stark empfohlen) annehmen. Für die Berechnung der Empfehlung werden die Bewertungen des jeweiligen Produkts durch die anderen Personen herangezogen. Dabei werden die Bewertungen der ähnlichen Personen (d.h. hoher Pearson-Korrelationswert) stärker mit einbezogen als die Bewertungen durch Personen mit einem niedrigen Korrelationswert.\n",
    "\n",
    "__Beispiel:__\n",
    "Toby hat die Filme _The Night Listener_, _Lady in the Water_ und _Just My Luck_ noch nicht gekauft. Für diese Filme soll für Toby eine Empfehlung berechnet werden.\n",
    "In der unten aufgeführten Tabelle enthält die zweite Spalte die _Pearson-Ähnlichkeitswerte_ zwischen Toby und den anderen Personen. Die Spalten 3, 5 und 7 enthalten die Bewertungen der Filme _The Night Listener_, _Lady in the Water_ und _Just My Luck_ durch die anderen Personen. Die Spalten 4, 6 und 8 enthalten die jeweilige Filmbewertung gewichtet (mulipliziert) mit den Ähnlichkeitswerten der jeweiligen Person. Es fällt auf, dass in der Tabelle _Michael_ nicht enthalten ist. Das liegt daran, dass _Michael_ und _Toby_ einen negativen Ähnlichkeitswert aufweisen, d.h. deren Interessen sind gegenläufig. Personen mit negativem Ähnlichkeitswert sollten für Empfehlungen nicht berücksichtigt werden.\n",
    "Die Zeile _Sum_ enthält die Summe aller gewichteten Bewertungen. Aus diesem Wert allein kann die Empfehlung noch nicht abgeleitet werden, da Filme die nur von wenigen Personen bewertet wurden, eine relativ kleine Summe ergeben. Deshalb sollte _Sum_ noch durch die Anzahl der Bewertungen für diesen Film geteilt werden. Oder besser: Nicht durch die Summe der Bewertungen, sondern durch die Summe der relevanten Ähnlichkeitswerte (_KSum_). Der resultierende Empfehlungswert ist in der letzten Zeile eingetragen.\n",
    "\n",
    "\n",
    "![Abbildung Calculate Recommendation](https://www.hdm-stuttgart.de/~maucher/ipnotebooks/DataMining/Bilder/recommenderFilmCalculation.PNG)\n"
   ]
  },
  {
   "cell_type": "code",
   "execution_count": 10,
   "metadata": {},
   "outputs": [
    {
     "name": "stdout",
     "output_type": "stream",
     "text": [
      "Pearson:  \n",
      "[('The Night Listener', 3.3477895267131013), ('Lady in the Water', 2.8325499182641622), ('Just My Luck', 2.5309807037655645)]\n",
      "Euclid:  \n",
      "[('The Night Listener', 3.4273481378103883), ('Lady in the Water', 2.795737031164006), ('Just My Luck', 2.407392750287351)]\n"
     ]
    }
   ],
   "source": [
    "print \"Pearson: \", '\\n', getRecommendations(critics, 'Toby', sim_pearson)\n",
    "print \"Euclid: \", '\\n', getRecommendations(critics, 'Toby', sim_euclid)\n"
   ]
  },
  {
   "cell_type": "markdown",
   "metadata": {},
   "source": [
    "###Berechnung von Empfehlungen mit Item basiertem Collaborative Filtering\n",
    "In den vorigen Aufgaben wurden Ähnlichkeiten zwischen Personen bestimmt und für Produktempfehlungen benutzt (User basiertes Collaborative Filtering). Jetzt soll die Ähnlichkeit zwischen Produkten berechnet werden und auf der Basis dieser Produktähnlichkeit Empfehlungen berechnet werden (Item basiertes Collaborative Filtering).\n",
    "\n",
    "Dabei sollen die bereits implementierten Ähnlichkeitsfunktion _sim_euclid_ und _sim_pearson_ sowie die Ähnlichkeeits-Sortierfunktion _topMatches_ unverändert eingesetzt werden.\n",
    "\n",
    "__Aufgabe:__\n",
    "\n",
    "1. Implementieren Sie eine Funktion, welche das Bewertungsdictionary _critics_derart transformiert, dass die Funktionen _sim_euclid_, _sim_pearson_ und _topMatches_ für das Item basierte CF unverändert eingesetzt werden können. Die transformierte Matrix soll unter dem Namen _transCritics_ abgespeichert werden.\n",
    "2. Schreiben Sie eine Funktion _calculateSimilarItems_, die aus der transformierten Matrix _transCritics_ ein Dictionary berechnet, welches die Ähnlichkeit zwischen allen Filmen beschreibt. Die Keys des Dictionary sind die Filmnamen. Die Values sind geordnete Listen, welche die Funktion _topMatches_ zurückgibt, wenn sie für die Filme (nicht für die User) aufgerufen wird. Dieses Dictionary wird an das aufrufende Programm zurück geben. \n",
    "3. Schreiben Sie eine Funktion _getRecommendedItems_, welche basierend auf dem im unten aufgeführten Beispiel dargestellten Verfahren unter Vorgabe der Bewertungsmatrix und der zu verwendenden Ähnlichkeitsfunktion Produktempfehlungen berechnet.\n",
    "4. Testen Sie die Funktion indem Sie die Empfehlungen für Toby berechnen und mit den Werten in der unten aufgeführten Tabelle vergleichen\n",
    "\n",
    "__Erläuterndes Beispiel:__\n",
    "\n",
    "_Toby_ hat die Filme _The Night Listener_, _Lady in the Water_ und _Just My Luck_ noch nicht gekauft. Für diese Filme soll für _Toby_ eine Empfehlung berechnet werden. Gekauft und bewertet hat _Toby_ die Filme _Snakes on a plane_, _Superman Returns_ und _You and me and Dupree_. Diese bereits vorhandenen Filme bilden die erste Spalte der unten dargestellten Matrix. In der zweiten Spalte befinden sich _Toby's_ Bewertungen dieser Filme. Die Spalten 3,5 und 7 enthalten die Ähnlichkeitswerte (mit _calculateSimilarItems_ unter Verwendung des normierten euklidischen Ähnlichkeitsmaßes berechnet) zwischen den drei von _Toby_ noch nicht gekauften Filmen und den drei von _Toby_ bewerteten Filmen. Diese Ähnlichkeitswerte werden jeweils mit _Toby's_ Bewertungen multipliziert. Das Resultat dieser Multiplikation befindet sich in den Spalten 4,6 und 8. Der finale Empfehlungswert für die von _Toby_ noch nicht gekauften Filme wird berechnet in dem in den Spalten 4,6 und 8 zunächst die Summe über die Werte dieser Spalte in den drei oberen Zeilen berechnet wird und durch die Summe über die Werte der Spalten 3,5 und 7 geteilt wird. Im Fall, dass die _Pearson-Korrelation_ zwischen den Filmen als Ähnlichkeitswert herangezogen wird, können negative Ähnlichkeitswerte auftreten. Dann soll in die Berechnung eines Empfehlungswert für Film A nur dann die Bewertung von Film B einfließen, wenn der Korrelationswert zwischen beiden $>0$ ist.  \n",
    "\n",
    "![Abbildung Calculate Itembased Recommendation](https://www.hdm-stuttgart.de/~maucher/ipnotebooks/DataMining/Bilder/recommenderFilmItemBased.PNG)"
   ]
  },
  {
   "cell_type": "code",
   "execution_count": 11,
   "metadata": {},
   "outputs": [
    {
     "name": "stdout",
     "output_type": "stream",
     "text": [
      "Aufgabe 1\n",
      "{'Lady in the Water': {'Lisa Rose': 2.5, 'Jack Matthews': 3.0, 'Michael Phillips': 2.5, 'Gene Seymour': 3.0, 'Mick LaSalle': 3.0}, 'Snakes on a Plane': {'Jack Matthews': 4.0, 'Mick LaSalle': 4.0, 'Claudia Puig': 3.5, 'Lisa Rose': 3.5, 'Toby': 4.5, 'Gene Seymour': 3.5, 'Michael Phillips': 3.0}, 'Just My Luck': {'Claudia Puig': 3.0, 'Lisa Rose': 3.0, 'Gene Seymour': 1.5, 'Mick LaSalle': 2.0}, 'Superman Returns': {'Jack Matthews': 5.0, 'Mick LaSalle': 3.0, 'Claudia Puig': 4.0, 'Lisa Rose': 3.5, 'Toby': 4.0, 'Gene Seymour': 5.0, 'Michael Phillips': 3.5}, 'You, Me and Dupree': {'Jack Matthews': 3.5, 'Mick LaSalle': 2.0, 'Claudia Puig': 2.5, 'Lisa Rose': 2.5, 'Toby': 1.0, 'Gene Seymour': 3.5}, 'The Night Listener': {'Jack Matthews': 3.0, 'Mick LaSalle': 3.0, 'Claudia Puig': 4.5, 'Lisa Rose': 3.0, 'Gene Seymour': 3.0, 'Michael Phillips': 4.0}} \n",
      "\n",
      "Aufgabe 2\n",
      "{'Lady in the Water': OrderedDict([('You, Me and Dupree', 0.76558762168507888), ('The Night Listener', 0.75974692664795784), ('Snakes on a Plane', 0.72771425735186723), ('Just My Luck', 0.615911621788925), ('Superman Returns', 0.61257411327720679)]), 'Snakes on a Plane': OrderedDict([('Superman Returns', 0.75789827630685158), ('The Night Listener', 0.73879612503625858), ('Lady in the Water', 0.72771425735186723), ('You, Me and Dupree', 0.58245852564983547), ('Just My Luck', 0.57841282804125316)]), 'Just My Luck': OrderedDict([('You, Me and Dupree', 0.65345379354447219), ('The Night Listener', 0.63039699812887051), ('Lady in the Water', 0.615911621788925), ('Snakes on a Plane', 0.57841282804125316), ('Superman Returns', 0.51230252551478894)]), 'Superman Returns': OrderedDict([('Snakes on a Plane', 0.75789827630685158), ('The Night Listener', 0.66978938167710644), ('Lady in the Water', 0.61257411327720679), ('You, Me and Dupree', 0.58748222906689995), ('Just My Luck', 0.51230252551478894)]), 'You, Me and Dupree': OrderedDict([('Lady in the Water', 0.76558762168507888), ('The Night Listener', 0.6758660359334131), ('Just My Luck', 0.65345379354447219), ('Superman Returns', 0.58748222906689995), ('Snakes on a Plane', 0.58245852564983547)]), 'The Night Listener': OrderedDict([('Lady in the Water', 0.75974692664795784), ('Snakes on a Plane', 0.73879612503625858), ('You, Me and Dupree', 0.6758660359334131), ('Superman Returns', 0.66978938167710644), ('Just My Luck', 0.63039699812887051)])} \n",
      "\n",
      "Aufgabe 4\n",
      "{'Lady in the Water': 3.0821369617993382, 'Just My Luck': 3.0418618690790988, 'The Night Listener': 3.2044909601608804}\n",
      "Leider stimmen die Werte nicht 100% überein. Da der Fehler jedoch im bereicht von +/- 0.01 liegt, gehe ich\n",
      "davon aus dass, es sich um einen Rundungsfehler handelt.\n"
     ]
    }
   ],
   "source": [
    "#1\n",
    "def get_all_person(crit):\n",
    "    return crit.keys()\n",
    "\n",
    "def get_trans_crit(crit):\n",
    "    crit_by_movie = {}\n",
    "    movies = get_all_movies(crit)\n",
    "    crit_by_movie = {}\n",
    "    all_persons = crit.keys()\n",
    "    for movie in movies:\n",
    "        crit_by_movie[movie] = {}\n",
    "        for person, movies in crit.items():\n",
    "            try:\n",
    "                crit_by_movie[movie][person] = movies[movie]\n",
    "            except KeyError:\n",
    "                pass\n",
    "    return crit_by_movie\n",
    "\n",
    "trans_critics = get_trans_crit(critics)\n",
    "print \"Aufgabe 1\"\n",
    "print trans_critics, '\\n'\n",
    "\n",
    "#2-------------------------------------------------------------------------------\n",
    "def calculate_similar_items(prefs, film, similarity):\n",
    "    return topMatches(get_trans_crit(prefs), film, similarity)\n",
    "\n",
    "def get_similar_items_for_all_movies(prefs, similarity):\n",
    "    all_movies= get_all_movies(prefs)\n",
    "    similar_movies = {}\n",
    "    for movie in all_movies:\n",
    "        similar_movies[movie]=calculate_similar_items(prefs, movie, similarity)\n",
    "    return similar_movies\n",
    "print \"Aufgabe 2\"\n",
    "print get_similar_items_for_all_movies(critics, sim_euclid), '\\n'\n",
    "\n",
    "#3--------------------------------------------------------------------------------\n",
    "\n",
    "def get_seen_movies_with_similarity(prefs, person, similarity):\n",
    "    seen_movies= get_seen_movies(prefs, person)\n",
    "    reduced_map = {}\n",
    "    for movie in seen_movies:\n",
    "        reduced_map[movie]=calculate_similar_items(prefs, movie, similarity)\n",
    "    return reduced_map\n",
    "\n",
    "def multily_with_rating(prefs, reduced_map, person):\n",
    "    for film, ratings in reduced_map.items():\n",
    "        factor = prefs[person][film]\n",
    "        for movie, rating in ratings.items():\n",
    "            ratings[movie] = rating * factor\n",
    "    return reduced_map\n",
    "\n",
    "def make_single_dict(reduced_multiplied_map):\n",
    "    all_movies = set()\n",
    "    for key, film_list in reduced_multiplied_map.items():\n",
    "        for film, rating in film_list.items():\n",
    "            all_movies.add(film)\n",
    "    single_dict = {}        \n",
    "    for film in all_movies:\n",
    "        single_dict[film] = 0.0\n",
    "    for key, film_list in reduced_multiplied_map.items():\n",
    "        for film, rating in film_list.items():\n",
    "            single_dict[film] = single_dict[film]+rating\n",
    "    return single_dict\n",
    "\n",
    "def divide_all_values(list_of_films, factor):\n",
    "    for film, rating in list_of_films.items():\n",
    "        list_of_films[film] = rating/factor\n",
    "    return list_of_films\n",
    "\n",
    "def normalise(single_dict, single_dict_multiplied):\n",
    "    normalised_map = {}\n",
    "    for film, rating in single_dict.items():\n",
    "        normalised_map[film] = single_dict_multiplied[film] / single_dict[film]\n",
    "    return normalised_map\n",
    "\n",
    "def sort_out_seen_films(prefs, person, film_list):\n",
    "    seen_movies = get_seen_movies(prefs, person)\n",
    "    not_seen_films = {}\n",
    "    for film, rating in film_list.items():\n",
    "        if film not in seen_movies:\n",
    "            not_seen_films[film] = film_list[film]\n",
    "    return not_seen_films\n",
    "\n",
    "def get_recommended_items(prefs, person, similarity):\n",
    "    reduced_map = get_seen_movies_with_similarity(prefs, person, similarity)\n",
    "    single_dict = sort_out_seen_films(prefs, person, make_single_dict(reduced_map))\n",
    "    multiplied_ratings = multily_with_rating(prefs ,reduced_map, person)\n",
    "    single_dict_multipied = sort_out_seen_films(prefs, person, make_single_dict(multiplied_ratings))\n",
    "    count_of_seen_movies = len(get_seen_movies(prefs, person))\n",
    "    result = single_dict_multipied\n",
    "    return normalise(single_dict, single_dict_multipied)\n",
    "#4---------------------------------------------------------------------\n",
    "print \"Aufgabe 4\"\n",
    "print get_recommended_items(critics, 'Toby', sim_euclid) \n",
    "print \"Leider stimmen die Werte nicht 100% überein. Da der Fehler jedoch im bereicht von +/- 0.01 liegt, gehe ich\"\n",
    "print \"davon aus dass, es sich um einen Rundungsfehler handelt.\"\n",
    "\n"
   ]
  },
  {
   "cell_type": "markdown",
   "metadata": {},
   "source": [
    "##last.fm Musikempfehlungen\n",
    "Kopieren Sie die Datei _pylast.py_ vom _Resources_-Ordner im _DataMining_-Ordner des Skripteservers in das Verzeichnis dieses _IPython Notebooks_. In dieser Datei sind alle Zugriffsfunktionen auf _last.fm_ Dienste implementiert. Die notwendigen Anmelde- und Authentifizierungsdaten für den User _pythonlab_ sind ebenfalls schon in diesem Modul eingetragen.\n",
    "\n",
    "__Aufgabe:__\n",
    "\n",
    "1. Stellen Sie durch Aufruf der Funktion _network=pylast.get_lastfm_network()_ eine Verbindung zu _last.fm_ her. Beim Aufruf der Funktion wird die Anmeldung und Authentifizierung durchgeführt. Die Funktion gibt ein Objekt der Klasse _Network_ zurück. Über dieses Objekt können Methoden, wie\n",
    "\n",
    "    * ```get_artist(\"kuenstlerName\")``` (liefert Objekt der Klasse _Artist_\n",
    "    * ```get_album(\"albumName\")``` (liefert Objekt der Klasse _Album_\n",
    "    * ```get_track(\"songName\")``` (liefert Objekt der Klasse _Track_\n",
    "    * ```get_user(\"userName\")``` (liefert Objekt der Klass_Tag_\n",
    "    * usw.\n",
    "    \n",
    "      aufgerufen werden. Die Menge aller verfügbaren Klassen und deren Attribute und Methoden können dem Modul _pylast.py_ entnommen werden.\n",
    "\n",
    "1. Rufen Sie über das oben instanziierte _Network_-Objekt die Methode _get_artist(\"BandIhrerWahl\")_ auf.\n",
    "2. Rufen Sie über das oben instanziierte _Artist_-Objekt die Methode ```topfans=get_top_fans(10)``` auf. Die Methode gibt eine Liste von _User_-Objekt/Gewichtung-Paaren zurück. Die Gewichtungen von Objekten werden in diesem Versuch nicht benötigt. Legen Sie deshalb mit _group=[a.item for a in topfan]_ eine Liste an, die nur noch die User Objekte enthält. **Wichtige Anmerkung:** Seit August 2015 gibt es Probleme mit der lastFM API Methode ```get_top_fans()``` (siehe auch: [pylast issues](https://github.com/pylast/pylast/issues/155s)). Falls am Versuchstermin der Fehler noch nicht behoben ist, können Sie den unten stehenden Code benutzen. Darin wird versucht auf die API-Methode zuzugreifen. Falls das nicht möglich ist, wird eine vordefinierte Liste von Usern angewandt. Diese Liste repräsentiert die _Top Fans_ der Band _Slipknot_ im Frühjahr 2015. \n",
    "3. Implementieren Sie eine Funktion _createLastfmUserDict()_. Dieser Funktion soll, die oben angelegte Liste von _User_-Objekten _group_ übergeben werden. Für jeden User in _group_ sollen die 20 beliebtesten Bands mit der Methode ```topartists=get_top_artists()[0:20]``` bestimmt werden. Die Methode gibt eine Liste von _Artist_-Objekt/Gewichtung-Paaren zurück. Die Gewichtungen von Objekten werden in diesem Versuch nicht benötigt. Auf das _i.te_ _Artist_-Objekt selbst kann mit ```topartists[i].item``` zugegriffen werden. Die Menge aller Bands, die auf diese Weise gesammelt werden, wird im folgenden mit _AllBands_ bezeichnet. D.h. in _AllBands_ befinden sich alle Bands, die für mindestens einen User in _group_ zu den Top-20 gehören. Nun soll ein verschachteltes Dictionary mit Namen _userDict_ wie folgt angelegt werden:\n",
    "\n",
    "    * Die Keys sind die Namen der _User_-Objekte in _group_. Auf den Namen eines Objekts kann mit ```get_name()``` zugegriffen werden.\n",
    "    * Die Values sind selbst wieder Dictionaries, deren Keys die Namen der Bands in _AllBands_ sind. Achten Sie auch hier darauf, dass Sie nicht das _Artist_-Objekt selbst, sondern dessen Namen als Key verwenden. \n",
    "    * Für den User _a_ und die Band _b_ ist der Value ```userDict[a][b]= 1```, falls _b_ zu den Top-20 des Users _a_ gehört. Andernfalls ist ```userDict[a][b]= 0```. \n",
    "    \n",
    "    Das derart angelegte Dictionary soll von der Funktion zurückgegeben werden. \n",
    "4. Wählen Sie jetzt einen beliebigen User aus _group_. Bestimmen Sie zu diesem User die ähnlichsten User in _group_ durch Anwendung der im ersten Teilversuch implementierten Funktion _topMatches()_. Der Funktion wird das angelegte _userDict_ und der Name des gewählten Users übergeben. Als Ähnlichkeitsmaß soll die euklidische Metrik angewandt werden.\n",
    "5. Bestimmen Sie dann für den gewählten User Band-Empfehlungen durch Anwendung der im ersten Teilversuch implementierten Funktion _getRecommendations()_. Der Funktion wird das angelegte _userDict_ und der Name des gewählten Users übergeben. Als Ähnlichkeitsmaß soll die euklidische Metrik, danach die Russel_Rao Metrik, angewandt werden.     \n",
    "6. Diskutieren Sie das Ergebnis"
   ]
  },
  {
   "cell_type": "code",
   "execution_count": 12,
   "metadata": {},
   "outputs": [
    {
     "name": "stdout",
     "output_type": "stream",
     "text": [
      "Most similar (as calculated by lastFM) for artist:  Slipknot\n",
      "1.000 \t Stone Sour\n",
      "0.754 \t Korn\n",
      "0.579 \t Mudvayne\n",
      "0.474 \t System of a Down\n",
      "0.454 \t Limp Bizkit\n",
      "\n",
      "lastFM API Error for method get_top_fans\n",
      "Apply predefined group of users\n"
     ]
    }
   ],
   "source": [
    "import pylast\n",
    "nw=pylast.get_lastfm_network(api_key = \"993a5bd9d79a98a53677570368d55acd\",\n",
    "                             api_secret = \"9b8de0b57903ac007cdd8ec9003b341e\",\n",
    "                             username = \"pythonlab\")\n",
    "\n",
    "band='Slipknot'\n",
    "\n",
    "art1 = nw.get_artist(band)\n",
    "\n",
    "print \"Most similar (as calculated by lastFM) for artist: \",band\n",
    "for it in art1.get_similar(5):\n",
    "    print \"%3.3f \\t %s\"%(it.match, it.item)\n",
    "try:\n",
    "    topfan = art1.get_top_fans()\n",
    "    group = [a.item for a in topfan]\n",
    "except:\n",
    "    print \"\\nlastFM API Error for method get_top_fans\\nApply predefined group of users\"\n",
    "    usernames=['BrunoJoS','DPREBOYE','MPistol40','NemoNightfall','SkyRif','Wags1382','Znapsen','cortapsyco','emill_67','sattuviitana']\n",
    "    group=[]\n",
    "    for u in usernames:\n",
    "        u1 = nw.get_user(u)\n",
    "        group.append(u1)\n"
   ]
  },
  {
   "cell_type": "code",
   "execution_count": 13,
   "metadata": {},
   "outputs": [],
   "source": [
    "#4\n",
    "'''\n",
    "* Die Keys sind die Namen der User-Objekte in group. Auf den Namen eines Objekts kann mit get_name() \n",
    "zugegriffen werden.\n",
    "\n",
    "* Die Values sind selbst wieder Dictionaries, deren Keys die Namen der Bands in AllBands sind. \n",
    "Achten Sie auch hier darauf, dass Sie nicht das Artist-Objekt selbst, sondern dessen Namen als Key verwenden.\n",
    "\n",
    "* Für den User a und die Band b ist der Value userDict[a][b]= 1, falls b zu den Top-20 des Users a gehört. \n",
    "Andernfalls ist userDict[a][b]= 0.\n",
    "\n",
    "#dict username: dict allbands : 0/1 \n",
    "'''\n",
    "\n",
    "def getAllArtists(users,countPerUser):\n",
    "    alltopartists = [user.get_top_artists()[0:20] for user in users]\n",
    "    # flatten list of all artists\n",
    "    allArtists = list(set([user[0] for userbands in alltopartists for user in userbands]))\n",
    "    return allArtists\n",
    "#list(set([allbands.extend([bands[0] for bands in userBands]) for userBands in alltopartists]))\n",
    "#print allArtists\n",
    "\n",
    "allArtists = getAllArtists(group,20)\n",
    "#print allArtists\n",
    "\n",
    "userNameslist = [user.get_name() for user in group]\n",
    "#print userNameslist\n",
    "\n",
    "def topArtistsToDict(allArtists,users_top_artists):\n",
    "    usersTopArtistsList = [artist[0] for artist in users_top_artists]\n",
    "    usersTopArtistsDict = {}\n",
    "    for artist in allArtists:\n",
    "        if artist in usersTopArtistsList:\n",
    "            usersTopArtistsDict[artist.get_name().encode('utf-8')] = 1\n",
    "        else:\n",
    "            usersTopArtistsDict[artist.get_name().encode('utf-8')] = 0\n",
    "    return usersTopArtistsDict\n",
    "    \n",
    "# print topArtistsToDict(allArtists, group[0].get_top_artists()[0:20])\n",
    "\n",
    "def createUserArtistDict(users, count):\n",
    "    allArtists = getAllArtists(users,count)\n",
    "    return {user.get_name(): topArtistsToDict(allArtists,user.get_top_artists()[0:20]) for user in users}\n",
    "\n",
    "userArtistDict = createUserArtistDict(group,20)\n"
   ]
  },
  {
   "cell_type": "code",
   "execution_count": 14,
   "metadata": {},
   "outputs": [
    {
     "name": "stdout",
     "output_type": "stream",
     "text": [
      "{'cortapsyco': {'Team Sleep': 0, 'Flo Rida': 1, 'White Zombie': 0, 'Ke$ha': 1, 'Sabaton': 0, 'Killswitch Engage': 1, 'Motion City Soundtrack': 0, 'Damien Rice': 0, 'Seether': 0, 'The Wonder Years': 0, 'Freestyle': 0, 'Dimmu Borgir': 1, 'Nirvana': 0, 'Trivium': 0, 'Green Day': 0, 'Electric Light Orchestra': 0, '\\xe6\\xa4\\x8d\\xe6\\x9d\\xbe\\xe4\\xbc\\xb8\\xe5\\xa4\\xab': 1, 'Breaking Benjamin': 0, 'Fall Out Boy': 0, 'Bullet for My Valentine': 0, 'Three Days Grace': 0, 'Klamydia': 0, 'Iron Maiden': 0, 'blink-182': 0, 'Rammstein': 0, 'Pendulum': 1, 'Pitty': 0, 'Black Label Society': 0, 'Lindemann': 0, 'Krewella': 1, 'Arctic Monkeys': 0, 'Queens of the Stone Age': 0, 'Radiohead': 0, 'Pentakill': 0, 'Bayside': 0, 'Nightwish': 0, 'Katy Perry': 1, 'The White Stripes': 0, 'Soilwork': 0, 'Magnus Uggla': 0, 'Shinedown': 0, 'Rage Against the Machine': 0, 'Coheed and Cambria': 1, 'Halestorm': 1, 'A Perfect Circle': 0, 'Muse': 0, 'Soulfly': 0, '36 Crazyfists': 0, 'M.I.A.': 0, 'Limp Bizkit': 0, 'Lamb of God': 0, 'Alexisonfire': 0, 'Metallica': 0, 'Amorphis': 0, 'AFI': 0, 'P.D.P.': 0, 'Dmitri Shostakovich': 0, 'Stam1na': 0, 'Mogwai': 0, 'Disturbed': 0, 'New Found Glory': 0, 'Evergreen Terrace': 0, 'Sick Puppies': 0, 'Machine Head': 0, 'Lacuna Coil': 1, 'Tenacious D': 0, 'Boston': 0, 'Energy': 0, 'Queen': 0, 'The Band': 0, 'Pink Floyd': 0, 'Powerwolf': 0, 'deadmau5': 0, 'Oh, Sleeper': 0, 'James Blake': 0, 'Epic Rap Battles Of History': 0, 'Rob Zombie': 0, 'Papa Roach': 0, 'Cruel Hand': 0, '30 Seconds to Mars': 0, 'Avenged Sevenfold': 0, 'Panic! at the Disco': 1, 'The Dear Hunter': 0, 'All Time Low': 0, 'Hozier': 0, 'Die Antwoord': 0, 'Korn': 0, 'Ween': 0, 'Four Year Strong': 0, 'Arch Enemy': 0, 'The Killers': 0, 'Mustasch': 0, 'Wintersun': 0, 'Demon Hunter': 1, 'Ben Howard': 0, 'Wu-Tang Clan': 0, 'My Chemical Romance': 0, 'Parkway Drive': 0, 'Daughter': 0, 'Gallows': 0, 'Scar Symmetry': 0, 'Foo Fighters': 0, 'Red Hot Chili Peppers': 0, 'Slipknot': 1, 'Theory of a Deadman': 0, 'Saosin': 0, 'Children of Bodom': 0, 'Sonata Arctica': 0, 'Pantera': 0, 'Leevi and the Leavings': 0, 'Warpaint': 0, 'Black Veil Brides': 1, 'Bring Me the Horizon': 0, 'Hans Zimmer': 0, 'Dark Tranquillity': 0, 'Madonna': 0, 'Stone Sour': 0, 'Evanescence': 0, 'Atoms for Peace': 0, 'Amon Amarth': 0, 'Thom Yorke': 0, 'Coldplay': 0, 'Dr. Dre': 0, 'Dope': 0, 'Marina & the Diamonds': 1, 'Five Finger Death Punch': 0, 'Calvin Harris': 1, 'Nine Inch Nails': 0, 'N.W.A': 0, 'Cradle of Filth': 1, 'Memphis May Fire': 0, 'Beach House': 0, 'Gyllene Tider': 0, 'Deftones': 0, 'Becoming the Archetype': 1, 'System of a Down': 1, 'Linkin Park': 0, 'Sum 41': 0, 'Misfits': 0, 'DIR EN GREY': 0, 'Godsmack': 0, 'Billy Talent': 0, 'Cat Power': 0, 'In Flames': 0, 'Howard Shore': 0, 'DragonForce': 0, 'Circa Survive': 0, 'Mumford & Sons': 0, 'Volbeat': 0, 'Tool': 0}, 'Wags1382': {'Team Sleep': 0, 'Flo Rida': 0, 'White Zombie': 0, 'Ke$ha': 0, 'Sabaton': 0, 'Killswitch Engage': 0, 'Motion City Soundtrack': 1, 'Damien Rice': 0, 'Seether': 0, 'The Wonder Years': 1, 'Freestyle': 0, 'Dimmu Borgir': 0, 'Nirvana': 0, 'Trivium': 0, 'Green Day': 0, 'Electric Light Orchestra': 0, '\\xe6\\xa4\\x8d\\xe6\\x9d\\xbe\\xe4\\xbc\\xb8\\xe5\\xa4\\xab': 0, 'Breaking Benjamin': 0, 'Fall Out Boy': 1, 'Bullet for My Valentine': 0, 'Three Days Grace': 0, 'Klamydia': 0, 'Iron Maiden': 0, 'blink-182': 1, 'Rammstein': 0, 'Pendulum': 0, 'Pitty': 0, 'Black Label Society': 0, 'Lindemann': 0, 'Krewella': 0, 'Arctic Monkeys': 0, 'Queens of the Stone Age': 0, 'Radiohead': 0, 'Pentakill': 0, 'Bayside': 1, 'Nightwish': 0, 'Katy Perry': 0, 'The White Stripes': 0, 'Soilwork': 0, 'Magnus Uggla': 0, 'Shinedown': 0, 'Rage Against the Machine': 0, 'Coheed and Cambria': 1, 'Halestorm': 0, 'A Perfect Circle': 0, 'Muse': 0, 'Soulfly': 0, '36 Crazyfists': 0, 'M.I.A.': 0, 'Limp Bizkit': 0, 'Lamb of God': 0, 'Alexisonfire': 0, 'Metallica': 0, 'Amorphis': 0, 'AFI': 1, 'P.D.P.': 0, 'Dmitri Shostakovich': 0, 'Stam1na': 0, 'Mogwai': 0, 'Disturbed': 0, 'New Found Glory': 1, 'Evergreen Terrace': 1, 'Sick Puppies': 0, 'Machine Head': 0, 'Lacuna Coil': 0, 'Tenacious D': 0, 'Boston': 0, 'Energy': 1, 'Queen': 0, 'The Band': 0, 'Pink Floyd': 0, 'Powerwolf': 0, 'deadmau5': 0, 'Oh, Sleeper': 0, 'James Blake': 0, 'Epic Rap Battles Of History': 0, 'Rob Zombie': 0, 'Papa Roach': 0, 'Cruel Hand': 1, '30 Seconds to Mars': 0, 'Avenged Sevenfold': 0, 'Panic! at the Disco': 0, 'The Dear Hunter': 1, 'All Time Low': 0, 'Hozier': 0, 'Die Antwoord': 0, 'Korn': 0, 'Ween': 0, 'Four Year Strong': 1, 'Arch Enemy': 0, 'The Killers': 0, 'Mustasch': 0, 'Wintersun': 0, 'Demon Hunter': 0, 'Ben Howard': 0, 'Wu-Tang Clan': 0, 'My Chemical Romance': 1, 'Parkway Drive': 1, 'Daughter': 0, 'Gallows': 1, 'Scar Symmetry': 0, 'Foo Fighters': 0, 'Red Hot Chili Peppers': 0, 'Slipknot': 1, 'Theory of a Deadman': 0, 'Saosin': 1, 'Children of Bodom': 0, 'Sonata Arctica': 0, 'Pantera': 0, 'Leevi and the Leavings': 0, 'Warpaint': 0, 'Black Veil Brides': 0, 'Bring Me the Horizon': 0, 'Hans Zimmer': 0, 'Dark Tranquillity': 0, 'Madonna': 0, 'Stone Sour': 0, 'Evanescence': 0, 'Atoms for Peace': 0, 'Amon Amarth': 0, 'Thom Yorke': 0, 'Coldplay': 0, 'Dr. Dre': 0, 'Dope': 0, 'Marina & the Diamonds': 0, 'Five Finger Death Punch': 0, 'Calvin Harris': 0, 'Nine Inch Nails': 0, 'N.W.A': 0, 'Cradle of Filth': 0, 'Memphis May Fire': 0, 'Beach House': 0, 'Gyllene Tider': 0, 'Deftones': 0, 'Becoming the Archetype': 0, 'System of a Down': 0, 'Linkin Park': 0, 'Sum 41': 0, 'Misfits': 1, 'DIR EN GREY': 0, 'Godsmack': 0, 'Billy Talent': 0, 'Cat Power': 0, 'In Flames': 0, 'Howard Shore': 0, 'DragonForce': 0, 'Circa Survive': 1, 'Mumford & Sons': 0, 'Volbeat': 0, 'Tool': 0}, 'DPREBOYE': {'Team Sleep': 0, 'Flo Rida': 0, 'White Zombie': 0, 'Ke$ha': 0, 'Sabaton': 0, 'Killswitch Engage': 0, 'Motion City Soundtrack': 0, 'Damien Rice': 1, 'Seether': 0, 'The Wonder Years': 0, 'Freestyle': 0, 'Dimmu Borgir': 0, 'Nirvana': 1, 'Trivium': 0, 'Green Day': 0, 'Electric Light Orchestra': 0, '\\xe6\\xa4\\x8d\\xe6\\x9d\\xbe\\xe4\\xbc\\xb8\\xe5\\xa4\\xab': 0, 'Breaking Benjamin': 0, 'Fall Out Boy': 0, 'Bullet for My Valentine': 0, 'Three Days Grace': 0, 'Klamydia': 0, 'Iron Maiden': 0, 'blink-182': 0, 'Rammstein': 0, 'Pendulum': 0, 'Pitty': 0, 'Black Label Society': 0, 'Lindemann': 0, 'Krewella': 0, 'Arctic Monkeys': 1, 'Queens of the Stone Age': 0, 'Radiohead': 0, 'Pentakill': 0, 'Bayside': 0, 'Nightwish': 0, 'Katy Perry': 0, 'The White Stripes': 1, 'Soilwork': 0, 'Magnus Uggla': 0, 'Shinedown': 0, 'Rage Against the Machine': 1, 'Coheed and Cambria': 0, 'Halestorm': 0, 'A Perfect Circle': 0, 'Muse': 0, 'Soulfly': 0, '36 Crazyfists': 0, 'M.I.A.': 0, 'Limp Bizkit': 0, 'Lamb of God': 0, 'Alexisonfire': 0, 'Metallica': 0, 'Amorphis': 0, 'AFI': 0, 'P.D.P.': 0, 'Dmitri Shostakovich': 0, 'Stam1na': 0, 'Mogwai': 1, 'Disturbed': 0, 'New Found Glory': 0, 'Evergreen Terrace': 0, 'Sick Puppies': 0, 'Machine Head': 0, 'Lacuna Coil': 0, 'Tenacious D': 0, 'Boston': 0, 'Energy': 0, 'Queen': 0, 'The Band': 1, 'Pink Floyd': 0, 'Powerwolf': 0, 'deadmau5': 0, 'Oh, Sleeper': 0, 'James Blake': 1, 'Epic Rap Battles Of History': 0, 'Rob Zombie': 0, 'Papa Roach': 0, 'Cruel Hand': 0, '30 Seconds to Mars': 0, 'Avenged Sevenfold': 0, 'Panic! at the Disco': 0, 'The Dear Hunter': 0, 'All Time Low': 0, 'Hozier': 1, 'Die Antwoord': 1, 'Korn': 0, 'Ween': 0, 'Four Year Strong': 0, 'Arch Enemy': 0, 'The Killers': 0, 'Mustasch': 0, 'Wintersun': 0, 'Demon Hunter': 0, 'Ben Howard': 0, 'Wu-Tang Clan': 1, 'My Chemical Romance': 0, 'Parkway Drive': 0, 'Daughter': 1, 'Gallows': 0, 'Scar Symmetry': 0, 'Foo Fighters': 0, 'Red Hot Chili Peppers': 0, 'Slipknot': 1, 'Theory of a Deadman': 0, 'Saosin': 0, 'Children of Bodom': 0, 'Sonata Arctica': 0, 'Pantera': 0, 'Leevi and the Leavings': 0, 'Warpaint': 1, 'Black Veil Brides': 0, 'Bring Me the Horizon': 0, 'Hans Zimmer': 0, 'Dark Tranquillity': 0, 'Madonna': 0, 'Stone Sour': 0, 'Evanescence': 0, 'Atoms for Peace': 1, 'Amon Amarth': 0, 'Thom Yorke': 0, 'Coldplay': 0, 'Dr. Dre': 1, 'Dope': 0, 'Marina & the Diamonds': 0, 'Five Finger Death Punch': 0, 'Calvin Harris': 0, 'Nine Inch Nails': 0, 'N.W.A': 1, 'Cradle of Filth': 0, 'Memphis May Fire': 0, 'Beach House': 1, 'Gyllene Tider': 0, 'Deftones': 0, 'Becoming the Archetype': 0, 'System of a Down': 0, 'Linkin Park': 0, 'Sum 41': 0, 'Misfits': 0, 'DIR EN GREY': 1, 'Godsmack': 0, 'Billy Talent': 0, 'Cat Power': 1, 'In Flames': 0, 'Howard Shore': 0, 'DragonForce': 0, 'Circa Survive': 0, 'Mumford & Sons': 0, 'Volbeat': 0, 'Tool': 0}, 'MPistol40': {'Team Sleep': 1, 'Flo Rida': 0, 'White Zombie': 0, 'Ke$ha': 0, 'Sabaton': 0, 'Killswitch Engage': 0, 'Motion City Soundtrack': 0, 'Damien Rice': 0, 'Seether': 0, 'The Wonder Years': 0, 'Freestyle': 0, 'Dimmu Borgir': 0, 'Nirvana': 0, 'Trivium': 0, 'Green Day': 0, 'Electric Light Orchestra': 0, '\\xe6\\xa4\\x8d\\xe6\\x9d\\xbe\\xe4\\xbc\\xb8\\xe5\\xa4\\xab': 0, 'Breaking Benjamin': 0, 'Fall Out Boy': 0, 'Bullet for My Valentine': 0, 'Three Days Grace': 0, 'Klamydia': 0, 'Iron Maiden': 0, 'blink-182': 0, 'Rammstein': 0, 'Pendulum': 1, 'Pitty': 0, 'Black Label Society': 0, 'Lindemann': 0, 'Krewella': 0, 'Arctic Monkeys': 0, 'Queens of the Stone Age': 0, 'Radiohead': 0, 'Pentakill': 0, 'Bayside': 0, 'Nightwish': 0, 'Katy Perry': 0, 'The White Stripes': 0, 'Soilwork': 1, 'Magnus Uggla': 0, 'Shinedown': 0, 'Rage Against the Machine': 1, 'Coheed and Cambria': 0, 'Halestorm': 0, 'A Perfect Circle': 1, 'Muse': 0, 'Soulfly': 1, '36 Crazyfists': 1, 'M.I.A.': 0, 'Limp Bizkit': 1, 'Lamb of God': 0, 'Alexisonfire': 0, 'Metallica': 0, 'Amorphis': 0, 'AFI': 0, 'P.D.P.': 0, 'Dmitri Shostakovich': 1, 'Stam1na': 0, 'Mogwai': 0, 'Disturbed': 0, 'New Found Glory': 0, 'Evergreen Terrace': 0, 'Sick Puppies': 0, 'Machine Head': 0, 'Lacuna Coil': 0, 'Tenacious D': 0, 'Boston': 0, 'Energy': 0, 'Queen': 0, 'The Band': 0, 'Pink Floyd': 0, 'Powerwolf': 0, 'deadmau5': 0, 'Oh, Sleeper': 0, 'James Blake': 0, 'Epic Rap Battles Of History': 0, 'Rob Zombie': 0, 'Papa Roach': 0, 'Cruel Hand': 0, '30 Seconds to Mars': 0, 'Avenged Sevenfold': 0, 'Panic! at the Disco': 0, 'The Dear Hunter': 0, 'All Time Low': 0, 'Hozier': 0, 'Die Antwoord': 0, 'Korn': 1, 'Ween': 0, 'Four Year Strong': 0, 'Arch Enemy': 0, 'The Killers': 0, 'Mustasch': 0, 'Wintersun': 0, 'Demon Hunter': 0, 'Ben Howard': 0, 'Wu-Tang Clan': 0, 'My Chemical Romance': 0, 'Parkway Drive': 0, 'Daughter': 0, 'Gallows': 0, 'Scar Symmetry': 1, 'Foo Fighters': 0, 'Red Hot Chili Peppers': 1, 'Slipknot': 1, 'Theory of a Deadman': 0, 'Saosin': 0, 'Children of Bodom': 0, 'Sonata Arctica': 0, 'Pantera': 0, 'Leevi and the Leavings': 0, 'Warpaint': 0, 'Black Veil Brides': 0, 'Bring Me the Horizon': 0, 'Hans Zimmer': 0, 'Dark Tranquillity': 1, 'Madonna': 0, 'Stone Sour': 1, 'Evanescence': 0, 'Atoms for Peace': 0, 'Amon Amarth': 0, 'Thom Yorke': 0, 'Coldplay': 0, 'Dr. Dre': 0, 'Dope': 0, 'Marina & the Diamonds': 0, 'Five Finger Death Punch': 0, 'Calvin Harris': 0, 'Nine Inch Nails': 1, 'N.W.A': 0, 'Cradle of Filth': 0, 'Memphis May Fire': 0, 'Beach House': 0, 'Gyllene Tider': 0, 'Deftones': 1, 'Becoming the Archetype': 0, 'System of a Down': 1, 'Linkin Park': 0, 'Sum 41': 0, 'Misfits': 0, 'DIR EN GREY': 0, 'Godsmack': 0, 'Billy Talent': 0, 'Cat Power': 0, 'In Flames': 1, 'Howard Shore': 0, 'DragonForce': 0, 'Circa Survive': 0, 'Mumford & Sons': 0, 'Volbeat': 0, 'Tool': 1}, 'sattuviitana': {'Team Sleep': 0, 'Flo Rida': 0, 'White Zombie': 0, 'Ke$ha': 0, 'Sabaton': 1, 'Killswitch Engage': 0, 'Motion City Soundtrack': 0, 'Damien Rice': 0, 'Seether': 0, 'The Wonder Years': 0, 'Freestyle': 0, 'Dimmu Borgir': 0, 'Nirvana': 0, 'Trivium': 0, 'Green Day': 0, 'Electric Light Orchestra': 0, '\\xe6\\xa4\\x8d\\xe6\\x9d\\xbe\\xe4\\xbc\\xb8\\xe5\\xa4\\xab': 0, 'Breaking Benjamin': 0, 'Fall Out Boy': 0, 'Bullet for My Valentine': 0, 'Three Days Grace': 0, 'Klamydia': 1, 'Iron Maiden': 0, 'blink-182': 0, 'Rammstein': 1, 'Pendulum': 0, 'Pitty': 0, 'Black Label Society': 0, 'Lindemann': 1, 'Krewella': 0, 'Arctic Monkeys': 0, 'Queens of the Stone Age': 0, 'Radiohead': 0, 'Pentakill': 0, 'Bayside': 0, 'Nightwish': 1, 'Katy Perry': 0, 'The White Stripes': 0, 'Soilwork': 0, 'Magnus Uggla': 0, 'Shinedown': 0, 'Rage Against the Machine': 0, 'Coheed and Cambria': 0, 'Halestorm': 0, 'A Perfect Circle': 0, 'Muse': 0, 'Soulfly': 0, '36 Crazyfists': 0, 'M.I.A.': 0, 'Limp Bizkit': 0, 'Lamb of God': 0, 'Alexisonfire': 0, 'Metallica': 1, 'Amorphis': 1, 'AFI': 0, 'P.D.P.': 0, 'Dmitri Shostakovich': 0, 'Stam1na': 1, 'Mogwai': 0, 'Disturbed': 0, 'New Found Glory': 0, 'Evergreen Terrace': 0, 'Sick Puppies': 0, 'Machine Head': 0, 'Lacuna Coil': 0, 'Tenacious D': 0, 'Boston': 0, 'Energy': 0, 'Queen': 1, 'The Band': 0, 'Pink Floyd': 0, 'Powerwolf': 0, 'deadmau5': 0, 'Oh, Sleeper': 0, 'James Blake': 0, 'Epic Rap Battles Of History': 0, 'Rob Zombie': 0, 'Papa Roach': 0, 'Cruel Hand': 0, '30 Seconds to Mars': 0, 'Avenged Sevenfold': 1, 'Panic! at the Disco': 0, 'The Dear Hunter': 0, 'All Time Low': 0, 'Hozier': 0, 'Die Antwoord': 0, 'Korn': 1, 'Ween': 0, 'Four Year Strong': 0, 'Arch Enemy': 0, 'The Killers': 0, 'Mustasch': 0, 'Wintersun': 0, 'Demon Hunter': 0, 'Ben Howard': 0, 'Wu-Tang Clan': 0, 'My Chemical Romance': 0, 'Parkway Drive': 0, 'Daughter': 0, 'Gallows': 0, 'Scar Symmetry': 0, 'Foo Fighters': 0, 'Red Hot Chili Peppers': 0, 'Slipknot': 1, 'Theory of a Deadman': 0, 'Saosin': 0, 'Children of Bodom': 1, 'Sonata Arctica': 1, 'Pantera': 1, 'Leevi and the Leavings': 1, 'Warpaint': 0, 'Black Veil Brides': 0, 'Bring Me the Horizon': 0, 'Hans Zimmer': 0, 'Dark Tranquillity': 0, 'Madonna': 0, 'Stone Sour': 0, 'Evanescence': 0, 'Atoms for Peace': 0, 'Amon Amarth': 0, 'Thom Yorke': 0, 'Coldplay': 0, 'Dr. Dre': 0, 'Dope': 0, 'Marina & the Diamonds': 0, 'Five Finger Death Punch': 1, 'Calvin Harris': 0, 'Nine Inch Nails': 0, 'N.W.A': 0, 'Cradle of Filth': 0, 'Memphis May Fire': 0, 'Beach House': 0, 'Gyllene Tider': 0, 'Deftones': 0, 'Becoming the Archetype': 0, 'System of a Down': 1, 'Linkin Park': 0, 'Sum 41': 0, 'Misfits': 0, 'DIR EN GREY': 0, 'Godsmack': 0, 'Billy Talent': 0, 'Cat Power': 0, 'In Flames': 1, 'Howard Shore': 0, 'DragonForce': 0, 'Circa Survive': 0, 'Mumford & Sons': 0, 'Volbeat': 1, 'Tool': 0}, 'Znapsen': {'Team Sleep': 0, 'Flo Rida': 0, 'White Zombie': 1, 'Ke$ha': 0, 'Sabaton': 0, 'Killswitch Engage': 0, 'Motion City Soundtrack': 0, 'Damien Rice': 0, 'Seether': 0, 'The Wonder Years': 0, 'Freestyle': 1, 'Dimmu Borgir': 0, 'Nirvana': 0, 'Trivium': 0, 'Green Day': 0, 'Electric Light Orchestra': 0, '\\xe6\\xa4\\x8d\\xe6\\x9d\\xbe\\xe4\\xbc\\xb8\\xe5\\xa4\\xab': 0, 'Breaking Benjamin': 0, 'Fall Out Boy': 0, 'Bullet for My Valentine': 0, 'Three Days Grace': 0, 'Klamydia': 0, 'Iron Maiden': 0, 'blink-182': 0, 'Rammstein': 1, 'Pendulum': 0, 'Pitty': 0, 'Black Label Society': 1, 'Lindemann': 0, 'Krewella': 0, 'Arctic Monkeys': 0, 'Queens of the Stone Age': 0, 'Radiohead': 0, 'Pentakill': 0, 'Bayside': 0, 'Nightwish': 0, 'Katy Perry': 0, 'The White Stripes': 0, 'Soilwork': 0, 'Magnus Uggla': 1, 'Shinedown': 0, 'Rage Against the Machine': 0, 'Coheed and Cambria': 0, 'Halestorm': 0, 'A Perfect Circle': 0, 'Muse': 0, 'Soulfly': 0, '36 Crazyfists': 0, 'M.I.A.': 0, 'Limp Bizkit': 1, 'Lamb of God': 1, 'Alexisonfire': 0, 'Metallica': 1, 'Amorphis': 0, 'AFI': 0, 'P.D.P.': 1, 'Dmitri Shostakovich': 0, 'Stam1na': 0, 'Mogwai': 0, 'Disturbed': 0, 'New Found Glory': 0, 'Evergreen Terrace': 0, 'Sick Puppies': 0, 'Machine Head': 1, 'Lacuna Coil': 0, 'Tenacious D': 0, 'Boston': 0, 'Energy': 0, 'Queen': 0, 'The Band': 0, 'Pink Floyd': 1, 'Powerwolf': 0, 'deadmau5': 0, 'Oh, Sleeper': 0, 'James Blake': 0, 'Epic Rap Battles Of History': 0, 'Rob Zombie': 0, 'Papa Roach': 0, 'Cruel Hand': 0, '30 Seconds to Mars': 0, 'Avenged Sevenfold': 1, 'Panic! at the Disco': 0, 'The Dear Hunter': 0, 'All Time Low': 0, 'Hozier': 0, 'Die Antwoord': 0, 'Korn': 1, 'Ween': 0, 'Four Year Strong': 0, 'Arch Enemy': 0, 'The Killers': 0, 'Mustasch': 1, 'Wintersun': 0, 'Demon Hunter': 0, 'Ben Howard': 0, 'Wu-Tang Clan': 0, 'My Chemical Romance': 0, 'Parkway Drive': 0, 'Daughter': 0, 'Gallows': 0, 'Scar Symmetry': 0, 'Foo Fighters': 0, 'Red Hot Chili Peppers': 0, 'Slipknot': 1, 'Theory of a Deadman': 0, 'Saosin': 0, 'Children of Bodom': 0, 'Sonata Arctica': 0, 'Pantera': 1, 'Leevi and the Leavings': 0, 'Warpaint': 0, 'Black Veil Brides': 0, 'Bring Me the Horizon': 0, 'Hans Zimmer': 0, 'Dark Tranquillity': 0, 'Madonna': 0, 'Stone Sour': 0, 'Evanescence': 0, 'Atoms for Peace': 0, 'Amon Amarth': 0, 'Thom Yorke': 0, 'Coldplay': 0, 'Dr. Dre': 0, 'Dope': 1, 'Marina & the Diamonds': 0, 'Five Finger Death Punch': 1, 'Calvin Harris': 0, 'Nine Inch Nails': 0, 'N.W.A': 0, 'Cradle of Filth': 0, 'Memphis May Fire': 0, 'Beach House': 0, 'Gyllene Tider': 1, 'Deftones': 0, 'Becoming the Archetype': 0, 'System of a Down': 0, 'Linkin Park': 0, 'Sum 41': 0, 'Misfits': 0, 'DIR EN GREY': 0, 'Godsmack': 1, 'Billy Talent': 0, 'Cat Power': 0, 'In Flames': 0, 'Howard Shore': 0, 'DragonForce': 0, 'Circa Survive': 0, 'Mumford & Sons': 0, 'Volbeat': 0, 'Tool': 0}, 'BrunoJoS': {'Team Sleep': 0, 'Flo Rida': 0, 'White Zombie': 0, 'Ke$ha': 0, 'Sabaton': 0, 'Killswitch Engage': 0, 'Motion City Soundtrack': 0, 'Damien Rice': 0, 'Seether': 0, 'The Wonder Years': 0, 'Freestyle': 0, 'Dimmu Borgir': 0, 'Nirvana': 0, 'Trivium': 0, 'Green Day': 1, 'Electric Light Orchestra': 0, '\\xe6\\xa4\\x8d\\xe6\\x9d\\xbe\\xe4\\xbc\\xb8\\xe5\\xa4\\xab': 0, 'Breaking Benjamin': 0, 'Fall Out Boy': 0, 'Bullet for My Valentine': 0, 'Three Days Grace': 1, 'Klamydia': 0, 'Iron Maiden': 0, 'blink-182': 0, 'Rammstein': 1, 'Pendulum': 0, 'Pitty': 1, 'Black Label Society': 0, 'Lindemann': 0, 'Krewella': 0, 'Arctic Monkeys': 1, 'Queens of the Stone Age': 1, 'Radiohead': 1, 'Pentakill': 0, 'Bayside': 0, 'Nightwish': 0, 'Katy Perry': 0, 'The White Stripes': 0, 'Soilwork': 0, 'Magnus Uggla': 0, 'Shinedown': 0, 'Rage Against the Machine': 0, 'Coheed and Cambria': 0, 'Halestorm': 0, 'A Perfect Circle': 0, 'Muse': 1, 'Soulfly': 0, '36 Crazyfists': 0, 'M.I.A.': 1, 'Limp Bizkit': 0, 'Lamb of God': 0, 'Alexisonfire': 0, 'Metallica': 0, 'Amorphis': 0, 'AFI': 0, 'P.D.P.': 0, 'Dmitri Shostakovich': 0, 'Stam1na': 0, 'Mogwai': 0, 'Disturbed': 0, 'New Found Glory': 0, 'Evergreen Terrace': 0, 'Sick Puppies': 0, 'Machine Head': 0, 'Lacuna Coil': 0, 'Tenacious D': 0, 'Boston': 0, 'Energy': 0, 'Queen': 0, 'The Band': 0, 'Pink Floyd': 0, 'Powerwolf': 0, 'deadmau5': 0, 'Oh, Sleeper': 0, 'James Blake': 0, 'Epic Rap Battles Of History': 0, 'Rob Zombie': 0, 'Papa Roach': 1, 'Cruel Hand': 0, '30 Seconds to Mars': 1, 'Avenged Sevenfold': 0, 'Panic! at the Disco': 0, 'The Dear Hunter': 0, 'All Time Low': 0, 'Hozier': 0, 'Die Antwoord': 0, 'Korn': 0, 'Ween': 0, 'Four Year Strong': 0, 'Arch Enemy': 0, 'The Killers': 1, 'Mustasch': 0, 'Wintersun': 0, 'Demon Hunter': 0, 'Ben Howard': 0, 'Wu-Tang Clan': 0, 'My Chemical Romance': 0, 'Parkway Drive': 0, 'Daughter': 0, 'Gallows': 0, 'Scar Symmetry': 0, 'Foo Fighters': 1, 'Red Hot Chili Peppers': 0, 'Slipknot': 1, 'Theory of a Deadman': 0, 'Saosin': 0, 'Children of Bodom': 0, 'Sonata Arctica': 0, 'Pantera': 0, 'Leevi and the Leavings': 0, 'Warpaint': 0, 'Black Veil Brides': 0, 'Bring Me the Horizon': 0, 'Hans Zimmer': 0, 'Dark Tranquillity': 0, 'Madonna': 1, 'Stone Sour': 0, 'Evanescence': 0, 'Atoms for Peace': 0, 'Amon Amarth': 0, 'Thom Yorke': 1, 'Coldplay': 1, 'Dr. Dre': 0, 'Dope': 0, 'Marina & the Diamonds': 0, 'Five Finger Death Punch': 0, 'Calvin Harris': 0, 'Nine Inch Nails': 0, 'N.W.A': 0, 'Cradle of Filth': 0, 'Memphis May Fire': 0, 'Beach House': 0, 'Gyllene Tider': 0, 'Deftones': 0, 'Becoming the Archetype': 0, 'System of a Down': 1, 'Linkin Park': 1, 'Sum 41': 1, 'Misfits': 0, 'DIR EN GREY': 0, 'Godsmack': 0, 'Billy Talent': 0, 'Cat Power': 0, 'In Flames': 0, 'Howard Shore': 0, 'DragonForce': 0, 'Circa Survive': 0, 'Mumford & Sons': 0, 'Volbeat': 0, 'Tool': 0}, 'NemoNightfall': {'Team Sleep': 0, 'Flo Rida': 0, 'White Zombie': 0, 'Ke$ha': 0, 'Sabaton': 0, 'Killswitch Engage': 0, 'Motion City Soundtrack': 0, 'Damien Rice': 0, 'Seether': 0, 'The Wonder Years': 0, 'Freestyle': 0, 'Dimmu Borgir': 0, 'Nirvana': 0, 'Trivium': 1, 'Green Day': 0, 'Electric Light Orchestra': 0, '\\xe6\\xa4\\x8d\\xe6\\x9d\\xbe\\xe4\\xbc\\xb8\\xe5\\xa4\\xab': 0, 'Breaking Benjamin': 1, 'Fall Out Boy': 0, 'Bullet for My Valentine': 1, 'Three Days Grace': 1, 'Klamydia': 0, 'Iron Maiden': 0, 'blink-182': 0, 'Rammstein': 0, 'Pendulum': 0, 'Pitty': 0, 'Black Label Society': 0, 'Lindemann': 0, 'Krewella': 0, 'Arctic Monkeys': 0, 'Queens of the Stone Age': 0, 'Radiohead': 0, 'Pentakill': 0, 'Bayside': 0, 'Nightwish': 0, 'Katy Perry': 0, 'The White Stripes': 0, 'Soilwork': 0, 'Magnus Uggla': 0, 'Shinedown': 0, 'Rage Against the Machine': 0, 'Coheed and Cambria': 0, 'Halestorm': 0, 'A Perfect Circle': 0, 'Muse': 0, 'Soulfly': 0, '36 Crazyfists': 0, 'M.I.A.': 0, 'Limp Bizkit': 0, 'Lamb of God': 0, 'Alexisonfire': 1, 'Metallica': 0, 'Amorphis': 0, 'AFI': 0, 'P.D.P.': 0, 'Dmitri Shostakovich': 0, 'Stam1na': 0, 'Mogwai': 0, 'Disturbed': 0, 'New Found Glory': 0, 'Evergreen Terrace': 0, 'Sick Puppies': 1, 'Machine Head': 0, 'Lacuna Coil': 0, 'Tenacious D': 0, 'Boston': 0, 'Energy': 0, 'Queen': 0, 'The Band': 0, 'Pink Floyd': 0, 'Powerwolf': 0, 'deadmau5': 0, 'Oh, Sleeper': 1, 'James Blake': 0, 'Epic Rap Battles Of History': 0, 'Rob Zombie': 0, 'Papa Roach': 1, 'Cruel Hand': 0, '30 Seconds to Mars': 1, 'Avenged Sevenfold': 0, 'Panic! at the Disco': 0, 'The Dear Hunter': 0, 'All Time Low': 1, 'Hozier': 0, 'Die Antwoord': 0, 'Korn': 0, 'Ween': 0, 'Four Year Strong': 0, 'Arch Enemy': 0, 'The Killers': 0, 'Mustasch': 0, 'Wintersun': 0, 'Demon Hunter': 0, 'Ben Howard': 1, 'Wu-Tang Clan': 0, 'My Chemical Romance': 0, 'Parkway Drive': 0, 'Daughter': 0, 'Gallows': 0, 'Scar Symmetry': 0, 'Foo Fighters': 0, 'Red Hot Chili Peppers': 0, 'Slipknot': 1, 'Theory of a Deadman': 0, 'Saosin': 0, 'Children of Bodom': 0, 'Sonata Arctica': 0, 'Pantera': 0, 'Leevi and the Leavings': 0, 'Warpaint': 0, 'Black Veil Brides': 0, 'Bring Me the Horizon': 1, 'Hans Zimmer': 0, 'Dark Tranquillity': 0, 'Madonna': 0, 'Stone Sour': 1, 'Evanescence': 0, 'Atoms for Peace': 0, 'Amon Amarth': 0, 'Thom Yorke': 0, 'Coldplay': 0, 'Dr. Dre': 0, 'Dope': 0, 'Marina & the Diamonds': 0, 'Five Finger Death Punch': 1, 'Calvin Harris': 0, 'Nine Inch Nails': 0, 'N.W.A': 0, 'Cradle of Filth': 0, 'Memphis May Fire': 1, 'Beach House': 0, 'Gyllene Tider': 0, 'Deftones': 0, 'Becoming the Archetype': 0, 'System of a Down': 1, 'Linkin Park': 1, 'Sum 41': 0, 'Misfits': 0, 'DIR EN GREY': 0, 'Godsmack': 0, 'Billy Talent': 1, 'Cat Power': 0, 'In Flames': 0, 'Howard Shore': 0, 'DragonForce': 0, 'Circa Survive': 0, 'Mumford & Sons': 1, 'Volbeat': 0, 'Tool': 0}, 'SkyRif': {'Team Sleep': 0, 'Flo Rida': 0, 'White Zombie': 0, 'Ke$ha': 0, 'Sabaton': 1, 'Killswitch Engage': 0, 'Motion City Soundtrack': 0, 'Damien Rice': 0, 'Seether': 0, 'The Wonder Years': 0, 'Freestyle': 0, 'Dimmu Borgir': 0, 'Nirvana': 0, 'Trivium': 0, 'Green Day': 0, 'Electric Light Orchestra': 0, '\\xe6\\xa4\\x8d\\xe6\\x9d\\xbe\\xe4\\xbc\\xb8\\xe5\\xa4\\xab': 0, 'Breaking Benjamin': 0, 'Fall Out Boy': 0, 'Bullet for My Valentine': 0, 'Three Days Grace': 0, 'Klamydia': 0, 'Iron Maiden': 0, 'blink-182': 0, 'Rammstein': 0, 'Pendulum': 0, 'Pitty': 0, 'Black Label Society': 0, 'Lindemann': 0, 'Krewella': 0, 'Arctic Monkeys': 0, 'Queens of the Stone Age': 0, 'Radiohead': 0, 'Pentakill': 1, 'Bayside': 0, 'Nightwish': 0, 'Katy Perry': 0, 'The White Stripes': 0, 'Soilwork': 0, 'Magnus Uggla': 0, 'Shinedown': 0, 'Rage Against the Machine': 1, 'Coheed and Cambria': 0, 'Halestorm': 0, 'A Perfect Circle': 0, 'Muse': 0, 'Soulfly': 0, '36 Crazyfists': 0, 'M.I.A.': 0, 'Limp Bizkit': 0, 'Lamb of God': 1, 'Alexisonfire': 0, 'Metallica': 1, 'Amorphis': 0, 'AFI': 0, 'P.D.P.': 0, 'Dmitri Shostakovich': 0, 'Stam1na': 0, 'Mogwai': 0, 'Disturbed': 0, 'New Found Glory': 0, 'Evergreen Terrace': 0, 'Sick Puppies': 0, 'Machine Head': 0, 'Lacuna Coil': 0, 'Tenacious D': 1, 'Boston': 0, 'Energy': 0, 'Queen': 0, 'The Band': 0, 'Pink Floyd': 0, 'Powerwolf': 1, 'deadmau5': 0, 'Oh, Sleeper': 0, 'James Blake': 0, 'Epic Rap Battles Of History': 0, 'Rob Zombie': 0, 'Papa Roach': 1, 'Cruel Hand': 0, '30 Seconds to Mars': 0, 'Avenged Sevenfold': 0, 'Panic! at the Disco': 0, 'The Dear Hunter': 0, 'All Time Low': 0, 'Hozier': 0, 'Die Antwoord': 0, 'Korn': 1, 'Ween': 0, 'Four Year Strong': 0, 'Arch Enemy': 1, 'The Killers': 0, 'Mustasch': 0, 'Wintersun': 1, 'Demon Hunter': 0, 'Ben Howard': 0, 'Wu-Tang Clan': 0, 'My Chemical Romance': 0, 'Parkway Drive': 0, 'Daughter': 0, 'Gallows': 0, 'Scar Symmetry': 0, 'Foo Fighters': 0, 'Red Hot Chili Peppers': 1, 'Slipknot': 1, 'Theory of a Deadman': 0, 'Saosin': 0, 'Children of Bodom': 0, 'Sonata Arctica': 0, 'Pantera': 0, 'Leevi and the Leavings': 0, 'Warpaint': 0, 'Black Veil Brides': 0, 'Bring Me the Horizon': 0, 'Hans Zimmer': 1, 'Dark Tranquillity': 0, 'Madonna': 0, 'Stone Sour': 1, 'Evanescence': 0, 'Atoms for Peace': 0, 'Amon Amarth': 1, 'Thom Yorke': 0, 'Coldplay': 0, 'Dr. Dre': 0, 'Dope': 0, 'Marina & the Diamonds': 0, 'Five Finger Death Punch': 0, 'Calvin Harris': 0, 'Nine Inch Nails': 0, 'N.W.A': 0, 'Cradle of Filth': 0, 'Memphis May Fire': 0, 'Beach House': 0, 'Gyllene Tider': 0, 'Deftones': 0, 'Becoming the Archetype': 0, 'System of a Down': 1, 'Linkin Park': 1, 'Sum 41': 0, 'Misfits': 0, 'DIR EN GREY': 0, 'Godsmack': 0, 'Billy Talent': 0, 'Cat Power': 0, 'In Flames': 0, 'Howard Shore': 1, 'DragonForce': 1, 'Circa Survive': 0, 'Mumford & Sons': 0, 'Volbeat': 0, 'Tool': 0}, 'emill_67': {'Team Sleep': 0, 'Flo Rida': 0, 'White Zombie': 0, 'Ke$ha': 0, 'Sabaton': 0, 'Killswitch Engage': 0, 'Motion City Soundtrack': 0, 'Damien Rice': 0, 'Seether': 1, 'The Wonder Years': 0, 'Freestyle': 0, 'Dimmu Borgir': 0, 'Nirvana': 0, 'Trivium': 0, 'Green Day': 0, 'Electric Light Orchestra': 1, '\\xe6\\xa4\\x8d\\xe6\\x9d\\xbe\\xe4\\xbc\\xb8\\xe5\\xa4\\xab': 0, 'Breaking Benjamin': 0, 'Fall Out Boy': 0, 'Bullet for My Valentine': 0, 'Three Days Grace': 0, 'Klamydia': 0, 'Iron Maiden': 1, 'blink-182': 0, 'Rammstein': 0, 'Pendulum': 0, 'Pitty': 0, 'Black Label Society': 0, 'Lindemann': 0, 'Krewella': 0, 'Arctic Monkeys': 0, 'Queens of the Stone Age': 0, 'Radiohead': 0, 'Pentakill': 0, 'Bayside': 0, 'Nightwish': 0, 'Katy Perry': 0, 'The White Stripes': 0, 'Soilwork': 0, 'Magnus Uggla': 0, 'Shinedown': 1, 'Rage Against the Machine': 1, 'Coheed and Cambria': 0, 'Halestorm': 0, 'A Perfect Circle': 0, 'Muse': 1, 'Soulfly': 0, '36 Crazyfists': 0, 'M.I.A.': 0, 'Limp Bizkit': 0, 'Lamb of God': 0, 'Alexisonfire': 0, 'Metallica': 0, 'Amorphis': 0, 'AFI': 0, 'P.D.P.': 0, 'Dmitri Shostakovich': 0, 'Stam1na': 0, 'Mogwai': 0, 'Disturbed': 1, 'New Found Glory': 0, 'Evergreen Terrace': 0, 'Sick Puppies': 0, 'Machine Head': 0, 'Lacuna Coil': 0, 'Tenacious D': 0, 'Boston': 1, 'Energy': 0, 'Queen': 0, 'The Band': 0, 'Pink Floyd': 1, 'Powerwolf': 0, 'deadmau5': 1, 'Oh, Sleeper': 0, 'James Blake': 0, 'Epic Rap Battles Of History': 1, 'Rob Zombie': 1, 'Papa Roach': 0, 'Cruel Hand': 0, '30 Seconds to Mars': 0, 'Avenged Sevenfold': 0, 'Panic! at the Disco': 0, 'The Dear Hunter': 0, 'All Time Low': 0, 'Hozier': 0, 'Die Antwoord': 0, 'Korn': 1, 'Ween': 1, 'Four Year Strong': 0, 'Arch Enemy': 0, 'The Killers': 0, 'Mustasch': 0, 'Wintersun': 0, 'Demon Hunter': 0, 'Ben Howard': 0, 'Wu-Tang Clan': 0, 'My Chemical Romance': 0, 'Parkway Drive': 0, 'Daughter': 0, 'Gallows': 0, 'Scar Symmetry': 0, 'Foo Fighters': 1, 'Red Hot Chili Peppers': 1, 'Slipknot': 1, 'Theory of a Deadman': 1, 'Saosin': 0, 'Children of Bodom': 0, 'Sonata Arctica': 0, 'Pantera': 0, 'Leevi and the Leavings': 0, 'Warpaint': 0, 'Black Veil Brides': 0, 'Bring Me the Horizon': 0, 'Hans Zimmer': 0, 'Dark Tranquillity': 0, 'Madonna': 0, 'Stone Sour': 0, 'Evanescence': 1, 'Atoms for Peace': 0, 'Amon Amarth': 0, 'Thom Yorke': 0, 'Coldplay': 0, 'Dr. Dre': 0, 'Dope': 0, 'Marina & the Diamonds': 0, 'Five Finger Death Punch': 1, 'Calvin Harris': 0, 'Nine Inch Nails': 0, 'N.W.A': 0, 'Cradle of Filth': 0, 'Memphis May Fire': 0, 'Beach House': 0, 'Gyllene Tider': 0, 'Deftones': 0, 'Becoming the Archetype': 0, 'System of a Down': 0, 'Linkin Park': 0, 'Sum 41': 0, 'Misfits': 0, 'DIR EN GREY': 0, 'Godsmack': 0, 'Billy Talent': 0, 'Cat Power': 0, 'In Flames': 0, 'Howard Shore': 0, 'DragonForce': 0, 'Circa Survive': 0, 'Mumford & Sons': 0, 'Volbeat': 0, 'Tool': 0}}\n"
     ]
    }
   ],
   "source": [
    "print userArtistDict"
   ]
  },
  {
   "cell_type": "code",
   "execution_count": 15,
   "metadata": {},
   "outputs": [
    {
     "name": "stdout",
     "output_type": "stream",
     "text": [
      "user: DPREBOYE – euclidean:\n",
      "\n",
      "  | MPistol40       -> 0.961538461538\n",
      "  | BrunoJoS        -> 0.961538461538\n",
      "  | SkyRif          -> 0.961538461538\n",
      "  | emill_67        -> 0.961538461538\n",
      "  | cortapsyco      -> 0.960526128553\n",
      "  | Wags1382        -> 0.960526128553\n",
      "  | sattuviitana    -> 0.960526128553\n",
      "  | Znapsen         -> 0.960526128553\n",
      "  | NemoNightfall   -> 0.960526128553\n",
      "\n",
      "\n",
      "user: DPREBOYE – pearson:\n",
      "\n",
      "  | SkyRif          -> -0.0384615384615\n",
      "  | emill_67        -> -0.0384615384615\n",
      "  | MPistol40       -> -0.0384615384615\n",
      "  | BrunoJoS        -> -0.0384615384615\n",
      "  | NemoNightfall   -> -0.0961538461538\n",
      "  | cortapsyco      -> -0.0961538461538\n",
      "  | Wags1382        -> -0.0961538461538\n",
      "  | sattuviitana    -> -0.0961538461538\n",
      "  | Znapsen         -> -0.0961538461538\n"
     ]
    }
   ],
   "source": [
    "#5\n",
    "user = 'DPREBOYE'\n",
    "print 'user:',user,'– euclidean:\\n'\n",
    "for k,v in topMatches(userArtistDict, user, sim_euclid).items():\n",
    "    print '  |','%-15s' % (k,),'->', v\n",
    "\n",
    "print '\\n'\n",
    "    \n",
    "print 'user:',user,'– pearson:\\n'\n",
    "for k,v in topMatches(userArtistDict, 'DPREBOYE', sim_pearson).items():\n",
    "    print '  |','%-15s' % (k,),'->', v\n"
   ]
  },
  {
   "cell_type": "code",
   "execution_count": 16,
   "metadata": {},
   "outputs": [
    {
     "name": "stdout",
     "output_type": "stream",
     "text": [
      "[('Slipknot', 1.0), ('System of a Down', 0.6667056830543407), ('Korn', 0.5556465937934617), ('Five Finger Death Punch', 0.4443534062065382), ('Rage Against the Machine', 0.3335284152717037), ('Red Hot Chili Peppers', 0.3335284152717037), ('Papa Roach', 0.33341136610868144), ('Stone Sour', 0.33341136610868144), ('Linkin Park', 0.33341136610868144), ('Rammstein', 0.33329431694565925), ('Metallica', 0.33329431694565925), ('Muse', 0.22235227684780248), ('Foo Fighters', 0.22235227684780248), ('Sabaton', 0.2222352276847802), ('Three Days Grace', 0.2222352276847802), ('Pendulum', 0.2222352276847802), ('Limp Bizkit', 0.2222352276847802), ('Lamb of God', 0.2222352276847802), ('Pink Floyd', 0.2222352276847802), ('30 Seconds to Mars', 0.2222352276847802), ('In Flames', 0.2222352276847802), ('Coheed and Cambria', 0.222118178521758), ('Avenged Sevenfold', 0.222118178521758), ('Pantera', 0.222118178521758), ('Team Sleep', 0.11117613842390124), ('Tool', 0.11117613842390124), ('Seether', 0.11117613842390124), ('Green Day', 0.11117613842390124), ('Electric Light Orchestra', 0.11117613842390124), ('Queens of the Stone Age', 0.11117613842390124), ('Iron Maiden', 0.11117613842390124), ('Pitty', 0.11117613842390124), ('Arctic Monkeys', 0.11117613842390124), ('Radiohead', 0.11117613842390124), ('Pentakill', 0.11117613842390124), ('Soilwork', 0.11117613842390124), ('Shinedown', 0.11117613842390124), ('A Perfect Circle', 0.11117613842390124), ('deadmau5', 0.11117613842390124), ('Soulfly', 0.11117613842390124), ('36 Crazyfists', 0.11117613842390124), ('M.I.A.', 0.11117613842390124), ('Dmitri Shostakovich', 0.11117613842390124), ('Disturbed', 0.11117613842390124), ('Tenacious D', 0.11117613842390124), ('Boston', 0.11117613842390124), ('Powerwolf', 0.11117613842390124), ('Epic Rap Battles Of History', 0.11117613842390124), ('Rob Zombie', 0.11117613842390124), ('Ween', 0.11117613842390124), ('Arch Enemy', 0.11117613842390124), ('The Killers', 0.11117613842390124), ('Wintersun', 0.11117613842390124), ('Scar Symmetry', 0.11117613842390124), ('Theory of a Deadman', 0.11117613842390124), ('Hans Zimmer', 0.11117613842390124), ('Dark Tranquillity', 0.11117613842390124), ('Madonna', 0.11117613842390124), ('Evanescence', 0.11117613842390124), ('Amon Amarth', 0.11117613842390124), ('Thom Yorke', 0.11117613842390124), ('Coldplay', 0.11117613842390124), ('Nine Inch Nails', 0.11117613842390124), ('Deftones', 0.11117613842390124), ('Sum 41', 0.11117613842390124), ('Howard Shore', 0.11117613842390124), ('DragonForce', 0.11117613842390124), ('Flo Rida', 0.111059089260879), ('White Zombie', 0.111059089260879), ('Ke$ha', 0.111059089260879), ('Killswitch Engage', 0.111059089260879), ('Motion City Soundtrack', 0.111059089260879), ('The Wonder Years', 0.111059089260879), ('Freestyle', 0.111059089260879), ('Dimmu Borgir', 0.111059089260879), ('Trivium', 0.111059089260879), ('\\xe6\\xa4\\x8d\\xe6\\x9d\\xbe\\xe4\\xbc\\xb8\\xe5\\xa4\\xab', 0.111059089260879), ('Breaking Benjamin', 0.111059089260879), ('Fall Out Boy', 0.111059089260879), ('Bullet for My Valentine', 0.111059089260879), ('Klamydia', 0.111059089260879), ('blink-182', 0.111059089260879), ('Black Label Society', 0.111059089260879), ('Lindemann', 0.111059089260879), ('Krewella', 0.111059089260879), ('Gyllene Tider', 0.111059089260879), ('Bayside', 0.111059089260879), ('Nightwish', 0.111059089260879), ('Katy Perry', 0.111059089260879), ('Magnus Uggla', 0.111059089260879), ('My Chemical Romance', 0.111059089260879), ('Alexisonfire', 0.111059089260879), ('Amorphis', 0.111059089260879), ('AFI', 0.111059089260879), ('P.D.P.', 0.111059089260879), ('Stam1na', 0.111059089260879), ('New Found Glory', 0.111059089260879), ('Evergreen Terrace', 0.111059089260879), ('Sick Puppies', 0.111059089260879), ('Machine Head', 0.111059089260879), ('Lacuna Coil', 0.111059089260879), ('Energy', 0.111059089260879), ('Queen', 0.111059089260879), ('Oh, Sleeper', 0.111059089260879), ('Cruel Hand', 0.111059089260879), ('Panic! at the Disco', 0.111059089260879), ('The Dear Hunter', 0.111059089260879), ('All Time Low', 0.111059089260879), ('Four Year Strong', 0.111059089260879), ('Mustasch', 0.111059089260879), ('Demon Hunter', 0.111059089260879), ('Children of Bodom', 0.111059089260879), ('Parkway Drive', 0.111059089260879), ('Gallows', 0.111059089260879), ('Saosin', 0.111059089260879), ('Ben Howard', 0.111059089260879), ('Sonata Arctica', 0.111059089260879), ('Leevi and the Leavings', 0.111059089260879), ('Black Veil Brides', 0.111059089260879), ('Bring Me the Horizon', 0.111059089260879), ('Dope', 0.111059089260879), ('Marina & the Diamonds', 0.111059089260879), ('Calvin Harris', 0.111059089260879), ('Cradle of Filth', 0.111059089260879), ('Memphis May Fire', 0.111059089260879), ('Becoming the Archetype', 0.111059089260879), ('Misfits', 0.111059089260879), ('Godsmack', 0.111059089260879), ('Billy Talent', 0.111059089260879), ('Circa Survive', 0.111059089260879), ('Mumford & Sons', 0.111059089260879), ('Volbeat', 0.111059089260879), ('Halestorm', 0.111059089260879), ('Damien Rice', 0.0), ('Nirvana', 0.0), ('The White Stripes', 0.0), ('Mogwai', 0.0), ('The Band', 0.0), ('James Blake', 0.0), ('Hozier', 0.0), ('Die Antwoord', 0.0), ('Wu-Tang Clan', 0.0), ('Daughter', 0.0), ('Warpaint', 0.0), ('Atoms for Peace', 0.0), ('Dr. Dre', 0.0), ('N.W.A', 0.0), ('Beach House', 0.0), ('DIR EN GREY', 0.0), ('Cat Power', 0.0)]\n"
     ]
    }
   ],
   "source": [
    "def getRecommendationsX(prefs, person, similarity):\n",
    "    recommendations = {}\n",
    "    all_movies = get_all_movies(prefs)\n",
    "    for movie_name in all_movies:\n",
    "        recommendations[movie_name]=get_recom(prefs, person, movie_name, similarity)\n",
    "    return sorted(recommendations.items(), key=operator.itemgetter(1), reverse=True)\n",
    "# Die Funktion getRecommendations funktioniert nur bedingt. Denn dort wird mit folgender Zeile\n",
    "#      if movie_name not in seen_movies:\n",
    "# Bereits alles herausgefiltert das was schon bewertet wurde. Man muss entweder die List der Lieder von allen\n",
    "# '0' Einträgen befreien, oder diese Bedingungen heraus nehmen, wie wir es in der Funktion 'getRecommendationsX'\n",
    "# gemacht haben.\n",
    "# Zusätzlich muss euclid benutzt werden da wir in unserem Beispiel nur negative Korrelationen für pearson bekommen.\n",
    "# Negative Korrelation müssen Grundsätzlich unberücksichtigt bleiben, da sie das Ergebnis verfälschen\n",
    "print getRecommendationsX(userArtistDict, user, sim_euclid)"
   ]
  }
 ],
 "metadata": {
  "kernelspec": {
   "display_name": "Python 2",
   "language": "python",
   "name": "python2"
  },
  "language_info": {
   "codemirror_mode": {
    "name": "ipython",
    "version": 2
   },
   "file_extension": ".py",
   "mimetype": "text/x-python",
   "name": "python",
   "nbconvert_exporter": "python",
   "pygments_lexer": "ipython2",
   "version": "2.7.13"
  },
  "nav_menu": {},
  "toc": {
   "navigate_menu": true,
   "number_sections": true,
   "sideBar": true,
   "threshold": 6,
   "toc_cell": false,
   "toc_section_display": "block",
   "toc_window_display": true
  },
  "toc_position": {
   "height": "664px",
   "left": "0px",
   "right": "1209.67px",
   "top": "125.333px",
   "width": "212px"
  }
 },
 "nbformat": 4,
 "nbformat_minor": 1
}
