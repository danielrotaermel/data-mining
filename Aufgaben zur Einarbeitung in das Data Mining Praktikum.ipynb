{
 "cells": [
  {
   "cell_type": "markdown",
   "metadata": {},
   "source": [
    "# Python: Aufgaben zur Vorbereitung\n",
    "\n",
    "* Autor: Prof. Dr. Johannes Maucher\n",
    "* Datum: 13.10.2015\n",
    "\n",
    "[Übersicht Jupyter Notebooks im Data Mining Praktikum](Data Mining Praktikum.html)\n",
    "\n",
    "\n",
    "## Listen\n",
    "**Aufgaben:**\n",
    "1. Legen Sie zwei Listen gleicher Länge mit numerischen Datenelementen an.\n",
    "2. Hängen Sie an die erste Liste die Elemente der zweiten Liste an.\n",
    "3. Suchen Sie in der neuen Liste nach einem Element mit einem bestimmten Wert und bestimmen Sie an welcher Position das Element in der Liste auftritt. Wie kann der Fall, dass der vorgegebene Wert nicht in der Liste ist, abgefangen werden?\n",
    "4. Löschen Sie die Elemente von der zweiten bis zur vierten Stelle aus der Liste (Elemente an den Indizes 1,2 und 3)\n",
    "4. Fügen Sie die Elemente 4,2 und 1 an der Stelle 2 fortfolgend ein (so dass Liste erweitert wird)\n",
    "5. Sortieren Sie die Liste nach absteigenden Werten.\n",
    "6. Berechnen Sie die elementweise Summe zweier numerischer Listen gleicher Länge mithilfe einer _List-Comprehension_."
   ]
  },
  {
   "cell_type": "code",
   "execution_count": null,
   "metadata": {},
   "outputs": [],
   "source": []
  },
  {
   "cell_type": "markdown",
   "metadata": {},
   "source": [
    "## Strings\n",
    "**Aufgaben:**\n",
    "\n",
    "1. Weisen Sie einen Text mit mindestens 10 Wörtern einer Stringvariablen _text1_ zu.\n",
    "2. Transformieren Sie _text1_ so, dass alle Wörter klein geschrieben sind.\n",
    "3. Aus wievielen Zeichen besteht der Text?\n",
    "4. Aus wievielen unterschiedlichen Zeichen besteht der Text?\n",
    "1. Zerlegen Sie den in der String-Variablen abgespeicherten Text in eine Liste _list1_ von Wörtern.\n",
    "2. Aus wievielen Wörtern besteht der Text?\n",
    "3. Aus wievielen unterschiedlichen Wörtern besteht der Text?\n",
    "1. Legen Sie analog zu _text1_ noch zwei weitere Stringvariablen _text2_ und _text3_ an, die ungefähr so viele Wörter enthalten wie _text1_.\n",
    "2. Wiederholen Sie die oben genannten Schritte für _text2_ und _text3_. Die zugehörigen Wortlisten sollten mit _liste2_ und _liste3_ bezeichnet werden.\n",
    "3. Bestimmen Sie jetzt das gesamte Vokabular. Das gesamte Vokabular ist die Menge aller Worte, die mindestens in einem der 3 Texte vorkommen. Die Wörter des Vokabulars sollen in einer Liste _vocabular_ gespeichert werden. Aus wievielen Wörtern besteht das Vokabular?"
   ]
  },
  {
   "cell_type": "markdown",
   "metadata": {},
   "source": [
    "## Dictionaries\n",
    "**Aufgaben:**\n",
    "\n",
    "1. Legen Sie für jeden der 3 Texte je ein Dictionary an, das als Keys alle Wörter des gesamten Vokabulars enthält und als Values die Häufigkeit des Worts im jeweiligen Text.\n",
    "2. Legen Sie ein verschachteltes Dictionary an, dessen Keys Namen für die drei oben angelegten Texte sind und dessen Values die oben angelegten Dictionarys sind.\n",
    "3. Fragen Sie die Häufigkeit eines im Vokabular enthaltenen Worts in jedem der 3 Texte aus dem verschachtelten Dictionary ab."
   ]
  },
  {
   "cell_type": "markdown",
   "metadata": {},
   "source": [
    "## Funktionen\n",
    "**Aufgaben:**\n",
    "1. Schreiben Sie eine Funktion, der eine Liste mit beliebig vielen Texten in Form von Stringvariablen übergeben wird. Aus dieser Liste soll ein verschachteltes Dictionary erzeugt und zurückgegeben werden, das als Keys Namen für die einzelnen Texte enthält und dessen Values Dictionaries sind, welche die Häufigkeit der Vokabularworte in den jeweiligen Texten enthalten (also das gleiche verschachtelte Dictionary, wie in der vorigen Aufgabe für 3 Texte angelegt wurde).\n",
    "2. Legen Sie eine Liste von Texten (Stringvariablen) an, übergeben Sie diese der oben implementierten Funktion und geben Sie das von der Funktion zurückgegebene verschachtelte Dictionary aus."
   ]
  },
  {
   "cell_type": "markdown",
   "metadata": {},
   "source": [
    "# Numpy: Aufgaben zur Vorbereitung\n",
    "\n",
    "[Numpy Intro Jupyter Notebook (.ipynb)](NP01numpyBasics.ipynb)\n",
    "\n",
    "1. Wie wird ein eindimensionales, wie ein zweidimensionales Numpy Array angelegt?\n",
    "2. Wie bestimmt man die Größe (Anzahl Zeilen und Anzahl Spalten) eines zweidimensionalen Numpy Arrays?\n",
    "3. Wie werden die Mittelwerte der Spalten eines Numpy Arrays ermittelt, wie werden die Standardabweichungen der Spalten eines Numpy Arrays berechnet?\n",
    "4. Wie können die Daten aus einem .csv File direkt in ein Numpy-Array eingelesen werden?\n",
    "5. Wie kann ein Numpy Array effizient in einem File abgespeichert werden? Wie können diese Daten aus dem File wieder in ein Numpy Array gelesen werden?\n",
    "6. Wie kann auf das Element in Zeile 1, Spalte 2 eines Numpy Arrays zugegriffen werden?\n",
    "7. Wie kann auf die zweite Zeile eines Numpy-Arrays zugegriffen werden?\n",
    "8. Wie kann auf die Spalten 2 bis 4 eines Numpy-Arrays zugegriffen werden?\n",
    "8. Wie kann das Skalarprodukt zweier eindimensionaler Numpy-Arrays bestimmt werden? \n",
    "9. Wie kann ein zweidimensionales Numpy-Array mit einem anderen zweidimensionales Numpy-Array multipliziert werden (im Sinne einer Matrixmultiplikation)? \n",
    "10. Wie kann ein eindimensionales Numpy Array mit einem zweidimensionalen Numpy Array multipliziert werden?\n",
    "11. Wie können Zeilen oder Spalten eines Numpy Arrays hinsichtlich ihrer Werte ansteigend oder absteigend sortiert werden?"
   ]
  },
  {
   "cell_type": "markdown",
   "metadata": {},
   "source": [
    "# Scipy: Aufgaben zur Vorbereitung\n",
    "\n",
    "[SciPy Intro IPython Notebook](http://nbviewer.ipython.org/github/jrjohansson/scientific-python-lectures/blob/master/Lecture-3-Scipy.ipynb)\n",
    "\n",
    "Machen Sie sich mit den Funktionen des Moduls [Scipy.spatial.distance](http://docs.scipy.org/doc/scipy-0.14.0/reference/spatial.distance.html#module-scipy.spatial.distance) vertraut.\n",
    "\n",
    "1. Wie wird die paarweise euklidische Distanz zwischen den Zeilen eines Numpy Array berechnet?\n",
    "\n",
    "Machen Sie sich mit den Funktionen des Moduls [Scipy.cluster.hierarchy](http://docs.scipy.org/doc/scipy/reference/cluster.hierarchy.html) vertraut.\n",
    "\n",
    "1. Wie wird mit diesem Modul ein hierarchisches Clustering von Vektoren berechnet und visualisiert?\n",
    "2. Welche Bedeutung haben die Parameter _method_ und _metric_ der Funktion _linkage_?  \n",
    "\n",
    "# Matplotlib: Aufgaben zur Vorbereitung\n",
    "\n",
    "[Matplotlib Intro Jupyter Notebook (.ipynb)](PLT01visualization.ipynb)\n",
    "\n",
    "1. Machen Sie sich anhand des oben verlinkten Matplotlib mit den grundlegenden Plotting Funktionen dieses Pakets vertraut.\n",
    "\n",
    "\n",
    "\n",
    "# Pandas: Aufgaben zur Vorbereitung\n",
    "\n",
    "[Pandas Intro Jupyter Notebook (.ipynb)](PD01Pandas.ipynb)\n",
    "\n",
    "1. Was ist der Vorteil eines Pandas Dataframe gegenüber einem Numpy Array?\n",
    "2. Wie legt man eine Pandas Dataframe an?\n",
    "3. Wie liest man eine .csv Datei in einen Pandas Dataframe?\n",
    "4. Wie schreibt man einen Pandas Dataframe in eine .csv Datei?\n",
    "4. Wie greift man auf den Index eines Pandas Dataframes zu?\n",
    "4. Wie greift man auf die Spaltennamen eines Dataframes zu?\n",
    "5. Wie greift man auf eine Spalte eines Dataframes zu?\n",
    "6. Wie greift man auf eine Zeile eines Dataframes zu?"
   ]
  },
  {
   "cell_type": "code",
   "execution_count": null,
   "metadata": {
    "collapsed": true
   },
   "outputs": [],
   "source": []
  }
 ],
 "metadata": {
  "kernelspec": {
   "display_name": "Python [default]",
   "language": "python",
   "name": "python2"
  },
  "language_info": {
   "codemirror_mode": {
    "name": "ipython",
    "version": 2
   },
   "file_extension": ".py",
   "mimetype": "text/x-python",
   "name": "python",
   "nbconvert_exporter": "python",
   "pygments_lexer": "ipython2",
   "version": "2.7.13"
  },
  "nav_menu": {},
  "toc": {
   "navigate_menu": true,
   "number_sections": true,
   "sideBar": true,
   "threshold": 6,
   "toc_cell": false,
   "toc_section_display": "block",
   "toc_window_display": false
  }
 },
 "nbformat": 4,
 "nbformat_minor": 1
}
