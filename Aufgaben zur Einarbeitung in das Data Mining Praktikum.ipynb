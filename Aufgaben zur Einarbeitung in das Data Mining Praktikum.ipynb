{
 "cells": [
  {
   "cell_type": "markdown",
   "metadata": {},
   "source": [
    "# Python: Aufgaben zur Vorbereitung\n",
    "\n",
    "* Autor: Prof. Dr. Johannes Maucher\n",
    "* Datum: 13.10.2015\n",
    "\n",
    "[Übersicht Jupyter Notebooks im Data Mining Praktikum](Data Mining Praktikum.html)\n",
    "\n",
    "\n",
    "## Listen\n",
    "**Aufgaben:**\n",
    "1. Legen Sie zwei Listen gleicher Länge mit numerischen Datenelementen an.\n",
    "2. Hängen Sie an die erste Liste die Elemente der zweiten Liste an.\n",
    "3. Suchen Sie in der neuen Liste nach einem Element mit einem bestimmten Wert und bestimmen Sie an welcher Position das Element in der Liste auftritt. Wie kann der Fall, dass der vorgegebene Wert nicht in der Liste ist, abgefangen werden?\n",
    "4. Löschen Sie die Elemente von der zweiten bis zur vierten Stelle aus der Liste (Elemente an den Indizes 1,2 und 3)\n",
    "4. Fügen Sie die Elemente 4,2 und 1 an der Stelle 2 fortfolgend ein (so dass Liste erweitert wird)\n",
    "5. Sortieren Sie die Liste nach absteigenden Werten.\n",
    "6. Berechnen Sie die elementweise Summe zweier numerischer Listen gleicher Länge mithilfe einer _List-Comprehension_."
   ]
  },
  {
   "cell_type": "code",
   "execution_count": 1,
   "metadata": {},
   "outputs": [
    {
     "name": "stdout",
     "output_type": "stream",
     "text": [
      "[0, 1, 2, 3, 4, 5, 6, 7, 8, 9, 10]\n",
      "3\n",
      "[0, 4, 5, 6, 7, 8, 9, 10]\n",
      "[0, 4, 2, 1, 4, 5, 6, 7, 8, 9, 10]\n",
      "[0, 1, 2, 4, 4, 5, 6, 7, 8, 9, 10]\n",
      "[5, 7, 9, 11, 13]\n"
     ]
    }
   ],
   "source": [
    "#1\n",
    "list1 = list(range(0,5))\n",
    "list2 = list(range(5,11))\n",
    "\n",
    "#2\n",
    "list3 = list1 + list2\n",
    "print(list3)\n",
    "\n",
    "#3\n",
    "x = 3\n",
    "if x in list3: print(list3.index(x))\n",
    "\n",
    "#4\n",
    "del list3[1:4]\n",
    "print(list3)\n",
    "\n",
    "#5\n",
    "for num in reversed([4,2,1]): list3.insert(1,num)\n",
    "print(list3)\n",
    "\n",
    "#6\n",
    "list3.sort()\n",
    "print(list3)\n",
    "\n",
    "#7\n",
    "list4 = [(x+y) for x,y in zip(list1,list2)]\n",
    "print(list4)"
   ]
  },
  {
   "cell_type": "markdown",
   "metadata": {},
   "source": [
    "## Strings\n",
    "**Aufgaben:**\n",
    "\n",
    "1. Weisen Sie einen Text mit mindestens 10 Wörtern einer Stringvariablen _text1_ zu.\n",
    "2. Transformieren Sie _text1_ so, dass alle Wörter klein geschrieben sind.\n",
    "3. Aus wievielen Zeichen besteht der Text?\n",
    "4. Aus wievielen unterschiedlichen Zeichen besteht der Text?\n",
    "1. Zerlegen Sie den in der String-Variablen abgespeicherten Text in eine Liste _list1_ von Wörtern.\n",
    "2. Aus wievielen Wörtern besteht der Text?\n",
    "3. Aus wievielen unterschiedlichen Wörtern besteht der Text?\n",
    "1. Legen Sie analog zu _text1_ noch zwei weitere Stringvariablen _text2_ und _text3_ an, die ungefähr so viele Wörter enthalten wie _text1_.\n",
    "2. Wiederholen Sie die oben genannten Schritte für _text2_ und _text3_. Die zugehörigen Wortlisten sollten mit _liste2_ und _liste3_ bezeichnet werden.\n",
    "3. Bestimmen Sie jetzt das gesamte Vokabular. Das gesamte Vokabular ist die Menge aller Worte, die mindestens in einem der 3 Texte vorkommen. Die Wörter des Vokabulars sollen in einer Liste _vocabular_ gespeichert werden. Aus wievielen Wörtern besteht das Vokabular?"
   ]
  },
  {
   "cell_type": "code",
   "execution_count": 2,
   "metadata": {},
   "outputs": [
    {
     "name": "stdout",
     "output_type": "stream",
     "text": [
      "bestimmen sie jetzt das gesamte vokabular das gesamte wievielen wörtern besteht das vokabular\n",
      "text1 length: 93\n",
      "text1 buchstaben:  21\n",
      "{'u', 'w', 'd', 'n', 'ö', 'r', 'm', 's', 'g', 'z', 't', 'j', 'l', 'v', 'e', 'i', 'h', 'o', 'b', 'a', 'k'}\n",
      "wörter:  13\n",
      "{'sie', 'wörtern', 'bestimmen', 'besteht', 'vokabular', 'jetzt', 'wievielen', 'das', 'gesamte'}\n",
      "text2 length: 76\n",
      "text2 buchstaben:  21\n",
      "text3 length: 63\n",
      "text3 buchstaben:  22\n",
      "['besteht', 'bestimmen', 'das', 'des', 'die', 'einer', 'für', 'genannten', 'gesamte', 'gespeichert', 'in', 'jetzt', 'liste', 'oben', 'schritte', 'sie', 'sollen', 'text2', 'text3', 'und', 'vocabular', 'vokabular', 'vokabulars', 'werden', 'wiederholen', 'wievielen', 'wörter', 'wörtern']\n"
     ]
    }
   ],
   "source": [
    "#1\n",
    "text1 = \"Bestimmen Sie jetzt das gesamte Vokabular Das gesamte wievielen Wörtern besteht das Vokabular\"\n",
    "\n",
    "#2\n",
    "text1 = text1.lower()\n",
    "print(text1)\n",
    "\n",
    "#3\n",
    "print(\"text1 length:\",len(text1))\n",
    "\n",
    "#4 \n",
    "print(\"text1 buchstaben: \",len(set(text1.replace(' ', ''))))\n",
    "print(set(text1.replace(' ', '')))\n",
    "\n",
    "#5\n",
    "list1 = text1.split()\n",
    "\n",
    "#6\n",
    "print(\"wörter: \",len(text1.split()))\n",
    "\n",
    "#7\n",
    "words = text1.split()\n",
    "print(set(words))\n",
    "\n",
    "#8\n",
    "text2 = \"Die Wörter des Vokabulars sollen in einer Liste vocabular gespeichert werden\"\n",
    "text3 = \"Wiederholen Sie die oben genannten Schritte für text2 und text3\"\n",
    "\n",
    "text2 = text2.lower()\n",
    "text3 = text3.lower()\n",
    "\n",
    "#9\n",
    "list2 = text2.split()\n",
    "print(\"text2 length:\",len(text2))\n",
    "print(\"text2 buchstaben: \",len(set(text2)))\n",
    "list3 = text3.split()\n",
    "print(\"text3 length:\",len(text3))\n",
    "print(\"text3 buchstaben: \",len(set(text3)))\n",
    "\n",
    "#10 vocabular\n",
    "vocabular = sorted(list(set(list1+list2+list3)))\n",
    "print(vocabular)"
   ]
  },
  {
   "cell_type": "markdown",
   "metadata": {},
   "source": [
    "## Dictionaries\n",
    "**Aufgaben:**\n",
    "\n",
    "1. Legen Sie für jeden der 3 Texte je ein Dictionary an, das als Keys alle Wörter des gesamten Vokabulars enthält und als Values die Häufigkeit des Worts im jeweiligen Text.\n",
    "2. Legen Sie ein verschachteltes Dictionary an, dessen Keys Namen für die drei oben angelegten Texte sind und dessen Values die oben angelegten Dictionarys sind.\n",
    "3. Fragen Sie die Häufigkeit eines im Vokabular enthaltenen Worts in jedem der 3 Texte aus dem verschachtelten Dictionary ab."
   ]
  },
  {
   "cell_type": "code",
   "execution_count": 3,
   "metadata": {},
   "outputs": [
    {
     "name": "stdout",
     "output_type": "stream",
     "text": [
      "text1 frequency:  3\n",
      "text2 frequency:  0\n",
      "text3 frequency:  0\n",
      "overall frequency:  3\n"
     ]
    }
   ],
   "source": [
    "def listToDict(wordlist):\n",
    "    wordfreq = [wordlist.count(p) for p in wordlist]\n",
    "    return dict(zip(wordlist,wordfreq))\n",
    "           \n",
    "dict1 = listToDict(text1.split())\n",
    "dict2 = listToDict(text2.split())\n",
    "dict3 = listToDict(text3.split())\n",
    "\n",
    "dictComb = {'text1':dict1,'text2':dict2,'text3':dict3}\n",
    "\n",
    "keyword = 'das'\n",
    "freq = 0\n",
    "for k,v in dictComb.items():\n",
    "    if keyword in v: \n",
    "        freq += v[keyword]\n",
    "        print( k , 'frequency: ' , v[keyword])\n",
    "    else: print(k, 'frequency: ', 0)        \n",
    "print('overall frequency: ', freq)"
   ]
  },
  {
   "cell_type": "markdown",
   "metadata": {},
   "source": [
    "## Funktionen\n",
    "**Aufgaben:**\n",
    "1. Schreiben Sie eine Funktion, der eine Liste mit beliebig vielen Texten in Form von Stringvariablen übergeben wird. Aus dieser Liste soll ein verschachteltes Dictionary erzeugt und zurückgegeben werden, das als Keys Namen für die einzelnen Texte enthält und dessen Values Dictionaries sind, welche die Häufigkeit der Vokabularworte in den jeweiligen Texten enthalten (also das gleiche verschachtelte Dictionary, wie in der vorigen Aufgabe für 3 Texte angelegt wurde).\n",
    "2. Legen Sie eine Liste von Texten (Stringvariablen) an, übergeben Sie diese der oben implementierten Funktion und geben Sie das von der Funktion zurückgegebene verschachtelte Dictionary aus."
   ]
  },
  {
   "cell_type": "code",
   "execution_count": 4,
   "metadata": {},
   "outputs": [
    {
     "name": "stdout",
     "output_type": "stream",
     "text": [
      "{'testTitle 0': {'the': 4, 'quick': 7, 'brown': 2, 'fox': 6, 'jumps': 1, 'over': 2, 'a': 3, 'lazy': 2, 'dog': 1, 'djs': 1, 'flock': 1, 'by': 3, 'when': 1, 'mtv': 2, 'ax': 1, 'quiz': 6, 'prog': 1, 'junk': 2, 'graced': 1, 'whelps': 1, 'bawds': 1, 'jog': 1, 'flick': 1, 'quartz': 1, 'vex': 4, 'nymphs': 2, 'waltz': 2, 'bad': 3, 'nymph': 1, 'for': 2, 'jigs': 1, 'grab': 1, 'quick-jived': 1, 'brick': 1, 'whangs': 1, 'jumpy': 1, 'veldt': 1, 'bright': 1, 'vixens': 2, 'jump;': 1, 'dozy': 1, 'fowl': 1, 'quack': 3, 'wafting': 1, 'zephyrs': 3, 'bold': 1, 'jim': 2, 'blow': 1, 'vexing': 1, 'daft': 2, 'sex-charged': 1, 'fop': 1, 'blew': 1, 'my': 6, 'tv': 1, 'how': 1, 'quickly': 1, 'jumping': 1, 'zebras': 1, 'two': 1, 'driven': 1, 'jocks': 1, 'help': 1, 'fax': 2, 'big': 1, 'baz': 1, 'get': 1, 'woven': 1, 'flax': 1, 'jodhpurs': 1, 'now': 1, 'jack': 1, 'brave': 1, 'ghost': 1, 'pled': 1, 'five': 1, 'quacking': 1, 'jolt': 1, 'wax': 1, 'bed': 1, 'flummoxed': 1, 'job': 1, 'kvetching': 1, 'w': 1, 'zaps': 1, 'iraq': 1, 'cozy': 1, 'sphinx': 1, 'waves': 1, 'quart': 1, 'jug': 1, 'of': 1, 'milk': 1, 'very': 1, 'might': 1, 'jinx': 1, 'zippy': 1, 'fowls': 1, 'few': 1, 'quips': 1, 'galvanized': 1, 'mock': 1, 'jury': 1, 'box': 1, 'dogs': 1, 'jump': 2, 'jay': 1, 'pig': 1, 'zebra': 1, 'and': 1, 'wolves': 1, 'blowzy': 1, 'red': 1, 'fight': 1}, 'testTitle 1': {'joaquin': 1, 'phoenix': 1, 'was': 1, 'gazed': 1, 'by': 1, 'mtv': 1, 'for': 2, 'luck': 1, 'a': 4, 'wizard’s': 1, 'job': 1, 'is': 1, 'to': 3, 'vex': 2, 'chumps': 1, 'quickly': 2, 'in': 2, 'fog': 1, 'watch': 1, 'jeopardy': 1, 'alex': 1, \"trebek's\": 1, 'fun': 1, 'tv': 2, 'quiz': 5, 'game': 1, 'woven': 1, 'silk': 1, 'pyjamas': 1, 'exchanged': 1, 'blue': 1, 'quartz': 1, 'brawny': 1, 'gods': 1, 'just': 1, 'flocked': 1, 'up': 1, 'and': 3, 'him': 1, 'adjusting': 1, 'quiver': 1, 'bow': 1, 'zompyc[1]': 1, 'killed': 1, 'the': 3, 'fox': 1, 'my': 2, 'faxed': 1, 'joke': 1, 'won': 1, 'pager': 1, 'cable': 1, 'show': 1, 'amazingly': 1, 'few': 1, 'discotheques': 1, 'provide': 1, 'jukeboxes': 1, 'girl': 1, 'wove': 1, 'six': 3, 'dozen': 1, 'plaid': 1, 'jackets': 1, 'before': 1, 'she': 1, 'quit': 1, 'big': 2, 'devils': 1, 'from': 1, 'japan': 1, 'forgot': 1, 'how': 1, 'waltz': 1, 'july': 1, 'earthquakes': 1, 'confound': 1, 'zany': 1, 'experimental': 1, 'vow': 1, 'foxy': 1, 'parsons': 1, 'cajole': 1, 'lovably': 1, 'dim': 1, 'wiki-girl': 1, 'have': 1, 'pick:': 1, 'twenty': 1, 'letters': 1, '-': 1, 'no': 1, 'forcing': 1, 'jumbled': 1, 'crazy': 1, 'fredericka': 1, 'bought': 1, 'many': 1, 'very': 1, 'exquisite': 1, 'opal': 1, 'jewels': 1}, 'testTitle 2': {'sixty': 1, 'zippers': 1, 'were': 1, 'quickly': 1, 'picked': 1, 'from': 1, 'the': 4, 'woven': 1, 'jute': 1, 'bag': 1, 'a': 2, 'quick': 5, 'movement': 1, 'of': 2, 'enemy': 1, 'will': 1, 'jeopardize': 1, 'six': 1, 'gunboats': 1, 'all': 1, 'questions': 1, 'asked': 1, 'by': 3, 'five': 1, 'watch': 1, 'experts': 1, 'amazed': 1, 'judge': 1, 'jack': 1, 'quietly': 1, 'moved': 1, 'up': 1, 'front': 1, 'and': 1, 'seized': 1, 'big': 1, 'ball': 1, 'waxthe': 1, 'brown': 1, 'fox': 4, 'jumps': 1, 'over': 1, 'lazy': 1, 'dog': 1, 'djs': 1, 'flock': 1, 'when': 1, 'mtv': 2, 'ax': 1, 'quiz': 3, 'prog': 1, 'junk': 1, 'graced': 1, 'whelps': 1, 'bawds': 1, 'jog': 1, 'flick': 1, 'quartz': 1, 'vex': 3, 'nymphs': 2, 'waltz': 2, 'bad': 1, 'nymph': 1, 'for': 1, 'jigs': 1, 'grab': 1, 'quick-jived': 1, 'brick': 1, 'whangs': 1, 'jumpy': 1, 'veldt': 1, 'bright': 1, 'vixens': 1, 'jump;': 1, 'dozy': 1, 'fowl': 1, 'quack': 1, 'wafting': 1, 'zephyrs': 2, 'bold': 1, 'jim': 2, 'blow': 1, 'vexing': 1, 'daft': 1, 'sex-charged': 1, 'fop': 1, 'blew': 1, 'my': 1}, 'testTitle 3': {'the': 4}}\n"
     ]
    }
   ],
   "source": [
    "def listToDict(wordlist):\n",
    "    wordfreq = [wordlist.count(p) for p in wordlist]\n",
    "    return dict(zip(wordlist,wordfreq))\n",
    "\n",
    "def cleanWordList(text):\n",
    "    words = text.lower().replace('.' ,'').replace('!' ,'').replace(')' ,'').replace('(' ,'').replace('?' ,'').replace(',' ,'').split()\n",
    "    return words\n",
    "\n",
    "def textsToDict(listOfTexts):\n",
    "    dictOfDicts = {}\n",
    "    count = 0\n",
    "    for text in listOfTexts:  \n",
    "        dictOfDicts['testTitle ' + str(count)] = listToDict(cleanWordList(text))\n",
    "        count += 1\n",
    "    return dictOfDicts\n",
    "\n",
    "text1 = \"The quick, brown fox jumps over a lazy dog. DJs flock by when MTV ax quiz prog. Junk MTV quiz graced by fox whelps. Bawds jog, flick quartz, vex nymphs. Waltz, bad nymph, for quick jigs vex! Fox nymphs grab quick-jived waltz. Brick quiz whangs jumpy veldt fox. Bright vixens jump; dozy fowl quack. Quick wafting zephyrs vex bold Jim. Quick zephyrs blow, vexing daft Jim. Sex-charged fop blew my junk TV quiz. How quickly daft jumping zebras vex. Two driven jocks help fax my big quiz. Quick, Baz, get my woven flax jodhpurs! Now fax quiz Jack! my brave ghost pled. Five quacking zephyrs jolt my wax bed. Flummoxed by job, kvetching W. zaps Iraq. Cozy sphinx waves quart jug of bad milk. A very bad quack might jinx zippy fowls. Few quips galvanized the mock jury box. Quick brown dogs jump over the lazy fox. The jay, pig, fox, zebra, and my wolves quack! Blowzy red vixens fight for a quick jump. \"\n",
    "text2 = \"Joaquin Phoenix was gazed by MTV for luck. A wizard’s job is to vex chumps quickly in fog. Watch Jeopardy!, Alex Trebek's fun TV quiz game. Woven silk pyjamas exchanged for blue quartz. Brawny gods just flocked up to quiz and vex him. Adjusting quiver and bow, Zompyc[1] killed the fox. My faxed joke won a pager in the cable TV quiz show. Amazingly few discotheques provide jukeboxes. My girl wove six dozen plaid jackets before she quit. Six big devils from Japan quickly forgot how to waltz. Big July earthquakes confound zany experimental vow. Foxy parsons quiz and cajole the lovably dim wiki-girl. Have a pick: twenty six letters - no forcing a jumbled quiz! Crazy Fredericka bought many very exquisite opal jewels. \"\n",
    "text3 = \"Sixty zippers were quickly picked from the woven jute bag. A quick movement of the enemy will jeopardize six gunboats. All questions asked by five watch experts amazed the judge. Jack quietly moved up front and seized the big ball of wax.The quick, brown fox jumps over a lazy dog. DJs flock by when MTV ax quiz prog. Junk MTV quiz graced by fox whelps. Bawds jog, flick quartz, vex nymphs. Waltz, bad nymph, for quick jigs vex! Fox nymphs grab quick-jived waltz. Brick quiz whangs jumpy veldt fox. Bright vixens jump; dozy fowl quack. Quick wafting zephyrs vex bold Jim. Quick zephyrs blow, vexing daft Jim. Sex-charged fop blew my\"\n",
    "text4 = \"the the the the\"\n",
    "\n",
    "print(textsToDict([text1,text2,text3,text4]))"
   ]
  },
  {
   "cell_type": "markdown",
   "metadata": {},
   "source": [
    "# Numpy: Aufgaben zur Vorbereitung\n",
    "\n",
    "[Numpy Intro Jupyter Notebook (.ipynb)](NP01numpyBasics.ipynb)\n",
    "\n",
    "1. Wie wird ein eindimensionales, wie ein zweidimensionales Numpy Array angelegt?\n",
    "2. Wie bestimmt man die Größe (Anzahl Zeilen und Anzahl Spalten) eines zweidimensionalen Numpy Arrays?\n",
    "3. Wie werden die Mittelwerte der Spalten eines Numpy Arrays ermittelt, wie werden die Standardabweichungen der Spalten eines Numpy Arrays berechnet?\n",
    "4. Wie können die Daten aus einem .csv File direkt in ein Numpy-Array eingelesen werden?\n",
    "5. Wie kann ein Numpy Array effizient in einem File abgespeichert werden? Wie können diese Daten aus dem File wieder in ein Numpy Array gelesen werden?\n",
    "6. Wie kann auf das Element in Zeile 1, Spalte 2 eines Numpy Arrays zugegriffen werden?\n",
    "7. Wie kann auf die zweite Zeile eines Numpy-Arrays zugegriffen werden?\n",
    "8. Wie kann auf die Spalten 2 bis 4 eines Numpy-Arrays zugegriffen werden?\n",
    "8. Wie kann das Skalarprodukt zweier eindimensionaler Numpy-Arrays bestimmt werden? \n",
    "9. Wie kann ein zweidimensionales Numpy-Array mit einem anderen zweidimensionales Numpy-Array multipliziert werden (im Sinne einer Matrixmultiplikation)? \n",
    "10. Wie kann ein eindimensionales Numpy Array mit einem zweidimensionalen Numpy Array multipliziert werden?\n",
    "11. Wie können Zeilen oder Spalten eines Numpy Arrays hinsichtlich ihrer Werte ansteigend oder absteigend sortiert werden?"
   ]
  },
  {
   "cell_type": "code",
   "execution_count": 5,
   "metadata": {},
   "outputs": [
    {
     "name": "stdout",
     "output_type": "stream",
     "text": [
      "[2 3 4]\n",
      "oneDim size: 3\n",
      "twoDim size: 6\n",
      "Standartabweichung 0.816496580928\n",
      "Mittelwert 3.0\n",
      "[[  4.58834865e+01   1.26240000e+02   1.40540000e+02 ...,   4.63127000e+03\n",
      "    5.14658000e+03   9.00000000e-01]\n",
      " [  4.31530495e+01   1.58440000e+02   1.68140000e+02 ...,   9.09260000e+03\n",
      "    6.84949000e+03   1.33000000e+00]\n",
      " [  4.57031428e+01   1.59000000e+02   1.82460000e+02 ...,   5.33819000e+03\n",
      "    8.87982000e+03   6.00000000e-01]\n",
      " ..., \n",
      " [  4.25713069e+01   1.21850000e+02   1.35700000e+02 ...,   1.56839000e+03\n",
      "    4.16595000e+03   3.80000000e-01]\n",
      " [  5.19426553e+01   7.34500000e+01   7.43100000e+01 ...,   1.46346000e+03\n",
      "    1.13188000e+03   1.29000000e+00]\n",
      " [  5.37942906e+01   7.89900000e+01   1.49330000e+02 ...,   5.94521000e+03\n",
      "    1.51927000e+03   3.91000000e+00]]\n"
     ]
    }
   ],
   "source": [
    "import numpy as np\n",
    "\n",
    "#1\n",
    "\n",
    "oneDim = np.array([2,3,4])\n",
    "twoDim = np.array([[2,3,4],[2,3,4]])\n",
    "print(oneDim)\n",
    "\n",
    "#2\n",
    "print('oneDim size:',oneDim.size)\n",
    "print('twoDim size:', twoDim.size)\n",
    "\n",
    "#3\n",
    "print('Standartabweichung', np.std(twoDim))\n",
    "print('Mittelwert', np.average(twoDim))\n",
    "\n",
    "#4\n",
    "csv = np.loadtxt('spikeeHRV.csv', delimiter=';', skiprows=1 ,usecols=range(4,14))\n",
    "print(csv)\n",
    "\n",
    "#5\n"
   ]
  },
  {
   "cell_type": "markdown",
   "metadata": {},
   "source": [
    "# Scipy: Aufgaben zur Vorbereitung\n",
    "\n",
    "[SciPy Intro IPython Notebook](http://nbviewer.ipython.org/github/jrjohansson/scientific-python-lectures/blob/master/Lecture-3-Scipy.ipynb)\n",
    "\n",
    "Machen Sie sich mit den Funktionen des Moduls [Scipy.spatial.distance](http://docs.scipy.org/doc/scipy-0.14.0/reference/spatial.distance.html#module-scipy.spatial.distance) vertraut.\n",
    "\n",
    "1. Wie wird die paarweise euklidische Distanz zwischen den Zeilen eines Numpy Array berechnet?\n",
    "\n",
    "Machen Sie sich mit den Funktionen des Moduls [Scipy.cluster.hierarchy](http://docs.scipy.org/doc/scipy/reference/cluster.hierarchy.html) vertraut.\n",
    "\n",
    "1. Wie wird mit diesem Modul ein hierarchisches Clustering von Vektoren berechnet und visualisiert?\n",
    "2. Welche Bedeutung haben die Parameter _method_ und _metric_ der Funktion _linkage_?  \n",
    "\n",
    "# Matplotlib: Aufgaben zur Vorbereitung\n",
    "\n",
    "[Matplotlib Intro Jupyter Notebook (.ipynb)](PLT01visualization.ipynb)\n",
    "\n",
    "1. Machen Sie sich anhand des oben verlinkten Notebooks mit den grundlegenden Plotting Funktionen dieses Pakets vertraut.\n",
    "\n",
    "\n",
    "\n",
    "# Pandas: Aufgaben zur Vorbereitung\n",
    "\n",
    "[Pandas Intro Jupyter Notebook (.ipynb)](PD01Pandas.ipynb)\n",
    "\n",
    "1. Was ist der Vorteil eines Pandas Dataframe gegenüber einem Numpy Array?\n",
    "2. Wie legt man eine Pandas Dataframe an?\n",
    "3. Wie liest man eine .csv Datei in einen Pandas Dataframe?\n",
    "4. Wie schreibt man einen Pandas Dataframe in eine .csv Datei?\n",
    "4. Wie greift man auf den Index eines Pandas Dataframes zu?\n",
    "4. Wie greift man auf die Spaltennamen eines Dataframes zu?\n",
    "5. Wie greift man auf eine Spalte eines Dataframes zu?\n",
    "6. Wie greift man auf eine Zeile eines Dataframes zu?"
   ]
  },
  {
   "cell_type": "code",
   "execution_count": null,
   "metadata": {
    "collapsed": true
   },
   "outputs": [],
   "source": []
  }
 ],
 "metadata": {
  "kernel_info": {
   "name": "python3"
  },
  "kernelspec": {
   "display_name": "Python 3",
   "language": "python",
   "name": "python3"
  },
  "language_info": {
   "codemirror_mode": {
    "name": "ipython",
    "version": 3
   },
   "file_extension": ".py",
   "mimetype": "text/x-python",
   "name": "python",
   "nbconvert_exporter": "python",
   "pygments_lexer": "ipython3",
   "version": "3.6.1"
  },
  "nav_menu": {},
  "nteract": {
   "version": "0.3.4"
  },
  "toc": {
   "navigate_menu": true,
   "number_sections": true,
   "sideBar": true,
   "threshold": 6,
   "toc_cell": false,
   "toc_section_display": "block",
   "toc_window_display": false
  }
 },
 "nbformat": 4,
 "nbformat_minor": 1
}
