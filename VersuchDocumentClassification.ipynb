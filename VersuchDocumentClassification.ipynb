{
 "cells": [
  {
   "cell_type": "markdown",
   "metadata": {
    "nbpresent": {
     "id": "b00b4569-84be-4c75-9d31-ead5d5ffca69"
    }
   },
   "source": [
    "# Data Mining Versuch Document Classification\n",
    "* Autor: Prof. Dr. Johannes Maucher\n",
    "* Datum: 06.11.2015\n",
    "\n",
    "[Übersicht Ipython Notebooks im Data Mining Praktikum](Data Mining Praktikum.ipynb)\n",
    "\n",
    "# Einführung\n",
    "## Lernziele:\n",
    "In diesem Versuch sollen Kenntnisse in folgenden Themen vermittelt werden:\n",
    "\n",
    "* Dokumentklassifikation: Klassifikation von Dokumenten, insbesondere Emails und RSS Feed\n",
    "* Naive Bayes Classifier: Weit verbreitete Klassifikationsmethode, welche unter bestimmten Randbedingungen sehr gut skaliert.\n",
    "\n",
    "\n",
    "## Theorie zur Vorbereitung\n",
    "### Parametrische Klassifikation und Naive Bayes Methode\n",
    "Klassifikatoren müssen zu einer gegebenen Eingabe $\\underline{x}$ die zugehörige Klasse $C_i$ bestimmen. Mithilfe der Wahrscheinlichkeitstheorie kann diese Aufgabe wie folgt beschrieben werden: Bestimme für alle möglichen Klassen $C_i$ die bedingte Wahrscheinlichkeit $P(C_i | \\underline{x})$, also die Wahrscheinlichkeit, dass die gegebene Eingabe $\\underline{x}$ in Klasse $C_i$ fällt. Wähle dann die Klasse aus, für welche diese Wahrscheinlichkeit maximal ist.\n",
    "\n",
    "Die Entscheidungsregeln von Klassifikatoren können mit Methoden des \"\"überwachten Lernens\"\" aus Trainingsdaten ermittelt werden. Im Fall des **parametrischen Lernens** kann aus den Trainingsdaten die sogenannte **Likelihood-Funktion** $p(\\underline{x} \\mid C_i)$ bestimmt werden. _Anmerkung:_ Allgemein werden mit $p(...)$ kontinuierliche Wahrscheinlichkeitsfunktionen und mit $P(...)$ diskrete Wahrscheinlichkeitswerte bezeichnet. \n",
    "\n",
    "Mithilfe der **Bayes-Formel**\n",
    "$$\n",
    "P(C_i \\mid \\underline{x}) = \\frac{p(\\underline{x} \\mid C_i) \\cdot P(C_i)}{p(\\underline{x})}\n",
    "$$\n",
    "\n",
    "kann aus der Likelihood die **a-posteriori-Wahrscheinlichkeit $P(C_i \\mid \\underline{x})$** berechnet werden. Darin wird $P(C_i)$ die **a-priori-Wahrscheinlichkeit** und $p(\\underline{x})$ die **Evidenz** genannt. Die a-priori-Wahrscheinlichkeit kann ebenfalls aus den Trainingsdaten ermittelt werden. Die Evidenz ist für die Klassifikationsentscheidung nicht relevant, da sie für alle Klassen $C_i$ gleich groß ist.\n",
    "\n",
    "Die Berechnung der Likelihood-Funktion $p(\\underline{x} \\mid C_i)$ ist dann sehr aufwendig, wenn $\\underline{x}=(x_1,x_2,\\ldots,x_Z)$ ein Vektor von voneinander abhängigen Variablen $x_i$ ist. Bei der **Naive Bayes Classification** wird jedoch von der vereinfachenden Annahme ausgegangen, dass die Eingabevariabeln $x_i$ voneinander unabhängig sind. Dann vereinfacht sich die bedingte Verbundwahrscheinlichkeits-Funktion $p(x_1,x_2,\\ldots,x_Z \\mid C_i)$ zu:\n",
    "\n",
    "$$\n",
    "p(x_1,x_2,\\ldots,x_Z \\mid C_i)=\\prod\\limits_{j=1}^Z p(x_j | C_i)\n",
    "$$\n",
    "\n",
    "### Anwendung der Naive Bayes Methode in der Dokumentklassifikation\n",
    "Auf der rechten Seite der vorigen Gleichung stehen nur noch von den jeweils anderen Variablen unabhängige bedingte Wahrscheinlichkeiten. Im Fall der Dokumentklassifikation sind die einzelnen Worte die Variablen, d.h. ein Ausdruck der Form $P(x_j | C_i)$ gibt an mit welcher Wahrscheinlichkeit ein Wort $x_j=w$ in einem Dokument der Klasse $C_i$ vorkommt. \n",
    "Die Menge aller Variablen $\\left\\{x_1,x_2,\\ldots,x_Z \\right\\}$ ist dann die Menge aller Wörter im Dokument. Damit gibt die linke Seite in der oben gegebenen Gleichung die _Wahrscheinlichkeit, dass die Wörter $\\left\\{x_1,x_2,\\ldots,x_Z \\right\\}$ in einem Dokument der Klasse $C_i$ vorkommen_ an.\n",
    "\n",
    "Für jedes Wort _w_ wird aus den Trainingsdaten die Wahrscheinlichkeit $P(w|G)$, mit der das Wort in Dokumenten der Kategorie _Good_ und die Wahrscheinlichkeit $P(w|B)$ mit der das Wort in Dokumenten der Kategorie _Bad_ auftaucht ermittelt. Trainingsdokumente werden in der Form\n",
    "\n",
    "$$\n",
    "tD=(String,Category)\n",
    "$$\n",
    "eingegeben. \n",
    "\n",
    "Wenn \n",
    "\n",
    "* mit der Variable $fc(w,cat)$ die Anzahl der Trainingsdokumente in Kategorie $cat$ in denen das Wort $w$ enthalten ist\n",
    "* mit der Variable $cc(cat)$ die Anzahl der Trainingsdokumente in Kategorie $cat$ \n",
    "\n",
    "gezählt wird, dann ist \n",
    "\n",
    "$$\n",
    "P(w|G)=\\frac{fc(w,G)}{cc(G)} \\quad \\quad P(w|B)=\\frac{fc(w,B)}{cc(B)}.\n",
    "$$\n",
    "\n",
    "Wird nun nach der Eingabe von $L$ Trainingsdokumenten ein neu zu klassifizierendes Dokument $D$ eingegeben und sei $W(D)$ die Menge aller Wörter in $D$, dann berechnen sich unter der Annahme, dass die Worte in $W(D)$ voneinander unabhängig sind (naive Bayes Annahme) die a-posteriori Wahrscheinlichkeiten zu:\n",
    "\n",
    "$$\n",
    "P(G|D)=\\frac{\\left( \\prod\\limits_{w \\in W(D)} P(w | G) \\right) \\cdot P(G)}{p(D)}\n",
    "$$\n",
    "und\n",
    "$$\n",
    "P(B|D)=\\frac{\\left( \\prod\\limits_{w \\in W(D)} P(w | B) \\right) \\cdot P(B)}{p(D)}.\n",
    "$$\n",
    "\n",
    "Die hierfür notwendigen a-priori-Wahrscheinlichkeiten berechnen sich zu \n",
    "\n",
    "$$\n",
    "P(G)=\\frac{cc(G)}{L}\n",
    "$$\n",
    "und\n",
    "$$\n",
    "P(B)=\\frac{cc(B)}{L}\n",
    "$$\n",
    "\n",
    "Die Evidenz $p(D)$ beeinflusst die Entscheidung nicht und kann deshalb ignoriert werden.\n",
    "\n",
    "\n",
    "## Vor dem Versuch zu klärende Fragen\n",
    "\n",
    "\n",
    "1. Wie wird ein Naive Bayes Classifier trainiert? Was muss beim Training für die spätere Klassifikation abgespeichert werden?\n",
    "2. Wie teilt ein Naiver Bayes Classifier ein neues Dokument ein?\n",
    "3. Welche naive Annahme liegt dem Bayes Classifier zugrunde? Ist diese Annahme im Fall der Dokumentklassifikation tatsächlich gegeben?\n",
    "4. Betrachten Sie die Formeln für die Berechnung von $P(G|D)$ und $P(B|D)$. Welches Problem stellt sich ein, wenn in der Menge $W(D)$ ein Wort vorkommt, das nicht in den Trainingsdaten der Kategorie $G$ vorkommt und ein anderes Wort aus $W(D)$ nicht in den Trainingsdaten der Kategorie $B$ enthalten ist? Wie könnte dieses Problem gelöst werden? \n",
    "\n"
   ]
  },
  {
   "cell_type": "markdown",
   "metadata": {
    "collapsed": true,
    "nbpresent": {
     "id": "baed8dfd-c584-4871-a258-f0a861abfc17"
    }
   },
   "source": [
    "#### 1 Wie wird Bayes trainiert?\n",
    "Der Bayes Classifier wird mit Hilfe von Trainingstexten trainiert. Ein Trainingstext ist ein Text dessen Klasse bereits bekannt ist. Von jedem Text wird dann die Häufigkeit der einzelnen Wörter gezählt und nach Klassen abgespeichert.\n",
    "\n",
    "#### 2 Wie wird ein Dokument eingeteilt?\n",
    "1. Das Dokument wird in eine Liste umgewandelt. Die enthaltenen Wörter werden in eine Liste gespeichert.\n",
    "1. Danach wird für jedes einzelne Wort die Wahrscheinlichkeit der Wörter in der einzelnen Klasse berechnet.\n",
    "1. Anschließend werden all diese Wahrscheinlichkeiten, pro Klasse, miteinander multipliziert.\n",
    "1. Nun wird geschaut welche der einzelnen Kategorien, die höchste Trefferquote hat. (Wahrscheinlichkeit)\n",
    "1. Anschließend bekommt der ankommende Text die Klassifikation mit der höchsten Wahrscheinlichkeit.\n",
    "\n",
    "#### 3 Annahme beim naiven Bayes?\n",
    "Beim naiven Bayes wird davon ausgegangen das alle Wörter in einem Text unabhängig voneinander sind. \n",
    "##### 3.1 Naive\n",
    "Das heißt es wird nur die Wahrscheinlichkeit des Vorkommens *eines* Wortes unter der Bedingung einer bestimmten Klassifikation berechnet. \n",
    "###### 3.2 Bayes (Nicht naiv)\n",
    "Beim nicht naiven Bayes würde die Wahrscheinlichkeit des Vorkommens *aller* Wörter im zu untersuchenden Text unter Annahme einer Klassifikation berechnet. Da alle Wörter in der Zielmenge (Klasse) vorkommen die auch im zu klassifizierenden Text vorkommen, ist jedoch sehr unwahrscheinlich und daher für Texte nicht brauchbar. Zusätzlich würde die Berechnungszeit bei diesem Ansatz erheblich.\n",
    "##### 3.3 abhängig oder unabhänging?\n",
    "Die Annahme das die Wörter in einem Text unabhängig voneinander sind ist, schlichtweg falsch. Da jedoch der klassische Bayes nicht auf dieses Problem anwendbar ist und der naive Bayes zusätzlich ein sehr gutes, schnelles Ergebnis liefert, wird er trotzdem angewendet. Mathematisch ist diese Annahme jedoch nicht vertretbar.\n",
    "\n",
    "#### 4 Das Problem wenn das Wort nicht in den Trainingsdaten Vorhanden ist\n",
    "Die Wahrscheinlichkeit ob ein Wort zu einer Klasse gehört wird folgendermaßen berechnet:\n",
    "$$\n",
    "P(Klassifikation|Wort) = \\frac{Worthäufigkeit In Klassifikation} {Worthäufigkeit Über Alle Klassifikationen}\n",
    "$$\n",
    "\n",
    "Dies wird nun für alle Wörter im zu klassifizierenden Text gemacht. Die Ergebnisse der einzelne Zahlen werden dann wieder miteinander multipliziert.\n",
    "*Beispiel:* Eingabetext: {\"Hallo\", \"Du\"} Klasse: Egoistisch [(Hallo, 5), (Du,0)]\n",
    "$$\n",
    "P(Du|Egoistisch) = \\frac{0}{20} = 0\n",
    "$$\n",
    "\n",
    "$$\n",
    "P(Hallo|Egoistisch) = \\frac{10}{50} = \\frac{1}{5}\n",
    "$$\n",
    "\n",
    "$$\n",
    "P(Hallo Du|Egoistisch) = \\frac{1}{5} * 0 = 0\n",
    "$$\n",
    "\n",
    "Ist also ein Wort im Eingabetext vorhanden, jedoch nicht in der Klasse ist deren Wahrscheinlichkeit 0. Diese wird anschließend mit den anderen Wahrscheinlichkeiten multipliziert. Was dazu führt dass, die Wahrscheinlichkeit '0' wird, egal wie gut der Rest des Eingabetextes auf die Klassifikation passt.\n",
    "\n",
    "*Lösung:*\n",
    "Eine Möglichkeit ist es einfach alle 0-Wahrscheinlichkeiten durch die sogenannte Pass-Wahrscheinlichkeit zu ersetzten:\n",
    "\n",
    "\n",
    "P<sub>ass,i</sub> = $ \\frac{1}{K} $ , mit [K]: Anzahl der Klassen.\n",
    "\n",
    "Somit wird eine Wahrscheinlichkeit eingesetzt, die in etwa der mittleren Wahrscheinlichkeit entspricht. Das hat zu Folge dass, das Ergebnis nur minimal verfälscht wird."
   ]
  },
  {
   "cell_type": "markdown",
   "metadata": {
    "nbpresent": {
     "id": "0a94bfd3-3c8d-4915-83f1-4ba8e1e0d870"
    }
   },
   "source": [
    "# Durchführung\n",
    "## Feature Extraction/ -Selection\n",
    "\n",
    "**Aufgabe:**\n",
    "Implementieren Sie eine Funktion _getwords(doc)_, der ein beliebiges Dokument in Form einer String-Variablen übergeben wird. In der Funktion soll der String in seine Wörter zerlegt und jedes Wort in _lowercase_ transformiert werden. Wörter, die weniger als eine untere Grenze von Zeichen (z.B. 3) oder mehr als eine obere Grenze von Zeichen (z.B. 20) enthalten, sollen ignoriert werden. Die Funktion soll ein dictionary zurückgeben, dessen _Keys_ die Wörter sind. Die _Values_ sollen für jedes Wort zunächst auf $1$ gesetzt werden.\n",
    "\n",
    "**Tipp:** Benutzen Sie für die Zerlegung des Strings und für die Darstellung aller Wörter mit ausschließlich kleinen Buchstaben die Funktionen _split(), strip('sep')_ und _lower()_ der Klasse _String_.  \n"
   ]
  },
  {
   "cell_type": "code",
   "execution_count": 1,
   "metadata": {
    "nbpresent": {
     "id": "443fe8d1-3bc6-4bc0-8deb-a7e90452e533"
    }
   },
   "outputs": [],
   "source": [
    "import pandas as pd \n",
    "import numpy as np\n",
    "import matplotlib\n",
    "from collections import defaultdict\n",
    "from operator import mul"
   ]
  },
  {
   "cell_type": "code",
   "execution_count": 2,
   "metadata": {
    "nbpresent": {
     "id": "02df79c5-1a3e-455a-bc71-f76761aacbe7"
    }
   },
   "outputs": [
    {
     "data": {
      "text/plain": [
       "{'hallo': 1, 'test': 1}"
      ]
     },
     "execution_count": 2,
     "metadata": {},
     "output_type": "execute_result"
    }
   ],
   "source": [
    "def getwords(doc):\n",
    "    \"create lowercase word dict with keys between len(range(4,20))\"\n",
    "    word_dict = {}    \n",
    "    word_dict = {x.lower() : 1 for x in doc.split() if len(x) in range(4,20)}\n",
    "    return word_dict\n",
    "\n",
    "getwords(\"Hallo Hallo das ist ein Test\")"
   ]
  },
  {
   "cell_type": "markdown",
   "metadata": {
    "collapsed": true,
    "nbpresent": {
     "id": "f5945c58-48cf-47be-81eb-4688d139ac13"
    }
   },
   "source": [
    "## Classifier\n",
    "\n",
    "**Aufgabe:**\n",
    "Implementieren Sie den Naive Bayes Classifier für die Dokumentklassifikation. Es bietet sich an die Funktionalität des Klassifikators und das vom Klassifikator gelernte Wissen in einer Instanz einer Klasse _Classifier_ zu kapseln. In diesem Fall kann wie folgt vorgegangen werden:\n",
    "\n",
    "* Im Konstruktor der Klasse wird je ein Dictionary für die Instanzvariablen _fc_ und _cc_ (siehe oben) initialisiert. Dabei ist _fc_ ein verschachteltes Dictionary. Seine Keys sind die bisher gelernten Worte, die Values sind wiederum Dictionaries, deren Keys die Kategorien _Good_ und _Bad_ sind und deren Values zählen wie häufig das Wort bisher in Dokumenten der jeweiligen Kategorie auftrat. Das Dictionary _cc_ hat als Keys die Kategorien _Good_ und _Bad_. Die Values zählen wie häufig Dokumente der jeweiligen Kategorien bisher auftraten.\n",
    "* Im Konstruktor wird ferner der Instanzvariablen _getfeatures_ die Funktion _getwords()_ übergeben. Die Funktion _getwords()_ wurde bereits zuvor ausserhalb der Klasse definiert. Sinn dieses Vorgehens ist, dass andere Varianten um Merkmale aus Dokumenten zu extrahieren denkbar sind. Diese Varianten könnten dann ähnlich wie die _getwords()_-Funktion ausserhalb der Klasse definiert und beim Anlegen eines _Classifier_-Objekts der Instanzvariablen _getfeatures_ übergeben werden.  \n",
    "* Der Methode _incf(self,f,cat)_ wird ein Wort _f_ und die zugehörige Kategorie _cat_ des Dokuments in welchem es auftrat übergeben. In der Methode wird der _fc_-Zähler angepasst.\n",
    "* Der Methode _incc(self,cat)_ wird die Kategorie _cat_ des gerade eingelesenen Dokuments übergeben. In der Methode wird der _cc_-Zähler angepasst.\n",
    "* Die Methode _fcount(self,f,cat)_ gibt die Häufigkeit des Worts _f_ in den Dokumenten der Kategorie _cat_ zurück.\n",
    "* Die Methode _catcount(self,cat)_ gibt die Anzahl der Dokumente in der Kategorie _cat_ zurück.\n",
    "* Die Methode _totalcount(self)_ gibt die Anzahl aller Dokumente zurück.\n",
    "* Der Methode _train(self,item,cat)_ wird ein neues Trainingselement, bestehend aus der Betreffzeile (_item_) und der entsprechenden Kategorisierung (_cat_) übergeben. Der String _item_ wird mit der Instanzmethode _getfeatures_ (Diese referenziert _getwords()_) in Worte zerlegt. Für jedes einzelne Wort wird dann _incf(self,f,cat)_ aufgerufen. Ausserdem wird für das neue Trainingsdokument die Methode _incc(self,cat)_ aufgerufen.\n",
    "* Die Methode _fprob(self,f,cat)_ berechnet die bedingte Wahrscheinlichkeit $P(f | cat)$ des Wortes _f_ in der Kategorie _cat_ entsprechend der oben angegebenen Formeln, indem sie den aktuellen Stand des Zählers _fc(f,cat)_ durch den aktuellen Stand des Zählers _cc(cat)_ teilt.   \n",
    "* Die Methode _fprob(self,f,cat)_ liefert evtl. ungewollt extreme Ergebnisse, wenn noch wenig Wörter im Klassifizierer verbucht sind. Kommt z.B. ein Wort erst einmal in den Trainingsdaten vor, so wird seine Auftrittswahrscheinlichkeit in der Kategorie in welcher es nicht vorkommt gleich 0 sein. Um extreme Wahrscheinlichkeitswerte im Fall noch selten vorkommender Werte zu vermeiden, soll zusätzlich zur Methode _fprob(self,f,cat)_ die Methode _weightedprob(self,f,cat)_ implementiert und angewandt werden. Der von ihr zurückgegebene Wahrscheinlichkeitswert könnte z.B. wie folgt berechnet werden:$$wprob=\\frac{initprob+count \\cdot fprob(self,f,cat)}{1+count},$$ wobei $initprob$ ein initialer Wahrscheinlichkeitswert (z.B. 0.5) ist, welcher zurückgegeben werden soll, wenn das Wort noch nicht in den Trainingsdaten aufgetaucht ist. Die Variable $count$ zählt wie oft das Wort $f$ bisher in den Trainingsdaten auftrat. Wie zu erkennen ist, nimmt der Einfluss der initialen Wahrscheinlichkeit ab, je häufiger das Wort in den Trainingsdaten auftrat.\n",
    "* Nach dem Training soll ein beliebiges neues Dokument (Text-String) eingegeben werden können. Für dieses soll mit der Methode _prob(self,item,cat)_ die a-posteriori-Wahrscheinlichkeit $P(cat|item)$ (Aufgrund der Vernachlässigung der Evidenz handelt es sich hierbei genaugenommen um das Produkt aus a-posteriori-Wahrscheinlichkeit und Evidenz), mit der das Dokument _item_ in die Kategorie _cat_ fällt berechnet werden. Innerhalb der Methode _prob(self,item,cat)_ soll zunächst die Methode _weightedprob(self,f,cat)_ für alle Wörter $f$ im Dokument _item_ aufgerufen werden. Die jeweiligen Rückgabewerte von _weightedprob(self,f,cat)_ werden multipliziert. Das Produkt der Rückgabewerte von _weightedprob(self,f,cat)_ über alle Wörter $f$ im Dokument muss schließlich noch mit der a-priori Wahrscheinlichkeit $P(G)$ bzw. $P(B)$ entsprechend der oben aufgeführten Formeln multipliziert werden. Das Resultat des Produkts wird an das aufrufende Programm zurück gegeben, die Evidenz wird also vernachlässigt (wie oben begründet).\n",
    "\n",
    "\n",
    "\n",
    "Ein Dokument _item_ wird schließlich der Kategorie _cat_ zugeteilt, für welche die Funktion _prob(self,item,cat)_ den höheren Wert zurück gibt. Da die Rückgabewerte in der Regel sehr klein sind, werden in der Regel folgende Werte angezeigt. Wenn mit $g$ der Rückgabewert von _prob(self,item,cat=G)_ und mit $b$ der Rückgabewert von _prob(self,item,cat=B)_ bezeichnet wird dann ist die Wahrscheinlichkeit, dass $item$ in die Kategorie $G$ fällt, gleich:\n",
    "$$\n",
    "\\frac{g}{g+b}\n",
    "$$\n",
    "und die Wahrscheinlichkeit, dass $item$ in die Kategorie $B$ fällt, gleich:\n",
    "$$\n",
    "\\frac{b}{g+b}\n",
    "$$"
   ]
  },
  {
   "cell_type": "code",
   "execution_count": 3,
   "metadata": {
    "nbpresent": {
     "id": "d4ea3034-eca8-4cb7-9397-09fbb550d2f6"
    }
   },
   "outputs": [],
   "source": [
    "class Classy:\n",
    "    \n",
    "    def __init__(self, getfeatures):\n",
    "        self.fc = defaultdict(lambda : defaultdict(int))\n",
    "        self.cc = defaultdict(int)\n",
    "        self.getfeatures = getfeatures\n",
    "    \n",
    "    def classify(self, item):\n",
    "        '''classifies item – returns the category to which the item most likely belongs'''\n",
    "        probs = self.allprobs(item)\n",
    "        return max(probs, key=probs.get)\n",
    "    \n",
    "    def allprobs(self, item):\n",
    "        '''calculates propabilities for all possible categories'''\n",
    "        return {cat: self.prob(item, cat) for cat in self.cc}\n",
    "    \n",
    "    def prob(self, item, cat):\n",
    "        '''a-posteriori-Wahrscheinlichkeit P(cat|item)'''\n",
    "        wprobsprod = reduce(mul, [self.weightedprob(f,cat) for f in self.getfeatures(item)])\n",
    "        return wprobsprod * self.cc[cat]/self.totalcount()\n",
    "    \n",
    "    def incc(self, cat):\n",
    "        'zählt cc (categoryCount) hoch'\n",
    "        self.cc[cat] += 1\n",
    "    \n",
    "    def incf(self, f, cat):\n",
    "        'zählt fc (featureCount) hoch'\n",
    "        self.fc[f][cat] += 1\n",
    "        \n",
    "    def fcount(self,f, cat=None):\n",
    "        if cat is None:\n",
    "            'gibt Häufigkeit des Word f zurück'\n",
    "            return sum(self.fc[f].values())  \n",
    "        else:\n",
    "            'gibt Häufigkeit des Word f einer bestimmten Cat zurück'\n",
    "            return self.fc[f][cat]\n",
    "               \n",
    "    def catcount(self,cat):\n",
    "        'gibt Häufigkeit einer category aus'\n",
    "        return self.cc[cat]\n",
    "    \n",
    "    def totalcount(self):\n",
    "        'gibt Anzahl aller documents aus'\n",
    "        return sum(self.cc.values())\n",
    "    \n",
    "    def train(self, item, cat):\n",
    "        'für item wird incc aufgerufen'\n",
    "        self.incc(cat)\n",
    "        \n",
    "        'features extrahieren'\n",
    "        features = self.getfeatures(item)\n",
    "        \n",
    "        'für jedes feature wird incf() aufgerufen'\n",
    "        for f in features:\n",
    "            self.incf(f,cat)\n",
    "   \n",
    "    def fprob(self,f,cat):\n",
    "        '''Die Methode fprob(self,f,cat) berechnet die bedingte Wahrscheinlichkeit  P(f|cat)\n",
    "        des Wortes f in der Kategorie cat entsprechend der oben angegebenen Formeln, indem sie \n",
    "        den aktuellen Stand des Zählers fc(f,cat) durch den aktuellen Stand des Zählers cc(cat) teilt.'''\n",
    "        return self.fcount(f,cat)/float(self.catcount(cat))\n",
    "        \n",
    "    def weightedprob(self,f,cat):\n",
    "        '''weighted = (0.5 + (count * fprob(self, f cat))) / (1 + count)'''\n",
    "        initprob = 0.5\n",
    "        count = self.fcount(f)\n",
    "        fprob = self.fprob(f,cat)\n",
    "        return (initprob + count * fprob)/(1 + count)"
   ]
  },
  {
   "cell_type": "markdown",
   "metadata": {
    "nbpresent": {
     "id": "a1bc298a-e41d-49c4-bcab-06a393d7b09c"
    }
   },
   "source": [
    "## Test\n",
    "\n",
    "**Aufgabe:**\n",
    "Instanzieren Sie ein Objekt der Klasse _Classifier_ und übergeben Sie der _train()_ Methode dieser Klasse mindestens 8 kategorisierte Dokumente (Betreffzeilen als Stringvariablen zusammen mit der Kategorie Good oder Bad). Definieren Sie dann ein beliebig neues Dokument und berechnen Sie für dieses die Kategorie, in welches es mit größter Wahrscheinlichkeit fällt. Benutzen Sie für den Test das in \n",
    "[NLP Vorlesung Document Classification](https://www.mi.hdm-stuttgart.de/mib/studium/intern/skripteserver/skripte/NaturalLanguageProcessing/WS1415/03TextClassification.pdf)\n",
    "ausführlich beschriebene Beispiel zu implementieren. Berechnen Sie die Klassifikatorausgabe des Satzes _the money jumps_."
   ]
  },
  {
   "cell_type": "code",
   "execution_count": 4,
   "metadata": {
    "nbpresent": {
     "id": "671da0a6-c4ed-487c-a704-9fca43956248"
    }
   },
   "outputs": [],
   "source": [
    "##### testdaten #####   \n",
    "doc_list = pd.DataFrame([\n",
    "                        ('Good','nobody owns the water'),\n",
    "                        ('Good','the quick rabbit jumps fences'),\n",
    "                        ('Bad','buy pharmaceuticals now'),\n",
    "                        ('Bad','make quick money at the online casino'),\n",
    "                        ('Good','the quick brown fox jumps'),\n",
    "                        ('Good','next meeting is at night'),\n",
    "                        ('Bad','meeting with your superstar'),\n",
    "                        ('Bad','money like water'),\n",
    "                        ('Good','jumps over you'),\n",
    "                        ('Bad','cheap viagra now')])  \n",
    "\n",
    "labels = doc_list[0]"
   ]
  },
  {
   "cell_type": "code",
   "execution_count": 5,
   "metadata": {
    "nbpresent": {
     "id": "2429d2cf-7618-40e4-92df-6054554c3c4b"
    }
   },
   "outputs": [],
   "source": [
    "def to_dict(d):\n",
    "    '''helper class – converts defaultdict to regular dict'''\n",
    "    if isinstance(d, defaultdict):\n",
    "        d = {k: to_dict(v) for k, v in d.iteritems()}\n",
    "    return d\n",
    "\n",
    "# init new calassification\n",
    "c = Classy(getwords)\n",
    "\n",
    "#training\n",
    "for index, row in doc_list.iterrows():\n",
    "    #print type(row), row[0], row[1]\n",
    "    cat = row[0]\n",
    "    item = row[1]\n",
    "    c.train(item, cat)"
   ]
  },
  {
   "cell_type": "code",
   "execution_count": 6,
   "metadata": {
    "nbpresent": {
     "id": "9e44b254-0423-4989-83f0-76b35571ca6c"
    }
   },
   "outputs": [
    {
     "name": "stdout",
     "output_type": "stream",
     "text": [
      "\n",
      "cc:\n",
      "{'Bad': 5, 'Good': 5}\n",
      "\n",
      "fc:\n",
      "{'money': {'Bad': 2}, 'over': {'Good': 1}, 'cheap': {'Bad': 1}, 'your': {'Bad': 1}, 'make': {'Bad': 1}, 'next': {'Good': 1}, 'pharmaceuticals': {'Bad': 1}, 'viagra': {'Bad': 1}, 'online': {'Bad': 1}, 'fences': {'Good': 1}, 'brown': {'Good': 1}, 'nobody': {'Good': 1}, 'jumps': {'Good': 3}, 'night': {'Good': 1}, 'water': {'Bad': 1, 'Good': 1}, 'rabbit': {'Good': 1}, 'with': {'Bad': 1}, 'superstar': {'Bad': 1}, 'like': {'Bad': 1}, 'meeting': {'Bad': 1, 'Good': 1}, 'casino': {'Bad': 1}, 'owns': {'Good': 1}, 'quick': {'Bad': 1, 'Good': 2}}\n",
      "\n",
      "totalcount of documents: 10\n",
      "\n",
      "fccount money Good : 0\n",
      "fccount money Bad : 2\n",
      "fprob( Good | money ) =  0.0\n",
      "fprob( Bad | money ) =  0.4\n",
      "weightedprob:\n",
      "     Bad : 0.433333333333\n",
      "     Good : 0.166666666667\n",
      "\n",
      "fccount jumps Good : 3\n",
      "fccount jumps Bad : 0\n",
      "fprob( Good | jumps ) =  0.6\n",
      "fprob( Bad | jumps ) =  0.0\n",
      "weightedprob:\n",
      "     Bad : 0.125\n",
      "     Good : 0.575\n",
      "--------------------------------------------------------------------------------\n",
      "results for 'the money jumps'\n",
      "Good\n",
      "{'Bad': 0.027083333333333338, 'Good': 0.04791666666666666}\n"
     ]
    }
   ],
   "source": [
    "f = 'money'\n",
    "f2 = 'jumps'\n",
    "good = 'Good'\n",
    "bad = 'Bad'\n",
    "\n",
    "print '\\ncc:\\n',to_dict(c.cc)\n",
    "print '\\nfc:\\n',to_dict(c.fc)\n",
    "\n",
    "print '\\ntotalcount of documents:',c.totalcount()\n",
    "\n",
    "print '\\nfccount',f,good,':',c.fcount(f, good)\n",
    "print 'fccount',f,bad,':',c.fcount(f, bad)\n",
    "print 'fprob(', good, '|', f, ') = ', c.fprob(f,good)\n",
    "print 'fprob(', bad, '|', f, ') = ', c.fprob(f,bad)\n",
    "print 'weightedprob:'\n",
    "print '    ',bad,':',c.weightedprob(f,bad)\n",
    "print '    ',good,':',c.weightedprob(f,good)\n",
    "\n",
    "print '\\nfccount',f2,good,':',c.fcount(f2, good)\n",
    "print 'fccount',f2,bad,':',c.fcount(f2, bad)\n",
    "print 'fprob(', good, '|', f2, ') = ', c.fprob(f2,good)\n",
    "print 'fprob(', bad, '|', f2, ') = ', c.fprob(f2,bad)\n",
    "print 'weightedprob:'\n",
    "print '    ',bad,':',c.weightedprob(f2,bad)\n",
    "print '    ',good,':',c.weightedprob(f2,good)\n",
    "\n",
    "print '-'*80\n",
    "\n",
    "teststring = \"the money jumps\"\n",
    "print 'results for \\'the money jumps\\''\n",
    "print c.classify(teststring)\n",
    "print c.allprobs(teststring)"
   ]
  },
  {
   "cell_type": "markdown",
   "metadata": {
    "nbpresent": {
     "id": "c1cf25cd-bc3b-4132-940f-1cb0e86fd739"
    }
   },
   "source": [
    "**Antwort**  \n",
    "Wie erwartet wird der Satz 'the money jumps' der Klasse Good zugewiesen. Dies kommt daher da, jumps 3 mal in Good vorkommt und nur 2 mal in Bad."
   ]
  },
  {
   "cell_type": "markdown",
   "metadata": {
    "nbpresent": {
     "id": "3e3f0cff-68bf-44b2-9ae9-19e68a69d9db"
    }
   },
   "source": [
    "## Klassifikation von RSS Newsfeeds\n",
    "Mit dem unten gegebenen Skript werden Nachrichten verschiedener Newsserver geladen und als String abgespeichert.\n",
    "\n",
    "* Das Skript haben wir erweitert sodass es uns einen Dataframe für Test und Training erstellt."
   ]
  },
  {
   "cell_type": "code",
   "execution_count": 8,
   "metadata": {
    "nbpresent": {
     "id": "bcd8b402-19f2-441f-ba51-950fcf1455f6"
    }
   },
   "outputs": [
    {
     "name": "stdout",
     "output_type": "stream",
     "text": [
      "--------------------News from trainTech------------------------\n",
      "******************************\n",
      "http://www.chip.de/rss/rss_tests.xml\n",
      "******************************\n",
      "http://rss1.t-online.de/c/11/53/06/84/11530684.xml\n",
      "******************************\n",
      "http://www.computerbild.de/rssfeed_2261.xml?node=13\n",
      "******************************\n",
      "http://www.heise.de/newsticker/heise-top-atom.xml\n",
      "----------------------------------------------------------------\n",
      "----------------------------------------------------------------\n",
      "----------------------------------------------------------------\n",
      "--------------------News from trainNonTech------------------------\n",
      "******************************\n",
      "http://newsfeed.zeit.de/index\n",
      "******************************\n",
      "http://newsfeed.zeit.de/wirtschaft/index\n",
      "******************************\n",
      "http://www.welt.de/politik/?service=Rss\n",
      "******************************\n",
      "http://www.spiegel.de/schlagzeilen/tops/index.rss\n",
      "******************************\n",
      "http://www.sueddeutsche.de/app/service/rss/alles/rss.xml\n",
      "******************************\n",
      "http://www.faz.net/rss/aktuell/\n",
      "----------------------------------------------------------------\n",
      "----------------------------------------------------------------\n",
      "----------------------------------------------------------------\n",
      "--------------------News from test------------------------\n",
      "******************************\n",
      "http://rss.golem.de/rss.php?r=sw&feed=RSS0.91\n",
      "******************************\n",
      "http://newsfeed.zeit.de/politik/index\n",
      "******************************\n",
      "http://www.welt.de/?service=Rss\n",
      "----------------------------------------------------------------\n",
      "----------------------------------------------------------------\n",
      "----------------------------------------------------------------\n",
      "Number of used trainings samples in categorie tech 115\n",
      "Number of used trainings samples in categorie nontech 118\n",
      "Number of used test samples 85\n",
      "------------------------------------------------------------\n"
     ]
    }
   ],
   "source": [
    "import feedparser\n",
    "\n",
    "rssfeeds = pd.DataFrame(columns=['label','text','source'])\n",
    "testRssfeeds = pd.DataFrame(columns=['label','text','source'])\n",
    "\n",
    "def stripHTML(h):\n",
    "  p=''\n",
    "  s=0\n",
    "  for c in h:\n",
    "    if c=='<': s=1\n",
    "    elif c=='>':\n",
    "      s=0\n",
    "      p+=' '\n",
    "    elif s==0:\n",
    "      p+=c\n",
    "  return p\n",
    "\n",
    "\n",
    "trainTech=['http://www.chip.de/rss/rss_tests.xml',\n",
    "           #'http://feeds.feedburner.com/netzwelt',\n",
    "           'http://rss1.t-online.de/c/11/53/06/84/11530684.xml',\n",
    "           'http://www.computerbild.de/rssfeed_2261.xml?node=13',\n",
    "           'http://www.heise.de/newsticker/heise-top-atom.xml']\n",
    "\n",
    "trainNonTech=['http://newsfeed.zeit.de/index',\n",
    "              'http://newsfeed.zeit.de/wirtschaft/index',\n",
    "              'http://www.welt.de/politik/?service=Rss',\n",
    "              'http://www.spiegel.de/schlagzeilen/tops/index.rss',\n",
    "              'http://www.sueddeutsche.de/app/service/rss/alles/rss.xml',\n",
    "              'http://www.faz.net/rss/aktuell/'\n",
    "              ]\n",
    "test=[\"http://rss.golem.de/rss.php?r=sw&feed=RSS0.91\",\n",
    "          'http://newsfeed.zeit.de/politik/index',  \n",
    "          'http://www.welt.de/?service=Rss'\n",
    "           ]\n",
    "\n",
    "countnews={}\n",
    "countnews['tech']=0\n",
    "countnews['nontech']=0\n",
    "countnews['test']=0\n",
    "print \"--------------------News from trainTech------------------------\"\n",
    "for feed in trainTech:\n",
    "    print \"*\"*30\n",
    "    print feed\n",
    "    f=feedparser.parse(feed)\n",
    "    for e in f.entries:\n",
    "      #print '\\n---------------------------'\n",
    "      if 'summary' in e.keys() and 'title' in e.keys():\n",
    "        fulltext=stripHTML(e.title+' '+e.description)\n",
    "        rssfeeds = rssfeeds.append(pd.DataFrame({'label': 'tech','text': fulltext, 'source': feed}, index=[0]), ignore_index=True)\n",
    "        countnews['tech']+=1\n",
    "print \"----------------------------------------------------------------\"\n",
    "print \"----------------------------------------------------------------\"\n",
    "print \"----------------------------------------------------------------\"\n",
    "\n",
    "print \"--------------------News from trainNonTech------------------------\"\n",
    "for feed in trainNonTech:\n",
    "    print \"*\"*30\n",
    "    print feed\n",
    "    f=feedparser.parse(feed)\n",
    "    for e in f.entries:\n",
    "      #print '\\n---------------------------'\n",
    "      if 'summary' in e.keys() and 'title' in e.keys():\n",
    "        fulltext=stripHTML(e.title+' '+e.description)\n",
    "        rssfeeds = rssfeeds.append(pd.DataFrame({'label': 'nontech','text': fulltext, 'source': feed}, index=[0]), ignore_index=True)      \n",
    "        countnews['nontech']+=1\n",
    "print \"----------------------------------------------------------------\"\n",
    "print \"----------------------------------------------------------------\"\n",
    "print \"----------------------------------------------------------------\"\n",
    "\n",
    "\n",
    "print \"--------------------News from test------------------------\"\n",
    "for feed in test:\n",
    "    print \"*\"*30\n",
    "    print feed\n",
    "    f=feedparser.parse(feed)\n",
    "    for e in f.entries:\n",
    "      #print '\\n---------------------------'\n",
    "      if 'summary' in e.keys() and 'title' in e.keys():    \n",
    "        fulltext=stripHTML(e.title+' '+e.description)\n",
    "        testRssfeeds = testRssfeeds.append(pd.DataFrame({'text': fulltext, 'source': feed}, index=[0]), ignore_index=True)            \n",
    "        countnews['test']+=1\n",
    "print \"----------------------------------------------------------------\"\n",
    "print \"----------------------------------------------------------------\"\n",
    "print \"----------------------------------------------------------------\"\n",
    "\n",
    "print 'Number of used trainings samples in categorie tech',countnews['tech']\n",
    "print 'Number of used trainings samples in categorie nontech',countnews['nontech']\n",
    "print 'Number of used test samples',countnews['test']\n",
    "print '--'*30"
   ]
  },
  {
   "cell_type": "markdown",
   "metadata": {
    "nbpresent": {
     "id": "5655ad4a-fd63-4047-8fab-1d49aae46a36"
    }
   },
   "source": [
    "#### Ausgabe der Dokumente"
   ]
  },
  {
   "cell_type": "code",
   "execution_count": 9,
   "metadata": {
    "nbpresent": {
     "id": "d77ca80f-3cc4-4655-894f-dc272796d7d2"
    }
   },
   "outputs": [
    {
     "name": "stdout",
     "output_type": "stream",
     "text": [
      "rssfeeds:\n",
      "       label                                             source  \\\n",
      "53      tech  http://www.computerbild.de/rssfeed_2261.xml?no...   \n",
      "94      tech  http://www.heise.de/newsticker/heise-top-atom.xml   \n",
      "197  nontech  http://www.spiegel.de/schlagzeilen/tops/index.rss   \n",
      "7       tech               http://www.chip.de/rss/rss_tests.xml   \n",
      "125  nontech                      http://newsfeed.zeit.de/index   \n",
      "\n",
      "                                                  text  \n",
      "53   Telekom knipst das Turbo-Internet an – bei Ihn...  \n",
      "94   „Was haben wir uns gedacht, als wir Facebook W...  \n",
      "197  Verzicht auf Preiserhöhungen: Deutsche Pharmak...  \n",
      "7    Kaufberatung OLED-Fernseher: So finden Sie den...  \n",
      "125  Ermittlungen wegen Amtsanmaßung: Bamf warnt vo...  \n",
      "\n",
      " testRssfeeds:\n",
      "   label                                         source  \\\n",
      "6    NaN  http://rss.golem.de/rss.php?r=sw&feed=RSS0.91   \n",
      "42   NaN          http://newsfeed.zeit.de/politik/index   \n",
      "48   NaN          http://newsfeed.zeit.de/politik/index   \n",
      "69   NaN                http://www.welt.de/?service=Rss   \n",
      "2    NaN  http://rss.golem.de/rss.php?r=sw&feed=RSS0.91   \n",
      "\n",
      "                                                 text  \n",
      "6   Telegram 4.90: Neue Passport-Funktion soll Luc...  \n",
      "42  Grenzsicherung: Donald Trump lobt Italiens str...  \n",
      "48  Weißhelme: Den Tod vor Augen     Den bisher ni...  \n",
      "69  Trump zu Treffen mit iranischer Führung bereit...  \n",
      "2   ECDH: Linux-Kernel patcht bald Bluetooth-Lücke...  \n"
     ]
    }
   ],
   "source": [
    "print 'rssfeeds:\\n', rssfeeds.sample(5)\n",
    "print '\\n testRssfeeds:\\n', testRssfeeds.sample(5)"
   ]
  },
  {
   "cell_type": "markdown",
   "metadata": {
    "nbpresent": {
     "id": "658750ad-1f50-42e0-8dbf-5c18b96df6dd"
    }
   },
   "source": [
    "**Aufgaben:**  \n",
    "1.  \n",
    "Trainieren Sie Ihren Naive Bayes Classifier mit allen Nachrichten der in den Listen _trainTech_ und _trainNonTech_ definierten Servern. Weisen Sie für das Training allen Nachrichten aus _trainTech_ die Kategorie _Tech_ und allen Nachrichten aus _trainNonTech_ die Kategorie _NonTech_ zu.\n",
    "\n",
    "\n",
    "* Training"
   ]
  },
  {
   "cell_type": "code",
   "execution_count": 10,
   "metadata": {
    "nbpresent": {
     "id": "027f57d5-f931-4cb2-8795-7024837010a0"
    }
   },
   "outputs": [],
   "source": [
    "rssC = Classy(getwords)\n",
    "\n",
    "for index, row in rssfeeds.iterrows():\n",
    "    #print type(row), row[0], row[1]\n",
    "    cat = row[0]\n",
    "    item = row[2]\n",
    "    rssC.train(item, cat)"
   ]
  },
  {
   "cell_type": "markdown",
   "metadata": {
    "nbpresent": {
     "id": "49458789-f202-401e-9046-dbd0e7c2fda6"
    }
   },
   "source": [
    "  * Test der Klassifikation"
   ]
  },
  {
   "cell_type": "code",
   "execution_count": 11,
   "metadata": {
    "nbpresent": {
     "id": "0879ed1e-c8fe-4eb2-b4f3-c66ae2faa5fe"
    }
   },
   "outputs": [
    {
     "name": "stdout",
     "output_type": "stream",
     "text": [
      "Digitalisierung tech : 0.125536480687\n",
      "Digitalisierung nontech : 0.12660944206\n",
      "\n",
      "Industrie nontech : 0.25321888412\n",
      "Industrie tech : 0.24678111588\n",
      "http://rss.golem.de/rss.php?r=sw&feed=RSS0.91\n",
      "\n",
      "Test Doc:\n",
      "label                                                   NaN\n",
      "source        http://rss.golem.de/rss.php?r=sw&feed=RSS0.91\n",
      "text      Magic Leap Lumin OS: Erste Bilder des Betriebs...\n",
      "Name: 0, dtype: object\n",
      "\n",
      "result: nontech -> {'tech': 3.271429324660256e-14, 'nontech': 4.9853781319632666e-14}\n",
      "--------------------------------------------------------------------------------\n"
     ]
    }
   ],
   "source": [
    "tech = 'tech'\n",
    "nontech = 'nontech'\n",
    "\n",
    "print 'Digitalisierung',  tech, ':', rssC.prob('Digitalisierung',tech)\n",
    "print 'Digitalisierung',  nontech, ':', rssC.prob('Digitalisierung',nontech)\n",
    "\n",
    "print '\\nIndustrie', nontech, ':', rssC.prob('Industrie',nontech)\n",
    "print 'Industrie', tech, ':', rssC.prob('Industrie',tech)\n",
    "\n",
    "testdoc = testRssfeeds.iloc[0] #tech\n",
    "\n",
    "print testdoc[1]\n",
    "print '\\nTest Doc:\\n', testdoc\n",
    "print '\\nresult:', rssC.classify(testdoc[2]), '->', rssC.allprobs(testdoc[2])\n",
    "print '-'*80"
   ]
  },
  {
   "cell_type": "markdown",
   "metadata": {
    "nbpresent": {
     "id": "2a62485a-0b26-49e3-b969-d06dcfffc698"
    }
   },
   "source": [
    "<ol start=\"2\">\n",
    "<li>Nach dem Training sollen alle Nachrichten aus der Liste _test_ vom Naive Bayes Classifier automatisch\n",
    "klassifiziert werden. Gehen Sie davon aus, dass alle Nachrichten von [http://rss.golem.de/rss.php?r=sw&feed=RSS0.91](http://rss.golem.de/rss.php?r=sw&feed=RSS0.91) tatsächlich von der Kategorie _Tech_ sind und alle Nachrichten von den beiden anderen Servern in der Liste _test_ von der Kategorie _NonTech_ sind. Bestimmen Sie die _Konfusionsmatrix_ und die _Accuracy_ sowie für beide Klassen _Precision, Recall_ und _F1-Score_. Diese Qualitätsmetriken sind z.B. in [NLP Vorlesung Document Classification](https://www.mi.hdm-stuttgart.de/mib/studium/intern/skripteserver/skripte/NaturalLanguageProcessing/WS1415/03TextClassification.pdf) definiert.</li>\n",
    "</ol>"
   ]
  },
  {
   "cell_type": "markdown",
   "metadata": {
    "nbpresent": {
     "id": "45e12136-a1ef-4fe5-b28e-a28ec7f144df"
    }
   },
   "source": [
    "**Setzen der Labels für den testRssfeeds Dataframe**"
   ]
  },
  {
   "cell_type": "code",
   "execution_count": 12,
   "metadata": {
    "nbpresent": {
     "id": "53411cf9-fa8d-43f2-80dd-88366577bda8"
    }
   },
   "outputs": [
    {
     "name": "stdout",
     "output_type": "stream",
     "text": [
      "\n",
      "Classified Documents: {'tech': 115, 'nontech': 118}\n"
     ]
    }
   ],
   "source": [
    "originatedTestRssfeeds = testRssfeeds.copy()\n",
    "\n",
    "# set tech where source is http://rss.golem.de/rss.php?r=sw&feed=RSS0.91\n",
    "originatedTestRssfeeds.loc[testRssfeeds.source=='http://rss.golem.de/rss.php?r=sw&feed=RSS0.91','label'] = 'tech'\n",
    "# set nontech where source is not http://rss.golem.de/rss.php?r=sw&feed=RSS0.91\n",
    "originatedTestRssfeeds.loc[testRssfeeds.source!='http://rss.golem.de/rss.php?r=sw&feed=RSS0.91','label'] = 'nontech'\n",
    "\n",
    "#classify test documents\n",
    "for index, row in testRssfeeds.iterrows():\n",
    "    testRssfeeds['label'][index] = rssC.classify(row['text'])\n",
    "print '\\nClassified Documents:', to_dict(rssC.cc)\n",
    "\n",
    "y_true = originatedTestRssfeeds['label']\n",
    "y_pred = testRssfeeds['label']\n",
    "#print testRssfeeds.head(10)\n",
    "#print originatedTestRssfeeds.head(10)"
   ]
  },
  {
   "cell_type": "markdown",
   "metadata": {
    "nbpresent": {
     "id": "8bae819e-389b-4d94-9966-e94c92d12d69"
    }
   },
   "source": [
    "### Erstellung der Metriken\n",
    "\n",
    "Die Duplikation der Accuracy sowie für beide Klassen Precision, Recall und F1-Score"
   ]
  },
  {
   "cell_type": "code",
   "execution_count": 13,
   "metadata": {
    "nbpresent": {
     "id": "b6dc2514-8998-4c62-92f6-7aad2347b5a2"
    }
   },
   "outputs": [],
   "source": [
    "import itertools\n",
    "import numpy as np\n",
    "import matplotlib.pyplot as plt\n",
    "\n",
    "from sklearn.metrics import confusion_matrix\n",
    "\n",
    "def plot_confusion_matrix(cm, classes,\n",
    "                          normalize=False,\n",
    "                          title='Confusion matrix',\n",
    "                          cmap=plt.cm.Blues):\n",
    "    \"\"\"\n",
    "    This function prints and plots the confusion matrix.\n",
    "    Normalization can be applied by setting `normalize=True`.\n",
    "    \"\"\"\n",
    "    if normalize:\n",
    "        cm = cm.astype('float') / cm.sum(axis=1)[:, np.newaxis]\n",
    "        print(\"Normalized confusion matrix\")\n",
    "    else:\n",
    "        print('Confusion matrix, without normalization')\n",
    "\n",
    "    print(cm)\n",
    "\n",
    "    plt.imshow(cm, interpolation='nearest', cmap=cmap)\n",
    "    plt.title(title)\n",
    "    plt.colorbar()\n",
    "    tick_marks = np.arange(len(classes))\n",
    "    plt.xticks(tick_marks, classes, rotation=45)\n",
    "    plt.yticks(tick_marks, classes)\n",
    "\n",
    "    fmt = '.2f' if normalize else 'd'\n",
    "    thresh = cm.max() / 2.\n",
    "    for i, j in itertools.product(range(cm.shape[0]), range(cm.shape[1])):\n",
    "        plt.text(j, i, format(cm[i, j], fmt),\n",
    "                 horizontalalignment=\"center\",\n",
    "                 color=\"white\" if cm[i, j] > thresh else \"black\")\n",
    "\n",
    "    plt.tight_layout()\n",
    "    plt.ylabel('True label')\n",
    "    plt.xlabel('Predicted label')"
   ]
  },
  {
   "cell_type": "code",
   "execution_count": 14,
   "metadata": {
    "nbpresent": {
     "id": "b96f75ae-0d93-409f-aec9-ee6dc05f37a7"
    }
   },
   "outputs": [
    {
     "name": "stdout",
     "output_type": "stream",
     "text": [
      "Accuracy: 0.682353\n",
      "\n",
      "tech metrics:\n",
      "  Precision: 0.714286\n",
      "  Recall: 0.666667\n",
      "  F-Measure: 0.689655\n",
      "\n",
      "nontech metrics:\n",
      "  Precision: 0.651163\n",
      "  Recall: 0.700000\n",
      "  F-Measure: 0.674699\n",
      "\n",
      "             precision    recall  f1-score   support\n",
      "\n",
      "       tech       0.71      0.67      0.69        45\n",
      "    nontech       0.65      0.70      0.67        40\n",
      "\n",
      "avg / total       0.68      0.68      0.68        85\n",
      "\n",
      "\n",
      "overall accuracy: 0.6823529411764706 \n",
      "\n",
      "Confusion matrix, without normalization\n",
      "[[30 15]\n",
      " [12 28]]\n"
     ]
    },
    {
     "data": {
      "image/png": "[encoded data removed]",
      "text/plain": [
       "<Figure size 432x288 with 2 Axes>"
      ]
     },
     "metadata": {},
     "output_type": "display_data"
    },
    {
     "name": "stdout",
     "output_type": "stream",
     "text": [
      "Normalized confusion matrix\n",
      "[[0.66666667 0.33333333]\n",
      " [0.3        0.7       ]]\n"
     ]
    },
    {
     "data": {
      "image/png": "[encoded data removed]",
      "text/plain": [
       "<Figure size 432x288 with 2 Axes>"
      ]
     },
     "metadata": {},
     "output_type": "display_data"
    }
   ],
   "source": [
    "from sklearn.metrics import accuracy_score\n",
    "from sklearn.metrics import classification_report\n",
    "\n",
    "def create_report(_y_true, _y_pred, classes):    \n",
    "    \n",
    "    # Compute confusion matrix\n",
    "    cnf_matrix = confusion_matrix(_y_true , _y_pred)\n",
    "\n",
    "    # Calculate metrics\n",
    "    TP = cnf_matrix[0][0]\n",
    "    FP = cnf_matrix[1][0]\n",
    "    \n",
    "    FN = cnf_matrix[0][1]\n",
    "    TN = cnf_matrix[1][1]\n",
    "\n",
    "    accuracy = (float(TP) + float(TN))/(float(TP) + float(TN) + float(FP) + float(FN))\n",
    "    print 'Accuracy: %f' % accuracy\n",
    "\n",
    "    print '\\ntech metrics:'\n",
    "    precision = float(TP)/(float(TP)+float(FP))\n",
    "    print '  Precision: %f' % precision\n",
    "\n",
    "    recall = float(TP)/(float(TP)+float(FN))\n",
    "    print '  Recall: %f' % recall\n",
    "\n",
    "    fMeasure = 2*((precision*recall)/(precision+recall))\n",
    "    print '  F-Measure: %f' % fMeasure\n",
    "    \n",
    "    print '\\nnontech metrics:'\n",
    "    precision = float(TN)/(float(TN)+float(FN))\n",
    "    print '  Precision: %f' % precision\n",
    "\n",
    "    recall = float(TN)/(float(TN)+float(FP))\n",
    "    print '  Recall: %f' % recall\n",
    "\n",
    "    fMeasure = 2*((precision*recall)/(precision+recall))\n",
    "    print '  F-Measure: %f' % fMeasure\n",
    "    \n",
    "    # use sklearn report to verify\n",
    "    classy_report = classification_report(_y_true, _y_pred, target_names=classes)\n",
    "    print '\\n', classy_report\n",
    "    \n",
    "    accuracy_norm = accuracy_score(_y_true, _y_pred)\n",
    "    print '\\noverall accuracy:', accuracy_norm, '\\n'\n",
    "    \n",
    "    # Plot non-normalized confusion matrix\n",
    "    plt.figure()\n",
    "    plot_confusion_matrix(cnf_matrix, classes=classes,\n",
    "                      title='Confusion matrix, without normalization')\n",
    "    plt.show()\n",
    "\n",
    "    # Plot normalized confusion matrix\n",
    "    plt.figure()\n",
    "    plot_confusion_matrix(cnf_matrix, classes=classes, normalize=True,\n",
    "                      title='Normalized confusion matrix')\n",
    "    plt.show()\n",
    "    \n",
    "        \n",
    "create_report(y_true, y_pred, rssC.cc.keys())"
   ]
  },
  {
   "cell_type": "markdown",
   "metadata": {
    "nbpresent": {
     "id": "8201f7a2-e036-4ca7-91b0-4dc59f5da783"
    }
   },
   "source": [
    "<ol start=\"3\">\n",
    "<li>Diskutieren Sie das Ergebnis</li>\n",
    "</ol>\n",
    "\n",
    "* Wir haben bereits gute Ergebnisse.\n",
    "    * für **nontech** ergeben sich eine hohe precision dies liegt wohl an den fachspezifischen Worten z.B. Namen \n",
    "    von Politikern etc. in den Dokumenent.\n",
    "    * **tech** hingegen hat eine weniger hohe precision. Fachspezifische Worte sind wahrscheinlich \n",
    "    weniger vorhanden. \n",
    "    Hier sind wohl auch zusammenhänge zwischen den Wörtern wichtig, \n",
    "    welche in dieser Klassifikation nicht erfasst werden.  \n",
    "    (NGramme werden hier möglicherweise abhilfe schaffen)\n",
    "    \n",
    "* Durch die in der nächsten Aufgabe vorgeschlagenen Methodiken können wir den Genauigkeit verbessern"
   ]
  },
  {
   "cell_type": "markdown",
   "metadata": {
    "nbpresent": {
     "id": "19d0b588-336a-433e-b2c1-33b396ea993f"
    }
   },
   "source": [
    "<ol start=\"4\">\n",
    "<li>Wie könnte die Klassifikationsgüte durch Modifikation der _getwords()_-Methode verbessert werden? Implementieren Sie diesen Ansatz und vergleichen Sie das Ergebnis mit dem des ersten Ansatzes.</li>\n",
    "</ol>\n",
    "\n",
    "* Die folgenden gängigen NLP Methoden schlagen wir zur Verbesserung vor\n",
    "    - Tokenizing: Nur Worte extrahieren\n",
    "    - Ngramme verwenden: Wort zusammenhänge erfassen\n",
    "    - Normalisierung: alles in Kleinbuchstaben abbilden\n",
    "    - Stopwörter entfernen\n",
    "    - Stemming: alle Wörter in ihrem Wortstamm abbliden\n",
    "    \n",
    "    Die folgenden Vorschläge wurden nicht Implementiert. (Sehr aufwändig)\n",
    "    - Lemmatisierung: alle Worte in Grundform abbilden\n",
    "    - Korrektur: korrektur von Schreibfehlern"
   ]
  },
  {
   "cell_type": "code",
   "execution_count": 15,
   "metadata": {
    "nbpresent": {
     "id": "62b0b087-8c4e-46ab-b216-661c38e4a4ba"
    }
   },
   "outputs": [
    {
     "data": {
      "text/plain": [
       "{'Angela': 1,\n",
       " 'Angela Merkel': 1,\n",
       " 'Hallo': 1,\n",
       " 'Hallo Angela': 1,\n",
       " 'Hallo Test': 1,\n",
       " 'Merkel': 1,\n",
       " 'Merkel Hallo': 1,\n",
       " 'Test': 1}"
      ]
     },
     "execution_count": 15,
     "metadata": {},
     "output_type": "execute_result"
    }
   ],
   "source": [
    "import nltk\n",
    "from nltk.corpus import stopwords\n",
    "from nltk.tokenize import RegexpTokenizer\n",
    "from nltk import ngrams\n",
    "from collections import Counter\n",
    "\n",
    "def getwords_adv(doc):\n",
    "    \n",
    "    #doc = doc.lower()\n",
    "    \n",
    "    #tokenize\n",
    "    tokenizer = RegexpTokenizer(r'\\w+')\n",
    "    tokens = tokenizer.tokenize(doc)\n",
    "    \n",
    "    #remove stopwords\n",
    "    stop_words = set(stopwords.words('german'))\n",
    "    tokens = [word for word in tokens if word not in stop_words]\n",
    "    \n",
    "    #stemming\n",
    "    #stemmer = nltk.stem.snowball.SnowballStemmer('german')\n",
    "    #tokens = [stemmer.stem(word) for word in tokens]\n",
    "    \n",
    "    #add bigrams\n",
    "    docsting = ' '.join(tokens).strip()\n",
    "    n = 2\n",
    "    n_grams = ngrams(docsting.split(), n)\n",
    "    tokens = tokens + [' '.join(grams) for grams in n_grams]\n",
    "    \n",
    "    word_dict = {}\n",
    "    #word_dict = {x.lower() : 1 for x in tokens if len(x) in range(4,100)}\n",
    "    word_dict = {x : 1 for x in tokens if len(x) in range(4,100)}\n",
    "    return word_dict\n",
    "\n",
    "#test\n",
    "#print getwords_adv(testdoc)\n",
    "getwords_adv(\"Hallo Angela Merkel Hallo das ist ein Test\")"
   ]
  },
  {
   "cell_type": "code",
   "execution_count": 16,
   "metadata": {
    "nbpresent": {
     "id": "f11516df-a9a7-456b-ac86-1e82a1f4f618"
    }
   },
   "outputs": [
    {
     "name": "stdout",
     "output_type": "stream",
     "text": [
      "\n",
      "Classified Documents: {'tech': 115, 'nontech': 118}\n",
      "Accuracy: 0.847059\n",
      "\n",
      "tech metrics:\n",
      "  Precision: 0.944444\n",
      "  Recall: 0.755556\n",
      "  F-Measure: 0.839506\n",
      "\n",
      "nontech metrics:\n",
      "  Precision: 0.775510\n",
      "  Recall: 0.950000\n",
      "  F-Measure: 0.853933\n",
      "\n",
      "             precision    recall  f1-score   support\n",
      "\n",
      "       tech       0.94      0.76      0.84        45\n",
      "    nontech       0.78      0.95      0.85        40\n",
      "\n",
      "avg / total       0.86      0.85      0.85        85\n",
      "\n",
      "\n",
      "overall accuracy: 0.8470588235294118 \n",
      "\n",
      "Confusion matrix, without normalization\n",
      "[[34 11]\n",
      " [ 2 38]]\n"
     ]
    },
    {
     "data": {
      "image/png": "[encoded data removed]",
      "text/plain": [
       "<Figure size 432x288 with 2 Axes>"
      ]
     },
     "metadata": {},
     "output_type": "display_data"
    },
    {
     "name": "stdout",
     "output_type": "stream",
     "text": [
      "Normalized confusion matrix\n",
      "[[0.75555556 0.24444444]\n",
      " [0.05       0.95      ]]\n"
     ]
    },
    {
     "data": {
      "image/png": "[encoded data removed]",
      "text/plain": [
       "<Figure size 432x288 with 2 Axes>"
      ]
     },
     "metadata": {},
     "output_type": "display_data"
    }
   ],
   "source": [
    "#train\n",
    "rssC_adv = Classy(getwords_adv)\n",
    "\n",
    "for index, row in rssfeeds.iterrows():\n",
    "    #print type(row), row[0], row[1]\n",
    "    cat = row[0]\n",
    "    item = row[2]\n",
    "    rssC_adv.train(item, cat)\n",
    "\n",
    "#print to_dict(rssC_adv.fc)\n",
    "\n",
    "#classify\n",
    "testRssfeeds_adv = testRssfeeds.copy()\n",
    "\n",
    "#classify test documents\n",
    "for index, row in testRssfeeds_adv.iterrows():\n",
    "    testRssfeeds_adv['label'][index] = rssC_adv.classify(row['text'])\n",
    "print '\\nClassified Documents:', to_dict(rssC_adv.cc)\n",
    "\n",
    "y_pred_adv = testRssfeeds_adv['label']\n",
    "\n",
    "create_report(y_true, y_pred_adv, rssC.cc.keys())"
   ]
  },
  {
   "cell_type": "markdown",
   "metadata": {
    "nbpresent": {
     "id": "d3d0ed69-4af0-4900-976e-096c9bd5a907"
    }
   },
   "source": [
    "### Ergebnisse\n",
    "Die **accuracy** betrug anfangs **0.847058823529**.\n",
    "\n",
    "**Tokenizing**  \n",
    "Durch das **tokenizing** verbessert sich die **accuracy** auf **0.870588235294**.\n",
    "Das liegt daran, dass nun nur Worte ohne symbole aus den Dokumenten genommen werden.\n",
    "\n",
    "**Stopword Removal**  \n",
    "Durch das Stopwörter entfernen verbesserte sich die Accuracy nochmals auf **0.905882352941**.  \n",
    "Das liegt daran dass sich zuvor sehr viele Stoppwörter in den Texten befinden, welche die Klassifikation verschlechtern.\n",
    "Interessant ist hier, dass die **precision** für **tech** nun abnimmt von **97** auf **95**.  \n",
    "Diese Verschlechterung bei tech nehmen wir in Kauf, da sich die gesamte Accuracy deutlich steigert. Dies lässt sich möglicherweise damit begründen, dass der Wortschatz sich auch in den Stoppworten unterscheidet.  \n",
    "Scheinbar sind in Tech spezielle Stoppworte öfter vorhanden als in nontech.\n",
    "```\n",
    "             precision    recall  f1-score   support\n",
    "\n",
    "       tech       0.95      0.87      0.91        45\n",
    "    nontech       0.86      0.95      0.90        40\n",
    "\n",
    "avg / total       0.91      0.91      0.91        85\n",
    "\n",
    "\n",
    "overall accuracy: 0.905882352941\n",
    "```\n",
    "Da das Entfernen der Stoppwörter die **precision** für **tech** von **97** auf **95** abnehmen lässt, könnte man den Classifier verbessern indem man eine Auswahl der Stoppwörter treffen welche die Klassifikation noch weiter verbessert (z.b mit einem genetischen Algorithmus der die Auswahl festlegt und den classifier testet oder gridsearch).\n",
    "\n",
    "**BiGramme**  \n",
    "Durch das nutzen von Ngrammen genauer Bigrammen verändern sich die Metriken nicht. \n",
    "Somit hat hier die Verwendung von BiGrammen keinen einfluss auf den Classifier, das könnte sich allerdings mit mehr Trainigsdaten ändern.\n",
    "\n",
    "**Normalisierung**  \n",
    "Die Normalisierung verschechtert die **accuracy** unerwartet auf **0.894117647059**.\n",
    "Das konnten wir uns nicht erklären. Hier sind weitere Tests nötig.\n",
    "``` \n",
    "       tech       0.97      0.82      0.89        45\n",
    "    nontech       0.83      0.97      0.90        40\n",
    "\n",
    "avg / total       0.91      0.89      0.89        85\n",
    "\n",
    "\n",
    "overall accuracy: 0.894117647059\n",
    "```\n",
    "Wir gingen zuerst davon aus, dass die Änderung von **0.905882352941** auf **0.894117647059** (um ~0,1) vernachlässigbar ist.\n",
    "Allerdings wird dadurch die Klassifikation für unser Datenset verschlechtert und verbessert zugleich.\n",
    "* Bei tech von 6 falsch klassifizierten Dokumenten auf 8\n",
    "* Bei nontech von 1 falsch klassifizierten Dokumenten auf 2\n",
    "Übergreifend wird somit genau ein Dokument mehr richtig klassifiziert.\n",
    "Deshalb entschieden wir uns die Normalisierung für unseren testfall auszuschalten.\n",
    "Für Code der gut generalisieren soll, sollte diese allerdings wieder eingeschaltet werden.\n",
    "```\n",
    "mit Normalisierung\n",
    "Confusion matrix, without normalization\n",
    "[[37  8]\n",
    " [ 1 39]]\n",
    "\n",
    "ohne Normalisierung\n",
    "Confusion matrix, without normalization\n",
    "[[39  6]\n",
    " [ 2 38]]```\n",
    "Die frage warum die Accuracy schlechter wird bleibt somit ungeklärt.\n",
    "\n",
    "**Stemming**  \n",
    "Durch das Stemming allein wurden die Dokumente zwar besser Klassifiziert. Doch in Kombination mit den anderen Methoden verschlechterte sich der Classifier auf eine \n",
    "**Accuracy** von **0.870588235294**.\n",
    "Die Folgenden Werte ergaben sich mit Stemming:\n",
    "```\n",
    "Confusion matrix, without normalization\n",
    "[[37  8]\n",
    " [ 3 37]]\n",
    " \n",
    " Normalized confusion matrix\n",
    "[[ 0.82222222  0.17777778]\n",
    " [ 0.075       0.925     ]]\n",
    " \n",
    "             precision    recall  f1-score   support\n",
    "\n",
    "       tech       0.93      0.82      0.87        45\n",
    "    nontech       0.82      0.93      0.87        40\n",
    "\n",
    "avg / total       0.88      0.87      0.87        85\n",
    "overall accuracy: 0.870588235294\n",
    "```\n",
    "Da hier einbußen von ~0,03 zustande kamen, ließen wir diese Methodik schließlich deaktiviert.\n",
    "\n",
    "Mit einem Finalen Accuracy Wert von **0.905882352941** ohne Normalisation und **0.894117647059** mit Normalsation sind wir sehr zufrieden.\n",
    "\n",
    "**Ausblick** \n",
    "Eine möglichkeit den Classifier möglicherweise noch weiter verbessern ist, die Einstellungen des classifiers mit einem genetischen Algorithmus oder Gridsearch optimal Parametrisieren."
   ]
  }
 ],
 "metadata": {
  "kernelspec": {
   "display_name": "Python [conda env:jup27]",
   "language": "python",
   "name": "conda-env-jup27-py"
  },
  "language_info": {
   "codemirror_mode": {
    "name": "ipython",
    "version": 2
   },
   "file_extension": ".py",
   "mimetype": "text/x-python",
   "name": "python",
   "nbconvert_exporter": "python",
   "pygments_lexer": "ipython2",
   "version": "2.7.14"
  },
  "nav_menu": {},
  "toc": {
   "navigate_menu": true,
   "number_sections": true,
   "sideBar": true,
   "threshold": 6,
   "toc_cell": false,
   "toc_section_display": "block",
   "toc_window_display": false
  }
 },
 "nbformat": 4,
 "nbformat_minor": 1
}
